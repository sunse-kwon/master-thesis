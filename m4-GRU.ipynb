{
 "cells": [
  {
   "cell_type": "markdown",
   "id": "decee283-9690-431c-99f9-7dddc79c9e29",
   "metadata": {},
   "source": [
    "# Gated Recurrent Unit (GRU)"
   ]
  },
  {
   "cell_type": "code",
   "execution_count": null,
   "id": "5569f2ca-b979-4337-989a-e32ebbf6b989",
   "metadata": {},
   "outputs": [],
   "source": [
    "import math\n",
    "import numpy as np\n",
    "import pandas as pd\n",
    "import matplotlib.pyplot as plt\n",
    "from sklearn.preprocessing import MinMaxScaler\n",
    "from sklearn.metrics import mean_squared_error, mean_absolute_error, r2_score\n",
    "from keras.models import Sequential\n",
    "from keras.layers import *\n",
    "from keras.losses import MeanSquaredError\n",
    "from keras.metrics import RootMeanSquaredError\n",
    "from keras.optimizers import Adam\n",
    "from keras.callbacks import EarlyStopping\n",
    "from utils import train_test_split, X_Y_split_DL, last_x_y_generator_DL, insert_end_DL"
   ]
  },
  {
   "cell_type": "code",
   "execution_count": null,
   "id": "ba9e6d1b-c15f-415e-8666-5eab7fa7d4a4",
   "metadata": {},
   "outputs": [],
   "source": [
    "data = pd.read_csv('data_droped_nov18_dummy_final.csv')"
   ]
  },
  {
   "cell_type": "code",
   "execution_count": null,
   "id": "5de6aaf2-98e6-49fc-8d47-ce08366c9ccb",
   "metadata": {},
   "outputs": [],
   "source": [
    "data = data.set_index('datetime')\n",
    "data.index = pd.to_datetime(data.index)\n",
    "data = data.drop(['Unnamed: 0.2','Unnamed: 0.1','Unnamed: 0', 'diff'],axis=1)\n",
    "data=data.reindex(columns=['lots_available', 'total_lot',  'carpark_number','x_coord', 'y_coord',\n",
    "'car_park_decks', 'gantry_height','BASEMENT CAR PARK', 'COVERED CAR PARK','MECHANISED AND SURFACE CAR PARK', 'MULTI-STOREY CAR PARK',\n",
    "'SURFACE CAR PARK', '7AM-10.30PM', '7AM-7PM', 'NO', 'WHOLE DAY', 'NO.1','SUN & PH FR 1PM-10.30PM', 'SUN & PH FR 7AM-10.30PM', 'NO.2', \n",
    "'YES','N', 'Y'])"
   ]
  },
  {
   "cell_type": "code",
   "execution_count": null,
   "id": "b4427235-fca6-46ac-b415-d140036c92be",
   "metadata": {},
   "outputs": [],
   "source": [
    "data[\"day_of_week\"] = data.index.weekday\n",
    "data[\"hour_of_day\"] = data.index.hour"
   ]
  },
  {
   "cell_type": "code",
   "execution_count": null,
   "id": "f892fc06-3eb9-4bc6-9b02-415e91fe438b",
   "metadata": {},
   "outputs": [],
   "source": [
    "# feature selection based on RFE algorithm\n",
    "features = ['lots_available','day_of_week','hour_of_day','total_lot', 'carpark_number', 'x_coord', 'y_coord','car_park_decks', 'gantry_height', 'MULTI-STOREY CAR PARK','WHOLE DAY', \n",
    "       'NO.1','SUN & PH FR 7AM-10.30PM']"
   ]
  },
  {
   "cell_type": "code",
   "execution_count": null,
   "id": "586e62fb-c9a9-4b86-b9e0-d295b53db4d8",
   "metadata": {},
   "outputs": [],
   "source": [
    "data = data[features]\n",
    "data=data.reindex(columns=features)"
   ]
  },
  {
   "cell_type": "code",
   "execution_count": null,
   "id": "76e24722-bdc7-4e25-a8e8-27a69f120a85",
   "metadata": {},
   "outputs": [],
   "source": [
    "data.loc['2016-02-19 11:15:00',:] = np.nan\n",
    "data.dropna(inplace=True)"
   ]
  },
  {
   "cell_type": "code",
   "execution_count": null,
   "id": "dc03f724-c84c-4954-af08-31f741937710",
   "metadata": {},
   "outputs": [],
   "source": [
    "Train, Test = train_test_split(data, test_step_size=673)\n",
    "train, val = train_test_split(Train, test_step_size=480)"
   ]
  },
  {
   "cell_type": "markdown",
   "id": "601c6a8e-24b2-4695-a97d-9ac681be14d6",
   "metadata": {},
   "source": [
    "## data normalization using MinMaxScaler, values range from 0 to 1 interval."
   ]
  },
  {
   "cell_type": "code",
   "execution_count": null,
   "id": "37533d25-bfd3-4c54-adbe-febdf8ce22e4",
   "metadata": {},
   "outputs": [],
   "source": [
    "for i in Train.columns:\n",
    "    scaler = MinMaxScaler()\n",
    "    \n",
    "    s_train = scaler.fit_transform(train[i].values.reshape((-1,1)))\n",
    "    s_val = scaler.transform(val[i].values.reshape((-1,1)))\n",
    "    s_test = scaler.transform(Test[i].values.reshape((-1,1)))\n",
    "\n",
    "    s_train = np.reshape(s_train,(len(s_train)))\n",
    "    s_val = np.reshape(s_val,(len(s_val)))\n",
    "    s_test = np.reshape(s_test,(len(s_test)))\n",
    "\n",
    "    train[i] = s_train\n",
    "    val[i] = s_val\n",
    "    Test[i] = s_test"
   ]
  },
  {
   "cell_type": "markdown",
   "id": "18557544-4b61-46bb-8c24-c418806d1c16",
   "metadata": {},
   "source": [
    "## performance on different time window using entire dataset"
   ]
  },
  {
   "cell_type": "markdown",
   "id": "ff2b9931-3682-4e8c-8e5a-49fb251fb0bc",
   "metadata": {},
   "source": [
    "### 15 minutes (used previous timestep to predict next timestep, 1 timestep = 15 minute)"
   ]
  },
  {
   "cell_type": "code",
   "execution_count": null,
   "id": "4f6ceaf3-626a-4542-a2eb-2b8ed9b2ea62",
   "metadata": {},
   "outputs": [],
   "source": [
    "## best model with selected hyperparameters from literature & keras tuner random search\n",
    "def GRU_best():\n",
    "  model = Sequential()\n",
    "  model.add(GRU(100, return_sequences=True, input_shape=(X_train.shape[1],X_train.shape[2])))\n",
    "  model.add(GRU(150,return_sequences=False))\n",
    "  model.add(Dropout(0.1))\n",
    "  model.add(Dense(1, activation='linear'))\n",
    "  model.compile(loss=MeanSquaredError(), optimizer=Adam(learning_rate=0.001), metrics=[RootMeanSquaredError()])\n",
    "  return model"
   ]
  },
  {
   "cell_type": "code",
   "execution_count": null,
   "id": "c95dd631-a66b-425f-8bd0-26914e0f74cc",
   "metadata": {},
   "outputs": [],
   "source": [
    "X_train,Y_train= X_Y_split_DL(train, window_size=1, label_col_no=0)\n",
    "X_val, Y_val = X_Y_split_DL(val, window_size=1, label_col_no=0)\n",
    "X_test,Y_test= X_Y_split_DL(Test, window_size=1, label_col_no=0)"
   ]
  },
  {
   "cell_type": "code",
   "execution_count": null,
   "id": "0ed8dce3-a396-4287-8bb9-31cf2f39358d",
   "metadata": {},
   "outputs": [],
   "source": [
    "GRU_best = GRU_best()\n",
    "stop_early = EarlyStopping(monitor='val_loss', patience=3)\n",
    "history = GRU_best.fit(X_train,Y_train, validation_data=(X_val,Y_val), epochs=10, callbacks=[stop_early])"
   ]
  },
  {
   "cell_type": "code",
   "execution_count": null,
   "id": "c698f717-437a-4ebf-809c-4a64bc400464",
   "metadata": {},
   "outputs": [],
   "source": [
    "yp_gru_15min = GRU_best_15min.predict(X_test)"
   ]
  },
  {
   "cell_type": "code",
   "execution_count": null,
   "id": "f5c4fc08-911f-4f42-aacb-80802b6ae311",
   "metadata": {},
   "outputs": [],
   "source": [
    "mse = mean_squared_error(y_pred=yp_gru_15min, y_true=Y_test)\n",
    "mae = mean_absolute_error(y_pred=yp_gru_15min, y_true=Y_test)\n",
    "rmse = math.sqrt(mean_squared_error(y_pred=yp_gru_15min, y_true=Y_test))\n",
    "r2 = r2_score(y_pred=yp_gru_15min, y_true=Y_test)\n",
    "print(round(mse,5))\n",
    "print(round(mae,5))\n",
    "print(round(rmse,5))\n",
    "print(round(r2,5))"
   ]
  },
  {
   "cell_type": "markdown",
   "id": "1c9ca9ad-49f2-42de-a86d-ec1b937a08f5",
   "metadata": {},
   "source": [
    "### 1 hour (used 4 timesteps to predict next timestep, 1 timestep = 15 minute, 4 timestep = 1hour)"
   ]
  },
  {
   "cell_type": "code",
   "execution_count": null,
   "id": "ce7c508f-d6a7-4270-ad77-f1fa8fbc22c7",
   "metadata": {},
   "outputs": [],
   "source": [
    "def GRU_best_1hr():\n",
    "  model = Sequential()\n",
    "  model.add(GRU(100, return_sequences=True, input_shape=(X_train_1hr.shape[1],X_train_1hr.shape[2])))\n",
    "  model.add(GRU(150,return_sequences=False))\n",
    "  model.add(Dropout(0.1))\n",
    "  model.add(Dense(1, activation='linear'))\n",
    "  model.compile(loss=MeanSquaredError(), optimizer=Adam(learning_rate=0.001), metrics=[RootMeanSquaredError()])\n",
    "  return model"
   ]
  },
  {
   "cell_type": "code",
   "execution_count": null,
   "id": "4cd5835d-89d1-4a94-a1fa-ba6805b7b8a2",
   "metadata": {},
   "outputs": [],
   "source": [
    "X_train_1hr,Y_train_1hr= X_Y_split_DL(train, window_size=4, label_col_no=0)\n",
    "X_val_1hr,Y_val_1hr = X_Y_split_DL(val, window_size=4, label_col_no=0)\n",
    "X_test_1hr,Y_test_1hr= X_Y_split_DL(Test, window_size=4, label_col_no=0)"
   ]
  },
  {
   "cell_type": "code",
   "execution_count": null,
   "id": "31ced7e5-c896-4c08-9375-36e08aa46aad",
   "metadata": {},
   "outputs": [],
   "source": [
    "GRU_best_1hr = GRU_best_1hr()\n",
    "stop_early = EarlyStopping(monitor='val_loss', patience=3)\n",
    "history_gru_1hr = GRU_best_1hr.fit(X_train_1hr,Y_train_1hr, validation_data=(X_val_1hr,Y_val_1hr), epochs=10, callbacks=[stop_early])"
   ]
  },
  {
   "cell_type": "code",
   "execution_count": null,
   "id": "cc13ebfa-8516-479e-9907-87cb8cfa4cef",
   "metadata": {},
   "outputs": [],
   "source": [
    "yp_gru_1hr = GRU_best_1hr.predict(X_test_1hr)"
   ]
  },
  {
   "cell_type": "code",
   "execution_count": null,
   "id": "bc41778c-6f84-47ea-a965-e36c6320ad97",
   "metadata": {},
   "outputs": [],
   "source": [
    "mse = mean_squared_error(y_pred=yp_gru_1hr, y_true=Y_test_1hr)\n",
    "mae = mean_absolute_error(y_pred=yp_gru_1hr, y_true=Y_test_1hr)\n",
    "rmse = math.sqrt(mean_squared_error(y_pred=yp_gru_1hr, y_true=Y_test_1hr))\n",
    "r2 = r2_score(y_pred=yp_gru_1hr, y_true=Y_test_1hr)\n",
    "print(round(mse,5))\n",
    "print(round(mae,5))\n",
    "print(round(rmse,5))\n",
    "print(round(r2,5))"
   ]
  },
  {
   "cell_type": "markdown",
   "id": "79774b65-7bad-4d67-8d9f-c9f644063068",
   "metadata": {},
   "source": [
    "### 4 hour (used 16 timesteps to predict next timestep, 1 timestep = 15 minute, 16 timestep = 4 hour)"
   ]
  },
  {
   "cell_type": "code",
   "execution_count": null,
   "id": "610ce6c7-ccdc-4303-b6c8-d7678029baf2",
   "metadata": {},
   "outputs": [],
   "source": [
    "def GRU_best_4hr():\n",
    "  model = Sequential()\n",
    "  model.add(GRU(100, return_sequences=True, input_shape=(X_train_4hr.shape[1],X_train_4hr.shape[2])))\n",
    "  model.add(GRU(150,return_sequences=False))\n",
    "  model.add(Dropout(0.1))\n",
    "  model.add(Dense(1, activation='linear'))\n",
    "  model.compile(loss=MeanSquaredError(), optimizer=Adam(learning_rate=0.001), metrics=[RootMeanSquaredError()])\n",
    "  return model"
   ]
  },
  {
   "cell_type": "code",
   "execution_count": null,
   "id": "2119598b-aca2-4647-b0e0-ca52bd97fb37",
   "metadata": {},
   "outputs": [],
   "source": [
    "X_train_4hr,Y_train_4hr= X_Y_split_DL(train, window_size=16, label_col_no=0)\n",
    "X_val_4hr,Y_val_4hr = X_Y_split_DL(val, window_size=16, label_col_no=0)\n",
    "X_test_4hr,Y_test_4hr= X_Y_split_DL(Test, window_size=16, label_col_no=0)"
   ]
  },
  {
   "cell_type": "code",
   "execution_count": null,
   "id": "bbdc413e-d7fe-41f9-8346-999170b77764",
   "metadata": {},
   "outputs": [],
   "source": [
    "GRU_best_4hr = GRU_best_4hr()\n",
    "stop_early = EarlyStopping(monitor='val_loss', patience=3)\n",
    "history_gru_4hr = GRU_best_4hr.fit(X_train_4hr,Y_train_4hr, validation_data=(X_val_4hr,Y_val_4hr), epochs=10, callbacks=[stop_early])"
   ]
  },
  {
   "cell_type": "code",
   "execution_count": null,
   "id": "525a2a9e-600a-42ce-bd36-eb305c291d50",
   "metadata": {},
   "outputs": [],
   "source": [
    "yp_gru_4hr = GRU_best_4hr.predict(X_test_4hr)"
   ]
  },
  {
   "cell_type": "code",
   "execution_count": null,
   "id": "bea10e50-f31a-45fe-a69c-44822375458c",
   "metadata": {},
   "outputs": [],
   "source": [
    "mse = mean_squared_error(y_pred=yp_gru_4hr, y_true=Y_test_4hr)\n",
    "mae = mean_absolute_error(y_pred=yp_gru_4hr, y_true=Y_test_4hr)\n",
    "rmse = math.sqrt(mean_squared_error(y_pred=yp_gru_4hr, y_true=Y_test_4hr))\n",
    "r2 = r2_score(y_pred=yp_gru_4hr, y_true=Y_test_4hr)\n",
    "print(round(mse,5))\n",
    "print(round(mae,5))\n",
    "print(round(rmse,5))\n",
    "print(round(r2,5))"
   ]
  },
  {
   "cell_type": "markdown",
   "id": "1cf757cd-07ac-47be-9d0d-04eb3db68cbf",
   "metadata": {},
   "source": [
    "## performance on different time window in five regions (group level)"
   ]
  },
  {
   "cell_type": "markdown",
   "id": "4665cfcd-b2c1-49a8-87df-f60431d339c8",
   "metadata": {},
   "source": [
    "- dataset was divided by five subsets based on 5 fold k-mean clustering analysis. each subset consists of 10 to 12 parking lots."
   ]
  },
  {
   "cell_type": "markdown",
   "id": "b19b6422-5127-469c-be47-458e5d7254b3",
   "metadata": {},
   "source": [
    "### select 5 subsets based on 5 centroids from 5-fold k-mean clustering analysis"
   ]
  },
  {
   "cell_type": "code",
   "execution_count": null,
   "id": "ce6d6ada-7dfe-46bd-a66d-c0b04ec693f5",
   "metadata": {},
   "outputs": [],
   "source": [
    "central =data[(data['x_coord'] >30500) & (data['x_coord'] < 32500)& (data['y_coord'] >35000) & (data['y_coord'] < 36000)]\n",
    "north_area = data[(data['x_coord'] >25000) & (data['x_coord'] < 26500)& (data['y_coord'] >44000) ]\n",
    "west_area = data[ (data['x_coord'] < 20000)& (data['y_coord'] >37500) & (data['y_coord'] < 38500)]\n",
    "east_area = data[ (data['x_coord'] > 35000)& (data['y_coord'] >38000) & (data['y_coord'] < 39000)]\n",
    "south_area = data[(data['x_coord'] >25000) & (data['x_coord'] < 26000)& (data['y_coord'] >30000) & (data['y_coord'] < 31000)]"
   ]
  },
  {
   "cell_type": "markdown",
   "id": "f3ab20f1-c90b-4f39-bcbb-579a5746dcc7",
   "metadata": {},
   "source": [
    "### train-test split"
   ]
  },
  {
   "cell_type": "code",
   "execution_count": null,
   "id": "81a702ec-3ab2-4719-8664-6310f468033d",
   "metadata": {},
   "outputs": [],
   "source": [
    "TRAIN_central, TEST_central = train_test_split(central, test_step_size=673)\n",
    "TRAIN_north, TEST_north = train_test_split(north_area, test_step_size=673)\n",
    "TRAIN_west, TEST_west = train_test_split(west_area, test_step_size=673)\n",
    "TRAIN_east, TEST_east = train_test_split(east_area, test_step_size=673)\n",
    "TRAIN_south, TEST_south = train_test_split(south_area, test_step_size=673)"
   ]
  },
  {
   "cell_type": "markdown",
   "id": "48b2e7fa-a2c6-41c8-bc61-28082969e34f",
   "metadata": {},
   "source": [
    "### data normalization"
   ]
  },
  {
   "cell_type": "code",
   "execution_count": null,
   "id": "a41d23cb-e728-4d2f-831a-a2a5c851f312",
   "metadata": {},
   "outputs": [],
   "source": [
    "train_central,test_central= scaler(TRAIN_central,TEST_central)\n",
    "train_north, test_north  = scaler(TRAIN_north,TEST_north)\n",
    "train_west, test_west  = scaler(TRAIN_west,TEST_west)\n",
    "train_east, test_east  = scaler(TRAIN_east,TEST_east)\n",
    "train_south, test_south  = scaler(TRAIN_south,TEST_south)"
   ]
  },
  {
   "cell_type": "markdown",
   "id": "82288049-4854-4ecc-b0d0-3d97bd1dd352",
   "metadata": {},
   "source": [
    "### 15 minute"
   ]
  },
  {
   "cell_type": "code",
   "execution_count": null,
   "id": "ede50024-3935-4468-9512-593fc296cc91",
   "metadata": {},
   "outputs": [],
   "source": [
    "xtest_central,ytest_central = X_Y_split_DL(test_central, window_size=1,label_col_no=0)\n",
    "xtest_east,ytest_east = X_Y_split_DL(test_east, window_size=1,label_col_no=0)\n",
    "xtest_west,ytest_west = X_Y_split_DL(test_west, window_size=1,label_col_no=0)\n",
    "xtest_south,ytest_south = X_Y_split_DL(test_south, window_size=1,label_col_no=0)\n",
    "xtest_north,ytest_north = X_Y_split_DL(test_north, window_size=1,label_col_no=0)"
   ]
  },
  {
   "cell_type": "code",
   "execution_count": null,
   "id": "1686ff04-89ab-4ac0-a352-2b007a0f7ed3",
   "metadata": {},
   "outputs": [],
   "source": [
    "#15min\n",
    "m_central=GRU_best_15min\n",
    "m_east=GRU_best_15min\n",
    "m_west=GRU_best_15min\n",
    "m_south=GRU_best_15min\n",
    "m_north=GRU_best_15min"
   ]
  },
  {
   "cell_type": "code",
   "execution_count": null,
   "id": "da920d1e-c0ae-44e3-af24-cf7a5f978c8c",
   "metadata": {},
   "outputs": [],
   "source": [
    "yp_central = m_central.predict(xtest_central)\n",
    "yp_east = m_east.predict(xtest_east)\n",
    "yp_west = m_west.predict(xtest_west)\n",
    "yp_south = m_south.predict(xtest_south)\n",
    "yp_north = m_north.predict(xtest_north)"
   ]
  },
  {
   "cell_type": "code",
   "execution_count": null,
   "id": "ded99cbf-e8b5-4905-8582-891e1a05fa7b",
   "metadata": {},
   "outputs": [],
   "source": [
    "#central area 15min\n",
    "mse = mean_squared_error(y_pred=yp_central, y_true=ytest_central)\n",
    "mae = mean_absolute_error(y_pred=yp_central, y_true=ytest_central)\n",
    "rmse = math.sqrt(mean_squared_error(y_pred=yp_central, y_true=ytest_central))\n",
    "r2 = r2_score(y_pred=yp_central, y_true=ytest_central)\n",
    "print(round(mse,5))\n",
    "print(round(mae,5))\n",
    "print(round(rmse,5))\n",
    "print(round(r2,5))"
   ]
  },
  {
   "cell_type": "code",
   "execution_count": null,
   "id": "f0885cc0-5f88-4985-8ecb-6f772f6c3302",
   "metadata": {},
   "outputs": [],
   "source": [
    "#east area 15min\n",
    "mse = mean_squared_error(y_pred=yp_east, y_true=ytest_east)\n",
    "mae = mean_absolute_error(y_pred=yp_east, y_true=ytest_east)\n",
    "rmse = math.sqrt(mean_squared_error(y_pred=yp_east, y_true=ytest_east))\n",
    "r2 = r2_score(y_pred=yp_east, y_true=ytest_east)\n",
    "print(round(mse,5))\n",
    "print(round(mae,5))\n",
    "print(round(rmse,5))\n",
    "print(round(r2,5))"
   ]
  },
  {
   "cell_type": "code",
   "execution_count": null,
   "id": "c5f2dba9-0773-4e06-b983-4b1722c98177",
   "metadata": {},
   "outputs": [],
   "source": [
    "#west area 15min\n",
    "mse = mean_squared_error(y_pred=yp_west, y_true=ytest_west)\n",
    "mae = mean_absolute_error(y_pred=yp_west, y_true=ytest_west)\n",
    "rmse = math.sqrt(mean_squared_error(y_pred=yp_west, y_true=ytest_west))\n",
    "r2 = r2_score(y_pred=yp_west, y_true=ytest_west)\n",
    "print(round(mse,5))\n",
    "print(round(mae,5))\n",
    "print(round(rmse,5))\n",
    "print(round(r2,5))"
   ]
  },
  {
   "cell_type": "code",
   "execution_count": null,
   "id": "cb92fc52-ce4d-458d-9834-0bfd2d0ab764",
   "metadata": {},
   "outputs": [],
   "source": [
    "#south area 15min\n",
    "mse = mean_squared_error(y_pred=yp_south, y_true=ytest_south)\n",
    "mae = mean_absolute_error(y_pred=yp_south, y_true=ytest_south)\n",
    "rmse = math.sqrt(mean_squared_error(y_pred=yp_south, y_true=ytest_south))\n",
    "r2 = r2_score(y_pred=yp_south, y_true=ytest_south)\n",
    "print(round(mse,5))\n",
    "print(round(mae,5))\n",
    "print(round(rmse,5))\n",
    "print(round(r2,5))"
   ]
  },
  {
   "cell_type": "code",
   "execution_count": null,
   "id": "1610c89b-e2fa-4ca8-9532-aab0a7ee14c3",
   "metadata": {},
   "outputs": [],
   "source": [
    "#north area 15min\n",
    "mse = mean_squared_error(y_pred=yp_north, y_true=ytest_north)\n",
    "mae = mean_absolute_error(y_pred=yp_north, y_true=ytest_north)\n",
    "rmse = math.sqrt(mean_squared_error(y_pred=yp_north, y_true=ytest_north))\n",
    "r2 = r2_score(y_pred=yp_north, y_true=ytest_north)\n",
    "print(round(mse,5))\n",
    "print(round(mae,5))\n",
    "print(round(rmse,5))\n",
    "print(round(r2,5))"
   ]
  },
  {
   "cell_type": "markdown",
   "id": "2078e4b9-4dc0-4168-9dc2-a41be656a355",
   "metadata": {},
   "source": [
    "### 1 hour"
   ]
  },
  {
   "cell_type": "code",
   "execution_count": null,
   "id": "144883eb-24b9-46b0-ab08-b512b2c8a156",
   "metadata": {},
   "outputs": [],
   "source": [
    "xtest_central,ytest_central = X_Y_split_DL(test_central, window_size=4,label_col_no=0)\n",
    "xtest_east,ytest_east = X_Y_split_DL(test_east, window_size=4,label_col_no=0)\n",
    "xtest_west,ytest_west = X_Y_split_DL(test_west, window_size=4,label_col_no=0)\n",
    "xtest_south,ytest_south = X_Y_split_DL(test_south, window_size=4,label_col_no=0)\n",
    "xtest_north,ytest_north = X_Y_split_DL(test_north, window_size=4,label_col_no=0)"
   ]
  },
  {
   "cell_type": "code",
   "execution_count": null,
   "id": "7c443681-0a19-4a59-b84d-d770c622085a",
   "metadata": {},
   "outputs": [],
   "source": [
    "#1hr\n",
    "m_central=GRU_best_1hr\n",
    "m_east=GRU_best_1hr\n",
    "m_west=GRU_best_1hr\n",
    "m_south=GRU_best_1hr\n",
    "m_north=GRU_best_1hr"
   ]
  },
  {
   "cell_type": "code",
   "execution_count": null,
   "id": "4237501e-2983-4e67-a26c-75bc2b9c3153",
   "metadata": {},
   "outputs": [],
   "source": [
    "yp_central = m_central.predict(xtest_central)\n",
    "yp_east = m_east.predict(xtest_east)\n",
    "yp_west = m_west.predict(xtest_west)\n",
    "yp_south = m_south.predict(xtest_south)\n",
    "yp_north = m_north.predict(xtest_north)"
   ]
  },
  {
   "cell_type": "code",
   "execution_count": null,
   "id": "37ed24bb-a172-493a-b53a-4447e3d108de",
   "metadata": {},
   "outputs": [],
   "source": [
    "#central area 1hr\n",
    "mse = mean_squared_error(y_pred=yp_central, y_true=ytest_central)\n",
    "mae = mean_absolute_error(y_pred=yp_central, y_true=ytest_central)\n",
    "rmse = math.sqrt(mean_squared_error(y_pred=yp_central, y_true=ytest_central))\n",
    "r2 = r2_score(y_pred=yp_central, y_true=ytest_central)\n",
    "print(round(mse,5))\n",
    "print(round(mae,5))\n",
    "print(round(rmse,5))\n",
    "print(round(r2,5))"
   ]
  },
  {
   "cell_type": "code",
   "execution_count": null,
   "id": "8314eee2-7cb5-4377-885c-1736290f6152",
   "metadata": {},
   "outputs": [],
   "source": [
    "#east area 1hr\n",
    "mse = mean_squared_error(y_pred=yp_east, y_true=ytest_east)\n",
    "mae = mean_absolute_error(y_pred=yp_east, y_true=ytest_east)\n",
    "rmse = math.sqrt(mean_squared_error(y_pred=yp_east, y_true=ytest_east))\n",
    "r2 = r2_score(y_pred=yp_east, y_true=ytest_east)\n",
    "print(round(mse,5))\n",
    "print(round(mae,5))\n",
    "print(round(rmse,5))\n",
    "print(round(r2,5))"
   ]
  },
  {
   "cell_type": "code",
   "execution_count": null,
   "id": "82cd4267-9793-46da-aff8-982a4a2806b5",
   "metadata": {},
   "outputs": [],
   "source": [
    "#west area 1hr\n",
    "mse = mean_squared_error(y_pred=yp_west, y_true=ytest_west)\n",
    "mae = mean_absolute_error(y_pred=yp_west, y_true=ytest_west)\n",
    "rmse = math.sqrt(mean_squared_error(y_pred=yp_west, y_true=ytest_west))\n",
    "r2 = r2_score(y_pred=yp_west, y_true=ytest_west)\n",
    "print(round(mse,5))\n",
    "print(round(mae,5))\n",
    "print(round(rmse,5))\n",
    "print(round(r2,5))"
   ]
  },
  {
   "cell_type": "code",
   "execution_count": null,
   "id": "59905696-7c2d-4ae8-b877-83a9107890f8",
   "metadata": {},
   "outputs": [],
   "source": [
    "#south area 1hr\n",
    "mse = mean_squared_error(y_pred=yp_south, y_true=ytest_south)\n",
    "mae = mean_absolute_error(y_pred=yp_south, y_true=ytest_south)\n",
    "rmse = math.sqrt(mean_squared_error(y_pred=yp_south, y_true=ytest_south))\n",
    "r2 = r2_score(y_pred=yp_south, y_true=ytest_south)\n",
    "print(round(mse,5))\n",
    "print(round(mae,5))\n",
    "print(round(rmse,5))\n",
    "print(round(r2,5))"
   ]
  },
  {
   "cell_type": "code",
   "execution_count": null,
   "id": "cce05672-73d2-4d2e-9bfb-11f8989aa94b",
   "metadata": {},
   "outputs": [],
   "source": [
    "#north area 1hr\n",
    "mse = mean_squared_error(y_pred=yp_north, y_true=ytest_north)\n",
    "mae = mean_absolute_error(y_pred=yp_north, y_true=ytest_north)\n",
    "rmse = math.sqrt(mean_squared_error(y_pred=yp_north, y_true=ytest_north))\n",
    "r2 = r2_score(y_pred=yp_north, y_true=ytest_north)\n",
    "print(round(mse,5))\n",
    "print(round(mae,5))\n",
    "print(round(rmse,5))\n",
    "print(round(r2,5))"
   ]
  },
  {
   "cell_type": "markdown",
   "id": "7912761f-b7bd-434b-83f3-859af048ff98",
   "metadata": {},
   "source": [
    "### 4 hour"
   ]
  },
  {
   "cell_type": "code",
   "execution_count": null,
   "id": "21fa3043-f015-40de-9b6d-97b38e912617",
   "metadata": {},
   "outputs": [],
   "source": [
    "xtest_central,ytest_central = X_Y_split_DL(test_central, window_size=16,label_col_no=0)\n",
    "xtest_east,ytest_east = X_Y_split_DL(test_east, window_size=16,label_col_no=0)\n",
    "xtest_west,ytest_west = X_Y_split_DL(test_west, window_size=16,label_col_no=0)\n",
    "xtest_south,ytest_south = X_Y_split_DL(test_south, window_size=16,label_col_no=0)\n",
    "xtest_north,ytest_north = X_Y_split_DL(test_north, window_size=16,label_col_no=0)"
   ]
  },
  {
   "cell_type": "code",
   "execution_count": null,
   "id": "50838997-5d50-4998-b2bd-ad323192676f",
   "metadata": {},
   "outputs": [],
   "source": [
    "m_central=GRU_best_4hr\n",
    "m_east=GRU_best_4hr\n",
    "m_west=GRU_best_4hr\n",
    "m_south=GRU_best_4hr\n",
    "m_north=GRU_best_4hr"
   ]
  },
  {
   "cell_type": "code",
   "execution_count": null,
   "id": "072db003-93f2-433c-96f9-73cdfae9e5f7",
   "metadata": {},
   "outputs": [],
   "source": [
    "yp_central = m_central.predict(xtest_central)\n",
    "yp_east = m_east.predict(xtest_east)\n",
    "yp_west = m_west.predict(xtest_west)\n",
    "yp_south = m_south.predict(xtest_south)\n",
    "yp_north = m_north.predict(xtest_north)"
   ]
  },
  {
   "cell_type": "code",
   "execution_count": null,
   "id": "852a71a6-d3d6-45d1-9270-17f2c0760359",
   "metadata": {},
   "outputs": [],
   "source": [
    "#central area 4hr\n",
    "mse = mean_squared_error(y_pred=yp_central, y_true=ytest_central)\n",
    "mae = mean_absolute_error(y_pred=yp_central, y_true=ytest_central)\n",
    "rmse = math.sqrt(mean_squared_error(y_pred=yp_central, y_true=ytest_central))\n",
    "r2 = r2_score(y_pred=yp_central, y_true=ytest_central)\n",
    "print(round(mse,5))\n",
    "print(round(mae,5))\n",
    "print(round(rmse,5))\n",
    "print(round(r2,5))"
   ]
  },
  {
   "cell_type": "code",
   "execution_count": null,
   "id": "8ffeee4e-74cc-4af1-8578-900671f68e3c",
   "metadata": {},
   "outputs": [],
   "source": [
    "#east area 4hr\n",
    "mse = mean_squared_error(y_pred=yp_east, y_true=ytest_east)\n",
    "mae = mean_absolute_error(y_pred=yp_east, y_true=ytest_east)\n",
    "rmse = math.sqrt(mean_squared_error(y_pred=yp_east, y_true=ytest_east))\n",
    "r2 = r2_score(y_pred=yp_east, y_true=ytest_east)\n",
    "print(round(mse,5))\n",
    "print(round(mae,5))\n",
    "print(round(rmse,5))\n",
    "print(round(r2,5))"
   ]
  },
  {
   "cell_type": "code",
   "execution_count": null,
   "id": "0b37c7a4-d8bb-4e00-bcde-05c63fc97d6d",
   "metadata": {},
   "outputs": [],
   "source": [
    "#west area 4hr\n",
    "mse = mean_squared_error(y_pred=yp_west, y_true=ytest_west)\n",
    "mae = mean_absolute_error(y_pred=yp_west, y_true=ytest_west)\n",
    "rmse = math.sqrt(mean_squared_error(y_pred=yp_west, y_true=ytest_west))\n",
    "r2 = r2_score(y_pred=yp_west, y_true=ytest_west)\n",
    "print(round(mse,5))\n",
    "print(round(mae,5))\n",
    "print(round(rmse,5))\n",
    "print(round(r2,5))"
   ]
  },
  {
   "cell_type": "code",
   "execution_count": null,
   "id": "85b792dd-ab59-46ff-85b1-c681d032a9dd",
   "metadata": {},
   "outputs": [],
   "source": [
    "#south area 4hr\n",
    "mse = mean_squared_error(y_pred=yp_south, y_true=ytest_south)\n",
    "mae = mean_absolute_error(y_pred=yp_south, y_true=ytest_south)\n",
    "rmse = math.sqrt(mean_squared_error(y_pred=yp_south, y_true=ytest_south))\n",
    "r2 = r2_score(y_pred=yp_south, y_true=ytest_south)\n",
    "print(round(mse,5))\n",
    "print(round(mae,5))\n",
    "print(round(rmse,5))\n",
    "print(round(r2,5))"
   ]
  },
  {
   "cell_type": "code",
   "execution_count": null,
   "id": "06364570-5e43-4fa8-8442-7b53f60561b1",
   "metadata": {},
   "outputs": [],
   "source": [
    "#north area 4hr\n",
    "mse = mean_squared_error(y_pred=yp_north, y_true=ytest_north)\n",
    "mae = mean_absolute_error(y_pred=yp_north, y_true=ytest_north)\n",
    "rmse = math.sqrt(mean_squared_error(y_pred=yp_north, y_true=ytest_north))\n",
    "r2 = r2_score(y_pred=yp_north, y_true=ytest_north)\n",
    "print(round(mse,5))\n",
    "print(round(mae,5))\n",
    "print(round(rmse,5))\n",
    "print(round(r2,5))"
   ]
  },
  {
   "cell_type": "markdown",
   "id": "e90fb73b-d8ae-4ad5-8774-939e0bb1e3dd",
   "metadata": {},
   "source": [
    "## performance on different time window in five regions (individual level)"
   ]
  },
  {
   "cell_type": "code",
   "execution_count": null,
   "id": "f6cdbdb4-89a8-42a5-91fc-a49991800964",
   "metadata": {},
   "outputs": [],
   "source": [
    "#individual car park\n",
    "#central\n",
    "train_41 =train_central[train_central.carpark_number==0]\n",
    "test_41 =test_central[test_central.carpark_number==0]\n",
    "#north\n",
    "train_547 =train_north[train_north.carpark_number==0]\n",
    "test_547 =test_north[test_north.carpark_number==0]\n",
    "#west\n",
    "train_22 =train_west[train_west.carpark_number==0]\n",
    "test_22 =test_west[test_west.carpark_number==0]\n",
    "#east\n",
    "train_437 =train_east[train_east.carpark_number==0]\n",
    "test_437 =test_east[test_east.carpark_number==0]\n",
    "#south\n",
    "train_514 =train_south[train_south.carpark_number==0]\n",
    "test_514=test_south[test_south.carpark_number==0]"
   ]
  },
  {
   "cell_type": "markdown",
   "id": "a7206800-51d5-4417-91d4-6bd1b1275576",
   "metadata": {},
   "source": [
    "### 15 minute"
   ]
  },
  {
   "cell_type": "code",
   "execution_count": null,
   "id": "05c2c767-49b6-40ce-8f27-a61d85cc643b",
   "metadata": {},
   "outputs": [],
   "source": [
    "#central\n",
    "xtest41,ytest41 = window_generator_DL(test_41, window_size=1,label_col_no=0)\n",
    "#north\n",
    "xtest547,ytest547 = window_generator_DL(test_547, window_size=1,label_col_no=0)\n",
    "#west\n",
    "xtest22,ytest22 = window_generator_DL(test_22, window_size=1,label_col_no=0)\n",
    "#east\n",
    "xtest437,ytest437 = window_generator_DL(test_437, window_size=1,label_col_no=0)\n",
    "#south\n",
    "xtest514,ytest514 = window_generator_DL(test_514, window_size=1,label_col_no=0)"
   ]
  },
  {
   "cell_type": "code",
   "execution_count": null,
   "id": "a801a569-42e5-45ad-8676-88f9821050fa",
   "metadata": {},
   "outputs": [],
   "source": [
    "#15min\n",
    "m_central_single=GRU_best_15min\n",
    "m_east_single=GRU_best_15min\n",
    "m_west_single=GRU_best_15min\n",
    "m_south_single=GRU_best_15min\n",
    "m_north_single=GRU_best_15min"
   ]
  },
  {
   "cell_type": "code",
   "execution_count": null,
   "id": "dbe4b221-1a14-4dfd-ba33-1903564d7c40",
   "metadata": {},
   "outputs": [],
   "source": [
    "yp_central = m_central_single.predict(xtest41)\n",
    "yp_east = m_east_single.predict(xtest437)\n",
    "yp_west = m_west_single.predict(xtest22)\n",
    "yp_south = m_south_single.predict(xtest514)\n",
    "yp_north = m_north_single.predict(xtest547)"
   ]
  },
  {
   "cell_type": "code",
   "execution_count": null,
   "id": "3cccaad0-719b-45af-88ef-e34c558cc5bd",
   "metadata": {},
   "outputs": [],
   "source": [
    "#central area 15min\n",
    "mse = mean_squared_error(y_pred=yp_central, y_true=ytest41)\n",
    "mae = mean_absolute_error(y_pred=yp_central, y_true=ytest41)\n",
    "rmse = math.sqrt(mean_squared_error(y_pred=yp_central, y_true=ytest41))\n",
    "r2 = r2_score(y_pred=yp_central, y_true=ytest41)\n",
    "print(round(mse,5))\n",
    "print(round(mae,5))\n",
    "print(round(rmse,5))\n",
    "print(round(r2,5))"
   ]
  },
  {
   "cell_type": "code",
   "execution_count": null,
   "id": "6be2b318-3a5d-44ea-ab4e-1c50f7fc5831",
   "metadata": {},
   "outputs": [],
   "source": [
    "#east area 15min\n",
    "mse = mean_squared_error(y_pred=yp_east, y_true=ytest437)\n",
    "mae = mean_absolute_error(y_pred=yp_east, y_true=ytest437)\n",
    "rmse = math.sqrt(mean_squared_error(y_pred=yp_east, y_true=ytest437))\n",
    "r2 = r2_score(y_pred=yp_east, y_true=ytest437)\n",
    "print(round(mse,5))\n",
    "print(round(mae,5))\n",
    "print(round(rmse,5))\n",
    "print(round(r2,5))"
   ]
  },
  {
   "cell_type": "code",
   "execution_count": null,
   "id": "61a5bd7c-e65f-4662-a908-c3c8610de142",
   "metadata": {},
   "outputs": [],
   "source": [
    "#west area 15min\n",
    "mse = mean_squared_error(y_pred=yp_west, y_true=ytest22)\n",
    "mae = mean_absolute_error(y_pred=yp_west, y_true=ytest22)\n",
    "rmse = math.sqrt(mean_squared_error(y_pred=yp_west, y_true=ytest22))\n",
    "r2 = r2_score(y_pred=yp_west, y_true=ytest22)\n",
    "print(round(mse,5))\n",
    "print(round(mae,5))\n",
    "print(round(rmse,5))\n",
    "print(round(r2,5))"
   ]
  },
  {
   "cell_type": "code",
   "execution_count": null,
   "id": "1da78426-179c-4bdd-a03d-4e10bc92f83e",
   "metadata": {},
   "outputs": [],
   "source": [
    "#south area 15min\n",
    "mse = mean_squared_error(y_pred=yp_south, y_true=ytest514)\n",
    "mae = mean_absolute_error(y_pred=yp_south, y_true=ytest514)\n",
    "rmse = math.sqrt(mean_squared_error(y_pred=yp_south, y_true=ytest514))\n",
    "r2 = r2_score(y_pred=yp_south, y_true=ytest514)\n",
    "print(round(mse,5))\n",
    "print(round(mae,5))\n",
    "print(round(rmse,5))\n",
    "print(round(r2,5))"
   ]
  },
  {
   "cell_type": "code",
   "execution_count": null,
   "id": "289b183d-ee3d-4c42-b75e-14837d3f8c9c",
   "metadata": {},
   "outputs": [],
   "source": [
    "#north area 15min\n",
    "mse = mean_squared_error(y_pred=yp_north, y_true=ytest547)\n",
    "mae = mean_absolute_error(y_pred=yp_north, y_true=ytest547)\n",
    "rmse = math.sqrt(mean_squared_error(y_pred=yp_north, y_true=ytest547))\n",
    "r2 = r2_score(y_pred=yp_north, y_true=ytest547)\n",
    "print(round(mse,5))\n",
    "print(round(mae,5))\n",
    "print(round(rmse,5))\n",
    "print(round(r2,5))"
   ]
  },
  {
   "cell_type": "markdown",
   "id": "8d3e98e9-caf6-486a-b9f3-feaf8c65e34b",
   "metadata": {},
   "source": [
    "### 1 hour"
   ]
  },
  {
   "cell_type": "code",
   "execution_count": null,
   "id": "e9b4afd9-236e-4ab5-80cd-7e58a8c90233",
   "metadata": {},
   "outputs": [],
   "source": [
    "#central\n",
    "xtest41,ytest41 = window_generator_DL(test_41, window_size=4,label_col_no=0)\n",
    "#north\n",
    "xtest547,ytest547 = window_generator_DL(test_547, window_size=4,label_col_no=0)\n",
    "#west\n",
    "xtest22,ytest22 = window_generator_DL(test_22, window_size=4,label_col_no=0)\n",
    "#east\n",
    "xtest437,ytest437 = window_generator_DL(test_437, window_size=4,label_col_no=0)\n",
    "#south\n",
    "xtest514,ytest514 = window_generator_DL(test_514, window_size=4,label_col_no=0)"
   ]
  },
  {
   "cell_type": "code",
   "execution_count": null,
   "id": "323a24f8-ed98-4597-9d10-a87479fb8594",
   "metadata": {},
   "outputs": [],
   "source": [
    "#1hr\n",
    "m_central_single=GRU_best_1hr\n",
    "m_east_single=GRU_best_1hr\n",
    "m_west_single=GRU_best_1hr\n",
    "m_south_single=GRU_best_1hr\n",
    "m_north_single=GRU_best_1hr"
   ]
  },
  {
   "cell_type": "code",
   "execution_count": null,
   "id": "90ae0b68-7a10-4a25-8c8b-3e97325fb919",
   "metadata": {},
   "outputs": [],
   "source": [
    "yp_central = m_central_single.predict(xtest41)\n",
    "yp_east = m_east_single.predict(xtest437)\n",
    "yp_west = m_west_single.predict(xtest22)\n",
    "yp_south = m_south_single.predict(xtest514)\n",
    "yp_north = m_north_single.predict(xtest547)"
   ]
  },
  {
   "cell_type": "code",
   "execution_count": null,
   "id": "7cf086a1-b165-44a3-a7b3-7c6cc796ef4d",
   "metadata": {},
   "outputs": [],
   "source": [
    "#central area 1hr\n",
    "mse = mean_squared_error(y_pred=yp_central, y_true=ytest41)\n",
    "mae = mean_absolute_error(y_pred=yp_central, y_true=ytest41)\n",
    "rmse = math.sqrt(mean_squared_error(y_pred=yp_central, y_true=ytest41))\n",
    "r2 = r2_score(y_pred=yp_central, y_true=ytest41)\n",
    "print(round(mse,5))\n",
    "print(round(mae,5))\n",
    "print(round(rmse,5))\n",
    "print(round(r2,5))"
   ]
  },
  {
   "cell_type": "code",
   "execution_count": null,
   "id": "fe2a2a40-b76e-4e0f-8081-96c5da15997b",
   "metadata": {},
   "outputs": [],
   "source": [
    "#east area 1hr\n",
    "mse = mean_squared_error(y_pred=yp_east, y_true=ytest437)\n",
    "mae = mean_absolute_error(y_pred=yp_east, y_true=ytest437)\n",
    "rmse = math.sqrt(mean_squared_error(y_pred=yp_east, y_true=ytest437))\n",
    "r2 = r2_score(y_pred=yp_east, y_true=ytest437)\n",
    "print(round(mse,5))\n",
    "print(round(mae,5))\n",
    "print(round(rmse,5))\n",
    "print(round(r2,5))"
   ]
  },
  {
   "cell_type": "code",
   "execution_count": null,
   "id": "3f824e0a-fe8a-4f77-b1e4-b06ae162a642",
   "metadata": {},
   "outputs": [],
   "source": [
    "#west area 1hr\n",
    "mse = mean_squared_error(y_pred=yp_west, y_true=ytest22)\n",
    "mae = mean_absolute_error(y_pred=yp_west, y_true=ytest22)\n",
    "rmse = math.sqrt(mean_squared_error(y_pred=yp_west, y_true=ytest22))\n",
    "r2 = r2_score(y_pred=yp_west, y_true=ytest22)\n",
    "print(round(mse,5))\n",
    "print(round(mae,5))\n",
    "print(round(rmse,5))\n",
    "print(round(r2,5))"
   ]
  },
  {
   "cell_type": "code",
   "execution_count": null,
   "id": "9e02e342-73cf-4304-9b4d-cd30165a10d8",
   "metadata": {},
   "outputs": [],
   "source": [
    "#south area 1hr\n",
    "mse = mean_squared_error(y_pred=yp_south, y_true=ytest514)\n",
    "mae = mean_absolute_error(y_pred=yp_south, y_true=ytest514)\n",
    "rmse = math.sqrt(mean_squared_error(y_pred=yp_south, y_true=ytest514))\n",
    "r2 = r2_score(y_pred=yp_south, y_true=ytest514)\n",
    "print(round(mse,5))\n",
    "print(round(mae,5))\n",
    "print(round(rmse,5))\n",
    "print(round(r2,5))"
   ]
  },
  {
   "cell_type": "code",
   "execution_count": null,
   "id": "39727321-417f-477f-9f71-4204ddb9bbfc",
   "metadata": {},
   "outputs": [],
   "source": [
    "#north area 1hr\n",
    "mse = mean_squared_error(y_pred=yp_north, y_true=ytest547)\n",
    "mae = mean_absolute_error(y_pred=yp_north, y_true=ytest547)\n",
    "rmse = math.sqrt(mean_squared_error(y_pred=yp_north, y_true=ytest547))\n",
    "r2 = r2_score(y_pred=yp_north, y_true=ytest547)\n",
    "print(round(mse,5))\n",
    "print(round(mae,5))\n",
    "print(round(rmse,5))\n",
    "print(round(r2,5))"
   ]
  },
  {
   "cell_type": "markdown",
   "id": "7ab5c157-00b0-4000-b89f-045c1dbe89ae",
   "metadata": {},
   "source": [
    "### 4 hour"
   ]
  },
  {
   "cell_type": "code",
   "execution_count": null,
   "id": "72cb5fb7-98b3-4416-a35f-b4df4f8e694e",
   "metadata": {},
   "outputs": [],
   "source": [
    "#central\n",
    "xtest41,ytest41 = window_generator_DL(test_41, window_size=16,label_col_no=0)\n",
    "#north\n",
    "xtest547,ytest547 = window_generator_DL(test_547, window_size=16,label_col_no=0)\n",
    "#west\n",
    "xtest22,ytest22 = window_generator_DL(test_22, window_size=16,label_col_no=0)\n",
    "#east\n",
    "xtest437,ytest437 = window_generator_DL(test_437, window_size=16,label_col_no=0)\n",
    "#south\n",
    "xtest514,ytest514 = window_generator_DL(test_514, window_size=16,label_col_no=0)"
   ]
  },
  {
   "cell_type": "code",
   "execution_count": null,
   "id": "9ea0522b-1eb1-4db0-87a2-1f918313d902",
   "metadata": {},
   "outputs": [],
   "source": [
    "#4hr\n",
    "m_central_single=GRU_best_4hr\n",
    "m_east_single=GRU_best_4hr\n",
    "m_west_single=GRU_best_4hr\n",
    "m_south_single=GRU_best_4hr\n",
    "m_north_single=GRU_best_4hr"
   ]
  },
  {
   "cell_type": "code",
   "execution_count": null,
   "id": "e05b0280-119e-4895-aef1-f18959af640b",
   "metadata": {},
   "outputs": [],
   "source": [
    "yp_central = m_central_single.predict(xtest41)\n",
    "yp_east = m_east_single.predict(xtest437)\n",
    "yp_west = m_west_single.predict(xtest22)\n",
    "yp_south = m_south_single.predict(xtest514)\n",
    "yp_north = m_north_single.predict(xtest547)"
   ]
  },
  {
   "cell_type": "code",
   "execution_count": null,
   "id": "edc62055-0d77-462b-a04f-6552dfbfb7bd",
   "metadata": {},
   "outputs": [],
   "source": [
    "#central area 4hr\n",
    "mse = mean_squared_error(y_pred=yp_central, y_true=ytest41)\n",
    "mae = mean_absolute_error(y_pred=yp_central, y_true=ytest41)\n",
    "rmse = math.sqrt(mean_squared_error(y_pred=yp_central, y_true=ytest41))\n",
    "r2 = r2_score(y_pred=yp_central, y_true=ytest41)\n",
    "print(round(mse,5))\n",
    "print(round(mae,5))\n",
    "print(round(rmse,5))\n",
    "print(round(r2,5))"
   ]
  },
  {
   "cell_type": "code",
   "execution_count": null,
   "id": "4bd8af4b-ed0a-47d5-ac2a-0633a237c2c0",
   "metadata": {},
   "outputs": [],
   "source": [
    "#east area 4hr\n",
    "mse = mean_squared_error(y_pred=yp_east, y_true=ytest437)\n",
    "mae = mean_absolute_error(y_pred=yp_east, y_true=ytest437)\n",
    "rmse = math.sqrt(mean_squared_error(y_pred=yp_east, y_true=ytest437))\n",
    "r2 = r2_score(y_pred=yp_east, y_true=ytest437)\n",
    "print(round(mse,5))\n",
    "print(round(mae,5))\n",
    "print(round(rmse,5))\n",
    "print(round(r2,5))"
   ]
  },
  {
   "cell_type": "code",
   "execution_count": null,
   "id": "c461469f-b154-47bd-90c9-a26a7b7b01bd",
   "metadata": {},
   "outputs": [],
   "source": [
    "#west area 4hr\n",
    "mse = mean_squared_error(y_pred=yp_west, y_true=ytest22)\n",
    "mae = mean_absolute_error(y_pred=yp_west, y_true=ytest22)\n",
    "rmse = math.sqrt(mean_squared_error(y_pred=yp_west, y_true=ytest22))\n",
    "r2 = r2_score(y_pred=yp_west, y_true=ytest22)\n",
    "print(round(mse,5))\n",
    "print(round(mae,5))\n",
    "print(round(rmse,5))\n",
    "print(round(r2,5))"
   ]
  },
  {
   "cell_type": "code",
   "execution_count": null,
   "id": "2bae5f2a-cf98-4716-bf88-0d0a080288f8",
   "metadata": {},
   "outputs": [],
   "source": [
    "#south area 4hr\n",
    "mse = mean_squared_error(y_pred=yp_south, y_true=ytest514)\n",
    "mae = mean_absolute_error(y_pred=yp_south, y_true=ytest514)\n",
    "rmse = math.sqrt(mean_squared_error(y_pred=yp_south, y_true=ytest514))\n",
    "r2 = r2_score(y_pred=yp_south, y_true=ytest514)\n",
    "print(round(mse,5))\n",
    "print(round(mae,5))\n",
    "print(round(rmse,5))\n",
    "print(round(r2,5))"
   ]
  },
  {
   "cell_type": "code",
   "execution_count": null,
   "id": "f620ad7f-0800-4c55-a0b6-566a9335609d",
   "metadata": {},
   "outputs": [],
   "source": [
    "#north area 4hr\n",
    "mse = mean_squared_error(y_pred=yp_north, y_true=ytest547)\n",
    "mae = mean_absolute_error(y_pred=yp_north, y_true=ytest547)\n",
    "rmse = math.sqrt(mean_squared_error(y_pred=yp_north, y_true=ytest547))\n",
    "r2 = r2_score(y_pred=yp_north, y_true=ytest547)\n",
    "print(round(mse,5))\n",
    "print(round(mae,5))\n",
    "print(round(rmse,5))\n",
    "print(round(r2,5))"
   ]
  },
  {
   "cell_type": "markdown",
   "id": "88e033da-490c-41d9-b78e-d90e8f72b02c",
   "metadata": {},
   "source": [
    "## performance on different time horizon using model with best time window size (4 hour = 16 timestep)"
   ]
  },
  {
   "cell_type": "markdown",
   "id": "9e5ec0e3-6dfb-4130-ba84-879d3c941983",
   "metadata": {},
   "source": [
    "### entire dataset"
   ]
  },
  {
   "cell_type": "code",
   "execution_count": null,
   "id": "fe9cbdce-ae80-4a42-a7d7-b215687b222a",
   "metadata": {},
   "outputs": [],
   "source": [
    "GRU_4hr_whole = GRU_best_4hr"
   ]
  },
  {
   "cell_type": "code",
   "execution_count": null,
   "id": "55874a3f-d6e3-44de-b9d7-1c0f302d93b7",
   "metadata": {},
   "outputs": [],
   "source": [
    "x,y = last_x_y_generator_DL(val, window_size=16,label_col_no=0)"
   ]
  },
  {
   "cell_type": "code",
   "execution_count": null,
   "id": "fca09106-2524-4c11-a6bd-e31f4f48c6eb",
   "metadata": {},
   "outputs": [],
   "source": [
    "current_batch = x[:,1:,:]"
   ]
  },
  {
   "cell_type": "code",
   "execution_count": null,
   "id": "79d16934-c761-4c18-a80c-efd4a397dd52",
   "metadata": {},
   "outputs": [],
   "source": [
    "#entire dataset\n",
    "future_len = 40\n",
    "Test_new = Test[['lots_available', 'carpark_number','day_of_week','hour_of_day']]\n",
    "Test_new = Test_new.sort_values(by=['carpark_number', 'datetime'])\n",
    "l=[]\n",
    "L=pd.DataFrame()\n",
    "for i in sorted(Test_new.carpark_number.value_counts().keys()):\n",
    "  inner = Test_new[Test_new.carpark_number == i]\n",
    "  inner = inner.reset_index()\n",
    "  inner = inner.iloc[0:future_len,:]\n",
    "  l.append(inner)\n",
    "L = L.append(l)\n",
    "L['value'] = L.index.values\n",
    "L = L.sort_index()\n",
    "L = L.sort_values(by=['value','carpark_number'])"
   ]
  },
  {
   "cell_type": "code",
   "execution_count": null,
   "id": "b374881c-aa62-43d2-8cd7-596d2c9365e5",
   "metadata": {},
   "outputs": [],
   "source": [
    "future=40\n",
    "forecast = []\n",
    "Xin = current_batch\n",
    "\n",
    "for i in range(future):\n",
    "    out = GRU_4hr_whole.predict(Xin, batch_size=855)    \n",
    "    forecast.append(out) \n",
    "    print(forecast)\n",
    "    Xin = insert_end_DL(Xin,out,16)\n",
    "    Xin[:,15,1:2] = L[['day_of_week']][i*855:(i*855)+855]\n",
    "    Xin[:,15,2:3] = L[['hour_of_day']][i*855:(i*855)+855]"
   ]
  },
  {
   "cell_type": "code",
   "execution_count": null,
   "id": "8e6a966c-bab1-44d6-8e13-60cfd8bcc0a5",
   "metadata": {},
   "outputs": [],
   "source": [
    "Y_t = L['lots_available']\n",
    "\n",
    "l=[]\n",
    "for i in range(40):\n",
    "  l.append(Y_t[i*855:(i*855)+855])"
   ]
  },
  {
   "cell_type": "code",
   "execution_count": null,
   "id": "7f10fb99-9a15-405d-87b6-877becedfb60",
   "metadata": {},
   "outputs": [],
   "source": [
    "rmse40step=[]\n",
    "for i in range(40):\n",
    "  rmse40step.append(math.sqrt(mean_squared_error(y_pred=forecast[i], y_true=l[i])))"
   ]
  },
  {
   "cell_type": "code",
   "execution_count": null,
   "id": "d6a00af1-9c90-4311-b274-31f0a88a57ad",
   "metadata": {},
   "outputs": [],
   "source": [
    "rmse40step = pd.DataFrame(rmse40step)\n",
    "rmse40step.to_csv('rmse40step855gru.csv')"
   ]
  },
  {
   "cell_type": "markdown",
   "id": "42ec9dd3-3943-4d98-a190-8f38606089f4",
   "metadata": {},
   "source": [
    "### group level (five regions, 10 to 12 parking lots per region)"
   ]
  },
  {
   "cell_type": "code",
   "execution_count": null,
   "id": "198e0aa5-5695-444c-9eda-e281413fa8c2",
   "metadata": {},
   "outputs": [],
   "source": [
    "GRU_4hr_central= GRU_best_4hr\n",
    "GRU_4hr_north= GRU_best_4hr\n",
    "GRU_4hr_east= GRU_best_4hr\n",
    "GRU_4hr_west= GRU_best_4hr\n",
    "GRU_4hr_south= GRU_best_4hr"
   ]
  },
  {
   "cell_type": "code",
   "execution_count": null,
   "id": "ff5e8360-e97e-4ad4-bb53-2c06dda2e835",
   "metadata": {},
   "outputs": [],
   "source": [
    "x_central, _ = last_x_y_generator_DL(train_central, window_size=16,label_col_no=0)\n",
    "x_north,   _ = last_x_y_generator_DL(train_north, window_size=16,label_col_no=0)\n",
    "x_west,    _ = last_x_y_generator_DL(train_west, window_size=16,label_col_no=0)\n",
    "x_east,    _ = last_x_y_generator_DL(train_east, window_size=16,label_col_no=0)\n",
    "x_south,   _ = last_x_y_generator_DL(train_south, window_size=16,label_col_no=0)"
   ]
  },
  {
   "cell_type": "code",
   "execution_count": null,
   "id": "e3355754-4df9-449d-a270-dad87b0d9c0d",
   "metadata": {},
   "outputs": [],
   "source": [
    "current_batch_central = x_central[:,1:,:]\n",
    "current_batch_north = x_north[:,1:,:]\n",
    "current_batch_west = x_west[:,1:,:]\n",
    "current_batch_east = x_east[:,1:,:]\n",
    "current_batch_south = x_south[:,1:,:]"
   ]
  },
  {
   "cell_type": "code",
   "execution_count": null,
   "id": "ed89fa3c-be0c-41a0-972f-aa8951e46549",
   "metadata": {},
   "outputs": [],
   "source": [
    "future_len = 40\n",
    "Test_new = test_south[['lots_available', 'carpark_number','day_of_week','hour_of_day']]\n",
    "Test_new = Test_new.sort_values(by=['carpark_number', 'datetime'])\n",
    "l=[]\n",
    "L=pd.DataFrame()\n",
    "for i in sorted(Test_new.carpark_number.value_counts().keys()):\n",
    "  inner = Test_new[Test_new.carpark_number == i]\n",
    "  inner = inner.reset_index()\n",
    "  inner = inner.iloc[0:future_len,:]\n",
    "  l.append(inner)\n",
    "L = L.append(l)\n",
    "L['value'] = L.index.values\n",
    "L = L.sort_index()\n",
    "L = L.sort_values(by=['value','carpark_number'])"
   ]
  },
  {
   "cell_type": "code",
   "execution_count": null,
   "id": "418ee199-2e40-4321-9f65-922f719bf14e",
   "metadata": {},
   "outputs": [],
   "source": [
    "#central\n",
    "future=40\n",
    "forcast = []\n",
    "Xin = current_batch_central\n",
    "\n",
    "for i in range(future):\n",
    "    out = GRU_4hr_central.predict(Xin, batch_size=11)    \n",
    "    forcast.append(out) \n",
    "    print(forcast)\n",
    "    Xin = insert_end_DL(Xin,out,16)\n",
    "    Xin[:,15,1:2] = L[['day_of_week']][i*11:(i*11)+11]\n",
    "    Xin[:,15,2:3] = L[['hour_of_day']][i*11:(i*11)+11]"
   ]
  },
  {
   "cell_type": "code",
   "execution_count": null,
   "id": "3edf58d8-a2e0-4767-99fc-06ee54433e3b",
   "metadata": {},
   "outputs": [],
   "source": [
    "#north\n",
    "future=40\n",
    "forcast = []\n",
    "Xin = current_batch_north\n",
    "\n",
    "for i in range(future):\n",
    "    out = GRU_4hr_north.predict(Xin, batch_size=11)    \n",
    "    forcast.append(out) \n",
    "    print(forcast)\n",
    "    Xin = insert_end_DL(Xin,out,16)\n",
    "    Xin[:,15,1:2] = L[['day_of_week']][i*11:(i*11)+11]\n",
    "    Xin[:,15,2:3] = L[['hour_of_day']][i*11:(i*11)+11]"
   ]
  },
  {
   "cell_type": "code",
   "execution_count": null,
   "id": "2b9119c7-8409-43f6-a277-388e23837440",
   "metadata": {},
   "outputs": [],
   "source": [
    "#west\n",
    "future=40\n",
    "forcast = []\n",
    "Xin = current_batch_west\n",
    "\n",
    "for i in range(future):\n",
    "    out = GRU_4hr_west.predict(Xin, batch_size=12)    \n",
    "    forcast.append(out) \n",
    "    print(forcast)\n",
    "    Xin = insert_end_DL(Xin,out,16)\n",
    "    Xin[:,15,1:2] = L[['day_of_week']][i*12:(i*12)+12]\n",
    "    Xin[:,15,2:3] = L[['hour_of_day']][i*12:(i*12)+12]"
   ]
  },
  {
   "cell_type": "code",
   "execution_count": null,
   "id": "5552c886-9f17-4f9f-86e7-dad2bfebec38",
   "metadata": {},
   "outputs": [],
   "source": [
    "#east\n",
    "future=40\n",
    "forcast = []\n",
    "Xin = current_batch_east\n",
    "\n",
    "for i in range(future):\n",
    "    out = GRU_4hr_east.predict(Xin, batch_size=11)    \n",
    "    forcast.append(out) \n",
    "    print(forcast)\n",
    "    Xin = insert_end_DL(Xin,out,16)\n",
    "    Xin[:,15,1:2] = L[['day_of_week']][i*11:(i*11)+11]\n",
    "    Xin[:,15,2:3] = L[['hour_of_day']][i*11:(i*11)+11]"
   ]
  },
  {
   "cell_type": "code",
   "execution_count": null,
   "id": "a4f0cdda-b474-43ab-bece-ff21395118da",
   "metadata": {},
   "outputs": [],
   "source": [
    "#south\n",
    "future=40\n",
    "forcast = []\n",
    "Xin = current_batch_south\n",
    "\n",
    "for i in range(future):\n",
    "    out = GRU_4hr_south.predict(Xin, batch_size=10)    \n",
    "    forcast.append(out) \n",
    "    print(forcast)\n",
    "    Xin = insert_end_DL(Xin,out,16)\n",
    "    Xin[:,15,1:2] = L[['day_of_week']][i*10:(i*10)+10]\n",
    "    Xin[:,15,2:3] = L[['hour_of_day']][i*10:(i*10)+10]"
   ]
  },
  {
   "cell_type": "code",
   "execution_count": null,
   "id": "94f56ff7-3a57-4df5-be8e-22fc7daf2b3d",
   "metadata": {},
   "outputs": [],
   "source": [
    "Y_t = L['lots_available']\n",
    "\n",
    "l=[]\n",
    "for i in range(40):\n",
    "  l.append(Y_t[i*10:(i*10)+10])"
   ]
  },
  {
   "cell_type": "code",
   "execution_count": null,
   "id": "cd4b55dc-da85-4efc-a233-6ce660d1819e",
   "metadata": {},
   "outputs": [],
   "source": [
    "rmse40step=[]\n",
    "for i in range(40):\n",
    "  rmse40step.append(math.sqrt(mean_squared_error(y_pred=forcast[i], y_true=l[i])))"
   ]
  },
  {
   "cell_type": "code",
   "execution_count": null,
   "id": "dbf923f7-90e6-47bf-9d1b-e01d40ad2302",
   "metadata": {},
   "outputs": [],
   "source": [
    "rmse40step = pd.DataFrame(rmse40step)\n",
    "rmse40step.to_csv('rmse40step_south_gru.csv')"
   ]
  },
  {
   "cell_type": "markdown",
   "id": "ce8674b3-dd3a-4385-be7b-016be6a32cec",
   "metadata": {},
   "source": [
    "### individual level (five regions, 1 parking lot per region)"
   ]
  },
  {
   "cell_type": "code",
   "execution_count": null,
   "id": "f8fb2af0-0e52-440e-bbbe-0d1f5a5d260f",
   "metadata": {},
   "outputs": [],
   "source": [
    "GRU_best_4hr_41 = GRU_best_4hr\n",
    "GRU_best_4hr_547 = GRU_best_4hr\n",
    "GRU_best_4hr_22 = GRU_best_4hr\n",
    "GRU_best_4hr_437 = GRU_best_4hr\n",
    "GRU_best_4hr_514 = GRU_best_4hr"
   ]
  },
  {
   "cell_type": "code",
   "execution_count": null,
   "id": "7ff2723c-374d-47e6-9a10-68581bae6297",
   "metadata": {},
   "outputs": [],
   "source": [
    "#central\n",
    "xtrain41 = window_generator_DL(train_41, window_size=16,label_col_no=0)\n",
    "#north\n",
    "xtrain547 = window_generator_DL(train_547, window_size=16,label_col_no=0)\n",
    "#west\n",
    "xtrain22 = window_generator_DL(train_22, window_size=16,label_col_no=0)\n",
    "#east\n",
    "xtrain437 = window_generator_DL(train_437, window_size=16,label_col_no=0)\n",
    "#south\n",
    "xtrain514 = window_generator_DL(train_514, window_size=16,label_col_no=0)"
   ]
  },
  {
   "cell_type": "code",
   "execution_count": null,
   "id": "b0a4741d-03f2-4e58-851e-c946771b47db",
   "metadata": {},
   "outputs": [],
   "source": [
    "last_central = xtrain41[-1:,:,:]\n",
    "last_north = xtrain547[-1:,:,:]\n",
    "last_west = xtrain22[-1:,:,:]\n",
    "last_east = xtrain437[-1:,:,:]\n",
    "last_south = xtrain514[-1:,:,:]"
   ]
  },
  {
   "cell_type": "code",
   "execution_count": null,
   "id": "d95990fe-9d37-40e6-94bb-69fdd499167f",
   "metadata": {},
   "outputs": [],
   "source": [
    "current_batch_41 = last_central[:,1:,:]\n",
    "current_batch_547 = last_north[:,1:,:]\n",
    "current_batch_22 = last_west[:,1:,:]\n",
    "current_batch_437 = last_east[:,1:,:]\n",
    "current_batch_514 = last_south[:,1:,:]"
   ]
  },
  {
   "cell_type": "code",
   "execution_count": null,
   "id": "90df3299-610b-44bc-aed8-700cf033bd15",
   "metadata": {},
   "outputs": [],
   "source": [
    "future_len = 40\n",
    "Test_new = test_514[['lots_available', 'carpark_number','day_of_week','hour_of_day']]\n",
    "Test_new = Test_new.sort_values(by=['carpark_number', 'datetime'])\n",
    "l=[]\n",
    "L=pd.DataFrame()\n",
    "for i in sorted(Test_new.carpark_number.value_counts().keys()):\n",
    "  inner = Test_new[Test_new.carpark_number == i]\n",
    "  inner = inner.reset_index()\n",
    "  inner = inner.iloc[0:future_len,:]\n",
    "  l.append(inner)\n",
    "L = L.append(l)\n",
    "L['value'] = L.index.values\n",
    "L = L.sort_index()\n",
    "L = L.sort_values(by=['value','carpark_number'])"
   ]
  },
  {
   "cell_type": "code",
   "execution_count": null,
   "id": "516945e9-92fc-4354-8000-416a7ba39cf3",
   "metadata": {},
   "outputs": [],
   "source": [
    "#central\n",
    "future=40\n",
    "forcast = []\n",
    "Xin = current_batch_41\n",
    "time=[]\n",
    "for i in range(future):\n",
    "    out = GRU_best_4hr_41.predict(Xin, batch_size=1)    \n",
    "    forcast.append(out) \n",
    "    print(forcast)\n",
    "    Xin = insert_end_DL(Xin,out,16)\n",
    "    Xin[:,15,1:2] = L[['day_of_week']][i*1:(i*1)+1]\n",
    "    Xin[:,15,2:3] = L[['hour_of_day']][i*1:(i*1)+1]"
   ]
  },
  {
   "cell_type": "code",
   "execution_count": null,
   "id": "677af227-906d-4a0b-8f7c-f07870000361",
   "metadata": {},
   "outputs": [],
   "source": [
    "#north\n",
    "future=40\n",
    "forcast = []\n",
    "Xin = current_batch_547\n",
    "time=[]\n",
    "for i in range(future):\n",
    "    out = GRU_best_4hr_547.predict(Xin, batch_size=1)    \n",
    "    forcast.append(out) \n",
    "    print(forcast)\n",
    "    Xin = insert_end_DL(Xin,out,16)\n",
    "    Xin[:,15,1:2] = L[['day_of_week']][i*1:(i*1)+1]\n",
    "    Xin[:,15,2:3] = L[['hour_of_day']][i*1:(i*1)+1]"
   ]
  },
  {
   "cell_type": "code",
   "execution_count": null,
   "id": "1a70bfb6-37cb-49d9-ae24-921e3792fc2c",
   "metadata": {},
   "outputs": [],
   "source": [
    "#west\n",
    "future=40\n",
    "forcast = []\n",
    "Xin = current_batch_22\n",
    "time=[]\n",
    "for i in range(future):\n",
    "    out = GRU_best_4hr_22.predict(Xin, batch_size=1)    \n",
    "    forcast.append(out) \n",
    "    print(forcast)\n",
    "    Xin = insert_end_DL(Xin,out,16)\n",
    "    Xin[:,15,1:2] = L[['day_of_week']][i*1:(i*1)+1]\n",
    "    Xin[:,15,2:3] = L[['hour_of_day']][i*1:(i*1)+1]"
   ]
  },
  {
   "cell_type": "code",
   "execution_count": null,
   "id": "ada65067-2a84-44d0-804b-7a63f63a96a2",
   "metadata": {},
   "outputs": [],
   "source": [
    "#east\n",
    "future=40\n",
    "forcast = []\n",
    "Xin = current_batch_437\n",
    "time=[]\n",
    "for i in range(future):\n",
    "    out = GRU_best_4hr_437.predict(Xin, batch_size=1)    \n",
    "    forcast.append(out) \n",
    "    print(forcast)\n",
    "    Xin = insert_end_DL(Xin,out,16)\n",
    "    Xin[:,15,1:2] = L[['day_of_week']][i*1:(i*1)+1]\n",
    "    Xin[:,15,2:3] = L[['hour_of_day']][i*1:(i*1)+1]"
   ]
  },
  {
   "cell_type": "code",
   "execution_count": null,
   "id": "93d0eaef-a032-452e-ba47-07ba7d03612f",
   "metadata": {},
   "outputs": [],
   "source": [
    "#south\n",
    "future=40\n",
    "forcast = []\n",
    "Xin = current_batch_514\n",
    "time=[]\n",
    "for i in range(future):\n",
    "    out = GRU_best_4hr_514.predict(Xin, batch_size=1)    \n",
    "    forcast.append(out) \n",
    "    print(forcast)\n",
    "    Xin = insert_end_DL(Xin,out,16)\n",
    "    Xin[:,15,1:2] = L[['day_of_week']][i*1:(i*1)+1]\n",
    "    Xin[:,15,2:3] = L[['hour_of_day']][i*1:(i*1)+1]"
   ]
  },
  {
   "cell_type": "code",
   "execution_count": null,
   "id": "7faa5be0-fe4e-478a-bf64-6b3eca3d2a0a",
   "metadata": {},
   "outputs": [],
   "source": [
    "Y_t = L['lots_available']\n",
    "\n",
    "l=[]\n",
    "for i in range(40):\n",
    "  l.append(Y_t[i*1:(i*1)+1])"
   ]
  },
  {
   "cell_type": "code",
   "execution_count": null,
   "id": "7f2349fb-b257-4673-bf6b-26ba956ff885",
   "metadata": {},
   "outputs": [],
   "source": [
    "rmse40step=[]\n",
    "for i in range(40):\n",
    "  rmse40step.append(math.sqrt(mean_squared_error(y_pred=forcast[i], y_true=l[i])))"
   ]
  },
  {
   "cell_type": "code",
   "execution_count": null,
   "id": "7e16003e-b7da-4a52-bf43-314f1fb6ae4b",
   "metadata": {},
   "outputs": [],
   "source": [
    "rmse40step = pd.DataFrame(rmse40step)\n",
    "rmse40step.to_csv('rmse40step_single_south_gru.csv')"
   ]
  },
  {
   "cell_type": "markdown",
   "id": "db49905c-a785-4935-833a-52fdb5bf5518",
   "metadata": {},
   "source": [
    "## robustness check (train-test error)"
   ]
  },
  {
   "cell_type": "markdown",
   "id": "4493776a-42d5-408d-a994-320f4c7a80a0",
   "metadata": {},
   "source": [
    "- based on performance on different time window and different sample size, study determined best time window size is 16 timesteps (4 hour).\n",
    "- to check the model fit, study tested performance of model on train and test set"
   ]
  },
  {
   "cell_type": "code",
   "execution_count": null,
   "id": "208b2a15-f83b-438a-b436-c29c0bfa046c",
   "metadata": {},
   "outputs": [],
   "source": [
    "# plot diagnostic learning curves\n",
    "# plot training and validation loss\n",
    "plt.figure(figsize= (6,4))\n",
    "plt.plot()\n",
    "plt.title('MSE Loss')\n",
    "plt.plot(history_gru_4hr.history['loss'], color='blue', label='train')\n",
    "plt.plot(history_gru_4hr.history['val_loss'], color='orange', label='validation')\n",
    "plt.xlabel('epochs')\n",
    "plt.ylabel('Score')\n",
    "plt.legend(['Train', 'Val'])\n",
    "\n",
    "#plot training and test accuracy\t\n",
    "plt.figure(figsize= (6,4))\n",
    "plt.plot()\n",
    "plt.title('RMSE Loss')\n",
    "plt.plot(history_gru_4hr.history['root_mean_squared_error'], color='blue', label=\"train\")\n",
    "plt.plot(history_gru_4hr.history['val_root_mean_squared_error'], color='orange', label='validation')\n",
    "plt.xlabel('epochs')\n",
    "plt.ylabel('Score')\n",
    "plt.legend(['Train','Val'])\n",
    "plt.show()"
   ]
  }
 ],
 "metadata": {
  "kernelspec": {
   "display_name": "venv-python3.10.11",
   "language": "python",
   "name": "venv"
  },
  "language_info": {
   "codemirror_mode": {
    "name": "ipython",
    "version": 3
   },
   "file_extension": ".py",
   "mimetype": "text/x-python",
   "name": "python",
   "nbconvert_exporter": "python",
   "pygments_lexer": "ipython3",
   "version": "3.10.11"
  }
 },
 "nbformat": 4,
 "nbformat_minor": 5
}
