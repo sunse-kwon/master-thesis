{
 "cells": [
  {
   "cell_type": "markdown",
   "id": "5453c5e9-fed7-4318-bee3-c3b48d1d1096",
   "metadata": {},
   "source": [
    "# Data Cleaning"
   ]
  },
  {
   "cell_type": "code",
   "execution_count": 2,
   "id": "6ed96d84-a85b-4cc8-b8a3-9f7a9f8592c5",
   "metadata": {
    "tags": []
   },
   "outputs": [],
   "source": [
    "import pandas as pd"
   ]
  },
  {
   "cell_type": "markdown",
   "id": "fa70ef1e-e0ac-4c47-b33a-f83374b7231d",
   "metadata": {},
   "source": [
    "## Import raw datasets"
   ]
  },
  {
   "cell_type": "code",
   "execution_count": 3,
   "id": "4432189d-22cf-4d46-9ddf-c4adcd95a9bb",
   "metadata": {
    "tags": []
   },
   "outputs": [],
   "source": [
    "column_name = ['total_lot','lot_type','lots_available','carpark_number','update_date','update_time']\n",
    "D1 = pd.read_csv('carpark_availability_final.csv',names=column_name)\n",
    "D2 = pd.read_csv('hdb-carpark-information.csv')"
   ]
  },
  {
   "cell_type": "code",
   "execution_count": 8,
   "id": "e53e011c-6764-41eb-8b1e-4474f80cbccf",
   "metadata": {
    "tags": []
   },
   "outputs": [
    {
     "data": {
      "text/html": [
       "<div>\n",
       "<style scoped>\n",
       "    .dataframe tbody tr th:only-of-type {\n",
       "        vertical-align: middle;\n",
       "    }\n",
       "\n",
       "    .dataframe tbody tr th {\n",
       "        vertical-align: top;\n",
       "    }\n",
       "\n",
       "    .dataframe thead th {\n",
       "        text-align: right;\n",
       "    }\n",
       "</style>\n",
       "<table border=\"1\" class=\"dataframe\">\n",
       "  <thead>\n",
       "    <tr style=\"text-align: right;\">\n",
       "      <th></th>\n",
       "      <th>total_lot</th>\n",
       "      <th>lot_type</th>\n",
       "      <th>lots_available</th>\n",
       "      <th>carpark_number</th>\n",
       "      <th>update_date</th>\n",
       "      <th>update_time</th>\n",
       "    </tr>\n",
       "  </thead>\n",
       "  <tbody>\n",
       "    <tr>\n",
       "      <th>0</th>\n",
       "      <td>105</td>\n",
       "      <td>C</td>\n",
       "      <td>18</td>\n",
       "      <td>HE12</td>\n",
       "      <td>2022-09-22</td>\n",
       "      <td>20:45:44</td>\n",
       "    </tr>\n",
       "    <tr>\n",
       "      <th>1</th>\n",
       "      <td>583</td>\n",
       "      <td>C</td>\n",
       "      <td>288</td>\n",
       "      <td>HLM</td>\n",
       "      <td>2022-09-22</td>\n",
       "      <td>20:46:07</td>\n",
       "    </tr>\n",
       "    <tr>\n",
       "      <th>2</th>\n",
       "      <td>329</td>\n",
       "      <td>C</td>\n",
       "      <td>154</td>\n",
       "      <td>RHM</td>\n",
       "      <td>2022-09-22</td>\n",
       "      <td>20:45:45</td>\n",
       "    </tr>\n",
       "    <tr>\n",
       "      <th>3</th>\n",
       "      <td>97</td>\n",
       "      <td>C</td>\n",
       "      <td>61</td>\n",
       "      <td>BM29</td>\n",
       "      <td>2022-09-22</td>\n",
       "      <td>20:45:54</td>\n",
       "    </tr>\n",
       "    <tr>\n",
       "      <th>4</th>\n",
       "      <td>96</td>\n",
       "      <td>C</td>\n",
       "      <td>52</td>\n",
       "      <td>Q81</td>\n",
       "      <td>2022-09-22</td>\n",
       "      <td>20:45:56</td>\n",
       "    </tr>\n",
       "  </tbody>\n",
       "</table>\n",
       "</div>"
      ],
      "text/plain": [
       "   total_lot lot_type  lots_available carpark_number update_date update_time\n",
       "0        105        C              18           HE12  2022-09-22    20:45:44\n",
       "1        583        C             288            HLM  2022-09-22    20:46:07\n",
       "2        329        C             154            RHM  2022-09-22    20:45:45\n",
       "3         97        C              61           BM29  2022-09-22    20:45:54\n",
       "4         96        C              52            Q81  2022-09-22    20:45:56"
      ]
     },
     "execution_count": 8,
     "metadata": {},
     "output_type": "execute_result"
    }
   ],
   "source": [
    "D1.head()"
   ]
  },
  {
   "cell_type": "code",
   "execution_count": 9,
   "id": "fef076a7-0224-4856-95e0-b3d13de3d769",
   "metadata": {
    "tags": []
   },
   "outputs": [
    {
     "data": {
      "text/html": [
       "<div>\n",
       "<style scoped>\n",
       "    .dataframe tbody tr th:only-of-type {\n",
       "        vertical-align: middle;\n",
       "    }\n",
       "\n",
       "    .dataframe tbody tr th {\n",
       "        vertical-align: top;\n",
       "    }\n",
       "\n",
       "    .dataframe thead th {\n",
       "        text-align: right;\n",
       "    }\n",
       "</style>\n",
       "<table border=\"1\" class=\"dataframe\">\n",
       "  <thead>\n",
       "    <tr style=\"text-align: right;\">\n",
       "      <th></th>\n",
       "      <th>car_park_no</th>\n",
       "      <th>address</th>\n",
       "      <th>x_coord</th>\n",
       "      <th>y_coord</th>\n",
       "      <th>car_park_type</th>\n",
       "      <th>type_of_parking_system</th>\n",
       "      <th>short_term_parking</th>\n",
       "      <th>free_parking</th>\n",
       "      <th>night_parking</th>\n",
       "      <th>car_park_decks</th>\n",
       "      <th>gantry_height</th>\n",
       "      <th>car_park_basement</th>\n",
       "    </tr>\n",
       "  </thead>\n",
       "  <tbody>\n",
       "    <tr>\n",
       "      <th>0</th>\n",
       "      <td>ACB</td>\n",
       "      <td>BLK 270/271 ALBERT CENTRE BASEMENT CAR PARK</td>\n",
       "      <td>30314.7936</td>\n",
       "      <td>31490.4942</td>\n",
       "      <td>BASEMENT CAR PARK</td>\n",
       "      <td>ELECTRONIC PARKING</td>\n",
       "      <td>WHOLE DAY</td>\n",
       "      <td>NO</td>\n",
       "      <td>YES</td>\n",
       "      <td>1</td>\n",
       "      <td>1.8</td>\n",
       "      <td>Y</td>\n",
       "    </tr>\n",
       "    <tr>\n",
       "      <th>1</th>\n",
       "      <td>ACM</td>\n",
       "      <td>BLK 98A ALJUNIED CRESCENT</td>\n",
       "      <td>33758.4143</td>\n",
       "      <td>33695.5198</td>\n",
       "      <td>MULTI-STOREY CAR PARK</td>\n",
       "      <td>ELECTRONIC PARKING</td>\n",
       "      <td>WHOLE DAY</td>\n",
       "      <td>SUN &amp; PH FR 7AM-10.30PM</td>\n",
       "      <td>YES</td>\n",
       "      <td>5</td>\n",
       "      <td>2.1</td>\n",
       "      <td>N</td>\n",
       "    </tr>\n",
       "    <tr>\n",
       "      <th>2</th>\n",
       "      <td>AH1</td>\n",
       "      <td>BLK 101 JALAN DUSUN</td>\n",
       "      <td>29257.7203</td>\n",
       "      <td>34500.3599</td>\n",
       "      <td>SURFACE CAR PARK</td>\n",
       "      <td>ELECTRONIC PARKING</td>\n",
       "      <td>WHOLE DAY</td>\n",
       "      <td>SUN &amp; PH FR 7AM-10.30PM</td>\n",
       "      <td>YES</td>\n",
       "      <td>0</td>\n",
       "      <td>0.0</td>\n",
       "      <td>N</td>\n",
       "    </tr>\n",
       "    <tr>\n",
       "      <th>3</th>\n",
       "      <td>AK19</td>\n",
       "      <td>BLOCK 253 ANG MO KIO STREET 21</td>\n",
       "      <td>28185.4359</td>\n",
       "      <td>39012.6664</td>\n",
       "      <td>SURFACE CAR PARK</td>\n",
       "      <td>COUPON PARKING</td>\n",
       "      <td>7AM-7PM</td>\n",
       "      <td>NO</td>\n",
       "      <td>NO</td>\n",
       "      <td>0</td>\n",
       "      <td>0.0</td>\n",
       "      <td>N</td>\n",
       "    </tr>\n",
       "    <tr>\n",
       "      <th>4</th>\n",
       "      <td>AK31</td>\n",
       "      <td>BLK 302/348 ANG MO KIO ST 31</td>\n",
       "      <td>29482.0290</td>\n",
       "      <td>38684.1754</td>\n",
       "      <td>SURFACE CAR PARK</td>\n",
       "      <td>COUPON PARKING</td>\n",
       "      <td>NO</td>\n",
       "      <td>NO</td>\n",
       "      <td>NO</td>\n",
       "      <td>0</td>\n",
       "      <td>0.0</td>\n",
       "      <td>N</td>\n",
       "    </tr>\n",
       "  </tbody>\n",
       "</table>\n",
       "</div>"
      ],
      "text/plain": [
       "  car_park_no                                      address     x_coord  \\\n",
       "0         ACB  BLK 270/271 ALBERT CENTRE BASEMENT CAR PARK  30314.7936   \n",
       "1         ACM                    BLK 98A ALJUNIED CRESCENT  33758.4143   \n",
       "2         AH1                          BLK 101 JALAN DUSUN  29257.7203   \n",
       "3        AK19               BLOCK 253 ANG MO KIO STREET 21  28185.4359   \n",
       "4        AK31                 BLK 302/348 ANG MO KIO ST 31  29482.0290   \n",
       "\n",
       "      y_coord          car_park_type type_of_parking_system  \\\n",
       "0  31490.4942      BASEMENT CAR PARK     ELECTRONIC PARKING   \n",
       "1  33695.5198  MULTI-STOREY CAR PARK     ELECTRONIC PARKING   \n",
       "2  34500.3599       SURFACE CAR PARK     ELECTRONIC PARKING   \n",
       "3  39012.6664       SURFACE CAR PARK         COUPON PARKING   \n",
       "4  38684.1754       SURFACE CAR PARK         COUPON PARKING   \n",
       "\n",
       "  short_term_parking             free_parking night_parking  car_park_decks  \\\n",
       "0          WHOLE DAY                       NO           YES               1   \n",
       "1          WHOLE DAY  SUN & PH FR 7AM-10.30PM           YES               5   \n",
       "2          WHOLE DAY  SUN & PH FR 7AM-10.30PM           YES               0   \n",
       "3            7AM-7PM                       NO            NO               0   \n",
       "4                 NO                       NO            NO               0   \n",
       "\n",
       "   gantry_height car_park_basement  \n",
       "0            1.8                 Y  \n",
       "1            2.1                 N  \n",
       "2            0.0                 N  \n",
       "3            0.0                 N  \n",
       "4            0.0                 N  "
      ]
     },
     "execution_count": 9,
     "metadata": {},
     "output_type": "execute_result"
    }
   ],
   "source": [
    "D2.head()"
   ]
  },
  {
   "cell_type": "markdown",
   "id": "42d57fda-a1af-4e54-8ddc-37b3ff9a21c1",
   "metadata": {},
   "source": [
    "## Resampling raw dataset to data with 15 minute time intervals"
   ]
  },
  {
   "cell_type": "code",
   "execution_count": 10,
   "id": "0bd6cb99-1be0-485f-9b7f-2baf2e10424d",
   "metadata": {
    "tags": []
   },
   "outputs": [],
   "source": [
    "D1['datetime'] = D1['update_date'] + \" \" + D1['update_time']\n",
    "D1['datetime']= pd.to_datetime(D1['datetime'])\n",
    "D1['datetime'] = D1.datetime.round('15min')"
   ]
  },
  {
   "cell_type": "markdown",
   "id": "1a725c88-2120-4306-9427-d22696f379f6",
   "metadata": {},
   "source": [
    "## Drop duplicate data"
   ]
  },
  {
   "cell_type": "code",
   "execution_count": 11,
   "id": "a49065db-687b-4e12-9e6c-b142d83784d8",
   "metadata": {
    "tags": []
   },
   "outputs": [],
   "source": [
    "D1.drop(['update_date'],axis=1,inplace=True)\n",
    "D1.drop(['update_time'],axis=1,inplace=True)\n",
    "D1.drop_duplicates(inplace=True)"
   ]
  },
  {
   "cell_type": "markdown",
   "id": "9d19e109-e9cd-4752-8b5e-0083ededfc73",
   "metadata": {},
   "source": [
    "## Drop parking lots with less than 1854 time steps"
   ]
  },
  {
   "cell_type": "code",
   "execution_count": null,
   "id": "ba06da5d-c79c-4cbf-9c86-26e77ee51f27",
   "metadata": {
    "tags": []
   },
   "outputs": [],
   "source": [
    "for j in range(0,20):\n",
    "    for i,v in D1.carpark_number.value_counts().items():\n",
    "        # print(i,v)\n",
    "        if v < 1854:\n",
    "            D1.drop(D1[D1.carpark_number == i].index, inplace=True)"
   ]
  },
  {
   "cell_type": "markdown",
   "id": "29361a23-8482-4627-8f0c-8a9731c711ef",
   "metadata": {},
   "source": [
    "## Drop data with duplicate values based on carpark_number and datetime subset"
   ]
  },
  {
   "cell_type": "code",
   "execution_count": null,
   "id": "8f16e0e9-9c89-4174-be3c-7c4409e0be77",
   "metadata": {
    "tags": []
   },
   "outputs": [],
   "source": [
    "for i,v in D1.carpark_number.value_counts().items():\n",
    "    print(i,v)\n",
    "    D1.drop_duplicates(subset=['carpark_number','datetime'],keep='first', inplace=True)\n"
   ]
  },
  {
   "cell_type": "markdown",
   "id": "cb43e40f-54aa-48e3-8c31-035a563a0d43",
   "metadata": {},
   "source": [
    "## Save 1st cleaned version"
   ]
  },
  {
   "cell_type": "code",
   "execution_count": 14,
   "id": "933a696d-0d4b-441d-b1a1-27726ac8ce3a",
   "metadata": {
    "tags": []
   },
   "outputs": [],
   "source": [
    "D1.to_csv('data_droped_nov10.csv',sep=',')"
   ]
  },
  {
   "cell_type": "markdown",
   "id": "dc098347-5f44-4f17-92cd-7dad2ed71382",
   "metadata": {},
   "source": [
    "## 2nd cleaning cycle started as found duplicate data"
   ]
  },
  {
   "cell_type": "code",
   "execution_count": 16,
   "id": "80b3c624-f85a-4922-8eca-65c6e64b9518",
   "metadata": {
    "tags": []
   },
   "outputs": [],
   "source": [
    "data = pd.read_csv('data_droped_nov10.csv')"
   ]
  },
  {
   "cell_type": "markdown",
   "id": "35e64c12-95a5-4726-b6e0-f3123dc51381",
   "metadata": {},
   "source": [
    "## Drop data that has same values accross entire timestep"
   ]
  },
  {
   "cell_type": "code",
   "execution_count": null,
   "id": "57eca4e5-d0db-4828-8431-2ac6f8272a63",
   "metadata": {
    "tags": []
   },
   "outputs": [],
   "source": [
    "for key, _ in data.carpark_number.value_counts().items():\n",
    "    if data[(data.carpark_number == key)].lots_available.value_counts().max() == data[(data.carpark_number == key)].shape[0]:\n",
    "        data.drop(data[data.carpark_number == key].index, inplace=True)"
   ]
  },
  {
   "cell_type": "markdown",
   "id": "648b53af-f038-442a-a09e-7576cb67301b",
   "metadata": {},
   "source": [
    "## Save 2nd cleaned version"
   ]
  },
  {
   "cell_type": "code",
   "execution_count": 18,
   "id": "c2634d70-2e2c-4e09-93e4-b6bf263996cf",
   "metadata": {
    "tags": []
   },
   "outputs": [],
   "source": [
    "data.to_csv('data_droped_nov11.csv',sep=',')"
   ]
  },
  {
   "cell_type": "markdown",
   "id": "111b4c16-d9b4-4889-9326-26fe0c666e38",
   "metadata": {},
   "source": [
    "## 3rd cleaning cycle started as found duplicate data"
   ]
  },
  {
   "cell_type": "code",
   "execution_count": 19,
   "id": "226c563d-25a9-478a-ac01-d0b7b6066713",
   "metadata": {
    "tags": []
   },
   "outputs": [],
   "source": [
    "data = pd.read_csv('data_droped_nov11.csv')"
   ]
  },
  {
   "cell_type": "markdown",
   "id": "6606d9fb-8450-4953-b916-1780aab71bc3",
   "metadata": {},
   "source": [
    "## Drop data with higher than single total lot value"
   ]
  },
  {
   "cell_type": "code",
   "execution_count": 20,
   "id": "2ae94970-c628-4746-88ba-d514952eb1db",
   "metadata": {
    "tags": []
   },
   "outputs": [],
   "source": [
    "for key, _ in data.carpark_number.value_counts().items():\n",
    "    if len(data[data.carpark_number == key].total_lot.unique()) >= 2:\n",
    "            value = data[data.carpark_number == key].total_lot.value_counts().keys()[0]\n",
    "            data[data.carpark_number == key] = data[data.carpark_number == key].assign(total_lot = value)"
   ]
  },
  {
   "cell_type": "markdown",
   "id": "edf12b26-3bd1-4008-bd4d-3a3e6c7e4ba2",
   "metadata": {},
   "source": [
    "## Drop data with higher than single lot type value"
   ]
  },
  {
   "cell_type": "code",
   "execution_count": 21,
   "id": "72aaa937-d2b4-4972-8d6b-f4130e39fe3b",
   "metadata": {
    "tags": []
   },
   "outputs": [],
   "source": [
    "for key, _ in data.carpark_number.value_counts().items():\n",
    "    if len(data[data.carpark_number == key].lot_type.unique()) >= 2:\n",
    "            value = data[data.carpark_number == key].lot_type.value_counts().keys()[0]\n",
    "            data[data.carpark_number == key] = data[data.carpark_number == key].assign(lot_type = value)"
   ]
  },
  {
   "cell_type": "code",
   "execution_count": 24,
   "id": "4542ba41-96c2-4538-8583-2ded13a4a4df",
   "metadata": {
    "tags": []
   },
   "outputs": [],
   "source": [
    "data['diff'] = data['total_lot'] - data['lots_available']"
   ]
  },
  {
   "cell_type": "code",
   "execution_count": 25,
   "id": "89865d82-1279-40b5-ad5c-2e3d71e1d204",
   "metadata": {
    "tags": []
   },
   "outputs": [
    {
     "data": {
      "text/plain": [
       "BJ49    957\n",
       "DWST    892\n",
       "SE41    155\n",
       "SB17    118\n",
       "S36L     54\n",
       "SDM2      1\n",
       "SD2       1\n",
       "Name: carpark_number, dtype: int64"
      ]
     },
     "execution_count": 25,
     "metadata": {},
     "output_type": "execute_result"
    }
   ],
   "source": [
    "data[data['diff'] <0].carpark_number.value_counts()"
   ]
  },
  {
   "cell_type": "markdown",
   "id": "b7865fd7-f535-4c1e-96f7-1bd35ee6076d",
   "metadata": {},
   "source": [
    "## Drop data which number of available parking lots is higher than total lot number"
   ]
  },
  {
   "cell_type": "code",
   "execution_count": 26,
   "id": "ce02264e-cf82-4ebb-92a1-e9122ceba394",
   "metadata": {
    "tags": []
   },
   "outputs": [],
   "source": [
    "data.drop(data[data.carpark_number == 'BJ49'].index, inplace=True)\n",
    "data.drop(data[data.carpark_number == 'SE41'].index, inplace=True)"
   ]
  },
  {
   "cell_type": "markdown",
   "id": "31c87ab8-6f01-45cf-857c-ebb79e46ecd2",
   "metadata": {},
   "source": [
    "## Manual replacement outlier values based on EDA"
   ]
  },
  {
   "cell_type": "code",
   "execution_count": 27,
   "id": "e0600a29-4610-4aff-8fe0-3e40d398323d",
   "metadata": {
    "tags": []
   },
   "outputs": [],
   "source": [
    "data.loc[687855,'lots_available'] = 0\n",
    "data.loc[687856,'lots_available'] = 38"
   ]
  },
  {
   "cell_type": "markdown",
   "id": "7b21751f-d112-4d5e-905c-5c765fae7e97",
   "metadata": {},
   "source": [
    "## Save 3rd cleaned version"
   ]
  },
  {
   "cell_type": "code",
   "execution_count": 28,
   "id": "68850f8a-6e74-43e5-901d-a43f63d34f3a",
   "metadata": {
    "tags": []
   },
   "outputs": [],
   "source": [
    "data.to_csv('data_droped_nov18.csv',sep=',')"
   ]
  },
  {
   "cell_type": "markdown",
   "id": "1db9e7c2-a34f-4ac5-8967-df95e839d340",
   "metadata": {},
   "source": [
    "## Merge time-series data with other feature dataset related to corresponding parking lots"
   ]
  },
  {
   "cell_type": "code",
   "execution_count": 4,
   "id": "62a8a692-dfb0-438d-b8e2-5e141c467b12",
   "metadata": {
    "tags": []
   },
   "outputs": [],
   "source": [
    "data = pd.read_csv('data_droped_nov18.csv')"
   ]
  },
  {
   "cell_type": "code",
   "execution_count": 5,
   "id": "a62ad2ee-05e2-4bab-ab6b-ad837e11d34b",
   "metadata": {
    "tags": []
   },
   "outputs": [],
   "source": [
    "integrated_df= pd.merge(data,D2, how='left', left_on='carpark_number', right_on='car_park_no')"
   ]
  },
  {
   "cell_type": "markdown",
   "id": "9b87c182-0f9b-4148-9b9b-f7c322aa56c2",
   "metadata": {},
   "source": [
    "## Convert categorical variables to dummy variable for model training"
   ]
  },
  {
   "cell_type": "code",
   "execution_count": 6,
   "id": "7492e156-674b-4491-8dde-85532a2ac194",
   "metadata": {
    "tags": []
   },
   "outputs": [],
   "source": [
    "cat_cols = [ \"car_park_type\",'short_term_parking','free_parking','night_parking','car_park_basement']"
   ]
  },
  {
   "cell_type": "code",
   "execution_count": 7,
   "id": "06bfda22-b7c4-474b-bcbc-71ed1774243e",
   "metadata": {
    "tags": []
   },
   "outputs": [
    {
     "data": {
      "text/html": [
       "<div>\n",
       "<style scoped>\n",
       "    .dataframe tbody tr th:only-of-type {\n",
       "        vertical-align: middle;\n",
       "    }\n",
       "\n",
       "    .dataframe tbody tr th {\n",
       "        vertical-align: top;\n",
       "    }\n",
       "\n",
       "    .dataframe thead th {\n",
       "        text-align: right;\n",
       "    }\n",
       "</style>\n",
       "<table border=\"1\" class=\"dataframe\">\n",
       "  <thead>\n",
       "    <tr style=\"text-align: right;\">\n",
       "      <th></th>\n",
       "      <th>N</th>\n",
       "      <th>Y</th>\n",
       "    </tr>\n",
       "  </thead>\n",
       "  <tbody>\n",
       "    <tr>\n",
       "      <th>0</th>\n",
       "      <td>1</td>\n",
       "      <td>0</td>\n",
       "    </tr>\n",
       "    <tr>\n",
       "      <th>1</th>\n",
       "      <td>1</td>\n",
       "      <td>0</td>\n",
       "    </tr>\n",
       "    <tr>\n",
       "      <th>2</th>\n",
       "      <td>1</td>\n",
       "      <td>0</td>\n",
       "    </tr>\n",
       "    <tr>\n",
       "      <th>3</th>\n",
       "      <td>0</td>\n",
       "      <td>1</td>\n",
       "    </tr>\n",
       "    <tr>\n",
       "      <th>4</th>\n",
       "      <td>1</td>\n",
       "      <td>0</td>\n",
       "    </tr>\n",
       "    <tr>\n",
       "      <th>...</th>\n",
       "      <td>...</td>\n",
       "      <td>...</td>\n",
       "    </tr>\n",
       "    <tr>\n",
       "      <th>3868363</th>\n",
       "      <td>1</td>\n",
       "      <td>0</td>\n",
       "    </tr>\n",
       "    <tr>\n",
       "      <th>3868364</th>\n",
       "      <td>1</td>\n",
       "      <td>0</td>\n",
       "    </tr>\n",
       "    <tr>\n",
       "      <th>3868365</th>\n",
       "      <td>1</td>\n",
       "      <td>0</td>\n",
       "    </tr>\n",
       "    <tr>\n",
       "      <th>3868366</th>\n",
       "      <td>1</td>\n",
       "      <td>0</td>\n",
       "    </tr>\n",
       "    <tr>\n",
       "      <th>3868367</th>\n",
       "      <td>1</td>\n",
       "      <td>0</td>\n",
       "    </tr>\n",
       "  </tbody>\n",
       "</table>\n",
       "<p>3868368 rows × 2 columns</p>\n",
       "</div>"
      ],
      "text/plain": [
       "         N  Y\n",
       "0        1  0\n",
       "1        1  0\n",
       "2        1  0\n",
       "3        0  1\n",
       "4        1  0\n",
       "...     .. ..\n",
       "3868363  1  0\n",
       "3868364  1  0\n",
       "3868365  1  0\n",
       "3868366  1  0\n",
       "3868367  1  0\n",
       "\n",
       "[3868368 rows x 2 columns]"
      ]
     },
     "execution_count": 7,
     "metadata": {},
     "output_type": "execute_result"
    }
   ],
   "source": [
    "pd.get_dummies(integrated_df['car_park_type']) \n",
    "pd.get_dummies(integrated_df['short_term_parking'])\n",
    "pd.get_dummies(integrated_df['free_parking'])\n",
    "pd.get_dummies(integrated_df['night_parking'])\n",
    "pd.get_dummies(integrated_df['car_park_basement'])"
   ]
  },
  {
   "cell_type": "code",
   "execution_count": 8,
   "id": "f7a4dc99-d67e-4dff-8655-2e03d8e82f0c",
   "metadata": {
    "tags": []
   },
   "outputs": [],
   "source": [
    "for i in cat_cols:\n",
    "    dummy = pd.get_dummies(integrated_df[i])\n",
    "    integrated_df = pd.concat([integrated_df,dummy], axis=1)"
   ]
  },
  {
   "cell_type": "code",
   "execution_count": 9,
   "id": "a9758e22-c4f1-4ae9-9534-b6e87c609565",
   "metadata": {
    "tags": []
   },
   "outputs": [
    {
     "data": {
      "text/html": [
       "<div>\n",
       "<style scoped>\n",
       "    .dataframe tbody tr th:only-of-type {\n",
       "        vertical-align: middle;\n",
       "    }\n",
       "\n",
       "    .dataframe tbody tr th {\n",
       "        vertical-align: top;\n",
       "    }\n",
       "\n",
       "    .dataframe thead th {\n",
       "        text-align: right;\n",
       "    }\n",
       "</style>\n",
       "<table border=\"1\" class=\"dataframe\">\n",
       "  <thead>\n",
       "    <tr style=\"text-align: right;\">\n",
       "      <th></th>\n",
       "      <th>Unnamed: 0.2</th>\n",
       "      <th>Unnamed: 0.1</th>\n",
       "      <th>Unnamed: 0</th>\n",
       "      <th>total_lot</th>\n",
       "      <th>lot_type</th>\n",
       "      <th>lots_available</th>\n",
       "      <th>carpark_number</th>\n",
       "      <th>datetime</th>\n",
       "      <th>diff</th>\n",
       "      <th>car_park_no</th>\n",
       "      <th>...</th>\n",
       "      <th>7AM-7PM</th>\n",
       "      <th>NO</th>\n",
       "      <th>WHOLE DAY</th>\n",
       "      <th>NO</th>\n",
       "      <th>SUN &amp; PH FR 1PM-10.30PM</th>\n",
       "      <th>SUN &amp; PH FR 7AM-10.30PM</th>\n",
       "      <th>NO</th>\n",
       "      <th>YES</th>\n",
       "      <th>N</th>\n",
       "      <th>Y</th>\n",
       "    </tr>\n",
       "  </thead>\n",
       "  <tbody>\n",
       "    <tr>\n",
       "      <th>0</th>\n",
       "      <td>0</td>\n",
       "      <td>0</td>\n",
       "      <td>0</td>\n",
       "      <td>105</td>\n",
       "      <td>C</td>\n",
       "      <td>18</td>\n",
       "      <td>HE12</td>\n",
       "      <td>2022-09-22 20:45:00</td>\n",
       "      <td>87</td>\n",
       "      <td>HE12</td>\n",
       "      <td>...</td>\n",
       "      <td>0</td>\n",
       "      <td>0</td>\n",
       "      <td>1</td>\n",
       "      <td>0</td>\n",
       "      <td>0</td>\n",
       "      <td>1</td>\n",
       "      <td>0</td>\n",
       "      <td>1</td>\n",
       "      <td>1</td>\n",
       "      <td>0</td>\n",
       "    </tr>\n",
       "    <tr>\n",
       "      <th>1</th>\n",
       "      <td>1</td>\n",
       "      <td>1</td>\n",
       "      <td>1</td>\n",
       "      <td>583</td>\n",
       "      <td>C</td>\n",
       "      <td>288</td>\n",
       "      <td>HLM</td>\n",
       "      <td>2022-09-22 20:45:00</td>\n",
       "      <td>295</td>\n",
       "      <td>HLM</td>\n",
       "      <td>...</td>\n",
       "      <td>0</td>\n",
       "      <td>0</td>\n",
       "      <td>1</td>\n",
       "      <td>1</td>\n",
       "      <td>0</td>\n",
       "      <td>0</td>\n",
       "      <td>0</td>\n",
       "      <td>1</td>\n",
       "      <td>1</td>\n",
       "      <td>0</td>\n",
       "    </tr>\n",
       "    <tr>\n",
       "      <th>2</th>\n",
       "      <td>2</td>\n",
       "      <td>2</td>\n",
       "      <td>2</td>\n",
       "      <td>329</td>\n",
       "      <td>C</td>\n",
       "      <td>154</td>\n",
       "      <td>RHM</td>\n",
       "      <td>2022-09-22 20:45:00</td>\n",
       "      <td>175</td>\n",
       "      <td>RHM</td>\n",
       "      <td>...</td>\n",
       "      <td>0</td>\n",
       "      <td>0</td>\n",
       "      <td>1</td>\n",
       "      <td>0</td>\n",
       "      <td>0</td>\n",
       "      <td>1</td>\n",
       "      <td>0</td>\n",
       "      <td>1</td>\n",
       "      <td>1</td>\n",
       "      <td>0</td>\n",
       "    </tr>\n",
       "    <tr>\n",
       "      <th>3</th>\n",
       "      <td>3</td>\n",
       "      <td>3</td>\n",
       "      <td>3</td>\n",
       "      <td>97</td>\n",
       "      <td>C</td>\n",
       "      <td>61</td>\n",
       "      <td>BM29</td>\n",
       "      <td>2022-09-22 20:45:00</td>\n",
       "      <td>36</td>\n",
       "      <td>BM29</td>\n",
       "      <td>...</td>\n",
       "      <td>0</td>\n",
       "      <td>0</td>\n",
       "      <td>1</td>\n",
       "      <td>1</td>\n",
       "      <td>0</td>\n",
       "      <td>0</td>\n",
       "      <td>0</td>\n",
       "      <td>1</td>\n",
       "      <td>0</td>\n",
       "      <td>1</td>\n",
       "    </tr>\n",
       "    <tr>\n",
       "      <th>4</th>\n",
       "      <td>4</td>\n",
       "      <td>4</td>\n",
       "      <td>4</td>\n",
       "      <td>96</td>\n",
       "      <td>C</td>\n",
       "      <td>52</td>\n",
       "      <td>Q81</td>\n",
       "      <td>2022-09-22 20:45:00</td>\n",
       "      <td>44</td>\n",
       "      <td>Q81</td>\n",
       "      <td>...</td>\n",
       "      <td>0</td>\n",
       "      <td>0</td>\n",
       "      <td>1</td>\n",
       "      <td>1</td>\n",
       "      <td>0</td>\n",
       "      <td>0</td>\n",
       "      <td>0</td>\n",
       "      <td>1</td>\n",
       "      <td>1</td>\n",
       "      <td>0</td>\n",
       "    </tr>\n",
       "  </tbody>\n",
       "</table>\n",
       "<p>5 rows × 38 columns</p>\n",
       "</div>"
      ],
      "text/plain": [
       "   Unnamed: 0.2  Unnamed: 0.1  Unnamed: 0  total_lot lot_type  lots_available  \\\n",
       "0             0             0           0        105        C              18   \n",
       "1             1             1           1        583        C             288   \n",
       "2             2             2           2        329        C             154   \n",
       "3             3             3           3         97        C              61   \n",
       "4             4             4           4         96        C              52   \n",
       "\n",
       "  carpark_number             datetime  diff car_park_no  ... 7AM-7PM NO  \\\n",
       "0           HE12  2022-09-22 20:45:00    87        HE12  ...       0  0   \n",
       "1            HLM  2022-09-22 20:45:00   295         HLM  ...       0  0   \n",
       "2            RHM  2022-09-22 20:45:00   175         RHM  ...       0  0   \n",
       "3           BM29  2022-09-22 20:45:00    36        BM29  ...       0  0   \n",
       "4            Q81  2022-09-22 20:45:00    44         Q81  ...       0  0   \n",
       "\n",
       "   WHOLE DAY NO SUN & PH FR 1PM-10.30PM SUN & PH FR 7AM-10.30PM NO YES  N  Y  \n",
       "0          1  0                       0                       1  0   1  1  0  \n",
       "1          1  1                       0                       0  0   1  1  0  \n",
       "2          1  0                       0                       1  0   1  1  0  \n",
       "3          1  1                       0                       0  0   1  0  1  \n",
       "4          1  1                       0                       0  0   1  1  0  \n",
       "\n",
       "[5 rows x 38 columns]"
      ]
     },
     "execution_count": 9,
     "metadata": {},
     "output_type": "execute_result"
    }
   ],
   "source": [
    "integrated_df.head()"
   ]
  },
  {
   "cell_type": "markdown",
   "id": "3265a0a0-f8c5-4dc6-a4e4-afe492f5bcfb",
   "metadata": {},
   "source": [
    "## Drop unnecessary columns"
   ]
  },
  {
   "cell_type": "code",
   "execution_count": 10,
   "id": "8add36f4-e680-46f0-90bc-8f06f3621aa3",
   "metadata": {
    "tags": []
   },
   "outputs": [],
   "source": [
    "cat_cols = ['Unnamed: 0','lot_type','car_park_no','address','type_of_parking_system', \"car_park_type\",'short_term_parking','free_parking','night_parking','car_park_basement']"
   ]
  },
  {
   "cell_type": "code",
   "execution_count": 11,
   "id": "c47537c9-e500-44c2-9b24-07938f9b3cde",
   "metadata": {
    "tags": []
   },
   "outputs": [],
   "source": [
    "integrated_df = integrated_df.drop(cat_cols, axis=1)"
   ]
  },
  {
   "cell_type": "markdown",
   "id": "e9a4fa80-b3ce-4255-b7d7-0e52d702fdb3",
   "metadata": {},
   "source": [
    "## Save final version"
   ]
  },
  {
   "cell_type": "code",
   "execution_count": null,
   "id": "e5b6b78f-682b-4cd7-95d3-7218b1f683a2",
   "metadata": {
    "tags": []
   },
   "outputs": [],
   "source": [
    "for index, key in enumerate(integrated_df.carpark_number.value_counts().keys()):\n",
    "    # print(index, key)\n",
    "    integrated_df.replace(key, index, inplace=True)"
   ]
  },
  {
   "cell_type": "code",
   "execution_count": 13,
   "id": "4cd81eb7-4b40-4579-9c19-9bbe8551f1be",
   "metadata": {
    "tags": []
   },
   "outputs": [],
   "source": [
    "integrated_df.to_csv('data_droped_nov18_dummy_final.csv', sep=',')"
   ]
  }
 ],
 "metadata": {
  "availableInstances": [
   {
    "_defaultOrder": 0,
    "_isFastLaunch": true,
    "category": "General purpose",
    "gpuNum": 0,
    "hideHardwareSpecs": false,
    "memoryGiB": 4,
    "name": "ml.t3.medium",
    "vcpuNum": 2
   },
   {
    "_defaultOrder": 1,
    "_isFastLaunch": false,
    "category": "General purpose",
    "gpuNum": 0,
    "hideHardwareSpecs": false,
    "memoryGiB": 8,
    "name": "ml.t3.large",
    "vcpuNum": 2
   },
   {
    "_defaultOrder": 2,
    "_isFastLaunch": false,
    "category": "General purpose",
    "gpuNum": 0,
    "hideHardwareSpecs": false,
    "memoryGiB": 16,
    "name": "ml.t3.xlarge",
    "vcpuNum": 4
   },
   {
    "_defaultOrder": 3,
    "_isFastLaunch": false,
    "category": "General purpose",
    "gpuNum": 0,
    "hideHardwareSpecs": false,
    "memoryGiB": 32,
    "name": "ml.t3.2xlarge",
    "vcpuNum": 8
   },
   {
    "_defaultOrder": 4,
    "_isFastLaunch": true,
    "category": "General purpose",
    "gpuNum": 0,
    "hideHardwareSpecs": false,
    "memoryGiB": 8,
    "name": "ml.m5.large",
    "vcpuNum": 2
   },
   {
    "_defaultOrder": 5,
    "_isFastLaunch": false,
    "category": "General purpose",
    "gpuNum": 0,
    "hideHardwareSpecs": false,
    "memoryGiB": 16,
    "name": "ml.m5.xlarge",
    "vcpuNum": 4
   },
   {
    "_defaultOrder": 6,
    "_isFastLaunch": false,
    "category": "General purpose",
    "gpuNum": 0,
    "hideHardwareSpecs": false,
    "memoryGiB": 32,
    "name": "ml.m5.2xlarge",
    "vcpuNum": 8
   },
   {
    "_defaultOrder": 7,
    "_isFastLaunch": false,
    "category": "General purpose",
    "gpuNum": 0,
    "hideHardwareSpecs": false,
    "memoryGiB": 64,
    "name": "ml.m5.4xlarge",
    "vcpuNum": 16
   },
   {
    "_defaultOrder": 8,
    "_isFastLaunch": false,
    "category": "General purpose",
    "gpuNum": 0,
    "hideHardwareSpecs": false,
    "memoryGiB": 128,
    "name": "ml.m5.8xlarge",
    "vcpuNum": 32
   },
   {
    "_defaultOrder": 9,
    "_isFastLaunch": false,
    "category": "General purpose",
    "gpuNum": 0,
    "hideHardwareSpecs": false,
    "memoryGiB": 192,
    "name": "ml.m5.12xlarge",
    "vcpuNum": 48
   },
   {
    "_defaultOrder": 10,
    "_isFastLaunch": false,
    "category": "General purpose",
    "gpuNum": 0,
    "hideHardwareSpecs": false,
    "memoryGiB": 256,
    "name": "ml.m5.16xlarge",
    "vcpuNum": 64
   },
   {
    "_defaultOrder": 11,
    "_isFastLaunch": false,
    "category": "General purpose",
    "gpuNum": 0,
    "hideHardwareSpecs": false,
    "memoryGiB": 384,
    "name": "ml.m5.24xlarge",
    "vcpuNum": 96
   },
   {
    "_defaultOrder": 12,
    "_isFastLaunch": false,
    "category": "General purpose",
    "gpuNum": 0,
    "hideHardwareSpecs": false,
    "memoryGiB": 8,
    "name": "ml.m5d.large",
    "vcpuNum": 2
   },
   {
    "_defaultOrder": 13,
    "_isFastLaunch": false,
    "category": "General purpose",
    "gpuNum": 0,
    "hideHardwareSpecs": false,
    "memoryGiB": 16,
    "name": "ml.m5d.xlarge",
    "vcpuNum": 4
   },
   {
    "_defaultOrder": 14,
    "_isFastLaunch": false,
    "category": "General purpose",
    "gpuNum": 0,
    "hideHardwareSpecs": false,
    "memoryGiB": 32,
    "name": "ml.m5d.2xlarge",
    "vcpuNum": 8
   },
   {
    "_defaultOrder": 15,
    "_isFastLaunch": false,
    "category": "General purpose",
    "gpuNum": 0,
    "hideHardwareSpecs": false,
    "memoryGiB": 64,
    "name": "ml.m5d.4xlarge",
    "vcpuNum": 16
   },
   {
    "_defaultOrder": 16,
    "_isFastLaunch": false,
    "category": "General purpose",
    "gpuNum": 0,
    "hideHardwareSpecs": false,
    "memoryGiB": 128,
    "name": "ml.m5d.8xlarge",
    "vcpuNum": 32
   },
   {
    "_defaultOrder": 17,
    "_isFastLaunch": false,
    "category": "General purpose",
    "gpuNum": 0,
    "hideHardwareSpecs": false,
    "memoryGiB": 192,
    "name": "ml.m5d.12xlarge",
    "vcpuNum": 48
   },
   {
    "_defaultOrder": 18,
    "_isFastLaunch": false,
    "category": "General purpose",
    "gpuNum": 0,
    "hideHardwareSpecs": false,
    "memoryGiB": 256,
    "name": "ml.m5d.16xlarge",
    "vcpuNum": 64
   },
   {
    "_defaultOrder": 19,
    "_isFastLaunch": false,
    "category": "General purpose",
    "gpuNum": 0,
    "hideHardwareSpecs": false,
    "memoryGiB": 384,
    "name": "ml.m5d.24xlarge",
    "vcpuNum": 96
   },
   {
    "_defaultOrder": 20,
    "_isFastLaunch": false,
    "category": "General purpose",
    "gpuNum": 0,
    "hideHardwareSpecs": true,
    "memoryGiB": 0,
    "name": "ml.geospatial.interactive",
    "supportedImageNames": [
     "sagemaker-geospatial-v1-0"
    ],
    "vcpuNum": 0
   },
   {
    "_defaultOrder": 21,
    "_isFastLaunch": true,
    "category": "Compute optimized",
    "gpuNum": 0,
    "hideHardwareSpecs": false,
    "memoryGiB": 4,
    "name": "ml.c5.large",
    "vcpuNum": 2
   },
   {
    "_defaultOrder": 22,
    "_isFastLaunch": false,
    "category": "Compute optimized",
    "gpuNum": 0,
    "hideHardwareSpecs": false,
    "memoryGiB": 8,
    "name": "ml.c5.xlarge",
    "vcpuNum": 4
   },
   {
    "_defaultOrder": 23,
    "_isFastLaunch": false,
    "category": "Compute optimized",
    "gpuNum": 0,
    "hideHardwareSpecs": false,
    "memoryGiB": 16,
    "name": "ml.c5.2xlarge",
    "vcpuNum": 8
   },
   {
    "_defaultOrder": 24,
    "_isFastLaunch": false,
    "category": "Compute optimized",
    "gpuNum": 0,
    "hideHardwareSpecs": false,
    "memoryGiB": 32,
    "name": "ml.c5.4xlarge",
    "vcpuNum": 16
   },
   {
    "_defaultOrder": 25,
    "_isFastLaunch": false,
    "category": "Compute optimized",
    "gpuNum": 0,
    "hideHardwareSpecs": false,
    "memoryGiB": 72,
    "name": "ml.c5.9xlarge",
    "vcpuNum": 36
   },
   {
    "_defaultOrder": 26,
    "_isFastLaunch": false,
    "category": "Compute optimized",
    "gpuNum": 0,
    "hideHardwareSpecs": false,
    "memoryGiB": 96,
    "name": "ml.c5.12xlarge",
    "vcpuNum": 48
   },
   {
    "_defaultOrder": 27,
    "_isFastLaunch": false,
    "category": "Compute optimized",
    "gpuNum": 0,
    "hideHardwareSpecs": false,
    "memoryGiB": 144,
    "name": "ml.c5.18xlarge",
    "vcpuNum": 72
   },
   {
    "_defaultOrder": 28,
    "_isFastLaunch": false,
    "category": "Compute optimized",
    "gpuNum": 0,
    "hideHardwareSpecs": false,
    "memoryGiB": 192,
    "name": "ml.c5.24xlarge",
    "vcpuNum": 96
   },
   {
    "_defaultOrder": 29,
    "_isFastLaunch": true,
    "category": "Accelerated computing",
    "gpuNum": 1,
    "hideHardwareSpecs": false,
    "memoryGiB": 16,
    "name": "ml.g4dn.xlarge",
    "vcpuNum": 4
   },
   {
    "_defaultOrder": 30,
    "_isFastLaunch": false,
    "category": "Accelerated computing",
    "gpuNum": 1,
    "hideHardwareSpecs": false,
    "memoryGiB": 32,
    "name": "ml.g4dn.2xlarge",
    "vcpuNum": 8
   },
   {
    "_defaultOrder": 31,
    "_isFastLaunch": false,
    "category": "Accelerated computing",
    "gpuNum": 1,
    "hideHardwareSpecs": false,
    "memoryGiB": 64,
    "name": "ml.g4dn.4xlarge",
    "vcpuNum": 16
   },
   {
    "_defaultOrder": 32,
    "_isFastLaunch": false,
    "category": "Accelerated computing",
    "gpuNum": 1,
    "hideHardwareSpecs": false,
    "memoryGiB": 128,
    "name": "ml.g4dn.8xlarge",
    "vcpuNum": 32
   },
   {
    "_defaultOrder": 33,
    "_isFastLaunch": false,
    "category": "Accelerated computing",
    "gpuNum": 4,
    "hideHardwareSpecs": false,
    "memoryGiB": 192,
    "name": "ml.g4dn.12xlarge",
    "vcpuNum": 48
   },
   {
    "_defaultOrder": 34,
    "_isFastLaunch": false,
    "category": "Accelerated computing",
    "gpuNum": 1,
    "hideHardwareSpecs": false,
    "memoryGiB": 256,
    "name": "ml.g4dn.16xlarge",
    "vcpuNum": 64
   },
   {
    "_defaultOrder": 35,
    "_isFastLaunch": false,
    "category": "Accelerated computing",
    "gpuNum": 1,
    "hideHardwareSpecs": false,
    "memoryGiB": 61,
    "name": "ml.p3.2xlarge",
    "vcpuNum": 8
   },
   {
    "_defaultOrder": 36,
    "_isFastLaunch": false,
    "category": "Accelerated computing",
    "gpuNum": 4,
    "hideHardwareSpecs": false,
    "memoryGiB": 244,
    "name": "ml.p3.8xlarge",
    "vcpuNum": 32
   },
   {
    "_defaultOrder": 37,
    "_isFastLaunch": false,
    "category": "Accelerated computing",
    "gpuNum": 8,
    "hideHardwareSpecs": false,
    "memoryGiB": 488,
    "name": "ml.p3.16xlarge",
    "vcpuNum": 64
   },
   {
    "_defaultOrder": 38,
    "_isFastLaunch": false,
    "category": "Accelerated computing",
    "gpuNum": 8,
    "hideHardwareSpecs": false,
    "memoryGiB": 768,
    "name": "ml.p3dn.24xlarge",
    "vcpuNum": 96
   },
   {
    "_defaultOrder": 39,
    "_isFastLaunch": false,
    "category": "Memory Optimized",
    "gpuNum": 0,
    "hideHardwareSpecs": false,
    "memoryGiB": 16,
    "name": "ml.r5.large",
    "vcpuNum": 2
   },
   {
    "_defaultOrder": 40,
    "_isFastLaunch": false,
    "category": "Memory Optimized",
    "gpuNum": 0,
    "hideHardwareSpecs": false,
    "memoryGiB": 32,
    "name": "ml.r5.xlarge",
    "vcpuNum": 4
   },
   {
    "_defaultOrder": 41,
    "_isFastLaunch": false,
    "category": "Memory Optimized",
    "gpuNum": 0,
    "hideHardwareSpecs": false,
    "memoryGiB": 64,
    "name": "ml.r5.2xlarge",
    "vcpuNum": 8
   },
   {
    "_defaultOrder": 42,
    "_isFastLaunch": false,
    "category": "Memory Optimized",
    "gpuNum": 0,
    "hideHardwareSpecs": false,
    "memoryGiB": 128,
    "name": "ml.r5.4xlarge",
    "vcpuNum": 16
   },
   {
    "_defaultOrder": 43,
    "_isFastLaunch": false,
    "category": "Memory Optimized",
    "gpuNum": 0,
    "hideHardwareSpecs": false,
    "memoryGiB": 256,
    "name": "ml.r5.8xlarge",
    "vcpuNum": 32
   },
   {
    "_defaultOrder": 44,
    "_isFastLaunch": false,
    "category": "Memory Optimized",
    "gpuNum": 0,
    "hideHardwareSpecs": false,
    "memoryGiB": 384,
    "name": "ml.r5.12xlarge",
    "vcpuNum": 48
   },
   {
    "_defaultOrder": 45,
    "_isFastLaunch": false,
    "category": "Memory Optimized",
    "gpuNum": 0,
    "hideHardwareSpecs": false,
    "memoryGiB": 512,
    "name": "ml.r5.16xlarge",
    "vcpuNum": 64
   },
   {
    "_defaultOrder": 46,
    "_isFastLaunch": false,
    "category": "Memory Optimized",
    "gpuNum": 0,
    "hideHardwareSpecs": false,
    "memoryGiB": 768,
    "name": "ml.r5.24xlarge",
    "vcpuNum": 96
   },
   {
    "_defaultOrder": 47,
    "_isFastLaunch": false,
    "category": "Accelerated computing",
    "gpuNum": 1,
    "hideHardwareSpecs": false,
    "memoryGiB": 16,
    "name": "ml.g5.xlarge",
    "vcpuNum": 4
   },
   {
    "_defaultOrder": 48,
    "_isFastLaunch": false,
    "category": "Accelerated computing",
    "gpuNum": 1,
    "hideHardwareSpecs": false,
    "memoryGiB": 32,
    "name": "ml.g5.2xlarge",
    "vcpuNum": 8
   },
   {
    "_defaultOrder": 49,
    "_isFastLaunch": false,
    "category": "Accelerated computing",
    "gpuNum": 1,
    "hideHardwareSpecs": false,
    "memoryGiB": 64,
    "name": "ml.g5.4xlarge",
    "vcpuNum": 16
   },
   {
    "_defaultOrder": 50,
    "_isFastLaunch": false,
    "category": "Accelerated computing",
    "gpuNum": 1,
    "hideHardwareSpecs": false,
    "memoryGiB": 128,
    "name": "ml.g5.8xlarge",
    "vcpuNum": 32
   },
   {
    "_defaultOrder": 51,
    "_isFastLaunch": false,
    "category": "Accelerated computing",
    "gpuNum": 1,
    "hideHardwareSpecs": false,
    "memoryGiB": 256,
    "name": "ml.g5.16xlarge",
    "vcpuNum": 64
   },
   {
    "_defaultOrder": 52,
    "_isFastLaunch": false,
    "category": "Accelerated computing",
    "gpuNum": 4,
    "hideHardwareSpecs": false,
    "memoryGiB": 192,
    "name": "ml.g5.12xlarge",
    "vcpuNum": 48
   },
   {
    "_defaultOrder": 53,
    "_isFastLaunch": false,
    "category": "Accelerated computing",
    "gpuNum": 4,
    "hideHardwareSpecs": false,
    "memoryGiB": 384,
    "name": "ml.g5.24xlarge",
    "vcpuNum": 96
   },
   {
    "_defaultOrder": 54,
    "_isFastLaunch": false,
    "category": "Accelerated computing",
    "gpuNum": 8,
    "hideHardwareSpecs": false,
    "memoryGiB": 768,
    "name": "ml.g5.48xlarge",
    "vcpuNum": 192
   },
   {
    "_defaultOrder": 55,
    "_isFastLaunch": false,
    "category": "Accelerated computing",
    "gpuNum": 8,
    "hideHardwareSpecs": false,
    "memoryGiB": 1152,
    "name": "ml.p4d.24xlarge",
    "vcpuNum": 96
   },
   {
    "_defaultOrder": 56,
    "_isFastLaunch": false,
    "category": "Accelerated computing",
    "gpuNum": 8,
    "hideHardwareSpecs": false,
    "memoryGiB": 1152,
    "name": "ml.p4de.24xlarge",
    "vcpuNum": 96
   }
  ],
  "instance_type": "ml.t3.medium",
  "kernelspec": {
   "display_name": "venv-python3.10.11",
   "language": "python",
   "name": "venv"
  },
  "language_info": {
   "codemirror_mode": {
    "name": "ipython",
    "version": 3
   },
   "file_extension": ".py",
   "mimetype": "text/x-python",
   "name": "python",
   "nbconvert_exporter": "python",
   "pygments_lexer": "ipython3",
   "version": "3.10.11"
  }
 },
 "nbformat": 4,
 "nbformat_minor": 5
}
