{
 "cells": [
  {
   "cell_type": "markdown",
   "id": "1b440ccd-5305-4eb2-bafd-ebe11ceec9f6",
   "metadata": {},
   "source": [
    "# Hyperparameter tuning - machine learning models"
   ]
  },
  {
   "cell_type": "code",
   "execution_count": null,
   "id": "02780d20-b17a-4fad-afc6-fef458ac07b5",
   "metadata": {},
   "outputs": [],
   "source": [
    "import math\n",
    "import time\n",
    "import numpy as np\n",
    "import pandas as pd\n",
    "from sklearn.ensemble import BaggingRegressor\n",
    "from xgboost.sklearn import XGBRegressor\n",
    "from sklearn.preprocessing import MinMaxScaler\n",
    "from sklearn.metrics import mean_squared_error, mean_absolute_error, r2_score\n",
    "from sklearn.model_selection import TimeSeriesSplit, RandomizedSearchCV\n",
    "from utils import train_test_split, X_Y_split, scaler"
   ]
  },
  {
   "cell_type": "code",
   "execution_count": null,
   "id": "ea0a482e-a9de-4f4e-bc8d-d8ae3b0ab003",
   "metadata": {},
   "outputs": [],
   "source": [
    "data = pd.read_csv('data_droped_nov18_dummy_final.csv')"
   ]
  },
  {
   "cell_type": "code",
   "execution_count": null,
   "id": "e63f5f1f-6337-4fba-8e85-25b938196232",
   "metadata": {},
   "outputs": [],
   "source": [
    "data = data.set_index('datetime')\n",
    "data.index = pd.to_datetime(data.index)\n",
    "data = data.drop(['Unnamed: 0.2','Unnamed: 0.1','Unnamed: 0', 'diff'],axis=1)\n",
    "data=data.reindex(columns=['lots_available', 'total_lot',  'carpark_number','x_coord', 'y_coord',\n",
    "'car_park_decks', 'gantry_height','BASEMENT CAR PARK', 'COVERED CAR PARK','MECHANISED AND SURFACE CAR PARK', 'MULTI-STOREY CAR PARK',\n",
    "'SURFACE CAR PARK', '7AM-10.30PM', '7AM-7PM', 'NO', 'WHOLE DAY', 'NO.1','SUN & PH FR 1PM-10.30PM', 'SUN & PH FR 7AM-10.30PM', 'NO.2', \n",
    "'YES','N', 'Y'])"
   ]
  },
  {
   "cell_type": "code",
   "execution_count": null,
   "id": "9e423f59-9d0e-40c1-88cd-19663ea4f350",
   "metadata": {},
   "outputs": [],
   "source": [
    "data[\"day_of_week\"] = data.index.weekday\n",
    "data[\"hour_of_day\"] = data.index.hour"
   ]
  },
  {
   "cell_type": "code",
   "execution_count": null,
   "id": "0b9f8ba6-f8c6-4936-8125-97835fff263d",
   "metadata": {},
   "outputs": [],
   "source": [
    "features = ['lots_available','day_of_week','hour_of_day','total_lot', 'carpark_number', 'x_coord', 'y_coord','car_park_decks', 'gantry_height', 'MULTI-STOREY CAR PARK','WHOLE DAY', \n",
    "       'NO.1','SUN & PH FR 7AM-10.30PM']"
   ]
  },
  {
   "cell_type": "code",
   "execution_count": null,
   "id": "8dc5b991-daee-4d07-b328-0aed07fac1e5",
   "metadata": {},
   "outputs": [],
   "source": [
    "data = data[features]\n",
    "data=data.reindex(columns=features)"
   ]
  },
  {
   "cell_type": "code",
   "execution_count": null,
   "id": "bbfb53b8-ee31-40b1-9767-b586c8d4825d",
   "metadata": {},
   "outputs": [],
   "source": [
    "data.loc['2016-02-19 11:15:00',:] = np.nan\n",
    "data.dropna(inplace=True)"
   ]
  },
  {
   "cell_type": "code",
   "execution_count": null,
   "id": "783b0a11-bc1d-48ba-b4a2-f025d462de6b",
   "metadata": {},
   "outputs": [],
   "source": [
    "Train, Test = train_test_split(data, test_step_size=673)"
   ]
  },
  {
   "cell_type": "code",
   "execution_count": null,
   "id": "00287068-9f9a-45de-98a2-c7d0f7254fab",
   "metadata": {},
   "outputs": [],
   "source": [
    "for i in Train.columns:\n",
    "    scaler = MinMaxScaler()\n",
    "    s_train = scaler.fit_transform(Train[i].values.reshape((-1,1)))\n",
    "    s_train = np.reshape(s_train,(len(s_train)))\n",
    "    Train[i] = s_train   \n",
    "    s_test = scaler.transform(Test[i].values.reshape((-1,1)))\n",
    "    s_test = np.reshape(s_test,(len(s_test)))\n",
    "    Test[i] = s_test"
   ]
  },
  {
   "cell_type": "code",
   "execution_count": null,
   "id": "31d75f6c-e45a-4bca-be3a-bce0be972aa8",
   "metadata": {},
   "outputs": [],
   "source": [
    "X_train, Y_train = X_Y_split(Train, window_size=1,label_col_no=0)\n",
    "X_test, Y_test = X_Y_split(Test, window_size=1,label_col_no=0)"
   ]
  },
  {
   "cell_type": "markdown",
   "id": "ba4d09fb-4e64-4b74-a739-8f9e9cb11e49",
   "metadata": {},
   "source": [
    "## Bagging regressor"
   ]
  },
  {
   "cell_type": "markdown",
   "id": "5bc3b977-a2fc-41cb-8f29-41fb9fc6ac41",
   "metadata": {},
   "source": [
    "### Define baseline"
   ]
  },
  {
   "cell_type": "code",
   "execution_count": null,
   "id": "e3130f2e-4513-4154-a6cb-cad703fff21c",
   "metadata": {},
   "outputs": [],
   "source": [
    "bagging_regressor_baseline = BaggingRegressor()\n",
    "bagging_regressor_baseline.fit(X_train,Y_train)"
   ]
  },
  {
   "cell_type": "code",
   "execution_count": null,
   "id": "6298d580-50af-4d37-9ad4-46bbf6e77765",
   "metadata": {},
   "outputs": [],
   "source": [
    "yp_bagg_base = bagging_regressor_baseline.predict(X_test)"
   ]
  },
  {
   "cell_type": "code",
   "execution_count": null,
   "id": "66990a1c-6e34-4fff-a8be-1e5f76a56c39",
   "metadata": {},
   "outputs": [],
   "source": [
    "mse = mean_squared_error(y_pred=yp_bagg_base, y_true=Y_test)\n",
    "mae = mean_absolute_error(y_pred=yp_bagg_base, y_true=Y_test)\n",
    "rmse = math.sqrt(mean_squared_error(y_pred=yp_bagg_base, y_true=Y_test))\n",
    "r2 = r2_score(y_pred=yp_bagg_base, y_true=Y_test)\n",
    "print(round(mse, 5))\n",
    "print(round(mae,5))\n",
    "print(round(rmse,5))\n",
    "print(round(r2,5))"
   ]
  },
  {
   "cell_type": "markdown",
   "id": "2a547e6a-42c5-4bf4-9ef1-15cbf0a0a7ae",
   "metadata": {},
   "source": [
    "### hp tuning"
   ]
  },
  {
   "cell_type": "code",
   "execution_count": null,
   "id": "cae5a339-fe88-4b23-80c6-214b42387a27",
   "metadata": {},
   "outputs": [],
   "source": [
    "# parameter range from literature reviews\n",
    "params = {\n",
    "    'n_estimators': (100,200,500),\n",
    "    'max_samples' : (0.7, 0.8, 0.9, 1.0)\n",
    "}"
   ]
  },
  {
   "cell_type": "code",
   "execution_count": null,
   "id": "87be0dde-00ed-42dd-bb1b-b1c920f020e5",
   "metadata": {},
   "outputs": [],
   "source": [
    "model = BaggingRegressor()\n",
    "\n",
    "finder = RandomizedSearchCV(\n",
    "    estimator=model,\n",
    "    param_distributions=params,\n",
    "    scoring='r2',\n",
    "    refit=True,\n",
    "    cv=TimeSeriesSplit(n_splits=5),  # change this to the splitter subject to test\n",
    "    return_train_score=True\n",
    "    )\n",
    "\n",
    "finder.fit(X_train, Y_train)\n",
    "\n",
    "best_params = finder.best_params_\n",
    "best_score = round(finder.best_score_,4)"
   ]
  },
  {
   "cell_type": "code",
   "execution_count": null,
   "id": "a2577621-0a2a-415d-a48d-21b0f1b57ff5",
   "metadata": {},
   "outputs": [],
   "source": [
    "print(best_params)\n",
    "print(best_score)"
   ]
  },
  {
   "cell_type": "code",
   "execution_count": null,
   "id": "a162e4a2-5b80-44c0-b9fe-ac3a55f79c48",
   "metadata": {},
   "outputs": [],
   "source": [
    "bagging_regressor_best = BaggingRegressor(max_samples=0.7, n_estimators=500)"
   ]
  },
  {
   "cell_type": "code",
   "execution_count": null,
   "id": "20be0042-5250-4885-afc8-54760166e835",
   "metadata": {},
   "outputs": [],
   "source": [
    "bagging_regressor_best.fit(X_train,Y_train)"
   ]
  },
  {
   "cell_type": "code",
   "execution_count": null,
   "id": "a897ec5b-679b-4ccd-a0ce-1b2a60239980",
   "metadata": {},
   "outputs": [],
   "source": [
    "yp = bagging_regressor_best.predict(X_test)"
   ]
  },
  {
   "cell_type": "code",
   "execution_count": null,
   "id": "2d298387-5b98-4c16-bdbd-7461163d656b",
   "metadata": {},
   "outputs": [],
   "source": [
    "mse = mean_squared_error(y_pred=yp, y_true=Y_test)\n",
    "mae = mean_absolute_error(y_pred=yp, y_true=Y_test)\n",
    "rmse = math.sqrt(mean_squared_error(y_pred=yp, y_true=Y_test))\n",
    "r2 = r2_score(y_pred=yp, y_true=Y_test)\n",
    "print(mse)\n",
    "print(mae)\n",
    "print(rmse)\n",
    "print(r2)"
   ]
  },
  {
   "cell_type": "markdown",
   "id": "14460137-dd23-407e-8f5b-5666aa2a1197",
   "metadata": {},
   "source": [
    "## XGBoost regressor"
   ]
  },
  {
   "cell_type": "markdown",
   "id": "837eeab9-793d-4a5e-b156-a96985940c36",
   "metadata": {},
   "source": [
    "### Define baseline"
   ]
  },
  {
   "cell_type": "code",
   "execution_count": null,
   "id": "c549bae8-763f-4ebe-b420-f718b8593266",
   "metadata": {},
   "outputs": [],
   "source": [
    "xgb_baseline =XGBRegressor()\n",
    "xgb_baseline.fit(X_train,Y_train)"
   ]
  },
  {
   "cell_type": "code",
   "execution_count": null,
   "id": "fe629397-cb79-4add-b1b2-411fac379032",
   "metadata": {},
   "outputs": [],
   "source": [
    "yp_xgb_base = xgb_baseline.predict(X_test)"
   ]
  },
  {
   "cell_type": "code",
   "execution_count": null,
   "id": "15b5fec5-9815-4183-9c9d-4ab001fca83f",
   "metadata": {},
   "outputs": [],
   "source": [
    "mse = mean_squared_error(y_pred=yp_xgb_base, y_true=Y_test)\n",
    "mae = mean_absolute_error(y_pred=yp_xgb_base, y_true=Y_test)\n",
    "rmse = math.sqrt(mean_squared_error(y_pred=yp_xgb_base, y_true=Y_test))\n",
    "r2 = r2_score(y_pred=yp_xgb_base, y_true=Y_test)\n",
    "print(round(mse, 3))\n",
    "print(round(mae,3))\n",
    "print(round(rmse,3))\n",
    "print(round(r2,3))"
   ]
  },
  {
   "cell_type": "markdown",
   "id": "fe6d3f36-8670-43c8-8822-0eb0955b335a",
   "metadata": {},
   "source": [
    "### hp tuning"
   ]
  },
  {
   "cell_type": "code",
   "execution_count": null,
   "id": "ed529406-d1bd-4b29-8948-2c307f8b0e89",
   "metadata": {},
   "outputs": [],
   "source": [
    "# parameter range from literature reviews\n",
    "params = {\n",
    "    'n_estimators': (50, 100, 150),\n",
    "    'max_depth': (3, 6, 9),\n",
    "    'learning_rate':(0.01, 0.1, 0.3, 0.5),\n",
    "    'gamma' :(5, 7, 10)\n",
    "}"
   ]
  },
  {
   "cell_type": "code",
   "execution_count": null,
   "id": "1707dec4-99d7-4ab0-b0cf-00cd495c2318",
   "metadata": {},
   "outputs": [],
   "source": [
    "model = XGBRegressor()\n",
    "\n",
    "finder = RandomizedSearchCV(\n",
    "    estimator=model,\n",
    "    param_distributions=params,\n",
    "    scoring='r2',\n",
    "    refit=True,\n",
    "    cv=TimeSeriesSplit(n_splits=5),  # change this to the splitter subject to test\n",
    "    return_train_score=True\n",
    "    )\n",
    "\n",
    "start_time = time.time()\n",
    "finder.fit(X_train, Y_train)\n",
    "print(\"--- %s seconds ---\" %(time.time()- start_time))\n",
    "\n",
    "best_params = finder.best_params_\n",
    "best_score = round(finder.best_score_,4)"
   ]
  },
  {
   "cell_type": "code",
   "execution_count": null,
   "id": "20ff9c50-b5e3-43ab-b167-3d789aed4c61",
   "metadata": {},
   "outputs": [],
   "source": [
    "print(best_params)\n",
    "print(best_score)"
   ]
  },
  {
   "cell_type": "code",
   "execution_count": null,
   "id": "65b2e853-d504-4ec5-b6ec-be46a362e895",
   "metadata": {},
   "outputs": [],
   "source": [
    "#best parameter based on 1x to predict next step\n",
    "xgb_best = XGBRegressor(learning_rate=0.3,max_depth=3,n_estimators=50,gamma=5)"
   ]
  },
  {
   "cell_type": "code",
   "execution_count": null,
   "id": "b3ca6942-942f-4b73-b502-a05fb4d590a0",
   "metadata": {},
   "outputs": [],
   "source": [
    "xgb_best.fit(X_train, Y_train)"
   ]
  },
  {
   "cell_type": "code",
   "execution_count": null,
   "id": "102a8370-3cff-4830-bc98-58f84e1abcb9",
   "metadata": {},
   "outputs": [],
   "source": [
    "yp1 = xgb_best.predict(X_test)"
   ]
  },
  {
   "cell_type": "code",
   "execution_count": null,
   "id": "a768be47-bf96-4a90-bfaf-bd4d48e7c3f2",
   "metadata": {},
   "outputs": [],
   "source": [
    "mse = mean_squared_error(y_pred=yp1, y_true=Y_test)\n",
    "mae = mean_absolute_error(y_pred=yp1, y_true=Y_test)\n",
    "rmse = math.sqrt(mean_squared_error(y_pred=yp1, y_true=Y_test))\n",
    "r2 = r2_score(y_pred=yp1, y_true=Y_test)\n",
    "print(mse)\n",
    "print(mae)\n",
    "print(rmse)\n",
    "print(r2)"
   ]
  }
 ],
 "metadata": {
  "kernelspec": {
   "display_name": "venv-python3.10.11",
   "language": "python",
   "name": "venv"
  },
  "language_info": {
   "codemirror_mode": {
    "name": "ipython",
    "version": 3
   },
   "file_extension": ".py",
   "mimetype": "text/x-python",
   "name": "python",
   "nbconvert_exporter": "python",
   "pygments_lexer": "ipython3",
   "version": "3.10.11"
  }
 },
 "nbformat": 4,
 "nbformat_minor": 5
}
