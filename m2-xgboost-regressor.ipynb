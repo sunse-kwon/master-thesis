{
 "cells": [
  {
   "cell_type": "markdown",
   "id": "b4a3a4c8-2491-47da-b40b-9a91e68b2ddd",
   "metadata": {},
   "source": [
    "# XGBoost Regressor"
   ]
  },
  {
   "cell_type": "code",
   "execution_count": 1,
   "id": "8e5dd5f1-8dd7-4f45-a8f0-70ec5577e765",
   "metadata": {},
   "outputs": [],
   "source": [
    "import math\n",
    "import numpy as np\n",
    "import pandas as pd\n",
    "import matplotlib.pyplot as plt\n",
    "from xgboost.sklearn import XGBRegressor\n",
    "from sklearn.preprocessing import MinMaxScaler\n",
    "from sklearn.metrics import mean_squared_error, mean_absolute_error, r2_score\n",
    "from utils import train_test_split, X_Y_split, scaler, window_generator, last_x_y_generator, insert_end, insert_end_multi"
   ]
  },
  {
   "cell_type": "code",
   "execution_count": 4,
   "id": "f335092e-d70d-4fa6-a53e-99bf83bf6d5e",
   "metadata": {},
   "outputs": [],
   "source": [
    "data = pd.read_csv('data_droped_nov18_dummy_final.csv')"
   ]
  },
  {
   "cell_type": "code",
   "execution_count": 5,
   "id": "91f0024c-270b-490b-86d5-0dd56f8fedbe",
   "metadata": {},
   "outputs": [],
   "source": [
    "data = data.set_index('datetime')\n",
    "data.index = pd.to_datetime(data.index)\n",
    "data = data.drop(['Unnamed: 0.2','Unnamed: 0.1','Unnamed: 0', 'diff'],axis=1)\n",
    "data=data.reindex(columns=['lots_available', 'total_lot',  'carpark_number','x_coord', 'y_coord',\n",
    "'car_park_decks', 'gantry_height','BASEMENT CAR PARK', 'COVERED CAR PARK','MECHANISED AND SURFACE CAR PARK', 'MULTI-STOREY CAR PARK',\n",
    "'SURFACE CAR PARK', '7AM-10.30PM', '7AM-7PM', 'NO', 'WHOLE DAY', 'NO.1','SUN & PH FR 1PM-10.30PM', 'SUN & PH FR 7AM-10.30PM', 'NO.2', \n",
    "'YES','N', 'Y'])"
   ]
  },
  {
   "cell_type": "code",
   "execution_count": 6,
   "id": "22fb8d47-1ae1-44bb-ab3c-e940d27d34e7",
   "metadata": {},
   "outputs": [],
   "source": [
    "# create time features, day of week, hour of day\n",
    "data[\"day_of_week\"] = data.index.weekday\n",
    "data[\"hour_of_day\"] = data.index.hour"
   ]
  },
  {
   "cell_type": "code",
   "execution_count": 7,
   "id": "0a85f6a9-c4aa-45fe-8f6b-dbcd6ab0332e",
   "metadata": {},
   "outputs": [],
   "source": [
    "# feature selection based on RFE algorithm\n",
    "features = ['lots_available','day_of_week','hour_of_day','total_lot', 'carpark_number', 'x_coord', 'y_coord','car_park_decks', 'gantry_height', 'MULTI-STOREY CAR PARK','WHOLE DAY', \n",
    "       'NO.1','SUN & PH FR 7AM-10.30PM']"
   ]
  },
  {
   "cell_type": "code",
   "execution_count": 8,
   "id": "de6372a9-001e-4063-a3ec-05736ef9614d",
   "metadata": {},
   "outputs": [],
   "source": [
    "data = data[features]\n",
    "data=data.reindex(columns=features)"
   ]
  },
  {
   "cell_type": "code",
   "execution_count": 9,
   "id": "3e7d39f7-24fe-4b9d-a3c6-8a4bae4bd66c",
   "metadata": {},
   "outputs": [],
   "source": [
    "data.loc['2016-02-19 11:15:00',:] = np.nan\n",
    "data.dropna(inplace=True)"
   ]
  },
  {
   "cell_type": "code",
   "execution_count": 10,
   "id": "42a3f253-a259-47fb-9bca-17a2f2e0c707",
   "metadata": {},
   "outputs": [],
   "source": [
    "Train, Test = train_test_split(data, test_step_size=673)"
   ]
  },
  {
   "cell_type": "markdown",
   "id": "f52b1d3f-778e-4fad-b503-c0f44ccf1425",
   "metadata": {},
   "source": [
    "## data normalization using MinMaxScaler, values range from 0 to 1 interval."
   ]
  },
  {
   "cell_type": "code",
   "execution_count": 11,
   "id": "cee8fcec-5aa6-422f-a841-08db02b6ad6d",
   "metadata": {},
   "outputs": [],
   "source": [
    "for i in Train.columns:\n",
    "    scaler = MinMaxScaler()\n",
    "    s_train = scaler.fit_transform(Train[i].values.reshape((-1,1)))\n",
    "    s_train = np.reshape(s_train,(len(s_train)))\n",
    "    Train[i] = s_train   \n",
    "    s_test = scaler.transform(Test[i].values.reshape((-1,1)))\n",
    "    s_test = np.reshape(s_test,(len(s_test)))\n",
    "    Test[i] = s_test"
   ]
  },
  {
   "cell_type": "markdown",
   "id": "23775e18-0924-4434-a920-431ff3bb705e",
   "metadata": {},
   "source": [
    "## best model with selected hyperparameters from GridSearchCV"
   ]
  },
  {
   "cell_type": "code",
   "execution_count": 13,
   "id": "e560167a-9450-4c6c-ad33-cc1cef489ea4",
   "metadata": {},
   "outputs": [],
   "source": [
    "xgb_best = XGBRegressor(learning_rate=0.3,max_depth=3,n_estimators=50,gamma=5)"
   ]
  },
  {
   "cell_type": "markdown",
   "id": "2e8227d7-8918-45f5-92e5-99b8fa9e0f7d",
   "metadata": {},
   "source": [
    "## performance on different time window using entire dataset"
   ]
  },
  {
   "cell_type": "markdown",
   "id": "5861dbc1-05a2-4738-afdc-382ca87c732d",
   "metadata": {},
   "source": [
    "### 15 minutes (used previous timestep to predict next timestep, 1 timestep = 15 minute)"
   ]
  },
  {
   "cell_type": "code",
   "execution_count": 14,
   "id": "b702ace4-a4f4-4dc6-91f1-f33987fbf8f7",
   "metadata": {},
   "outputs": [],
   "source": [
    "# x,y split of train-test data for 15 minute(1 timestep) based on time window technique\n",
    "X_train_15min, Y_train_15min = X_Y_split(Train, window_size=1,label_col_no=0)\n",
    "X_test_15min, Y_test_15min = X_Y_split(Test, window_size=1,label_col_no=0)"
   ]
  },
  {
   "cell_type": "code",
   "execution_count": 15,
   "id": "fb889e85-fa5b-4d86-bb59-3a5fdf583bbe",
   "metadata": {},
   "outputs": [
    {
     "data": {
      "text/plain": [
       "XGBRegressor(base_score=0.5, booster='gbtree', callbacks=None,\n",
       "             colsample_bylevel=1, colsample_bynode=1, colsample_bytree=1,\n",
       "             early_stopping_rounds=None, enable_categorical=False,\n",
       "             eval_metric=None, feature_types=None, gamma=5, gpu_id=-1,\n",
       "             grow_policy='depthwise', importance_type=None,\n",
       "             interaction_constraints='', learning_rate=0.3, max_bin=256,\n",
       "             max_cat_threshold=64, max_cat_to_onehot=4, max_delta_step=0,\n",
       "             max_depth=3, max_leaves=0, min_child_weight=1, missing=nan,\n",
       "             monotone_constraints='()', n_estimators=50, n_jobs=0,\n",
       "             num_parallel_tree=1, predictor='auto', random_state=0, ...)"
      ]
     },
     "execution_count": 15,
     "metadata": {},
     "output_type": "execute_result"
    }
   ],
   "source": [
    "xgb_best_15min = xgb_best\n",
    "xgb_best_15min.fit(X_train_15min, Y_train_15min)\n",
    "yp_15min_xgb = xgb_best_15min.predict(X_test_15min)"
   ]
  },
  {
   "cell_type": "code",
   "execution_count": null,
   "id": "06829c45-ad35-48c3-9625-04f378dc449d",
   "metadata": {},
   "outputs": [],
   "source": [
    "mse = mean_squared_error(y_pred=yp_15min_xgb, y_true=Y_test_15min)\n",
    "mae = mean_absolute_error(y_pred=yp_15min_xgb, y_true=Y_test_15min)\n",
    "rmse = math.sqrt(mean_squared_error(y_pred=yp_15min_xgb, y_true=Y_test_15min))\n",
    "r2 = r2_score(y_pred=yp_15min_xgb, y_true=Y_test_15min)\n",
    "print(round(mse,5))\n",
    "print(round(mae,5))\n",
    "print(round(rmse,5))\n",
    "print(round(r2,5))"
   ]
  },
  {
   "cell_type": "markdown",
   "id": "73c6c53a-6d63-4472-94ff-3bc89199b38a",
   "metadata": {},
   "source": [
    "### 1 hour (used 4 timesteps to predict next timestep, 1 timestep = 15 minute, 4 timestep = 1hour)"
   ]
  },
  {
   "cell_type": "code",
   "execution_count": null,
   "id": "a21890c9-598d-4843-9e1e-443f47003e74",
   "metadata": {},
   "outputs": [],
   "source": [
    "# x,y split of train-test data for 1 hour(4 timesteps) based on time window technique\n",
    "X_train_1hour, Y_train_1hour = X_Y_split(Train, window_size=4,label_col_no=0)\n",
    "X_test_1hour, Y_test_1hour = X_Y_split(Test, window_size=4,label_col_no=0)"
   ]
  },
  {
   "cell_type": "code",
   "execution_count": null,
   "id": "f92c1e23-9ba8-494f-b33c-d34580714f08",
   "metadata": {},
   "outputs": [],
   "source": [
    "xgb_best_1hour = xgb_best\n",
    "xgb_best_1hour.fit(X_train_1hour, Y_train_1hour)\n",
    "yp_1hour_xgb = xgb_best_1hour.predict(X_test_1hour)"
   ]
  },
  {
   "cell_type": "code",
   "execution_count": null,
   "id": "f0a5af53-1d92-4cee-9828-4c9c865d0071",
   "metadata": {},
   "outputs": [],
   "source": [
    "mse = mean_squared_error(y_pred=yp_1hr_xgb_new, y_true=Y_test_1hour)\n",
    "mae = mean_absolute_error(y_pred=yp_1hr_xgb_new, y_true=Y_test_1hour)\n",
    "rmse = math.sqrt(mean_squared_error(y_pred=yp_1hr_xgb_new, y_true=Y_test_1hour))\n",
    "r2 = r2_score(y_pred=yp_1hr_xgb_new, y_true=Y_test_1hour)\n",
    "print(round(mse,5))\n",
    "print(round(mae,5))\n",
    "print(round(rmse,5))\n",
    "print(round(r2,5))"
   ]
  },
  {
   "cell_type": "markdown",
   "id": "de06d62f-41d2-4a94-8e90-3f1ce6ad2435",
   "metadata": {},
   "source": [
    "### 4 hour (used 16 timesteps to predict next timestep, 1 timestep = 15 minute, 16 timestep = 4 hour)"
   ]
  },
  {
   "cell_type": "code",
   "execution_count": null,
   "id": "a7e4cbac-945e-4a64-9257-49aa5dd9acdc",
   "metadata": {},
   "outputs": [],
   "source": [
    "# x,y split of train-test data for 4 hour(16 timesteps) based on time window technique\n",
    "X_train_4hour, Y_train_4hour = X_Y_split(Train, window_size=16,label_col_no=0)\n",
    "X_test_4hour, Y_test_4hour = X_Y_split(Test, window_size=16,label_col_no=0)"
   ]
  },
  {
   "cell_type": "code",
   "execution_count": null,
   "id": "4f6bad89-b89b-463a-88fb-201128813748",
   "metadata": {},
   "outputs": [],
   "source": [
    "xgb_best_4hour = xgb_best\n",
    "eval_set = [(X_train_4hour, Y_train_4hour),(X_test_4hour,Y_test_4hour)]\n",
    "xgb_best_4hour.fit(X_train_4hour, Y_train_4hour, eval_set=eval_set, eval_metric='rmse')"
   ]
  },
  {
   "cell_type": "code",
   "execution_count": null,
   "id": "12a64a39-d529-4c7c-a669-72213d2d5be6",
   "metadata": {},
   "outputs": [],
   "source": [
    "yp_4hr_xgb = xgb_best_4hour.predict(X_test_4hour)"
   ]
  },
  {
   "cell_type": "code",
   "execution_count": null,
   "id": "6a242e51-48bd-47ad-a30e-0750f1e5014b",
   "metadata": {},
   "outputs": [],
   "source": [
    "mse = mean_squared_error(y_pred=yp_4hr_xgb, y_true=Y_test_4hour)\n",
    "mae = mean_absolute_error(y_pred=yp_4hr_xgb, y_true=Y_test_4hour)\n",
    "rmse = math.sqrt(mean_squared_error(y_pred=yp_4hr_xgb, y_true=Y_test_4hour))\n",
    "r2 = r2_score(y_pred=yp_4hr_xgb, y_true=Y_test_4hour)\n",
    "print(round(mse,5))\n",
    "print(round(mae,5))\n",
    "print(round(rmse,5))\n",
    "print(round(r2,5))"
   ]
  },
  {
   "cell_type": "markdown",
   "id": "3d302423-bea5-46a4-ab61-81bc634bfaa9",
   "metadata": {},
   "source": [
    "## performance on different time window in five regions (group level)"
   ]
  },
  {
   "cell_type": "markdown",
   "id": "86bdbd8b-a4d1-4bae-8448-69fd0da852cc",
   "metadata": {},
   "source": [
    "- dataset was divided by five subsets based on 5 fold k-mean clustering analysis. each subset consists of 10 to 12 parking lots."
   ]
  },
  {
   "cell_type": "markdown",
   "id": "e2d3570b-c2c5-46c4-b5bb-0d7c0b0ebf8a",
   "metadata": {},
   "source": [
    "### select 5 subsets based on 5 centroids from 5-fold k-mean clustering analysis"
   ]
  },
  {
   "cell_type": "code",
   "execution_count": null,
   "id": "34922ae2-6cdb-4dab-b8f6-319f50a6d2e3",
   "metadata": {},
   "outputs": [],
   "source": [
    "central =data[(data['x_coord'] >30500) & (data['x_coord'] < 32500)& (data['y_coord'] >35000) & (data['y_coord'] < 36000)]\n",
    "north_area = data[(data['x_coord'] >25000) & (data['x_coord'] < 26500)& (data['y_coord'] >44000) ]\n",
    "west_area = data[ (data['x_coord'] < 20000)& (data['y_coord'] >37500) & (data['y_coord'] < 38500)]\n",
    "east_area = data[ (data['x_coord'] > 35000)& (data['y_coord'] >38000) & (data['y_coord'] < 39000)]\n",
    "south_area = data[(data['x_coord'] >25000) & (data['x_coord'] < 26000)& (data['y_coord'] >30000) & (data['y_coord'] < 31000)]"
   ]
  },
  {
   "cell_type": "markdown",
   "id": "2eb6275c-29ba-437a-ab10-1091a5f9a1d1",
   "metadata": {},
   "source": [
    "### train-test split"
   ]
  },
  {
   "cell_type": "code",
   "execution_count": null,
   "id": "020df5f4-a526-4dd8-8b88-4719c1cb0667",
   "metadata": {},
   "outputs": [],
   "source": [
    "TRAIN_central, TEST_central = train_test_split(central, test_step_size=673)\n",
    "TRAIN_north, TEST_north = train_test_split(north_area, test_step_size=673)\n",
    "TRAIN_west, TEST_west = train_test_split(west_area, test_step_size=673)\n",
    "TRAIN_east, TEST_east = train_test_split(east_area, test_step_size=673)\n",
    "TRAIN_south, TEST_south = train_test_split(south_area, test_step_size=673)"
   ]
  },
  {
   "cell_type": "markdown",
   "id": "9d1d5042-9f44-4675-aa99-041c7c7ee6a9",
   "metadata": {},
   "source": [
    "### data normalization"
   ]
  },
  {
   "cell_type": "code",
   "execution_count": null,
   "id": "432f5923-48a1-4e92-8e8c-1c40c40dc0cf",
   "metadata": {},
   "outputs": [],
   "source": [
    "train_central, test_central = scaler(TRAIN_central,TEST_central)\n",
    "train_north, test_north = scaler(TRAIN_north,TEST_north)\n",
    "train_west, test_west = scaler(TRAIN_west,TEST_west)\n",
    "train_east, test_east = scaler(TRAIN_east,TEST_east)\n",
    "train_south, test_south = scaler(TRAIN_south,TEST_south)"
   ]
  },
  {
   "cell_type": "markdown",
   "id": "ba955356-5861-4ab4-9cd8-202f897157c9",
   "metadata": {},
   "source": [
    "### 15 minute "
   ]
  },
  {
   "cell_type": "code",
   "execution_count": 22,
   "id": "25956ecf-3f61-44c9-970b-5e087e7c967d",
   "metadata": {},
   "outputs": [
    {
     "ename": "NameError",
     "evalue": "name 'test_central' is not defined",
     "output_type": "error",
     "traceback": [
      "\u001b[0;31m---------------------------------------------------------------------------\u001b[0m",
      "\u001b[0;31mNameError\u001b[0m                                 Traceback (most recent call last)",
      "Input \u001b[0;32mIn [22]\u001b[0m, in \u001b[0;36m<cell line: 2>\u001b[0;34m()\u001b[0m\n\u001b[1;32m      1\u001b[0m \u001b[38;5;66;03m# x,y split based on time window technique\u001b[39;00m\n\u001b[0;32m----> 2\u001b[0m xtest_central,ytest_central \u001b[38;5;241m=\u001b[39m X_Y_split(\u001b[43mtest_central\u001b[49m, window_size\u001b[38;5;241m=\u001b[39m\u001b[38;5;241m1\u001b[39m,label_col_no\u001b[38;5;241m=\u001b[39m\u001b[38;5;241m0\u001b[39m)\n\u001b[1;32m      3\u001b[0m xtest_east,ytest_east \u001b[38;5;241m=\u001b[39m X_Y_split(test_east, window_size\u001b[38;5;241m=\u001b[39m\u001b[38;5;241m1\u001b[39m,label_col_no\u001b[38;5;241m=\u001b[39m\u001b[38;5;241m0\u001b[39m)\n\u001b[1;32m      4\u001b[0m xtest_west,ytest_west \u001b[38;5;241m=\u001b[39m X_Y_split(test_west, window_size\u001b[38;5;241m=\u001b[39m\u001b[38;5;241m1\u001b[39m,label_col_no\u001b[38;5;241m=\u001b[39m\u001b[38;5;241m0\u001b[39m)\n",
      "\u001b[0;31mNameError\u001b[0m: name 'test_central' is not defined"
     ]
    }
   ],
   "source": [
    "# x,y split\n",
    "xtest_central,ytest_central = X_Y_split(test_central, window_size=1,label_col_no=0)\n",
    "xtest_east,ytest_east = X_Y_split(test_east, window_size=1,label_col_no=0)\n",
    "xtest_west,ytest_west = X_Y_split(test_west, window_size=1,label_col_no=0)\n",
    "xtest_south,ytest_south = X_Y_split(test_south, window_size=1,label_col_no=0)\n",
    "xtest_north,ytest_north = X_Y_split(test_north, window_size=1,label_col_no=0)"
   ]
  },
  {
   "cell_type": "code",
   "execution_count": null,
   "id": "50c0be5a-c95f-4e6d-9eb3-4e0c94b3afce",
   "metadata": {},
   "outputs": [],
   "source": [
    "# assign trained model with whole sample to each region's specific model\n",
    "m_central = xgb_best_15min\n",
    "m_east = xgb_best_15min\n",
    "m_west = xgb_best_15min\n",
    "m_south = xgb_best_15min\n",
    "m_north = xgb_best_15min"
   ]
  },
  {
   "cell_type": "code",
   "execution_count": null,
   "id": "f5988c9d-70b2-48d6-b2e8-d05adb5e07e0",
   "metadata": {},
   "outputs": [],
   "source": [
    "yp_central = m_central.predict(xtest_central)\n",
    "yp_east = m_east.predict(xtest_east)\n",
    "yp_west = m_west.predict(xtest_west)\n",
    "yp_south = m_south.predict(xtest_south)\n",
    "yp_north = m_north.predict(xtest_north)"
   ]
  },
  {
   "cell_type": "code",
   "execution_count": null,
   "id": "f19599e7-4172-4e1a-8a87-88332c7f2d93",
   "metadata": {},
   "outputs": [],
   "source": [
    "#central area 15min\n",
    "mse = mean_squared_error(y_pred=yp_central, y_true=ytest_central)\n",
    "mae = mean_absolute_error(y_pred=yp_central, y_true=ytest_central)\n",
    "rmse = math.sqrt(mean_squared_error(y_pred=yp_central, y_true=ytest_central))\n",
    "r2 = r2_score(y_pred=yp_central, y_true=ytest_central)\n",
    "print(round(mse,5))\n",
    "print(round(mae,5))\n",
    "print(round(rmse,5))\n",
    "print(round(r2,5))"
   ]
  },
  {
   "cell_type": "code",
   "execution_count": null,
   "id": "cf530d0a-be42-4d10-8652-f420f2d73a93",
   "metadata": {},
   "outputs": [],
   "source": [
    "#east area 15min\n",
    "mse = mean_squared_error(y_pred=yp_east, y_true=ytest_east)\n",
    "mae = mean_absolute_error(y_pred=yp_east, y_true=ytest_east)\n",
    "rmse = math.sqrt(mean_squared_error(y_pred=yp_east, y_true=ytest_east))\n",
    "r2 = r2_score(y_pred=yp_east, y_true=ytest_east)\n",
    "print(round(mse,5))\n",
    "print(round(mae,5))\n",
    "print(round(rmse,5))\n",
    "print(round(r2,5))"
   ]
  },
  {
   "cell_type": "code",
   "execution_count": null,
   "id": "c50ade94-ec09-43c1-93ab-46cfa00ce04b",
   "metadata": {},
   "outputs": [],
   "source": [
    "#west area 15min\n",
    "mse = mean_squared_error(y_pred=yp_west, y_true=ytest_west)\n",
    "mae = mean_absolute_error(y_pred=yp_west, y_true=ytest_west)\n",
    "rmse = math.sqrt(mean_squared_error(y_pred=yp_west, y_true=ytest_west))\n",
    "r2 = r2_score(y_pred=yp_west, y_true=ytest_west)\n",
    "print(round(mse,5))\n",
    "print(round(mae,5))\n",
    "print(round(rmse,5))\n",
    "print(round(r2,5))"
   ]
  },
  {
   "cell_type": "code",
   "execution_count": null,
   "id": "1b030beb-d047-4a8f-9b55-101056db173a",
   "metadata": {},
   "outputs": [],
   "source": [
    "#south area 15min\n",
    "mse = mean_squared_error(y_pred=yp_south, y_true=ytest_south)\n",
    "mae = mean_absolute_error(y_pred=yp_south, y_true=ytest_south)\n",
    "rmse = math.sqrt(mean_squared_error(y_pred=yp_south, y_true=ytest_south))\n",
    "r2 = r2_score(y_pred=yp_south, y_true=ytest_south)\n",
    "print(round(mse,5))\n",
    "print(round(mae,5))\n",
    "print(round(rmse,5))\n",
    "print(round(r2,5))"
   ]
  },
  {
   "cell_type": "code",
   "execution_count": null,
   "id": "5ca7ba44-e0f0-4775-882b-dbce4a35b43d",
   "metadata": {},
   "outputs": [],
   "source": [
    "#north area 15min\n",
    "mse = mean_squared_error(y_pred=yp_north, y_true=ytest_north)\n",
    "mae = mean_absolute_error(y_pred=yp_north, y_true=ytest_north)\n",
    "rmse = math.sqrt(mean_squared_error(y_pred=yp_north, y_true=ytest_north))\n",
    "r2 = r2_score(y_pred=yp_north, y_true=ytest_north)\n",
    "print(round(mse,5))\n",
    "print(round(mae,5))\n",
    "print(round(rmse,5))\n",
    "print(round(r2,5))"
   ]
  },
  {
   "cell_type": "markdown",
   "id": "9f0476ad-b1f0-4349-9b0d-da57a2b33c8c",
   "metadata": {},
   "source": [
    "### 1 hour"
   ]
  },
  {
   "cell_type": "code",
   "execution_count": null,
   "id": "6d953f78-6aa8-49b0-817b-c1f2d497189a",
   "metadata": {},
   "outputs": [],
   "source": [
    "# x,y split\n",
    "xtest_central,ytest_central = X_Y_split(test_central, window_size=4,label_col_no=0)\n",
    "xtest_east,ytest_east = X_Y_split(test_east, window_size=4,label_col_no=0)\n",
    "xtest_west,ytest_west = X_Y_split(test_west, window_size=4,label_col_no=0)\n",
    "xtest_south,ytest_south = X_Y_split(test_south, window_size=4,label_col_no=0)\n",
    "xtest_north,ytest_north = X_Y_split(test_north, window_size=4,label_col_no=0)"
   ]
  },
  {
   "cell_type": "code",
   "execution_count": null,
   "id": "e83ccfed-9a70-48e3-a071-e2780e845441",
   "metadata": {},
   "outputs": [],
   "source": [
    "# assign trained model with whole sample to each region's specific model\n",
    "m_central=xgb_best_1hr\n",
    "m_east=xgb_best_1hr\n",
    "m_west=xgb_best_1hr\n",
    "m_south=xgb_best_1hr\n",
    "m_north=xgb_best_1hr"
   ]
  },
  {
   "cell_type": "code",
   "execution_count": null,
   "id": "2244ada3-7e5f-4044-acb4-064ef0a3af1d",
   "metadata": {},
   "outputs": [],
   "source": [
    "yp_central = m_central.predict(xtest_central)\n",
    "yp_east = m_east.predict(xtest_east)\n",
    "yp_west = m_west.predict(xtest_west)\n",
    "yp_south = m_south.predict(xtest_south)\n",
    "yp_north = m_north.predict(xtest_north)"
   ]
  },
  {
   "cell_type": "code",
   "execution_count": null,
   "id": "c66d8ca1-4e5c-42de-9f84-40c366202271",
   "metadata": {},
   "outputs": [],
   "source": [
    "# central area 1hr\n",
    "mse = mean_squared_error(y_pred=yp_central, y_true=ytest_central)\n",
    "mae = mean_absolute_error(y_pred=yp_central, y_true=ytest_central)\n",
    "rmse = math.sqrt(mean_squared_error(y_pred=yp_central, y_true=ytest_central))\n",
    "r2 = r2_score(y_pred=yp_central, y_true=ytest_central)\n",
    "print(round(mse,5))\n",
    "print(round(mae,5))\n",
    "print(round(rmse,5))\n",
    "print(round(r2,5))"
   ]
  },
  {
   "cell_type": "code",
   "execution_count": null,
   "id": "1609878e-314e-4858-84e5-00e50a73a242",
   "metadata": {},
   "outputs": [],
   "source": [
    "# east area 1hr\n",
    "mse = mean_squared_error(y_pred=yp_east, y_true=ytest_east)\n",
    "mae = mean_absolute_error(y_pred=yp_east, y_true=ytest_east)\n",
    "rmse = math.sqrt(mean_squared_error(y_pred=yp_east, y_true=ytest_east))\n",
    "r2 = r2_score(y_pred=yp_east, y_true=ytest_east)\n",
    "print(round(mse,5))\n",
    "print(round(mae,5))\n",
    "print(round(rmse,5))\n",
    "print(round(r2,5))"
   ]
  },
  {
   "cell_type": "code",
   "execution_count": null,
   "id": "c56d3c14-4dea-4ae9-a217-0e2e3ea192a5",
   "metadata": {},
   "outputs": [],
   "source": [
    "# west area 1hr\n",
    "mse = mean_squared_error(y_pred=yp_west, y_true=ytest_west)\n",
    "mae = mean_absolute_error(y_pred=yp_west, y_true=ytest_west)\n",
    "rmse = math.sqrt(mean_squared_error(y_pred=yp_west, y_true=ytest_west))\n",
    "r2 = r2_score(y_pred=yp_west, y_true=ytest_west)\n",
    "print(round(mse,5))\n",
    "print(round(mae,5))\n",
    "print(round(rmse,5))\n",
    "print(round(r2,5))"
   ]
  },
  {
   "cell_type": "code",
   "execution_count": null,
   "id": "aa3d5a31-c05b-4e8d-99c6-4e291cc0836a",
   "metadata": {},
   "outputs": [],
   "source": [
    "# south area 1hr\n",
    "mse = mean_squared_error(y_pred=yp_south, y_true=ytest_south)\n",
    "mae = mean_absolute_error(y_pred=yp_south, y_true=ytest_south)\n",
    "rmse = math.sqrt(mean_squared_error(y_pred=yp_south, y_true=ytest_south))\n",
    "r2 = r2_score(y_pred=yp_south, y_true=ytest_south)\n",
    "print(round(mse,5))\n",
    "print(round(mae,5))\n",
    "print(round(rmse,5))\n",
    "print(round(r2,5))"
   ]
  },
  {
   "cell_type": "code",
   "execution_count": null,
   "id": "dba084d9-a3ed-4bff-9da7-9bb4457c53fa",
   "metadata": {},
   "outputs": [],
   "source": [
    "# north area 1hr\n",
    "mse = mean_squared_error(y_pred=yp_north, y_true=ytest_north)\n",
    "mae = mean_absolute_error(y_pred=yp_north, y_true=ytest_north)\n",
    "rmse = math.sqrt(mean_squared_error(y_pred=yp_north, y_true=ytest_north))\n",
    "r2 = r2_score(y_pred=yp_north, y_true=ytest_north)\n",
    "print(round(mse,5))\n",
    "print(round(mae,5))\n",
    "print(round(rmse,5))\n",
    "print(round(r2,5))"
   ]
  },
  {
   "cell_type": "markdown",
   "id": "423533ae-6231-46cc-b628-5aa092f3c8a5",
   "metadata": {},
   "source": [
    "### 4 hour"
   ]
  },
  {
   "cell_type": "code",
   "execution_count": null,
   "id": "ce189660-5f44-4b27-bf36-5df69bd8ce6f",
   "metadata": {},
   "outputs": [],
   "source": [
    "# x,y split\n",
    "xtest_central,ytest_central = X_Y_split(test_central, window_size=16,label_col_no=0)\n",
    "xtest_east,ytest_east = X_Y_split(test_east, window_size=16,label_col_no=0)\n",
    "xtest_west,ytest_west = X_Y_split(test_west, window_size=16,label_col_no=0)\n",
    "xtest_south,ytest_south = X_Y_split(test_south, window_size=16,label_col_no=0)\n",
    "xtest_north,ytest_north = X_Y_split(test_north, window_size=16,label_col_no=0)"
   ]
  },
  {
   "cell_type": "code",
   "execution_count": null,
   "id": "a768d525-b815-4973-8b87-bf01ba728a7a",
   "metadata": {},
   "outputs": [],
   "source": [
    "#4hr\n",
    "m_central=xgb_best_4hr\n",
    "m_east=xgb_best_4hr\n",
    "m_west=xgb_best_4hr\n",
    "m_south=xgb_best_4hr\n",
    "m_north=xgb_best_4hr"
   ]
  },
  {
   "cell_type": "code",
   "execution_count": null,
   "id": "553cf400-7e50-4eb2-82df-3eba50ed0a7d",
   "metadata": {},
   "outputs": [],
   "source": [
    "yp_central = m_central.predict(xtest_central)\n",
    "yp_east = m_east.predict(xtest_east)\n",
    "yp_west = m_west.predict(xtest_west)\n",
    "yp_south = m_south.predict(xtest_south)\n",
    "yp_north = m_north.predict(xtest_north)"
   ]
  },
  {
   "cell_type": "code",
   "execution_count": null,
   "id": "bf993ca1-fe8e-44f1-9681-73ec585f4afe",
   "metadata": {},
   "outputs": [],
   "source": [
    "#central area 4hr\n",
    "mse = mean_squared_error(y_pred=yp_central, y_true=ytest_central)\n",
    "mae = mean_absolute_error(y_pred=yp_central, y_true=ytest_central)\n",
    "rmse = math.sqrt(mean_squared_error(y_pred=yp_central, y_true=ytest_central))\n",
    "r2 = r2_score(y_pred=yp_central, y_true=ytest_central)\n",
    "print(round(mse,5))\n",
    "print(round(mae,5))\n",
    "print(round(rmse,5))\n",
    "print(round(r2,5))"
   ]
  },
  {
   "cell_type": "code",
   "execution_count": null,
   "id": "de1e7dc9-e2a3-4e81-90b6-17e80023eddc",
   "metadata": {},
   "outputs": [],
   "source": [
    "#east area 4hr\n",
    "mse = mean_squared_error(y_pred=yp_east, y_true=ytest_east)\n",
    "mae = mean_absolute_error(y_pred=yp_east, y_true=ytest_east)\n",
    "rmse = math.sqrt(mean_squared_error(y_pred=yp_east, y_true=ytest_east))\n",
    "r2 = r2_score(y_pred=yp_east, y_true=ytest_east)\n",
    "print(round(mse,5))\n",
    "print(round(mae,5))\n",
    "print(round(rmse,5))\n",
    "print(round(r2,5))"
   ]
  },
  {
   "cell_type": "code",
   "execution_count": null,
   "id": "bb511f8c-6951-40f2-8571-4f830cd65824",
   "metadata": {},
   "outputs": [],
   "source": [
    "#west area 4hr\n",
    "mse = mean_squared_error(y_pred=yp_west, y_true=ytest_west)\n",
    "mae = mean_absolute_error(y_pred=yp_west, y_true=ytest_west)\n",
    "rmse = math.sqrt(mean_squared_error(y_pred=yp_west, y_true=ytest_west))\n",
    "r2 = r2_score(y_pred=yp_west, y_true=ytest_west)\n",
    "print(round(mse,5))\n",
    "print(round(mae,5))\n",
    "print(round(rmse,5))\n",
    "print(round(r2,5))"
   ]
  },
  {
   "cell_type": "code",
   "execution_count": null,
   "id": "2d5ee935-f1fe-4ce4-a33f-5355e66d66d4",
   "metadata": {},
   "outputs": [],
   "source": [
    "#south area 4hr\n",
    "mse = mean_squared_error(y_pred=yp_south, y_true=ytest_south)\n",
    "mae = mean_absolute_error(y_pred=yp_south, y_true=ytest_south)\n",
    "rmse = math.sqrt(mean_squared_error(y_pred=yp_south, y_true=ytest_south))\n",
    "r2 = r2_score(y_pred=yp_south, y_true=ytest_south)\n",
    "print(round(mse,5))\n",
    "print(round(mae,5))\n",
    "print(round(rmse,5))\n",
    "print(round(r2,5))"
   ]
  },
  {
   "cell_type": "code",
   "execution_count": null,
   "id": "afb86e54-f8fd-41bf-a458-40fa0e78ea5d",
   "metadata": {},
   "outputs": [],
   "source": [
    "#north area 4hr\n",
    "mse = mean_squared_error(y_pred=yp_north, y_true=ytest_north)\n",
    "mae = mean_absolute_error(y_pred=yp_north, y_true=ytest_north)\n",
    "rmse = math.sqrt(mean_squared_error(y_pred=yp_north, y_true=ytest_north))\n",
    "r2 = r2_score(y_pred=yp_north, y_true=ytest_north)\n",
    "print(round(mse,5))\n",
    "print(round(mae,5))\n",
    "print(round(rmse,5))\n",
    "print(round(r2,5))"
   ]
  },
  {
   "cell_type": "markdown",
   "id": "762b159a-0e4b-493f-a796-08331bcdbe70",
   "metadata": {},
   "source": [
    "## performance on different time window in five regions (individual level)"
   ]
  },
  {
   "cell_type": "code",
   "execution_count": null,
   "id": "e2979836-a1be-4ca9-a5f5-4d63b06815cf",
   "metadata": {},
   "outputs": [],
   "source": [
    "#individual car park\n",
    "#central\n",
    "train_41 =train_central[train_central.carpark_number==0]\n",
    "test_41 =test_central[test_central.carpark_number==0]\n",
    "#north\n",
    "train_547 =train_north[train_north.carpark_number==0]\n",
    "test_547 =test_north[test_north.carpark_number==0]\n",
    "#west\n",
    "train_22 =train_west[train_west.carpark_number==0]\n",
    "test_22 =test_west[test_west.carpark_number==0]\n",
    "#east\n",
    "train_437 =train_east[train_east.carpark_number==0]\n",
    "test_437 =test_east[test_east.carpark_number==0]\n",
    "#south\n",
    "train_514 =train_south[train_south.carpark_number==0]\n",
    "test_514=test_south[test_south.carpark_number==0]"
   ]
  },
  {
   "cell_type": "markdown",
   "id": "1d89c760-d4b6-4bec-820f-dcf943cad951",
   "metadata": {},
   "source": [
    "### 15 minute"
   ]
  },
  {
   "cell_type": "code",
   "execution_count": null,
   "id": "8221ad7a-a3d5-4a38-8b64-d31698ecb511",
   "metadata": {},
   "outputs": [],
   "source": [
    "xtest41,ytest41 = window_generator(test_41, window_size=1,label_col_no=0)\n",
    "xtest547,ytest547 = window_generator(test_547, window_size=1,label_col_no=0)\n",
    "xtest22,ytest22 = window_generator(test_22, window_size=1,label_col_no=0)\n",
    "xtest437,ytest437 = window_generator(test_437, window_size=1,label_col_no=0)\n",
    "xtest514,ytest514 = window_generator(test_514, window_size=1,label_col_no=0)"
   ]
  },
  {
   "cell_type": "code",
   "execution_count": null,
   "id": "9fa38993-e643-4265-9465-e23b4edd142b",
   "metadata": {},
   "outputs": [],
   "source": [
    "# assign models \n",
    "m_central_single=xgb_best_15min\n",
    "m_east_single=xgb_best_15min\n",
    "m_west_single=xgb_best_15min\n",
    "m_south_single=xgb_best_15min\n",
    "m_north_single=xgb_best_15min"
   ]
  },
  {
   "cell_type": "code",
   "execution_count": null,
   "id": "aeef2526-285a-4d45-a992-874652aad738",
   "metadata": {},
   "outputs": [],
   "source": [
    "# prediction\n",
    "yp_central = m_central_single.predict(xtest41)\n",
    "yp_east = m_east_single.predict(xtest437)\n",
    "yp_west = m_west_single.predict(xtest22)\n",
    "yp_south = m_south_single.predict(xtest514)\n",
    "yp_north = m_north_single.predict(xtest547)"
   ]
  },
  {
   "cell_type": "code",
   "execution_count": null,
   "id": "034b48a5-a5d4-4fcb-8323-232bffcb1ae2",
   "metadata": {},
   "outputs": [],
   "source": [
    "#central area 15min\n",
    "mse = mean_squared_error(y_pred=yp_central, y_true=ytest41)\n",
    "mae = mean_absolute_error(y_pred=yp_central, y_true=ytest41)\n",
    "rmse = math.sqrt(mean_squared_error(y_pred=yp_central, y_true=ytest41))\n",
    "r2 = r2_score(y_pred=yp_central, y_true=ytest41)\n",
    "print(round(mse,5))\n",
    "print(round(mae,5))\n",
    "print(round(rmse,5))\n",
    "print(round(r2,5))"
   ]
  },
  {
   "cell_type": "code",
   "execution_count": null,
   "id": "00cceee2-05d6-41cf-9f7c-99123cd0eab0",
   "metadata": {},
   "outputs": [],
   "source": [
    "#east area 15min\n",
    "mse = mean_squared_error(y_pred=yp_east, y_true=ytest437)\n",
    "mae = mean_absolute_error(y_pred=yp_east, y_true=ytest437)\n",
    "rmse = math.sqrt(mean_squared_error(y_pred=yp_east, y_true=ytest437))\n",
    "r2 = r2_score(y_pred=yp_east, y_true=ytest437)\n",
    "print(round(mse,5))\n",
    "print(round(mae,5))\n",
    "print(round(rmse,5))\n",
    "print(round(r2,5))"
   ]
  },
  {
   "cell_type": "code",
   "execution_count": null,
   "id": "d6211dd8-0834-4841-8862-21fa8d428871",
   "metadata": {},
   "outputs": [],
   "source": [
    "#west area 15min\n",
    "mse = mean_squared_error(y_pred=yp_west, y_true=ytest22)\n",
    "mae = mean_absolute_error(y_pred=yp_west, y_true=ytest22)\n",
    "rmse = math.sqrt(mean_squared_error(y_pred=yp_west, y_true=ytest22))\n",
    "r2 = r2_score(y_pred=yp_west, y_true=ytest22)\n",
    "print(round(mse,5))\n",
    "print(round(mae,5))\n",
    "print(round(rmse,5))\n",
    "print(round(r2,5))"
   ]
  },
  {
   "cell_type": "code",
   "execution_count": null,
   "id": "dbf58a25-4514-482a-a9a6-7907d1253fa2",
   "metadata": {},
   "outputs": [],
   "source": [
    "#south area 15min\n",
    "mse = mean_squared_error(y_pred=yp_south, y_true=ytest514)\n",
    "mae = mean_absolute_error(y_pred=yp_south, y_true=ytest514)\n",
    "rmse = math.sqrt(mean_squared_error(y_pred=yp_south, y_true=ytest514))\n",
    "r2 = r2_score(y_pred=yp_south, y_true=ytest514)\n",
    "print(round(mse,5))\n",
    "print(round(mae,5))\n",
    "print(round(rmse,5))\n",
    "print(round(r2,5))"
   ]
  },
  {
   "cell_type": "code",
   "execution_count": null,
   "id": "b406d2f0-03a6-4302-8068-49a02cac0fe0",
   "metadata": {},
   "outputs": [],
   "source": [
    "#north area 15min\n",
    "mse = mean_squared_error(y_pred=yp_north, y_true=ytest547)\n",
    "mae = mean_absolute_error(y_pred=yp_north, y_true=ytest547)\n",
    "rmse = math.sqrt(mean_squared_error(y_pred=yp_north, y_true=ytest547))\n",
    "r2 = r2_score(y_pred=yp_north, y_true=ytest547)\n",
    "print(round(mse,5))\n",
    "print(round(mae,5))\n",
    "print(round(rmse,5))\n",
    "print(round(r2,5))"
   ]
  },
  {
   "cell_type": "markdown",
   "id": "e23e4c01-d2dc-4f5a-a8c0-1d84006455ac",
   "metadata": {},
   "source": [
    "### 1 hour"
   ]
  },
  {
   "cell_type": "code",
   "execution_count": null,
   "id": "13bb4ebd-e87b-48fd-93a9-f46bc31bcf08",
   "metadata": {},
   "outputs": [],
   "source": [
    "xtest41,ytest41 = window_generator(test_41, window_size=4,label_col_no=0)\n",
    "xtest547,ytest547 = window_generator(test_547, window_size=4,label_col_no=0)\n",
    "xtest22,ytest22 = window_generator(test_22, window_size=4,label_col_no=0)\n",
    "xtest437,ytest437 = window_generator(test_437, window_size=4,label_col_no=0)\n",
    "xtest514,ytest514 = window_generator(test_514, window_size=4,label_col_no=0)"
   ]
  },
  {
   "cell_type": "code",
   "execution_count": null,
   "id": "5e9e5583-51c4-42e4-bf60-52fd42d7b712",
   "metadata": {},
   "outputs": [],
   "source": [
    "#1hr\n",
    "m_central_single=xgb_best_1hr\n",
    "m_east_single=xgb_best_1hr\n",
    "m_west_single=xgb_best_1hr\n",
    "m_south_single=xgb_best_1hr\n",
    "m_north_single=xgb_best_1hr"
   ]
  },
  {
   "cell_type": "code",
   "execution_count": null,
   "id": "04a15bd2-8ef7-4398-a3aa-cbd561ca45f9",
   "metadata": {},
   "outputs": [],
   "source": [
    "yp_central = m_central_single.predict(xtest41)\n",
    "yp_east = m_east_single.predict(xtest437)\n",
    "yp_west = m_west_single.predict(xtest22)\n",
    "yp_south = m_south_single.predict(xtest514)\n",
    "yp_north = m_north_single.predict(xtest547)"
   ]
  },
  {
   "cell_type": "code",
   "execution_count": null,
   "id": "317054fb-4445-48af-9ab1-e20d046815a2",
   "metadata": {},
   "outputs": [],
   "source": [
    "#central area 1hr\n",
    "mse = mean_squared_error(y_pred=yp_central, y_true=ytest41)\n",
    "mae = mean_absolute_error(y_pred=yp_central, y_true=ytest41)\n",
    "rmse = math.sqrt(mean_squared_error(y_pred=yp_central, y_true=ytest41))\n",
    "r2 = r2_score(y_pred=yp_central, y_true=ytest41)\n",
    "print(round(mse,5))\n",
    "print(round(mae,5))\n",
    "print(round(rmse,5))\n",
    "print(round(r2,5))"
   ]
  },
  {
   "cell_type": "code",
   "execution_count": null,
   "id": "e544942d-b170-445f-9016-3a896324821f",
   "metadata": {},
   "outputs": [],
   "source": [
    "#east area 1hr\n",
    "mse = mean_squared_error(y_pred=yp_east, y_true=ytest437)\n",
    "mae = mean_absolute_error(y_pred=yp_east, y_true=ytest437)\n",
    "rmse = math.sqrt(mean_squared_error(y_pred=yp_east, y_true=ytest437))\n",
    "r2 = r2_score(y_pred=yp_east, y_true=ytest437)\n",
    "print(round(mse,5))\n",
    "print(round(mae,5))\n",
    "print(round(rmse,5))\n",
    "print(round(r2,5))"
   ]
  },
  {
   "cell_type": "code",
   "execution_count": null,
   "id": "d411320f-5176-48d2-a4aa-bf358f7d6268",
   "metadata": {},
   "outputs": [],
   "source": [
    "#west area 1hr\n",
    "mse = mean_squared_error(y_pred=yp_west, y_true=ytest22)\n",
    "mae = mean_absolute_error(y_pred=yp_west, y_true=ytest22)\n",
    "rmse = math.sqrt(mean_squared_error(y_pred=yp_west, y_true=ytest22))\n",
    "r2 = r2_score(y_pred=yp_west, y_true=ytest22)\n",
    "print(round(mse,5))\n",
    "print(round(mae,5))\n",
    "print(round(rmse,5))\n",
    "print(round(r2,5))"
   ]
  },
  {
   "cell_type": "code",
   "execution_count": null,
   "id": "02a99653-e45a-41b2-9e6a-809db9d07a31",
   "metadata": {},
   "outputs": [],
   "source": [
    "#south area 1hr\n",
    "mse = mean_squared_error(y_pred=yp_south, y_true=ytest514)\n",
    "mae = mean_absolute_error(y_pred=yp_south, y_true=ytest514)\n",
    "rmse = math.sqrt(mean_squared_error(y_pred=yp_south, y_true=ytest514))\n",
    "r2 = r2_score(y_pred=yp_south, y_true=ytest514)\n",
    "print(round(mse,5))\n",
    "print(round(mae,5))\n",
    "print(round(rmse,5))\n",
    "print(round(r2,5))"
   ]
  },
  {
   "cell_type": "code",
   "execution_count": null,
   "id": "829b19ee-9098-42f3-b8c7-1d6631e63cba",
   "metadata": {},
   "outputs": [],
   "source": [
    "#north area 1hr\n",
    "mse = mean_squared_error(y_pred=yp_north, y_true=ytest547)\n",
    "mae = mean_absolute_error(y_pred=yp_north, y_true=ytest547)\n",
    "rmse = math.sqrt(mean_squared_error(y_pred=yp_north, y_true=ytest547))\n",
    "r2 = r2_score(y_pred=yp_north, y_true=ytest547)\n",
    "print(round(mse,5))\n",
    "print(round(mae,5))\n",
    "print(round(rmse,5))\n",
    "print(round(r2,5))"
   ]
  },
  {
   "cell_type": "markdown",
   "id": "dda7726e-3c92-4ac0-b14d-7254f5e6a84a",
   "metadata": {},
   "source": [
    "### 4 hour"
   ]
  },
  {
   "cell_type": "code",
   "execution_count": null,
   "id": "67fe2e31-0575-47ca-b398-2d9133f9286c",
   "metadata": {},
   "outputs": [],
   "source": [
    "xtest41,ytest41 = window_generator(test_41, window_size=16,label_col_no=0)\n",
    "xtest547,ytest547 = window_generator(test_547, window_size=16,label_col_no=0)\n",
    "xtest22,ytest22 = window_generator(test_22, window_size=16,label_col_no=0)\n",
    "xtest437,ytest437 = window_generator(test_437, window_size=16,label_col_no=0)\n",
    "xtest514,ytest514 = window_generator(test_514, window_size=16,label_col_no=0)"
   ]
  },
  {
   "cell_type": "code",
   "execution_count": null,
   "id": "860ce5f3-3384-4e37-862d-74948c54263e",
   "metadata": {},
   "outputs": [],
   "source": [
    "#4hr\n",
    "m_central_single=xgb_best_4hr\n",
    "m_east_single=xgb_best_4hr\n",
    "m_west_single=xgb_best_4hr\n",
    "m_south_single=xgb_best_4hr\n",
    "m_north_single=xgb_best_4hr"
   ]
  },
  {
   "cell_type": "code",
   "execution_count": null,
   "id": "0b764738-0794-4eca-ac99-b8a33956eb29",
   "metadata": {},
   "outputs": [],
   "source": [
    "yp_central = m_central_single.predict(xtest41)\n",
    "yp_east = m_east_single.predict(xtest437)\n",
    "yp_west = m_west_single.predict(xtest22)\n",
    "yp_south = m_south_single.predict(xtest514)\n",
    "yp_north = m_north_single.predict(xtest547)"
   ]
  },
  {
   "cell_type": "code",
   "execution_count": null,
   "id": "198f2a34-8e63-4f6c-9d40-d949ee660765",
   "metadata": {},
   "outputs": [],
   "source": [
    "#central area 4hr\n",
    "mse = mean_squared_error(y_pred=yp_central, y_true=ytest41)\n",
    "mae = mean_absolute_error(y_pred=yp_central, y_true=ytest41)\n",
    "rmse = math.sqrt(mean_squared_error(y_pred=yp_central, y_true=ytest41))\n",
    "r2 = r2_score(y_pred=yp_central, y_true=ytest41)\n",
    "print(round(mse,5))\n",
    "print(round(mae,5))\n",
    "print(round(rmse,5))\n",
    "print(round(r2,5))"
   ]
  },
  {
   "cell_type": "code",
   "execution_count": null,
   "id": "1b02822c-9873-4b1d-8887-a1b35b27ecca",
   "metadata": {},
   "outputs": [],
   "source": [
    "#east area 4hr\n",
    "mse = mean_squared_error(y_pred=yp_east, y_true=ytest437)\n",
    "mae = mean_absolute_error(y_pred=yp_east, y_true=ytest437)\n",
    "rmse = math.sqrt(mean_squared_error(y_pred=yp_east, y_true=ytest437))\n",
    "r2 = r2_score(y_pred=yp_east, y_true=ytest437)\n",
    "print(round(mse,5))\n",
    "print(round(mae,5))\n",
    "print(round(rmse,5))\n",
    "print(round(r2,5))"
   ]
  },
  {
   "cell_type": "code",
   "execution_count": null,
   "id": "03f088a1-9037-4482-8695-f54909ff9580",
   "metadata": {},
   "outputs": [],
   "source": [
    "#west area 4hr\n",
    "mse = mean_squared_error(y_pred=yp_west, y_true=ytest22)\n",
    "mae = mean_absolute_error(y_pred=yp_west, y_true=ytest22)\n",
    "rmse = math.sqrt(mean_squared_error(y_pred=yp_west, y_true=ytest22))\n",
    "r2 = r2_score(y_pred=yp_west, y_true=ytest22)\n",
    "print(round(mse,5))\n",
    "print(round(mae,5))\n",
    "print(round(rmse,5))\n",
    "print(round(r2,5))"
   ]
  },
  {
   "cell_type": "code",
   "execution_count": null,
   "id": "dcc2dd75-1c01-45ab-9791-de7a320d640e",
   "metadata": {},
   "outputs": [],
   "source": [
    "#south area 4hr\n",
    "mse = mean_squared_error(y_pred=yp_south, y_true=ytest514)\n",
    "mae = mean_absolute_error(y_pred=yp_south, y_true=ytest514)\n",
    "rmse = math.sqrt(mean_squared_error(y_pred=yp_south, y_true=ytest514))\n",
    "r2 = r2_score(y_pred=yp_south, y_true=ytest514)\n",
    "print(round(mse,5))\n",
    "print(round(mae,5))\n",
    "print(round(rmse,5))\n",
    "print(round(r2,5))"
   ]
  },
  {
   "cell_type": "code",
   "execution_count": null,
   "id": "1ed7ea34-81d8-446e-9f4f-672db22700d4",
   "metadata": {},
   "outputs": [],
   "source": [
    "#north area 4hr\n",
    "mse = mean_squared_error(y_pred=yp_north, y_true=ytest547)\n",
    "mae = mean_absolute_error(y_pred=yp_north, y_true=ytest547)\n",
    "rmse = math.sqrt(mean_squared_error(y_pred=yp_north, y_true=ytest547))\n",
    "r2 = r2_score(y_pred=yp_north, y_true=ytest547)\n",
    "print(round(mse,5))\n",
    "print(round(mae,5))\n",
    "print(round(rmse,5))\n",
    "print(round(r2,5))"
   ]
  },
  {
   "cell_type": "markdown",
   "id": "d7e3dd93-83b1-461f-89dc-64f109143e2f",
   "metadata": {},
   "source": [
    "## performance on different time horizon using model with best time window size (4 hour = 16 timestep)"
   ]
  },
  {
   "cell_type": "markdown",
   "id": "4945c021-1b0b-4bff-a646-a87ba7ee2011",
   "metadata": {},
   "source": [
    "### entire dataset"
   ]
  },
  {
   "cell_type": "code",
   "execution_count": null,
   "id": "84ba9467-32dc-4a8f-9796-21413bce7d9e",
   "metadata": {},
   "outputs": [],
   "source": [
    "XGB_4hr_whole = xgb_best_4hr"
   ]
  },
  {
   "cell_type": "code",
   "execution_count": null,
   "id": "857428f1-20b9-498a-833f-4b782a48ef8d",
   "metadata": {},
   "outputs": [],
   "source": [
    "x,y = last_x_y_generator(Train, window_size=16,label_col_no=0)"
   ]
  },
  {
   "cell_type": "code",
   "execution_count": null,
   "id": "90469d2e-92aa-4a52-90e2-c0b08940c6ed",
   "metadata": {},
   "outputs": [],
   "source": [
    "current_batch = insert_end(x,y,16)"
   ]
  },
  {
   "cell_type": "code",
   "execution_count": null,
   "id": "79f5cd24-fc79-4e54-87b8-c8fe1a826343",
   "metadata": {},
   "outputs": [],
   "source": [
    "# generate y_true which has 40 timestep horizon using entire dataset\n",
    "future_len = 40\n",
    "Test_new = Test[['lots_available', 'carpark_number','day_of_week','hour_of_day']]\n",
    "Test_new = Test_new.sort_values(by=['carpark_number', 'datetime'])\n",
    "l=[]\n",
    "L=pd.DataFrame()\n",
    "for i in sorted(Test_new.carpark_number.value_counts().keys()):\n",
    "  inner = Test_new[Test_new.carpark_number == i]\n",
    "  inner = inner.reset_index()\n",
    "  inner = inner.iloc[0:future_len,:]\n",
    "  l.append(inner)\n",
    "L = L.append(l)\n",
    "L['value'] = L.index.values\n",
    "L = L.sort_index()\n",
    "L = L.sort_values(by=['value','carpark_number'])"
   ]
  },
  {
   "cell_type": "code",
   "execution_count": null,
   "id": "76a01b71-f6bb-4bdd-944b-dca3da14a894",
   "metadata": {},
   "outputs": [],
   "source": [
    "# generate y_predict which has 40 timestep horizon using entire dataset\n",
    "future = 40\n",
    "Xin = current_batch\n",
    "forcast = []\n",
    "for i in range(0,future):\n",
    "  out = XGB_4hr_whole.predict(Xin)    \n",
    "  forcast.append(out)\n",
    "  Xin = insert_end_multi(Xin,out, timestep=16)\n",
    "  Xin[:,41:42] =  L[['day_of_week']][i*855:(i*855)+855]\n",
    "  Xin[:,57:] = L[['hour_of_day']][i*855:(i*855)+855]"
   ]
  },
  {
   "cell_type": "code",
   "execution_count": null,
   "id": "62c44670-b0f3-4027-b1bb-792fb61fefcc",
   "metadata": {},
   "outputs": [],
   "source": [
    "# y_true \n",
    "Y_t = L['lots_available']\n",
    "\n",
    "# transform to shape of forecast\n",
    "l=[]\n",
    "for i in range(40):\n",
    "  l.append(Y_t[i*855:(i*855)+855])"
   ]
  },
  {
   "cell_type": "code",
   "execution_count": null,
   "id": "137c3751-a9fa-46bd-b802-73939b2db634",
   "metadata": {},
   "outputs": [],
   "source": [
    "# calculate rmse for 40 timestep horizon.\n",
    "rmse40step=[]\n",
    "for i in range(40):\n",
    "  rmse40step.append(math.sqrt(mean_squared_error(y_pred=forcast[i], y_true=l[i])))"
   ]
  },
  {
   "cell_type": "code",
   "execution_count": null,
   "id": "414a38b1-2155-4e4d-89da-8baf15eb139b",
   "metadata": {},
   "outputs": [],
   "source": [
    "rmse40step = pd.DataFrame(rmse40step)\n",
    "rmse40step.to_csv('rmse40step_xgb_whole.csv')"
   ]
  },
  {
   "cell_type": "markdown",
   "id": "b91d27d2-db8b-4f0c-8e27-00351a2d05de",
   "metadata": {},
   "source": [
    "### group level (five regions, 10 to 12 parking lots per region)"
   ]
  },
  {
   "cell_type": "code",
   "execution_count": null,
   "id": "72941a63-0f35-459e-b27f-2d5de0f33056",
   "metadata": {},
   "outputs": [],
   "source": [
    "XGB_4hr_central = xgb_best_4hr\n",
    "XGB_4hr_north = xgb_best_4hr\n",
    "XGB_4hr_west = xgb_best_4hr\n",
    "XGB_4hr_east = xgb_best_4hr\n",
    "XGB_4hr_south = xgb_best_4hr"
   ]
  },
  {
   "cell_type": "code",
   "execution_count": null,
   "id": "0844b651-7efc-4335-a46f-269dbd2bf12c",
   "metadata": {},
   "outputs": [],
   "source": [
    "x_central,y_central = last_x_y_generator(train_central, window_size=16,label_col_no=0)\n",
    "x_north,y_north = last_x_y_generator(train_north, window_size=16,label_col_no=0)\n",
    "x_west,y_west = last_x_y_generator(train_west, window_size=16,label_col_no=0)\n",
    "x_east,y_east = last_x_y_generator(train_east, window_size=16,label_col_no=0)\n",
    "x_south,y_south = last_x_y_generator(train_south, window_size=16,label_col_no=0)"
   ]
  },
  {
   "cell_type": "code",
   "execution_count": null,
   "id": "2a995a4a-7ae5-4d30-b4ba-67fc4e4a8dd8",
   "metadata": {},
   "outputs": [],
   "source": [
    "current_batch_central = insert_end(x_central,y_central,16)\n",
    "current_batch_north = insert_end(x_north,y_north,16)\n",
    "current_batch_west = insert_end(x_west,y_west,16)\n",
    "current_batch_east = insert_end(x_east,y_east,16)\n",
    "current_batch_south = insert_end(x_south,y_south,16)"
   ]
  },
  {
   "cell_type": "code",
   "execution_count": null,
   "id": "477157a6-abae-4f4e-b037-452637bfb644",
   "metadata": {},
   "outputs": [],
   "source": [
    "future_len = 40\n",
    "Test_new = test_south[['lots_available', 'carpark_number','day_of_week','hour_of_day']]\n",
    "Test_new = Test_new.sort_values(by=['carpark_number', 'datetime'])\n",
    "l=[]\n",
    "L=pd.DataFrame()\n",
    "for i in sorted(Test_new.carpark_number.value_counts().keys()):\n",
    "  inner = Test_new[Test_new.carpark_number == i]\n",
    "  inner = inner.reset_index()\n",
    "  inner = inner.iloc[0:future_len,:]\n",
    "  l.append(inner)\n",
    "L = L.append(l)\n",
    "L['value'] = L.index.values\n",
    "L = L.sort_index()\n",
    "L = L.sort_values(by=['value','carpark_number'])"
   ]
  },
  {
   "cell_type": "code",
   "execution_count": null,
   "id": "661e1ebe-ec95-4493-8195-eb487569b890",
   "metadata": {},
   "outputs": [],
   "source": [
    "#central\n",
    "future = 40\n",
    "Xin = current_batch_central\n",
    "forcast = []\n",
    "for i in range(0,future):\n",
    "  out = XGB_4hr_central.predict(Xin)    \n",
    "  forcast.append(out)\n",
    "  Xin = insert_end_multi(Xin,out, timestep=16)\n",
    "  Xin[:,41:42] =  L[['day_of_week']][i*11:(i*11)+11]\n",
    "  Xin[:,57:] = L[['hour_of_day']][i*11:(i*11)+11]"
   ]
  },
  {
   "cell_type": "code",
   "execution_count": null,
   "id": "b8666c37-a577-4482-9bbb-42f94d4f538e",
   "metadata": {},
   "outputs": [],
   "source": [
    "#north\n",
    "future = 40\n",
    "Xin = current_batch_north\n",
    "forcast = []\n",
    "for i in range(0,future):\n",
    "  out = XGB_4hr_north.predict(Xin)    \n",
    "  forcast.append(out)\n",
    "  Xin = insert_end_multi(Xin,out, timestep=16)\n",
    "  Xin[:,41:42] =  L[['day_of_week']][i*11:(i*11)+11]\n",
    "  Xin[:,57:] = L[['hour_of_day']][i*11:(i*11)+11]"
   ]
  },
  {
   "cell_type": "code",
   "execution_count": null,
   "id": "b6cde3d7-beb9-43a6-b228-09dd08fef98f",
   "metadata": {},
   "outputs": [],
   "source": [
    "#west\n",
    "future = 40\n",
    "Xin = current_batch_west\n",
    "forcast = []\n",
    "for i in range(0,future):\n",
    "  out = XGB_4hr_west.predict(Xin)    \n",
    "  forcast.append(out)\n",
    "  Xin = insert_end_multi(Xin,out, timestep=16)\n",
    "  Xin[:,41:42] =  L[['day_of_week']][i*12:(i*12)+12]\n",
    "  Xin[:,57:] = L[['hour_of_day']][i*12:(i*12)+12]"
   ]
  },
  {
   "cell_type": "code",
   "execution_count": null,
   "id": "ae1a816e-88c5-44b8-a3fd-bdbf4cfa59b8",
   "metadata": {},
   "outputs": [],
   "source": [
    "#east\n",
    "future = 40\n",
    "Xin = current_batch_east\n",
    "forcast = []\n",
    "for i in range(0,future):\n",
    "  out = XGB_4hr_east.predict(Xin)    \n",
    "  forcast.append(out)\n",
    "  Xin = insert_end_multi(Xin,out, timestep=16)\n",
    "  Xin[:,41:42] =  L[['day_of_week']][i*11:(i*11)+11]\n",
    "  Xin[:,57:] = L[['hour_of_day']][i*11:(i*11)+11]"
   ]
  },
  {
   "cell_type": "code",
   "execution_count": null,
   "id": "0a2ebcb3-b29f-4c9b-986e-fca9cb2a5a39",
   "metadata": {},
   "outputs": [],
   "source": [
    "#south\n",
    "future = 40\n",
    "Xin = current_batch_south\n",
    "forcast = []\n",
    "for i in range(0,future):\n",
    "  out = XGB_4hr_south.predict(Xin)    \n",
    "  forcast.append(out)\n",
    "  Xin = insert_end_multi(Xin,out, timestep=16)\n",
    "  Xin[:,41:42] =  L[['day_of_week']][i*10:(i*10)+10]\n",
    "  Xin[:,57:] = L[['hour_of_day']][i*10:(i*10)+10]"
   ]
  },
  {
   "cell_type": "code",
   "execution_count": null,
   "id": "ae39787d-8f58-42e4-a2f0-bea975c140e6",
   "metadata": {},
   "outputs": [],
   "source": [
    "Y_t = L['lots_available']\n",
    "l=[]\n",
    "for i in range(40):\n",
    "  l.append(Y_t[i*10:(i*10)+10])"
   ]
  },
  {
   "cell_type": "code",
   "execution_count": null,
   "id": "ae08370b-53ae-462a-adbe-edf155e9e4f9",
   "metadata": {},
   "outputs": [],
   "source": [
    "rmse40step=[]\n",
    "for i in range(40):\n",
    "  rmse40step.append(math.sqrt(mean_squared_error(y_pred=forcast[i], y_true=l[i])))"
   ]
  },
  {
   "cell_type": "code",
   "execution_count": null,
   "id": "78afd3dd-6c77-4907-be2a-db330dbf9baa",
   "metadata": {},
   "outputs": [],
   "source": [
    "rmse40step = pd.DataFrame(rmse40step)\n",
    "rmse40step.to_csv('rmse40step_south_xgb.csv')"
   ]
  },
  {
   "cell_type": "markdown",
   "id": "19bc86a3-7429-4c6f-849c-693ed57f56b9",
   "metadata": {},
   "source": [
    "### individual level (five regions, 1 parking lot per region)"
   ]
  },
  {
   "cell_type": "code",
   "execution_count": null,
   "id": "73920f19-0192-4d18-ab0a-ec22bce37cbc",
   "metadata": {},
   "outputs": [],
   "source": [
    "XGB_4hr_41 = xgb_best_4hr\n",
    "XGB_4hr_547 = xgb_best_4hr\n",
    "XGB_4hr_22 = xgb_best_4hr\n",
    "XGB_4hr_437 = xgb_best_4hr\n",
    "XGB_4hr_514 = xgb_best_4hr"
   ]
  },
  {
   "cell_type": "code",
   "execution_count": null,
   "id": "f7f5ed0d-8c65-4f07-8b08-f05d344b54d9",
   "metadata": {},
   "outputs": [],
   "source": [
    "xtrain41,ytrain41 = window_generator(train_41, window_size=16,label_col_no=0)\n",
    "xtrain547,ytrain547 = window_generator(train_547, window_size=16,label_col_no=0)\n",
    "xtrain22,ytrain22 = window_generator(train_22, window_size=16,label_col_no=0)\n",
    "xtrain437,ytrain437 = window_generator(train_437, window_size=16,label_col_no=0)\n",
    "xtrain514,ytrain514 = window_generator(train_514, window_size=16,label_col_no=0)"
   ]
  },
  {
   "cell_type": "code",
   "execution_count": null,
   "id": "37d045d3-44ba-4836-b3af-ea50ca5b7af5",
   "metadata": {},
   "outputs": [],
   "source": [
    "last_x41 = xtrain41[-1:,:]\n",
    "last_y41 = ytrain41[-1:]\n",
    "\n",
    "last_x547 = xtrain547[-1:,:]\n",
    "last_y547 = ytrain547[-1:]\n",
    "\n",
    "last_x22 = xtrain22[-1:,:]\n",
    "last_y22 = ytrain22[-1:]\n",
    "\n",
    "last_x437 = xtrain437[-1:,:]\n",
    "last_y437 = ytrain437[-1:]\n",
    "\n",
    "last_x514 = xtrain514[-1:,:]\n",
    "last_y514 = ytrain514[-1:]"
   ]
  },
  {
   "cell_type": "code",
   "execution_count": null,
   "id": "2e416ce1-4cf2-4fa5-99b3-1281cbfaa130",
   "metadata": {},
   "outputs": [],
   "source": [
    "current_batch_41 = insert_end(last_x41,last_y41,16)\n",
    "current_batch_547 = insert_end(last_x547,last_y547,16)\n",
    "current_batch_22 = insert_end(last_x22,last_y22,16)\n",
    "current_batch_437 = insert_end(last_x437,last_y437,16)\n",
    "current_batch_514 = insert_end(last_x514,last_y514,16)"
   ]
  },
  {
   "cell_type": "code",
   "execution_count": null,
   "id": "d761d3f4-b3a9-4d10-bf24-67d044bc5a7a",
   "metadata": {},
   "outputs": [],
   "source": [
    "future_len = 40\n",
    "Test_new = test_514[['lots_available', 'carpark_number','day_of_week','hour_of_day']]\n",
    "Test_new = Test_new.sort_values(by=['carpark_number', 'datetime'])\n",
    "l=[]\n",
    "L=pd.DataFrame()\n",
    "for i in sorted(Test_new.carpark_number.value_counts().keys()):\n",
    "  inner = Test_new[Test_new.carpark_number == i]\n",
    "  inner = inner.reset_index()\n",
    "  inner = inner.iloc[0:future_len,:]\n",
    "  l.append(inner)\n",
    "L = L.append(l)\n",
    "L['value'] = L.index.values\n",
    "L = L.sort_index()\n",
    "L = L.sort_values(by=['value','carpark_number'])"
   ]
  },
  {
   "cell_type": "code",
   "execution_count": null,
   "id": "ea24a57c-8dd6-4337-acd6-32220e3f24e9",
   "metadata": {},
   "outputs": [],
   "source": [
    "#central\n",
    "future = 40\n",
    "Xin = current_batch_41\n",
    "forcast = []\n",
    "for i in range(0,future):\n",
    "  out = XGB_4hr_41.predict(Xin)    \n",
    "  forcast.append(out)\n",
    "  Xin = insert_end_multi(Xin,out, timestep=16)\n",
    "  Xin[:,41:42] =  L[['day_of_week']][i*1:(i*1)+1]\n",
    "  Xin[:,57:] = L[['hour_of_day']][i*1:(i*1)+1]"
   ]
  },
  {
   "cell_type": "code",
   "execution_count": null,
   "id": "5ec736eb-cb04-41d6-b612-709b290eaa3e",
   "metadata": {},
   "outputs": [],
   "source": [
    "#north\n",
    "future = 40\n",
    "Xin = current_batch_547\n",
    "forcast = []\n",
    "for i in range(0,future):\n",
    "  out = XGB_4hr_547.predict(Xin)    \n",
    "  forcast.append(out)\n",
    "  Xin = insert_end_multi(Xin,out, timestep=16)\n",
    "  Xin[:,41:42] =  L[['day_of_week']][i*1:(i*1)+1]\n",
    "  Xin[:,57:] = L[['hour_of_day']][i*1:(i*1)+1]"
   ]
  },
  {
   "cell_type": "code",
   "execution_count": null,
   "id": "5f53e7d8-e5fe-4078-82d5-115b014b2150",
   "metadata": {},
   "outputs": [],
   "source": [
    "#west\n",
    "future = 40\n",
    "Xin = current_batch_22\n",
    "forcast = []\n",
    "for i in range(0,future):\n",
    "  out = XGB_4hr_22.predict(Xin)    \n",
    "  forcast.append(out)\n",
    "  Xin = insert_end_multi(Xin,out, timestep=16)\n",
    "  Xin[:,41:42] =  L[['day_of_week']][i*1:(i*1)+1]\n",
    "  Xin[:,57:] = L[['hour_of_day']][i*1:(i*1)+1]"
   ]
  },
  {
   "cell_type": "code",
   "execution_count": null,
   "id": "56561476-edcf-4ba9-804b-bfbf2a35efdb",
   "metadata": {},
   "outputs": [],
   "source": [
    "#east\n",
    "future = 40\n",
    "Xin = current_batch_437\n",
    "forcast = []\n",
    "for i in range(0,future):\n",
    "  out = XGB_4hr_437.predict(Xin)    \n",
    "  forcast.append(out)\n",
    "  Xin = insert_end_multi(Xin,out, timestep=16)\n",
    "  Xin[:,41:42] =  L[['day_of_week']][i*1:(i*1)+1]\n",
    "  Xin[:,57:] = L[['hour_of_day']][i*1:(i*1)+1]"
   ]
  },
  {
   "cell_type": "code",
   "execution_count": null,
   "id": "ef36b954-3193-44ee-b4a7-7286dde2e017",
   "metadata": {},
   "outputs": [],
   "source": [
    "#south\n",
    "future = 40\n",
    "Xin = current_batch_514\n",
    "forcast = []\n",
    "for i in range(0,future):\n",
    "  out = XGB_4hr_514.predict(Xin)    \n",
    "  forcast.append(out)\n",
    "  Xin = insert_end_multi(Xin,out, timestep=16)\n",
    "  Xin[:,41:42] =  L[['day_of_week']][i*1:(i*1)+1]\n",
    "  Xin[:,57:] = L[['hour_of_day']][i*1:(i*1)+1]"
   ]
  },
  {
   "cell_type": "code",
   "execution_count": null,
   "id": "80c8c873-d651-4b3f-af33-d5bd0fa1c6b3",
   "metadata": {},
   "outputs": [],
   "source": [
    "Y_t = L['lots_available']\n",
    "l=[]\n",
    "for i in range(40):\n",
    "  l.append(Y_t[i*1:(i*1)+1])"
   ]
  },
  {
   "cell_type": "code",
   "execution_count": null,
   "id": "b09be429-f4dd-4ddd-b946-3ae9f27f7f20",
   "metadata": {},
   "outputs": [],
   "source": [
    "rmse40step=[]\n",
    "for i in range(40):\n",
    "  rmse40step.append(math.sqrt(mean_squared_error(y_pred=forcast[i], y_true=l[i])))"
   ]
  },
  {
   "cell_type": "code",
   "execution_count": null,
   "id": "9d956ddd-fab3-4e23-a488-dc3d45ba4265",
   "metadata": {},
   "outputs": [],
   "source": [
    "rmse40step = pd.DataFrame(rmse40step)\n",
    "rmse40step.to_csv('rmse40step_single_south_xgb.csv')"
   ]
  },
  {
   "cell_type": "markdown",
   "id": "9d6cad63-8b02-4d3a-b27e-b02229be999e",
   "metadata": {},
   "source": [
    "## robustness check (train-test error)"
   ]
  },
  {
   "cell_type": "markdown",
   "id": "48399993-4eb0-4673-a9eb-accaba5f09c9",
   "metadata": {},
   "source": [
    "- based on performance on different time window and different sample size, study determined best time window size is 16 timesteps (4 hour).\n",
    "- to check the model fit, study tested performance of model on train and test set"
   ]
  },
  {
   "cell_type": "code",
   "execution_count": null,
   "id": "eac42090-87b3-4f96-90e1-c722188a94e9",
   "metadata": {},
   "outputs": [],
   "source": [
    "# retrieve performance metrics\n",
    "results = xgb_best_4hour.evals_result()\n",
    "epochs = len(results['validation_0']['rmse'])\n",
    "x_axis = range(0, epochs)\n",
    "\n",
    "# plot error\n",
    "fig, ax = plt.subplots()\n",
    "ax.plot(x_axis, results['validation_0']['rmse'], label='Train')\n",
    "ax.plot(x_axis, results['validation_1']['rmse'], label='Test', linestyle='dashdot')\n",
    "ax.legend()\n",
    "plt.xlabel('Epochs')\n",
    "plt.ylabel('Score')\n",
    "plt.title('RMSE Loss')\n",
    "plt.show()"
   ]
  },
  {
   "cell_type": "code",
   "execution_count": null,
   "id": "92b0d76d-d646-484e-9153-c27175cb3d2b",
   "metadata": {},
   "outputs": [],
   "source": [
    "xgb_best_4hour_train = xgb_best_4hour\n",
    "xgb_best_4hour_test = xgb_best_4hour"
   ]
  },
  {
   "cell_type": "code",
   "execution_count": null,
   "id": "4488b368-ec65-4d54-87ad-6ccc451f9e4e",
   "metadata": {},
   "outputs": [],
   "source": [
    "yp_4hour_xgb_train = xgb_best_4hour_train.predict(X_train_4hour)\n",
    "yp_4hour_xgb_test = xgb_best_4hour_test.predict(X_test_4hour)"
   ]
  },
  {
   "cell_type": "code",
   "execution_count": null,
   "id": "4d809423-1320-4366-8752-f356dfd4ed4c",
   "metadata": {},
   "outputs": [],
   "source": [
    "#train error\n",
    "mse_train = mean_squared_error(y_pred=yp_4hour_xgb_train, y_true=Y_train_4hour)\n",
    "mae_train = mean_absolute_error(y_pred=yp_4hour_xgb_train, y_true=Y_train_4hour)\n",
    "rmse_train = math.sqrt(mean_squared_error(y_pred=yp_4hour_xgb_train, y_true=Y_train_4hour))\n",
    "r2_train = r2_score(y_pred=yp_4hour_xgb_train, y_true=Y_train_4hour)\n",
    "print(round(mse_train,5))\n",
    "print(round(mae_train,5))\n",
    "print(round(rmse_train,5))\n",
    "print(round(r2_train,5))"
   ]
  },
  {
   "cell_type": "code",
   "execution_count": null,
   "id": "177edaf4-7f71-4b6f-bc3d-e4a88aaadecf",
   "metadata": {},
   "outputs": [],
   "source": [
    "#test error\n",
    "mse_test = mean_squared_error(y_pred=yp_4hour_xgb_test, y_true=Y_test_4hour)\n",
    "mae_test = mean_absolute_error(y_pred=yp_4hour_xgb_test, y_true=Y_test_4hour)\n",
    "rmse_test = math.sqrt(mean_squared_error(y_pred=yp_4hour_xgb_test, y_true=Y_test_4hour))\n",
    "r2_test = r2_score(y_pred=yp_4hour_xgb_test, y_true=Y_test_4hour)\n",
    "print(round(mse_test,5))\n",
    "print(round(mae_test,5))\n",
    "print(round(rmse_test,5))\n",
    "print(round(r2_test,5))"
   ]
  }
 ],
 "metadata": {
  "kernelspec": {
   "display_name": "venv-python3.10.11",
   "language": "python",
   "name": "venv"
  },
  "language_info": {
   "codemirror_mode": {
    "name": "ipython",
    "version": 3
   },
   "file_extension": ".py",
   "mimetype": "text/x-python",
   "name": "python",
   "nbconvert_exporter": "python",
   "pygments_lexer": "ipython3",
   "version": "3.10.11"
  }
 },
 "nbformat": 4,
 "nbformat_minor": 5
}
