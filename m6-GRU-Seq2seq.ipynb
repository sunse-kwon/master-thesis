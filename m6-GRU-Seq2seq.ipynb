{
 "cells": [
  {
   "cell_type": "markdown",
   "id": "fc95b892-6a01-4f50-985a-c0599b484bd4",
   "metadata": {},
   "source": [
    "# GRU-Seq2seq (Sequence to sequence)"
   ]
  },
  {
   "cell_type": "code",
   "execution_count": null,
   "id": "ffe7ffae-c5ca-4900-8aaf-508c7d4d9205",
   "metadata": {},
   "outputs": [],
   "source": [
    "import math\n",
    "import numpy as np\n",
    "import pandas as pd\n",
    "import matplotlib.pyplot as plt\n",
    "from sklearn.preprocessing import MinMaxScaler\n",
    "from sklearn.metrics import mean_squared_error, mean_absolute_error, r2_score\n",
    "from keras.models import Sequential\n",
    "from keras.layers import *\n",
    "from keras.losses import MeanSquaredError\n",
    "from keras.metrics import RootMeanSquaredError\n",
    "from keras.optimizers import Adam\n",
    "from keras.callbacks import EarlyStopping\n",
    "from utils import train_test_split, X_Y_split_Seq2seq"
   ]
  },
  {
   "cell_type": "code",
   "execution_count": null,
   "id": "9e3c023a-de0d-4a07-8a57-87bdeaa6c674",
   "metadata": {},
   "outputs": [],
   "source": [
    "data = pd.read_csv('data_droped_nov18_dummy_final.csv')"
   ]
  },
  {
   "cell_type": "code",
   "execution_count": null,
   "id": "3e370597-2a35-47eb-8ea9-ae507f70bbe2",
   "metadata": {},
   "outputs": [],
   "source": [
    "data = data.set_index('datetime')\n",
    "data.index = pd.to_datetime(data.index)\n",
    "data = data.drop(['Unnamed: 0.2','Unnamed: 0.1','Unnamed: 0', 'diff'],axis=1)\n",
    "data=data.reindex(columns=['lots_available', 'total_lot',  'carpark_number','x_coord', 'y_coord',\n",
    "'car_park_decks', 'gantry_height','BASEMENT CAR PARK', 'COVERED CAR PARK','MECHANISED AND SURFACE CAR PARK', 'MULTI-STOREY CAR PARK',\n",
    "'SURFACE CAR PARK', '7AM-10.30PM', '7AM-7PM', 'NO', 'WHOLE DAY', 'NO.1','SUN & PH FR 1PM-10.30PM', 'SUN & PH FR 7AM-10.30PM', 'NO.2', \n",
    "'YES','N', 'Y'])"
   ]
  },
  {
   "cell_type": "code",
   "execution_count": null,
   "id": "26c98cdf-f3ed-43e4-b9ca-37f95ce28a2c",
   "metadata": {},
   "outputs": [],
   "source": [
    "data[\"day_of_week\"] = data.index.weekday\n",
    "data[\"hour_of_day\"] = data.index.hour"
   ]
  },
  {
   "cell_type": "code",
   "execution_count": null,
   "id": "fbbdb4d6-7d38-47a9-9f63-62eedf420ca3",
   "metadata": {},
   "outputs": [],
   "source": [
    "features = ['lots_available','day_of_week','hour_of_day','total_lot', 'carpark_number', 'x_coord', 'y_coord','car_park_decks', 'gantry_height', 'MULTI-STOREY CAR PARK','WHOLE DAY', \n",
    "       'NO.1','SUN & PH FR 7AM-10.30PM']"
   ]
  },
  {
   "cell_type": "code",
   "execution_count": null,
   "id": "23423f38-8e5f-4d37-9a6a-88c8e1bb7600",
   "metadata": {},
   "outputs": [],
   "source": [
    "data = data[features]\n",
    "data=data.reindex(columns=features)"
   ]
  },
  {
   "cell_type": "code",
   "execution_count": null,
   "id": "06791a07-3525-4f98-8059-ed4eae0d4afd",
   "metadata": {},
   "outputs": [],
   "source": [
    "data.loc['2016-02-19 11:15:00',:] = np.nan\n",
    "data.dropna(inplace=True)"
   ]
  },
  {
   "cell_type": "code",
   "execution_count": null,
   "id": "e3b44a19-cf54-4a25-81bd-da7a6e587f40",
   "metadata": {},
   "outputs": [],
   "source": [
    "Train, Test = train_test_split(data, test_step_size=673)\n",
    "train, val = train_test_split(Train, test_step_size=480)"
   ]
  },
  {
   "cell_type": "markdown",
   "id": "8306b33f-9d59-46f1-8834-657bc9d46de3",
   "metadata": {},
   "source": [
    "## data normalization using MinMaxScaler, values range from 0 to 1 interval."
   ]
  },
  {
   "cell_type": "code",
   "execution_count": null,
   "id": "2c5dd025-2a01-4443-836a-c998de6227e0",
   "metadata": {},
   "outputs": [],
   "source": [
    "for i in Train.columns:\n",
    "    scaler = MinMaxScaler()\n",
    "    \n",
    "    s_train = scaler.fit_transform(train[i].values.reshape((-1,1)))\n",
    "    s_val = scaler.transform(val[i].values.reshape((-1,1)))\n",
    "    s_test = scaler.transform(Test[i].values.reshape((-1,1)))\n",
    "\n",
    "    s_train = np.reshape(s_train,(len(s_train)))\n",
    "    s_val = np.reshape(s_val,(len(s_val)))\n",
    "    s_test = np.reshape(s_test,(len(s_test)))\n",
    "\n",
    "    train[i] = s_train\n",
    "    val[i] = s_val\n",
    "    Test[i] = s_test"
   ]
  },
  {
   "cell_type": "code",
   "execution_count": null,
   "id": "b9b3772d-a83e-4491-bcdd-7ea2f4c8ee6b",
   "metadata": {},
   "outputs": [],
   "source": [
    "X_train,Y_train= X_Y_split_Seq2seq(train, x_width=16, y_width=4, label_col_no=0)\n",
    "X_val,Y_val = X_Y_split_Seq2seq(val, x_width=16, y_width=4, label_col_no=0)\n",
    "X_test,Y_test= X_Y_split_Seq2seq(Test, x_width=16, y_width=4, label_col_no=0)"
   ]
  },
  {
   "cell_type": "markdown",
   "id": "14a1e47c-a698-4d05-a2f6-9449a89c34f0",
   "metadata": {},
   "source": [
    "## model that hyperparameter configuration from literature & keras tuner random search"
   ]
  },
  {
   "cell_type": "code",
   "execution_count": null,
   "id": "66bca056-c16c-469b-a2dd-d93284bc41ae",
   "metadata": {},
   "outputs": [],
   "source": [
    "def GRU_seq2seq():#3 hidden layers with 512 units, dropout rate \n",
    "  model = Sequential()\n",
    "  #encoder\n",
    "  model.add(InputLayer((X_train.shape[1],X_train.shape[2])))\n",
    "  model.add(GRU(100, activation='relu',return_sequences=True))\n",
    "  model.add(GRU(100, activation='relu',return_sequences=True))\n",
    "  model.add(GRU(100, activation='relu',return_sequences=True))\n",
    "  model.add(GRU(100, activation='relu'))\n",
    "\n",
    "  model.add(RepeatVector(Y_train.shape[1]))\n",
    "\n",
    "  #decoder\n",
    "  model.add(GRU(100, activation='relu',return_sequences=True))\n",
    "  model.add(GRU(100, activation='relu',return_sequences=True))\n",
    "  model.add(GRU(100, activation='relu',return_sequences=True))\n",
    "  model.add(GRU(100, activation='relu',return_sequences=True))\n",
    "\n",
    "\n",
    "  model.add(TimeDistributed(Dense(1, activation='linear')))\n",
    "  model.compile(loss=MeanSquaredError(), optimizer=Adam(learning_rate=0.001), metrics=[RootMeanSquaredError()])\n",
    "  return model"
   ]
  },
  {
   "cell_type": "code",
   "execution_count": null,
   "id": "ba5048ad-2ff8-4163-b3b4-fd67ce7d61f9",
   "metadata": {},
   "outputs": [],
   "source": [
    "GRU_seq2seq_4hr = GRU_seq2seq()\n",
    "stop_early = EarlyStopping(monitor='val_loss', patience=3)\n",
    "history_GRU_seq2seq = GRU_seq2seq_4hr.fit(X_train,Y_train, validation_data=(X_val,Y_val), epochs=10, callbacks=[stop_early])"
   ]
  },
  {
   "cell_type": "code",
   "execution_count": null,
   "id": "61992bd8-eded-4547-b939-a1bd85633968",
   "metadata": {},
   "outputs": [],
   "source": [
    "y_pred = GRU_seq2seq_4hr.predict(X_test)"
   ]
  },
  {
   "cell_type": "code",
   "execution_count": null,
   "id": "ec7a6ba8-a47d-4a12-8b4f-7c5a645d5c37",
   "metadata": {},
   "outputs": [],
   "source": [
    "y_pred = y_pred.reshape((-1,4))"
   ]
  },
  {
   "cell_type": "code",
   "execution_count": null,
   "id": "c5c1c587-7377-4b65-b181-3ce431848135",
   "metadata": {},
   "outputs": [],
   "source": [
    "mse = mean_squared_error(y_pred=y_pred, y_true=Y_test)\n",
    "mae = mean_absolute_error(y_pred=y_pred, y_true=Y_test)\n",
    "rmse = math.sqrt(mean_squared_error(y_pred=y_pred, y_true=Y_test))\n",
    "r2 = r2_score(y_pred=y_pred, y_true=Y_test)\n",
    "print(round(mse,5))\n",
    "print(round(mae,5))\n",
    "print(round(rmse,5))\n",
    "print(round(r2,5))"
   ]
  },
  {
   "cell_type": "markdown",
   "id": "b83876c6-34f0-411d-85fa-155db325a920",
   "metadata": {},
   "source": [
    "## performance on different time horizon using model with best time window size (4 hour = 16 timestep)"
   ]
  },
  {
   "cell_type": "markdown",
   "id": "bd89bd3a-f7e2-4392-8af2-85adfe345bf2",
   "metadata": {},
   "source": [
    "### entire dataset"
   ]
  },
  {
   "cell_type": "code",
   "execution_count": null,
   "id": "80176445-0c3f-4135-9082-2469bedd4c45",
   "metadata": {},
   "outputs": [],
   "source": [
    "GRU_seq2seq_4hr_whole = GRU_seq2seq_4hr"
   ]
  },
  {
   "cell_type": "code",
   "execution_count": null,
   "id": "588aa7dc-6792-4beb-9b5b-5b87632b5ac6",
   "metadata": {},
   "outputs": [],
   "source": [
    "x,y = last_x_y_generator_Seq2seq(val, x_width = 16, y_width = 4, label_col_no=0)"
   ]
  },
  {
   "cell_type": "code",
   "execution_count": null,
   "id": "bf9e07e0-dfa6-4a07-9828-5c327b14765a",
   "metadata": {},
   "outputs": [],
   "source": [
    "current_batch = x[:,4:,:]"
   ]
  },
  {
   "cell_type": "code",
   "execution_count": null,
   "id": "a73a6de2-40f2-4ce3-8ca8-80544fe26838",
   "metadata": {},
   "outputs": [],
   "source": [
    "#entire dataset\n",
    "future_len = 40\n",
    "Test_new = Test[['lots_available', 'carpark_number','day_of_week','hour_of_day']]\n",
    "Test_new = Test_new.sort_values(by=['carpark_number', 'datetime'])\n",
    "l=[]\n",
    "L=pd.DataFrame()\n",
    "for i in sorted(Test_new.carpark_number.value_counts().keys()):\n",
    "  inner = Test_new[Test_new.carpark_number == i]\n",
    "  inner = inner.reset_index()\n",
    "  inner = inner.iloc[0:future_len,:]\n",
    "  l.append(inner)\n",
    "L = L.append(l)\n",
    "L['value'] = L.index.values\n",
    "L['seq'] = np.tile(np.repeat(np.array([0,1,2,3,4,5,6,7,8,9]),4),855)\n",
    "L = L.sort_index()\n",
    "L = L.sort_values(by=['seq','carpark_number' ])"
   ]
  },
  {
   "cell_type": "code",
   "execution_count": null,
   "id": "46818c0a-90ac-4cab-a362-b5f3d90db483",
   "metadata": {},
   "outputs": [],
   "source": [
    "future=10\n",
    "forcast = []\n",
    "Xin = current_batch\n",
    "time=[]\n",
    "for i in range(future):\n",
    "    out = GRU_seq2seq_4hr_whole.predict(Xin, batch_size=855)   \n",
    "    forcast.append(out) \n",
    "    print(forcast)\n",
    "    Xin = insert_end_Seq2seq(Xin,out,16)\n",
    "    Xin[:,16-4:,1:2] = L[['day_of_week']][i*3420:(i*3420)+3420].values.reshape((-1,4,1))\n",
    "    Xin[:,16-4:,2:3] = L[['hour_of_day']][i*3420:(i*3420)+3420].values.reshape((-1,4,1))"
   ]
  },
  {
   "cell_type": "code",
   "execution_count": null,
   "id": "d134f017-7ec5-4fb1-978d-b9a223b4fcf6",
   "metadata": {},
   "outputs": [],
   "source": [
    "Y_t = L['lots_available']\n",
    "\n",
    "l=[]\n",
    "for i in range(10):\n",
    "  l.append(Y_t[i*3420:(i*3420)+3420].values.reshape((-1,4)))"
   ]
  },
  {
   "cell_type": "code",
   "execution_count": null,
   "id": "238aea8a-fd9f-4384-9a8d-771e14ce5b99",
   "metadata": {},
   "outputs": [],
   "source": [
    "rmse40step=[]\n",
    "for i in range(10):\n",
    "  f = forcast[i].reshape(-1,4)\n",
    "  new_l = np.hsplit(l[i],4)\n",
    "  new_f = np.hsplit(f,4)#length 4 \n",
    "  for j in range(4):\n",
    "    rmse40step.append(math.sqrt(mean_squared_error(y_pred=new_f[j], y_true=new_l[j] )))"
   ]
  },
  {
   "cell_type": "code",
   "execution_count": null,
   "id": "6ba6ac22-c824-4865-a736-707f94115761",
   "metadata": {},
   "outputs": [],
   "source": [
    "rmse40step = pd.DataFrame(rmse40step)\n",
    "rmse40step.to_csv('rmse40step855_gru_seq2seq.csv')"
   ]
  },
  {
   "cell_type": "markdown",
   "id": "e8c1b6e8-4d92-402f-87a2-886082da2a9e",
   "metadata": {},
   "source": [
    "### group level (five regions, 10 to 12 parking lots per region)"
   ]
  },
  {
   "cell_type": "code",
   "execution_count": null,
   "id": "657e9fcd-8015-45dc-94f8-b6e6a69c0a4b",
   "metadata": {},
   "outputs": [],
   "source": [
    "#performance by regions\n",
    "central = data[(data['x_coord'] >30500) & (data['x_coord'] < 32500)& (data['y_coord'] >35000) & (data['y_coord'] < 36000)]\n",
    "north_area = data[(data['x_coord'] >25000) & (data['x_coord'] < 26500)& (data['y_coord'] >44000) ]\n",
    "west_area = data[ (data['x_coord'] < 20000)& (data['y_coord'] >37500) & (data['y_coord'] < 38500)]\n",
    "east_area = data[ (data['x_coord'] > 35000)& (data['y_coord'] >38000) & (data['y_coord'] < 39000)]\n",
    "south_area = data[(data['x_coord'] >25000) & (data['x_coord'] < 26000)& (data['y_coord'] >30000) & (data['y_coord'] < 31000)]"
   ]
  },
  {
   "cell_type": "code",
   "execution_count": null,
   "id": "22f74ab9-7217-4514-a5f6-119e6f28c017",
   "metadata": {},
   "outputs": [],
   "source": [
    "TRAIN_central, TEST_central = train_test_split(central, test_step_size=673)\n",
    "TRAIN_north, TEST_north = train_test_split(north_area, test_step_size=673)\n",
    "TRAIN_west, TEST_west = train_test_split(west_area, test_step_size=673)\n",
    "TRAIN_east, TEST_east = train_test_split(east_area, test_step_size=673)\n",
    "TRAIN_south, TEST_south = train_test_split(south_area, test_step_size=673)"
   ]
  },
  {
   "cell_type": "code",
   "execution_count": null,
   "id": "9cb4e660-e599-44c6-8c7c-31d282b8e2e9",
   "metadata": {},
   "outputs": [],
   "source": [
    "train_central,test_central = scaler(TRAIN_central,TEST_central)\n",
    "train_north, test_north  = scaler(TRAIN_north,TEST_north)\n",
    "train_west, test_west  = scaler(TRAIN_west,TEST_west)\n",
    "train_east, test_east  = scaler(TRAIN_east,TEST_east)\n",
    "train_south, test_south  = scaler(TRAIN_south,TEST_south)"
   ]
  },
  {
   "cell_type": "code",
   "execution_count": null,
   "id": "a4e57060-2463-4753-9c81-78740121478b",
   "metadata": {},
   "outputs": [],
   "source": [
    "GRU_seq2seq_4hr_central = GRU_seq2seq_4hr\n",
    "GRU_seq2seq_4hr_north = GRU_seq2seq_4hr\n",
    "GRU_seq2seq_4hr_west = GRU_seq2seq_4hr\n",
    "GRU_seq2seq_4hr_east = GRU_seq2seq_4hr\n",
    "GRU_seq2seq_4hr_south = GRU_seq2seq_4hr"
   ]
  },
  {
   "cell_type": "code",
   "execution_count": null,
   "id": "aac18a6c-76fd-4d13-9e18-dede373840c0",
   "metadata": {},
   "outputs": [],
   "source": [
    "x_central, _ = last_x_y_generator_Seq2seq(train_central, x_width = 16, y_width = 4, label_col_no=0)\n",
    "x_north, _ = last_x_y_generator_Seq2seq(train_north, x_width = 16, y_width = 4, label_col_no=0)\n",
    "x_west, _ = last_x_y_generator_Seq2seq(train_west, x_width = 16, y_width = 4, label_col_no=0)\n",
    "x_east, _ = last_x_y_generator_Seq2seq(train_east, x_width = 16, y_width = 4, label_col_no=0)\n",
    "x_south, _ = last_x_y_generator_Seq2seq(train_south, x_width = 16, y_width = 4, label_col_no=0)"
   ]
  },
  {
   "cell_type": "code",
   "execution_count": null,
   "id": "5faf1dd2-f334-4d4a-a196-a741c110ba55",
   "metadata": {},
   "outputs": [],
   "source": [
    "current_batch_central = x_central[:,4:,:]\n",
    "current_batch_north = x_north[:,4:,:]\n",
    "current_batch_west = x_west[:,4:,:]\n",
    "current_batch_east = x_east[:,4:,:]\n",
    "current_batch_south = x_south[:,4:,:]"
   ]
  },
  {
   "cell_type": "code",
   "execution_count": null,
   "id": "1bd3a6b4-8094-48bd-96a0-bf467956b6eb",
   "metadata": {},
   "outputs": [],
   "source": [
    "future_len = 40\n",
    "Test_new = test_south[['lots_available', 'carpark_number','day_of_week','hour_of_day']]\n",
    "Test_new = Test_new.sort_values(by=['carpark_number', 'datetime'])\n",
    "l=[]\n",
    "L=pd.DataFrame()\n",
    "for i in sorted(Test_new.carpark_number.value_counts().keys()):\n",
    "  inner = Test_new[Test_new.carpark_number == i]\n",
    "  inner = inner.reset_index()\n",
    "  inner = inner.iloc[0:future_len,:]\n",
    "  l.append(inner)\n",
    "L = L.append(l)\n",
    "L['value'] = L.index.values\n",
    "L['seq'] = np.tile(np.repeat(np.array([0,1,2,3,4,5,6,7,8,9]),4),10)#need to change based on batch size\n",
    "L = L.sort_index()\n",
    "L = L.sort_values(by=['seq','carpark_number' ])"
   ]
  },
  {
   "cell_type": "code",
   "execution_count": null,
   "id": "c0fb4cd9-cbba-4094-be64-7d5e1d37d905",
   "metadata": {},
   "outputs": [],
   "source": [
    "#central\n",
    "future=10\n",
    "forcast = []\n",
    "Xin = current_batch_central\n",
    "time=[]\n",
    "for i in range(future):\n",
    "    out = GRU_seq2seq_4hr_central.predict(Xin, batch_size=11)   \n",
    "    forcast.append(out) \n",
    "    print(forcast)\n",
    "    Xin = insert_end_Seq2seq(Xin,out,16)\n",
    "    Xin[:,16-4:,1:2] = L[['day_of_week']][i*44:(i*44)+44].values.reshape((-1,4,1))\n",
    "    Xin[:,16-4:,2:3] = L[['hour_of_day']][i*44:(i*44)+44].values.reshape((-1,4,1))"
   ]
  },
  {
   "cell_type": "code",
   "execution_count": null,
   "id": "103b24b3-abc2-46eb-97e2-14a8cd28cb97",
   "metadata": {},
   "outputs": [],
   "source": [
    "#north\n",
    "future=10\n",
    "forcast = []\n",
    "Xin = current_batch_north\n",
    "time=[]\n",
    "for i in range(future):\n",
    "    out = GRU_seq2seq_4hr_north.predict(Xin, batch_size=11)   \n",
    "    forcast.append(out) \n",
    "    print(forcast)\n",
    "    Xin = insert_end_Seq2seq(Xin,out,16)\n",
    "    Xin[:,16-4:,1:2] = L[['day_of_week']][i*44:(i*44)+44].values.reshape((-1,4,1))\n",
    "    Xin[:,16-4:,2:3] = L[['hour_of_day']][i*44:(i*44)+44].values.reshape((-1,4,1))"
   ]
  },
  {
   "cell_type": "code",
   "execution_count": null,
   "id": "91bf9f43-11de-4f4f-999d-243ef0f1607f",
   "metadata": {},
   "outputs": [],
   "source": [
    "#west\n",
    "future=10\n",
    "forcast = []\n",
    "Xin = current_batch_west\n",
    "time=[]\n",
    "for i in range(future):\n",
    "    out = GRU_seq2seq_4hr_west.predict(Xin, batch_size=12)   \n",
    "    forcast.append(out) \n",
    "    print(forcast)\n",
    "    Xin = insert_end_Seq2seq(Xin,out,16)\n",
    "    Xin[:,16-4:,1:2] = L[['day_of_week']][i*48:(i*48)+48].values.reshape((-1,4,1))\n",
    "    Xin[:,16-4:,2:3] = L[['hour_of_day']][i*48:(i*48)+48].values.reshape((-1,4,1))"
   ]
  },
  {
   "cell_type": "code",
   "execution_count": null,
   "id": "45caa287-46a5-40c4-8325-072028f289f0",
   "metadata": {},
   "outputs": [],
   "source": [
    "#east\n",
    "future=10\n",
    "forcast = []\n",
    "Xin = current_batch_east\n",
    "time=[]\n",
    "for i in range(future):\n",
    "    out = GRU_seq2seq_4hr_east.predict(Xin, batch_size=11)   \n",
    "    forcast.append(out) \n",
    "    print(forcast)\n",
    "    Xin = insert_end_Seq2seq(Xin,out,16)\n",
    "    Xin[:,16-4:,1:2] = L[['day_of_week']][i*44:(i*44)+44].values.reshape((-1,4,1))\n",
    "    Xin[:,16-4:,2:3] = L[['hour_of_day']][i*44:(i*44)+44].values.reshape((-1,4,1))"
   ]
  },
  {
   "cell_type": "code",
   "execution_count": null,
   "id": "25ab7efc-7be4-46fc-9c38-997a49ef4470",
   "metadata": {},
   "outputs": [],
   "source": [
    "#south\n",
    "future=10\n",
    "forcast = []\n",
    "Xin = current_batch_south\n",
    "time=[]\n",
    "for i in range(future):\n",
    "    out = GRU_seq2seq_4hr_south.predict(Xin, batch_size=10)   \n",
    "    forcast.append(out) \n",
    "    print(forcast)\n",
    "    Xin = insert_end_Seq2seq(Xin,out,16)\n",
    "    Xin[:,16-4:,1:2] = L[['day_of_week']][i*40:(i*40)+40].values.reshape((-1,4,1))\n",
    "    Xin[:,16-4:,2:3] = L[['hour_of_day']][i*40:(i*40)+40].values.reshape((-1,4,1))"
   ]
  },
  {
   "cell_type": "code",
   "execution_count": null,
   "id": "5c0eb990-c852-465e-bf7e-04334219e7aa",
   "metadata": {},
   "outputs": [],
   "source": [
    "Y_t = L['lots_available']\n",
    "\n",
    "l=[]\n",
    "for i in range(10):\n",
    "  l.append(Y_t[i*40:(i*40)+40].values.reshape((-1,4)))"
   ]
  },
  {
   "cell_type": "code",
   "execution_count": null,
   "id": "fc091020-b299-42fd-8432-ff238f14ac80",
   "metadata": {},
   "outputs": [],
   "source": [
    "rmse40step=[]\n",
    "for i in range(10):\n",
    "  f = forcast[i].reshape(-1,4)\n",
    "  new_l = np.hsplit(l[i],4)\n",
    "  new_f = np.hsplit(f,4)#length 4 \n",
    "  for j in range(4):\n",
    "    rmse40step.append(math.sqrt(mean_squared_error(y_pred=new_f[j], y_true=new_l[j] )))"
   ]
  },
  {
   "cell_type": "code",
   "execution_count": null,
   "id": "4fd1fdff-960a-400f-ab9f-d97deada2346",
   "metadata": {},
   "outputs": [],
   "source": [
    "rmse40step = pd.DataFrame(rmse40step)\n",
    "rmse40step.to_csv('rmse40step_south_gru_seq2seq.csv')"
   ]
  },
  {
   "cell_type": "markdown",
   "id": "d3ee88b9-128a-4a41-87da-6a5ca8343390",
   "metadata": {},
   "source": [
    "### individual level (five regions, 1 parking lot per region)"
   ]
  },
  {
   "cell_type": "code",
   "execution_count": null,
   "id": "063b5026-a96a-43fc-b350-7aa65349ce31",
   "metadata": {},
   "outputs": [],
   "source": [
    "#individual car park\n",
    "#central\n",
    "train_41 =train_central[train_central.carpark_number==0]\n",
    "test_41 =test_central[test_central.carpark_number==0]\n",
    "#north\n",
    "train_547 =train_north[train_north.carpark_number==0]\n",
    "test_547 =test_north[test_north.carpark_number==0]\n",
    "#west\n",
    "train_22 =train_west[train_west.carpark_number==0]\n",
    "test_22 =test_west[test_west.carpark_number==0]\n",
    "#east\n",
    "train_437 =train_east[train_east.carpark_number==0]\n",
    "test_437 =test_east[test_east.carpark_number==0]\n",
    "#south\n",
    "train_514 =train_south[train_south.carpark_number==0]\n",
    "test_514=test_south[test_south.carpark_number==0]"
   ]
  },
  {
   "cell_type": "code",
   "execution_count": null,
   "id": "4a800b88-fcfa-482b-b47a-3c2104083fec",
   "metadata": {},
   "outputs": [],
   "source": [
    "GRU_seq2seq_4hr_41 = GRU_seq2seq_4hr\n",
    "GRU_seq2seq_4hr_547 = GRU_seq2seq_4hr\n",
    "GRU_seq2seq_4hr_22 = GRU_seq2seq_4hr\n",
    "GRU_seq2seq_4hr_437 = GRU_seq2seq_4hr\n",
    "GRU_seq2seq_4hr_514 = GRU_seq2seq_4hr"
   ]
  },
  {
   "cell_type": "code",
   "execution_count": null,
   "id": "db7e7d72-2b56-4fdb-ba56-154c03a71784",
   "metadata": {},
   "outputs": [],
   "source": [
    "xtrain41 = window_generator_Seq2seq(train_41, x_width=16,y_width=4,label_col_no=0)\n",
    "xtrain547 = window_generator_Seq2seq(train_547, x_width=16,y_width=4,label_col_no=0)\n",
    "xtrain22 = window_generator_Seq2seq(train_22, x_width=16,y_width=4,label_col_no=0)\n",
    "xtrain437 = window_generator_Seq2seq(train_437, x_width=16,y_width=4,label_col_no=0)\n",
    "xtrain514 = window_generator_Seq2seq(train_514, x_width=16,y_width=4,label_col_no=0)"
   ]
  },
  {
   "cell_type": "code",
   "execution_count": null,
   "id": "f7c8ef64-10c5-41d5-8671-9528aa8249fb",
   "metadata": {},
   "outputs": [],
   "source": [
    "last_central = xtrain41[-1:,:,:]\n",
    "last_north = xtrain547[-1:,:,:]\n",
    "last_west = xtrain22[-1:,:,:]\n",
    "last_east = xtrain437[-1:,:,:]\n",
    "last_south = xtrain514[-1:,:,:]"
   ]
  },
  {
   "cell_type": "code",
   "execution_count": null,
   "id": "f8bb19d0-3a72-4db1-98bf-0322e6400711",
   "metadata": {},
   "outputs": [],
   "source": [
    "current_batch_41 = last_central[:,4:,:]\n",
    "current_batch_547 = last_north[:,4:,:]\n",
    "current_batch_22 = last_west[:,4:,:]\n",
    "current_batch_437 = last_east[:,4:,:]\n",
    "current_batch_514 = last_south[:,4:,:]"
   ]
  },
  {
   "cell_type": "code",
   "execution_count": null,
   "id": "b06926f6-407d-4884-91a6-9cf4e03a2888",
   "metadata": {},
   "outputs": [],
   "source": [
    "future_len = 40\n",
    "Test_new = test_514[['lots_available', 'carpark_number','day_of_week','hour_of_day']]\n",
    "Test_new = Test_new.sort_values(by=['carpark_number', 'datetime'])\n",
    "l=[]\n",
    "L=pd.DataFrame()\n",
    "for i in sorted(Test_new.carpark_number.value_counts().keys()):\n",
    "  inner = Test_new[Test_new.carpark_number == i]\n",
    "  inner = inner.reset_index()\n",
    "  inner = inner.iloc[0:future_len,:]\n",
    "  l.append(inner)\n",
    "L = L.append(l)\n",
    "L['value'] = L.index.values\n",
    "L['seq'] = np.tile(np.repeat(np.array([0,1,2,3,4,5,6,7,8,9]),4),1)\n",
    "L = L.sort_index()\n",
    "L = L.sort_values(by=['seq','carpark_number' ])"
   ]
  },
  {
   "cell_type": "code",
   "execution_count": null,
   "id": "f934c364-d11a-4b3d-afb4-a8eb68d8324b",
   "metadata": {},
   "outputs": [],
   "source": [
    "#central\n",
    "future=10\n",
    "forcast = []\n",
    "Xin = current_batch_41\n",
    "time=[]\n",
    "for i in range(future):\n",
    "    out = GRU_seq2seq_4hr_41.predict(Xin, batch_size=1)   \n",
    "    forcast.append(out) \n",
    "    print(forcast)\n",
    "    Xin = insert_end_Seq2seq(Xin,out,16)\n",
    "    Xin[:,16-4:,1:2] = L[['day_of_week']][i*4:(i*4)+4].values.reshape((-1,4,1))\n",
    "    Xin[:,16-4:,2:3] = L[['hour_of_day']][i*4:(i*4)+4].values.reshape((-1,4,1))"
   ]
  },
  {
   "cell_type": "code",
   "execution_count": null,
   "id": "d1b4af01-9557-43d6-a63f-f80afeb231cf",
   "metadata": {},
   "outputs": [],
   "source": [
    "#north\n",
    "future=10\n",
    "forcast = []\n",
    "Xin = current_batch_547\n",
    "time=[]\n",
    "for i in range(future):\n",
    "    out = GRU_seq2seq_4hr_547.predict(Xin, batch_size=1)   \n",
    "    forcast.append(out) \n",
    "    print(forcast)\n",
    "    Xin = insert_end_Seq2seq(Xin,out,16)\n",
    "    Xin[:,16-4:,1:2] = L[['day_of_week']][i*4:(i*4)+4].values.reshape((-1,4,1))\n",
    "    Xin[:,16-4:,2:3] = L[['hour_of_day']][i*4:(i*4)+4].values.reshape((-1,4,1))"
   ]
  },
  {
   "cell_type": "code",
   "execution_count": null,
   "id": "31647e33-b61e-4752-a254-a1076be13b94",
   "metadata": {},
   "outputs": [],
   "source": [
    "#west\n",
    "future=10\n",
    "forcast = []\n",
    "Xin = current_batch_22\n",
    "time=[]\n",
    "for i in range(future):\n",
    "    out = GRU_seq2seq_4hr_22.predict(Xin, batch_size=1)   \n",
    "    forcast.append(out) \n",
    "    print(forcast)\n",
    "    Xin = insert_end_Seq2seq(Xin,out,16)\n",
    "    Xin[:,16-4:,1:2] = L[['day_of_week']][i*4:(i*4)+4].values.reshape((-1,4,1))\n",
    "    Xin[:,16-4:,2:3] = L[['hour_of_day']][i*4:(i*4)+4].values.reshape((-1,4,1))"
   ]
  },
  {
   "cell_type": "code",
   "execution_count": null,
   "id": "8f3b1d14-21c3-49ed-94d5-b0c0c09a6331",
   "metadata": {},
   "outputs": [],
   "source": [
    "#east\n",
    "future=10\n",
    "forcast = []\n",
    "Xin = current_batch_437\n",
    "time=[]\n",
    "for i in range(future):\n",
    "    out = GRU_seq2seq_4hr_437.predict(Xin, batch_size=1)   \n",
    "    forcast.append(out) \n",
    "    print(forcast)\n",
    "    Xin = insert_end_Seq2seq(Xin,out,16)\n",
    "    Xin[:,16-4:,1:2] = L[['day_of_week']][i*4:(i*4)+4].values.reshape((-1,4,1))\n",
    "    Xin[:,16-4:,2:3] = L[['hour_of_day']][i*4:(i*4)+4].values.reshape((-1,4,1))"
   ]
  },
  {
   "cell_type": "code",
   "execution_count": null,
   "id": "56719842-8b4c-4438-906c-08b3c3cd3374",
   "metadata": {},
   "outputs": [],
   "source": [
    "#south\n",
    "future=10\n",
    "forcast = []\n",
    "Xin = current_batch_514\n",
    "time=[]\n",
    "for i in range(future):\n",
    "    out = GRU_seq2seq_4hr_514.predict(Xin, batch_size=1)   \n",
    "    forcast.append(out) \n",
    "    print(forcast)\n",
    "    Xin = insert_end_Seq2seq(Xin,out,16)\n",
    "    Xin[:,16-4:,1:2] = L[['day_of_week']][i*4:(i*4)+4].values.reshape((-1,4,1))\n",
    "    Xin[:,16-4:,2:3] = L[['hour_of_day']][i*4:(i*4)+4].values.reshape((-1,4,1))"
   ]
  },
  {
   "cell_type": "code",
   "execution_count": null,
   "id": "810a3897-2456-4f46-9a3d-304a436db5f6",
   "metadata": {},
   "outputs": [],
   "source": [
    "Y_t = L['lots_available']\n",
    "\n",
    "l=[]\n",
    "for i in range(10):\n",
    "  l.append(Y_t[i*4:(i*4)+4].values.reshape((-1,4)))"
   ]
  },
  {
   "cell_type": "code",
   "execution_count": null,
   "id": "e492bd08-5dfe-45d8-8057-ee0ed4c49728",
   "metadata": {},
   "outputs": [],
   "source": [
    "rmse40step=[]\n",
    "for i in range(10):\n",
    "  f = forcast[i].reshape(-1,4)\n",
    "  new_l = np.hsplit(l[i],4)\n",
    "  new_f = np.hsplit(f,4)#length 4 \n",
    "  for j in range(4):\n",
    "    rmse40step.append(math.sqrt(mean_squared_error(y_pred=new_f[j], y_true=new_l[j] )))"
   ]
  },
  {
   "cell_type": "code",
   "execution_count": null,
   "id": "27c661b1-d9ee-4462-9f33-168a3860fbb2",
   "metadata": {},
   "outputs": [],
   "source": [
    "rmse40step = pd.DataFrame(rmse40step)\n",
    "rmse40step.to_csv('rmse40step_single_south_gru_seq2seq.csv')"
   ]
  },
  {
   "cell_type": "markdown",
   "id": "9ce17142-5922-4efd-90c4-8ae699126555",
   "metadata": {},
   "source": [
    "## robustness check"
   ]
  },
  {
   "cell_type": "markdown",
   "id": "52dc2db8-1d18-48e7-9bd5-a9052371ae0d",
   "metadata": {},
   "source": [
    "- based on performance on different time window and different sample size, study determined best time window size is 16 timesteps (4 hour).\n",
    "- to check the model fit, study tested performance of model on train and test set"
   ]
  },
  {
   "cell_type": "code",
   "execution_count": null,
   "id": "0049cd8e-1c83-4d33-be34-ceed9d6fcd23",
   "metadata": {},
   "outputs": [],
   "source": [
    "# plot diagnostic learning curves\n",
    "# plot training and validation loss\n",
    "plt.figure(figsize= (6,4))\n",
    "plt.plot()\n",
    "plt.title('MSE Loss')\n",
    "plt.plot(history_GRU_seq2seq.history['loss'], color='blue', label='train')\n",
    "plt.plot(history_GRU_seq2seq.history['val_loss'], color='orange', label='validation')\n",
    "plt.xlabel('epochs')\n",
    "plt.ylabel('Score')\n",
    "plt.legend(['Train', 'Val'])\n",
    "\n",
    "#plot training and test accuracy\t\n",
    "plt.figure(figsize= (6,4))\n",
    "plt.plot()\n",
    "plt.title('RMSE Loss')\n",
    "plt.plot(history_GRU_seq2seq.history['root_mean_squared_error'], color='blue', label=\"train\")\n",
    "plt.plot(history_GRU_seq2seq.history['val_root_mean_squared_error'], color='orange', label='validation')\n",
    "plt.xlabel('epochs')\n",
    "plt.ylabel('Score')\n",
    "plt.legend(['Train','Val'])\n",
    "plt.show()"
   ]
  }
 ],
 "metadata": {
  "kernelspec": {
   "display_name": "venv-python3.10.11",
   "language": "python",
   "name": "venv"
  },
  "language_info": {
   "codemirror_mode": {
    "name": "ipython",
    "version": 3
   },
   "file_extension": ".py",
   "mimetype": "text/x-python",
   "name": "python",
   "nbconvert_exporter": "python",
   "pygments_lexer": "ipython3",
   "version": "3.10.11"
  }
 },
 "nbformat": 4,
 "nbformat_minor": 5
}
