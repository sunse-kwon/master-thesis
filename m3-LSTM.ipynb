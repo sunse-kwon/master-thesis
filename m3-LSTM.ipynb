{
 "cells": [
  {
   "cell_type": "markdown",
   "id": "ea8a810c-5a8c-481e-aefc-2dd180211e8a",
   "metadata": {},
   "source": [
    "# Long-Short-Term-Memory (LSTM)"
   ]
  },
  {
   "cell_type": "code",
   "execution_count": 2,
   "id": "88a0e7d1-4a87-413d-8c17-a4293451d24e",
   "metadata": {},
   "outputs": [],
   "source": [
    "import math\n",
    "import numpy as np\n",
    "import pandas as pd\n",
    "import matplotlib.pyplot as plt\n",
    "from sklearn.preprocessing import MinMaxScaler\n",
    "from sklearn.metrics import mean_squared_error, mean_absolute_error, r2_score\n",
    "from keras.models import Sequential\n",
    "from keras.layers import *\n",
    "from keras.losses import MeanSquaredError\n",
    "from keras.metrics import RootMeanSquaredError\n",
    "from keras.optimizers import Adam\n",
    "from keras.callbacks import EarlyStopping\n",
    "from utils import train_test_split, X_Y_split_DL, last_x_y_generator_DL, insert_end_DL"
   ]
  },
  {
   "cell_type": "code",
   "execution_count": 3,
   "id": "eb68171f-42dc-4e9b-bfe9-a8131aa12642",
   "metadata": {},
   "outputs": [],
   "source": [
    "data = pd.read_csv('data_droped_nov18_dummy_final.csv')"
   ]
  },
  {
   "cell_type": "code",
   "execution_count": 5,
   "id": "44f65381-c6da-4221-92b2-ce4934e073ba",
   "metadata": {},
   "outputs": [],
   "source": [
    "data = data.set_index('datetime')\n",
    "data.index = pd.to_datetime(data.index)\n",
    "data = data.drop(['Unnamed: 0.2','Unnamed: 0.1','Unnamed: 0', 'diff'],axis=1)\n",
    "data=data.reindex(columns=['lots_available', 'total_lot',  'carpark_number','x_coord', 'y_coord',\n",
    "'car_park_decks', 'gantry_height','BASEMENT CAR PARK', 'COVERED CAR PARK','MECHANISED AND SURFACE CAR PARK', 'MULTI-STOREY CAR PARK',\n",
    "'SURFACE CAR PARK', '7AM-10.30PM', '7AM-7PM', 'NO', 'WHOLE DAY', 'NO.1','SUN & PH FR 1PM-10.30PM', 'SUN & PH FR 7AM-10.30PM', 'NO.2', \n",
    "'YES','N', 'Y'])"
   ]
  },
  {
   "cell_type": "code",
   "execution_count": null,
   "id": "0784e366-99e7-4e23-b32d-38bfb70ee865",
   "metadata": {},
   "outputs": [],
   "source": [
    "data[\"day_of_week\"] = data.index.weekday\n",
    "data[\"hour_of_day\"] = data.index.hour"
   ]
  },
  {
   "cell_type": "code",
   "execution_count": null,
   "id": "05968c92-2235-49aa-985f-5ed6fc857cf5",
   "metadata": {},
   "outputs": [],
   "source": [
    "# feature selection based on RFE algorithm\n",
    "features = ['lots_available','day_of_week','hour_of_day','total_lot', 'carpark_number', 'x_coord', 'y_coord','car_park_decks', 'gantry_height', 'MULTI-STOREY CAR PARK','WHOLE DAY', \n",
    "       'NO.1','SUN & PH FR 7AM-10.30PM']"
   ]
  },
  {
   "cell_type": "code",
   "execution_count": null,
   "id": "ba3f2cb7-9fd9-4a5b-9901-6b2526452206",
   "metadata": {},
   "outputs": [],
   "source": [
    "data = data[features]\n",
    "data=data.reindex(columns=features)"
   ]
  },
  {
   "cell_type": "code",
   "execution_count": null,
   "id": "b237ea4e-d5ba-4f38-ac11-61df07abe269",
   "metadata": {},
   "outputs": [],
   "source": [
    "data.loc['2016-02-19 11:15:00',:] = np.nan\n",
    "data.dropna(inplace=True)"
   ]
  },
  {
   "cell_type": "code",
   "execution_count": null,
   "id": "3f1af694-bd9b-4a25-bf5a-db5d597ede6f",
   "metadata": {},
   "outputs": [],
   "source": [
    "Train, Test = train_test_split(data, test_step_size=673)\n",
    "train, val = train_test_split(Train, test_step_size=480)"
   ]
  },
  {
   "cell_type": "markdown",
   "id": "816b9e84-594b-4a6d-aba5-ab2bf4c6c2c0",
   "metadata": {},
   "source": [
    "## data normalization using MinMaxScaler, values range from 0 to 1 interval."
   ]
  },
  {
   "cell_type": "code",
   "execution_count": null,
   "id": "ed895de2-c53c-467e-86e9-7791c92fc569",
   "metadata": {},
   "outputs": [],
   "source": [
    "for i in Train.columns:\n",
    "    scaler = MinMaxScaler()\n",
    "    \n",
    "    s_train = scaler.fit_transform(train[i].values.reshape((-1,1)))\n",
    "    s_val = scaler.transform(val[i].values.reshape((-1,1)))\n",
    "    s_test = scaler.transform(Test[i].values.reshape((-1,1)))\n",
    "\n",
    "    s_train = np.reshape(s_train,(len(s_train)))\n",
    "    s_val = np.reshape(s_val,(len(s_val)))\n",
    "    s_test = np.reshape(s_test,(len(s_test)))\n",
    "\n",
    "    train[i] = s_train\n",
    "    val[i] = s_val\n",
    "    Test[i] = s_test"
   ]
  },
  {
   "cell_type": "markdown",
   "id": "0f5ec297-45b3-4b97-96b4-e6726f591a99",
   "metadata": {},
   "source": [
    "## performance on different time window using entire dataset"
   ]
  },
  {
   "cell_type": "markdown",
   "id": "ead2e87b-e240-4376-b12c-ee2c0c31da57",
   "metadata": {},
   "source": [
    "### 15 minutes (used previous timestep to predict next timestep, 1 timestep = 15 minute)"
   ]
  },
  {
   "cell_type": "code",
   "execution_count": null,
   "id": "59dc7c54-2515-4baa-b278-fd22dfc38cc8",
   "metadata": {},
   "outputs": [],
   "source": [
    "# best model with selected hyperparameters from literature & keras tuner random search\n",
    "def LSTM_best():\n",
    "  model = Sequential()\n",
    "  model.add(LSTM(150, return_sequences=True, input_shape=(X_train.shape[1],X_train.shape[2])))\n",
    "  model.add(Dropout(0.1))\n",
    "  model.add(LSTM(100, return_sequences=False))\n",
    "  model.add(Dense(1, activation='linear'))\n",
    "  model.compile(loss=MeanSquaredError(), optimizer=Adam(learning_rate=0.001), metrics=[RootMeanSquaredError()])\n",
    "  return model"
   ]
  },
  {
   "cell_type": "code",
   "execution_count": null,
   "id": "ee0359e8-560f-4553-a6e4-dd71bf1e1465",
   "metadata": {},
   "outputs": [],
   "source": [
    "X_train,Y_train= X_Y_split_DL(train, window_size=1, label_col_no=0)\n",
    "X_val, Y_val = X_Y_split_DL(val, window_size=1, label_col_no=0)\n",
    "X_test,Y_test= X_Y_split_DL(Test, window_size=1, label_col_no=0)"
   ]
  },
  {
   "cell_type": "code",
   "execution_count": null,
   "id": "f32ab99b-aa4a-4d1c-9f48-a5486148583e",
   "metadata": {},
   "outputs": [],
   "source": [
    "lstm_best = LSTM_best()\n",
    "stop_early = EarlyStopping(monitor='val_loss', patience=3)\n",
    "history_15m = lstm_best.fit(X_train,Y_train, validation_data=(X_val,Y_val), epochs=10, callbacks=[stop_early])"
   ]
  },
  {
   "cell_type": "code",
   "execution_count": null,
   "id": "795d7569-2d1f-4238-af3f-ad6a67b638d0",
   "metadata": {},
   "outputs": [],
   "source": [
    "yp_lstm_15m = lstm_best_15min.predict(X_test)"
   ]
  },
  {
   "cell_type": "code",
   "execution_count": null,
   "id": "511edb81-f905-40bd-b485-de24d0df81bc",
   "metadata": {},
   "outputs": [],
   "source": [
    "mse = mean_squared_error(y_pred=yp_lstm_15m, y_true=Y_test)\n",
    "mae = mean_absolute_error(y_pred=yp_lstm_15m, y_true=Y_test)\n",
    "rmse = math.sqrt(mean_squared_error(y_pred=yp_lstm_15m, y_true=Y_test))\n",
    "r2 = r2_score(y_pred=yp_lstm_15m, y_true=Y_test)\n",
    "print(round(mse,5))\n",
    "print(round(mae,5))\n",
    "print(round(rmse,5))\n",
    "print(round(r2,5))"
   ]
  },
  {
   "cell_type": "markdown",
   "id": "36f1c15b-5c6d-4fb4-a3be-70bca709c1e8",
   "metadata": {},
   "source": [
    "### 1 hour (used 4 timesteps to predict next timestep, 1 timestep = 15 minute, 4 timestep = 1hour)"
   ]
  },
  {
   "cell_type": "code",
   "execution_count": null,
   "id": "91926b6e-95c0-4ffa-9c3d-f57eeadac426",
   "metadata": {},
   "outputs": [],
   "source": [
    "def LSTM_best_1hr():\n",
    "  model = Sequential()\n",
    "  model.add(LSTM(150, return_sequences=True, input_shape=(X_train_1hr.shape[1],X_train_1hr.shape[2])))\n",
    "  model.add(Dropout(0.1))\n",
    "  model.add(LSTM(100, return_sequences=False))\n",
    "  model.add(Dense(1, activation='linear'))\n",
    "  model.compile(loss=MeanSquaredError(), optimizer=Adam(learning_rate=0.001), metrics=[RootMeanSquaredError()])\n",
    "  return model"
   ]
  },
  {
   "cell_type": "code",
   "execution_count": null,
   "id": "3e9be87d-1e74-4f24-8cf2-c3205b66de62",
   "metadata": {},
   "outputs": [],
   "source": [
    "X_train_1hr,Y_train_1hr= X_Y_split_DL(train, window_size=4, label_col_no=0)\n",
    "X_val_1hr,Y_val_1hr = X_Y_split_DL(val, window_size=4, label_col_no=0)\n",
    "X_test_1hr,Y_test_1hr= X_Y_split_DL(Test, window_size=4, label_col_no=0)"
   ]
  },
  {
   "cell_type": "code",
   "execution_count": null,
   "id": "c601ec16-8a7e-4bce-a57f-56e7fa54317c",
   "metadata": {},
   "outputs": [],
   "source": [
    "lstm_best_1hr = LSTM_best_1hr()\n",
    "stop_early = EarlyStopping(monitor='val_loss', patience=3)\n",
    "history_1hr = lstm_best_1hr.fit(X_train_1hr,Y_train_1hr, validation_data=(X_val_1hr,Y_val_1hr), epochs=10, callbacks=[stop_early])"
   ]
  },
  {
   "cell_type": "code",
   "execution_count": null,
   "id": "7de7b803-5201-45e9-b03f-d87c86ae40b5",
   "metadata": {},
   "outputs": [],
   "source": [
    "yp_lstm_1hr = lstm_best_1hr.predict(X_test_1hr)"
   ]
  },
  {
   "cell_type": "code",
   "execution_count": null,
   "id": "9c593d8c-68e9-4f82-9aba-269d9f86bdd4",
   "metadata": {},
   "outputs": [],
   "source": [
    "mse = mean_squared_error(y_pred=yp_lstm_1hr, y_true=Y_test_1hr)\n",
    "mae = mean_absolute_error(y_pred=yp_lstm_1hr, y_true=Y_test_1hr)\n",
    "rmse = math.sqrt(mean_squared_error(y_pred=yp_lstm_1hr, y_true=Y_test_1hr))\n",
    "r2 = r2_score(y_pred=yp_lstm_1hr, y_true=Y_test_1hr)\n",
    "print(round(mse,5))\n",
    "print(round(mae,5))\n",
    "print(round(rmse,5))\n",
    "print(round(r2,5))"
   ]
  },
  {
   "cell_type": "markdown",
   "id": "5dbe745f-ee4b-4346-a935-9efbd8915a72",
   "metadata": {},
   "source": [
    "### 4 hour (used 16 timesteps to predict next timestep, 1 timestep = 15 minute, 16 timestep = 4 hour)"
   ]
  },
  {
   "cell_type": "code",
   "execution_count": null,
   "id": "dc8efb6f-218e-4558-bd3a-b3b99801158e",
   "metadata": {},
   "outputs": [],
   "source": [
    "def LSTM_best_4hr():\n",
    "  model = Sequential()\n",
    "  model.add(LSTM(150, return_sequences=True, input_shape=(X_train_4hr.shape[1],X_train_4hr.shape[2])))\n",
    "  model.add(Dropout(0.1))\n",
    "  model.add(LSTM(100, return_sequences=False))\n",
    "  model.add(Dense(1, activation='linear'))\n",
    "  model.compile(loss=MeanSquaredError(), optimizer=Adam(learning_rate=0.001), metrics=[RootMeanSquaredError()])\n",
    "  return model"
   ]
  },
  {
   "cell_type": "code",
   "execution_count": null,
   "id": "800620dc-7f9c-4b32-a648-a59b09f3bb20",
   "metadata": {},
   "outputs": [],
   "source": [
    "X_train_4hr,Y_train_4hr= X_Y_split_DL(train, window_size=16, label_col_no=0)\n",
    "X_val_4hr,Y_val_4hr = X_Y_split_DL(val, window_size=16, label_col_no=0)\n",
    "X_test_4hr,Y_test_4hr= X_Y_split_DL(Test, window_size=16, label_col_no=0)"
   ]
  },
  {
   "cell_type": "code",
   "execution_count": null,
   "id": "5b22c694-baf6-43fa-913e-b3a7e808b759",
   "metadata": {},
   "outputs": [],
   "source": [
    "lstm_best_4hr = LSTM_best_4hr()# model that hyperparameter configuration from literature & keras tuner random search\n",
    "stop_early = EarlyStopping(monitor='val_loss', patience=3)\n",
    "history_4hr = lstm_best_4hr.fit(X_train_4hr,Y_train_4hr, validation_data=(X_val_4hr,Y_val_4hr), epochs=10, callbacks=[stop_early])"
   ]
  },
  {
   "cell_type": "code",
   "execution_count": null,
   "id": "367fdacf-cf25-4955-bfe8-1545ed053e87",
   "metadata": {},
   "outputs": [],
   "source": [
    "yp_lstm_4hr = lstm_best_4hr.predict(X_test_4hr)"
   ]
  },
  {
   "cell_type": "code",
   "execution_count": null,
   "id": "53e0c8a4-c231-42dd-b5d8-2aab95d60e8a",
   "metadata": {},
   "outputs": [],
   "source": [
    "mse = mean_squared_error(y_pred=yp_lstm_4hr, y_true=Y_test_4hr)\n",
    "mae = mean_absolute_error(y_pred=yp_lstm_4hr, y_true=Y_test_4hr)\n",
    "rmse = math.sqrt(mean_squared_error(y_pred=yp_lstm_4hr, y_true=Y_test_4hr))\n",
    "r2 = r2_score(y_pred=yp_lstm_4hr, y_true=Y_test_4hr)\n",
    "print(round(mse,5))\n",
    "print(round(mae,5))\n",
    "print(round(rmse,5))\n",
    "print(round(r2,5))"
   ]
  },
  {
   "cell_type": "markdown",
   "id": "f88fcb78-3ef1-4f96-998c-dc949be34159",
   "metadata": {},
   "source": [
    "## performance on different time window in five regions (group level)"
   ]
  },
  {
   "cell_type": "markdown",
   "id": "152e75d6-e209-47e6-9f0e-b28c821125d7",
   "metadata": {},
   "source": [
    "- dataset was divided by five subsets based on 5 fold k-mean clustering analysis. each subset consists of 10 to 12 parking lots."
   ]
  },
  {
   "cell_type": "markdown",
   "id": "7852faf0-eb81-45ea-84f1-dd625cc5787a",
   "metadata": {},
   "source": [
    "### select 5 subsets based on 5 centroids from 5-fold k-mean clustering analysis"
   ]
  },
  {
   "cell_type": "code",
   "execution_count": null,
   "id": "dbd9cae4-06d0-4a56-b3fb-401ed97f14b8",
   "metadata": {},
   "outputs": [],
   "source": [
    "central =data[(data['x_coord'] >30500) & (data['x_coord'] < 32500)& (data['y_coord'] >35000) & (data['y_coord'] < 36000)]\n",
    "north_area = data[(data['x_coord'] >25000) & (data['x_coord'] < 26500)& (data['y_coord'] >44000) ]\n",
    "west_area = data[ (data['x_coord'] < 20000)& (data['y_coord'] >37500) & (data['y_coord'] < 38500)]\n",
    "east_area = data[ (data['x_coord'] > 35000)& (data['y_coord'] >38000) & (data['y_coord'] < 39000)]\n",
    "south_area = data[(data['x_coord'] >25000) & (data['x_coord'] < 26000)& (data['y_coord'] >30000) & (data['y_coord'] < 31000)]"
   ]
  },
  {
   "cell_type": "markdown",
   "id": "18f84939-fc90-499f-b5eb-0b94cabf5695",
   "metadata": {},
   "source": [
    "### train-test split"
   ]
  },
  {
   "cell_type": "code",
   "execution_count": null,
   "id": "3cf85db9-a542-4046-ba1d-9853a2b790a3",
   "metadata": {},
   "outputs": [],
   "source": [
    "TRAIN_central, TEST_central = train_test_split(central, test_step_size=673)\n",
    "TRAIN_north, TEST_north = train_test_split(north_area, test_step_size=673)\n",
    "TRAIN_west, TEST_west = train_test_split(west_area, test_step_size=673)\n",
    "TRAIN_east, TEST_east = train_test_split(east_area, test_step_size=673)\n",
    "TRAIN_south, TEST_south = train_test_split(south_area, test_step_size=673)"
   ]
  },
  {
   "cell_type": "markdown",
   "id": "f4eedd8f-22d8-46e5-82fa-055ae50f4eec",
   "metadata": {},
   "source": [
    "### data normalization"
   ]
  },
  {
   "cell_type": "code",
   "execution_count": null,
   "id": "2719c54c-b6c2-45f3-b5de-5c3b79bec129",
   "metadata": {},
   "outputs": [],
   "source": [
    "train_central,test_central= scaler(TRAIN_central,TEST_central)\n",
    "train_north, test_north  = scaler(TRAIN_north,TEST_north)\n",
    "train_west, test_west  = scaler(TRAIN_west,TEST_west)\n",
    "train_east, test_east  = scaler(TRAIN_east,TEST_east)\n",
    "train_south, test_south  = scaler(TRAIN_south,TEST_south)"
   ]
  },
  {
   "cell_type": "markdown",
   "id": "d4bf481c-1aac-4f4b-a830-3eceb5619449",
   "metadata": {},
   "source": [
    "### 15 minute"
   ]
  },
  {
   "cell_type": "code",
   "execution_count": null,
   "id": "478a3eae-8944-42be-938c-b88d6f001558",
   "metadata": {},
   "outputs": [],
   "source": [
    "xtest_central,ytest_central = X_Y_split_DL(test_central, window_size=1,label_col_no=0)\n",
    "xtest_east,ytest_east = X_Y_split_DL(test_east, window_size=1,label_col_no=0)\n",
    "xtest_west,ytest_west = X_Y_split_DL(test_west, window_size=1,label_col_no=0)\n",
    "xtest_south,ytest_south = X_Y_split_DL(test_south, window_size=1,label_col_no=0)\n",
    "xtest_north,ytest_north = X_Y_split_DL(test_north, window_size=1,label_col_no=0)"
   ]
  },
  {
   "cell_type": "code",
   "execution_count": null,
   "id": "4b5c99ee-41b2-4c7a-a55c-be5d3f5d9117",
   "metadata": {},
   "outputs": [],
   "source": [
    "#15min\n",
    "m_central=lstm_best_15min\n",
    "m_east=lstm_best_15min\n",
    "m_west=lstm_best_15min\n",
    "m_south=lstm_best_15min\n",
    "m_north=lstm_best_15min"
   ]
  },
  {
   "cell_type": "code",
   "execution_count": null,
   "id": "747d3ac3-5561-4165-ac3f-ad2a873e89d9",
   "metadata": {},
   "outputs": [],
   "source": [
    "yp_central = m_central.predict(xtest_central)\n",
    "yp_east = m_east.predict(xtest_east)\n",
    "yp_west = m_west.predict(xtest_west)\n",
    "yp_south = m_south.predict(xtest_south)\n",
    "yp_north = m_north.predict(xtest_north)"
   ]
  },
  {
   "cell_type": "code",
   "execution_count": null,
   "id": "f97ee31a-9938-46b9-bce0-b414b5bd990b",
   "metadata": {},
   "outputs": [],
   "source": [
    "#central area 15min\n",
    "mse = mean_squared_error(y_pred=yp_central, y_true=ytest_central)\n",
    "mae = mean_absolute_error(y_pred=yp_central, y_true=ytest_central)\n",
    "rmse = math.sqrt(mean_squared_error(y_pred=yp_central, y_true=ytest_central))\n",
    "r2 = r2_score(y_pred=yp_central, y_true=ytest_central)\n",
    "print(round(mse,5))\n",
    "print(round(mae,5))\n",
    "print(round(rmse,5))\n",
    "print(round(r2,5))"
   ]
  },
  {
   "cell_type": "code",
   "execution_count": null,
   "id": "08c7b289-dd49-481c-80a1-6c72d228b474",
   "metadata": {},
   "outputs": [],
   "source": [
    "#east area 15min\n",
    "mse = mean_squared_error(y_pred=yp_east, y_true=ytest_east)\n",
    "mae = mean_absolute_error(y_pred=yp_east, y_true=ytest_east)\n",
    "rmse = math.sqrt(mean_squared_error(y_pred=yp_east, y_true=ytest_east))\n",
    "r2 = r2_score(y_pred=yp_east, y_true=ytest_east)\n",
    "print(round(mse,5))\n",
    "print(round(mae,5))\n",
    "print(round(rmse,5))\n",
    "print(round(r2,5))"
   ]
  },
  {
   "cell_type": "code",
   "execution_count": null,
   "id": "aa73a680-04b0-439f-9cc6-e1f74109652e",
   "metadata": {},
   "outputs": [],
   "source": [
    "#west area 15min\n",
    "mse = mean_squared_error(y_pred=yp_west, y_true=ytest_west)\n",
    "mae = mean_absolute_error(y_pred=yp_west, y_true=ytest_west)\n",
    "rmse = math.sqrt(mean_squared_error(y_pred=yp_west, y_true=ytest_west))\n",
    "r2 = r2_score(y_pred=yp_west, y_true=ytest_west)\n",
    "print(round(mse,5))\n",
    "print(round(mae,5))\n",
    "print(round(rmse,5))\n",
    "print(round(r2,5))"
   ]
  },
  {
   "cell_type": "code",
   "execution_count": null,
   "id": "2b48abc8-4afa-4f73-8027-e28f5db67a34",
   "metadata": {},
   "outputs": [],
   "source": [
    "#south area 15min\n",
    "mse = mean_squared_error(y_pred=yp_south, y_true=ytest_south)\n",
    "mae = mean_absolute_error(y_pred=yp_south, y_true=ytest_south)\n",
    "rmse = math.sqrt(mean_squared_error(y_pred=yp_south, y_true=ytest_south))\n",
    "r2 = r2_score(y_pred=yp_south, y_true=ytest_south)\n",
    "print(round(mse,5))\n",
    "print(round(mae,5))\n",
    "print(round(rmse,5))\n",
    "print(round(r2,5))"
   ]
  },
  {
   "cell_type": "code",
   "execution_count": null,
   "id": "745b67a6-6c3b-40a5-849f-262320079717",
   "metadata": {},
   "outputs": [],
   "source": [
    "#north area 15min\n",
    "mse = mean_squared_error(y_pred=yp_north, y_true=ytest_north)\n",
    "mae = mean_absolute_error(y_pred=yp_north, y_true=ytest_north)\n",
    "rmse = math.sqrt(mean_squared_error(y_pred=yp_north, y_true=ytest_north))\n",
    "r2 = r2_score(y_pred=yp_north, y_true=ytest_north)\n",
    "print(round(mse,5))\n",
    "print(round(mae,5))\n",
    "print(round(rmse,5))\n",
    "print(round(r2,5))"
   ]
  },
  {
   "cell_type": "markdown",
   "id": "e04ddd2f-76e7-42b8-b775-f42206fe9b5c",
   "metadata": {},
   "source": [
    "### 1 hour"
   ]
  },
  {
   "cell_type": "code",
   "execution_count": null,
   "id": "3a1dd291-1444-4fb6-96dc-bde5c108581d",
   "metadata": {},
   "outputs": [],
   "source": [
    "xtest_central,ytest_central = X_Y_split_DL(test_central, window_size=4,label_col_no=0)\n",
    "xtest_east,ytest_east = X_Y_split_DL(test_east, window_size=4,label_col_no=0)\n",
    "xtest_west,ytest_west = X_Y_split_DL(test_west, window_size=4,label_col_no=0)\n",
    "xtest_south,ytest_south = X_Y_split_DL(test_south, window_size=4,label_col_no=0)\n",
    "xtest_north,ytest_north = X_Y_split_DL(test_north, window_size=4,label_col_no=0)"
   ]
  },
  {
   "cell_type": "code",
   "execution_count": null,
   "id": "47cc07d8-bfc5-4afd-91fc-fc85a049198e",
   "metadata": {},
   "outputs": [],
   "source": [
    "#1hr\n",
    "m_central=lstm_best_1hr\n",
    "m_east=lstm_best_1hr\n",
    "m_west=lstm_best_1hr\n",
    "m_south=lstm_best_1hr\n",
    "m_north=lstm_best_1hr"
   ]
  },
  {
   "cell_type": "code",
   "execution_count": null,
   "id": "3ca0ee4c-244c-4d41-b23b-b4236238b32c",
   "metadata": {},
   "outputs": [],
   "source": [
    "yp_central = m_central.predict(xtest_central)\n",
    "yp_east = m_east.predict(xtest_east)\n",
    "yp_west = m_west.predict(xtest_west)\n",
    "yp_south = m_south.predict(xtest_south)\n",
    "yp_north = m_north.predict(xtest_north)"
   ]
  },
  {
   "cell_type": "code",
   "execution_count": null,
   "id": "2d695597-0809-48c3-815e-05dea7234361",
   "metadata": {},
   "outputs": [],
   "source": [
    "#central area 1hr\n",
    "mse = mean_squared_error(y_pred=yp_central, y_true=ytest_central)\n",
    "mae = mean_absolute_error(y_pred=yp_central, y_true=ytest_central)\n",
    "rmse = math.sqrt(mean_squared_error(y_pred=yp_central, y_true=ytest_central))\n",
    "r2 = r2_score(y_pred=yp_central, y_true=ytest_central)\n",
    "print(round(mse,5))\n",
    "print(round(mae,5))\n",
    "print(round(rmse,5))\n",
    "print(round(r2,5))"
   ]
  },
  {
   "cell_type": "code",
   "execution_count": null,
   "id": "e81bc2f8-9f82-44dc-a86e-61b8d99714af",
   "metadata": {},
   "outputs": [],
   "source": [
    "#east area 1hr\n",
    "mse = mean_squared_error(y_pred=yp_east, y_true=ytest_east)\n",
    "mae = mean_absolute_error(y_pred=yp_east, y_true=ytest_east)\n",
    "rmse = math.sqrt(mean_squared_error(y_pred=yp_east, y_true=ytest_east))\n",
    "r2 = r2_score(y_pred=yp_east, y_true=ytest_east)\n",
    "print(round(mse,5))\n",
    "print(round(mae,5))\n",
    "print(round(rmse,5))\n",
    "print(round(r2,5))"
   ]
  },
  {
   "cell_type": "code",
   "execution_count": null,
   "id": "6ac8df0a-4edd-40a1-87b7-0195dbe74e28",
   "metadata": {},
   "outputs": [],
   "source": [
    "#west area 1hr\n",
    "mse = mean_squared_error(y_pred=yp_west, y_true=ytest_west)\n",
    "mae = mean_absolute_error(y_pred=yp_west, y_true=ytest_west)\n",
    "rmse = math.sqrt(mean_squared_error(y_pred=yp_west, y_true=ytest_west))\n",
    "r2 = r2_score(y_pred=yp_west, y_true=ytest_west)\n",
    "print(round(mse,5))\n",
    "print(round(mae,5))\n",
    "print(round(rmse,5))\n",
    "print(round(r2,5))"
   ]
  },
  {
   "cell_type": "code",
   "execution_count": null,
   "id": "5f2a2381-20c5-4340-9480-3e451bf60b78",
   "metadata": {},
   "outputs": [],
   "source": [
    "#south area 1hr\n",
    "mse = mean_squared_error(y_pred=yp_south, y_true=ytest_south)\n",
    "mae = mean_absolute_error(y_pred=yp_south, y_true=ytest_south)\n",
    "rmse = math.sqrt(mean_squared_error(y_pred=yp_south, y_true=ytest_south))\n",
    "r2 = r2_score(y_pred=yp_south, y_true=ytest_south)\n",
    "print(round(mse,5))\n",
    "print(round(mae,5))\n",
    "print(round(rmse,5))\n",
    "print(round(r2,5))"
   ]
  },
  {
   "cell_type": "code",
   "execution_count": null,
   "id": "c86c86cc-3997-4b98-8b6d-82faf6e481e7",
   "metadata": {},
   "outputs": [],
   "source": [
    "#north area 1hr\n",
    "mse = mean_squared_error(y_pred=yp_north, y_true=ytest_north)\n",
    "mae = mean_absolute_error(y_pred=yp_north, y_true=ytest_north)\n",
    "rmse = math.sqrt(mean_squared_error(y_pred=yp_north, y_true=ytest_north))\n",
    "r2 = r2_score(y_pred=yp_north, y_true=ytest_north)\n",
    "print(round(mse,5))\n",
    "print(round(mae,5))\n",
    "print(round(rmse,5))\n",
    "print(round(r2,5))"
   ]
  },
  {
   "cell_type": "markdown",
   "id": "e0543462-6dae-4215-b6fc-b5804fe52d47",
   "metadata": {},
   "source": [
    "### 4 hour"
   ]
  },
  {
   "cell_type": "code",
   "execution_count": null,
   "id": "cb6d7598-eb12-45a8-867a-ac1b6b8f1043",
   "metadata": {},
   "outputs": [],
   "source": [
    "xtest_central,ytest_central = X_Y_split_DL(test_central, window_size=16,label_col_no=0)\n",
    "xtest_east,ytest_east = X_Y_split_DL(test_east, window_size=16,label_col_no=0)\n",
    "xtest_west,ytest_west = X_Y_split_DL(test_west, window_size=16,label_col_no=0)\n",
    "xtest_south,ytest_south = X_Y_split_DL(test_south, window_size=16,label_col_no=0)\n",
    "xtest_north,ytest_north = X_Y_split_DL(test_north, window_size=16,label_col_no=0)"
   ]
  },
  {
   "cell_type": "code",
   "execution_count": null,
   "id": "918152fb-08b5-4f3e-86f1-c27c7cba8c2e",
   "metadata": {},
   "outputs": [],
   "source": [
    "#4hr\n",
    "m_central=lstm_best_4hr\n",
    "m_east=lstm_best_4hr\n",
    "m_west=lstm_best_4hr\n",
    "m_south=lstm_best_4hr\n",
    "m_north=lstm_best_4hr"
   ]
  },
  {
   "cell_type": "code",
   "execution_count": null,
   "id": "000e44f7-936c-44b5-8c6d-0c316f892952",
   "metadata": {},
   "outputs": [],
   "source": [
    "yp_central = m_central.predict(xtest_central)\n",
    "yp_east = m_east.predict(xtest_east)\n",
    "yp_west = m_west.predict(xtest_west)\n",
    "yp_south = m_south.predict(xtest_south)\n",
    "yp_north = m_north.predict(xtest_north)"
   ]
  },
  {
   "cell_type": "code",
   "execution_count": null,
   "id": "53efa082-2505-4e9c-82ab-d42333940eb3",
   "metadata": {},
   "outputs": [],
   "source": [
    "#central area 4hr\n",
    "mse = mean_squared_error(y_pred=yp_central, y_true=ytest_central)\n",
    "mae = mean_absolute_error(y_pred=yp_central, y_true=ytest_central)\n",
    "rmse = math.sqrt(mean_squared_error(y_pred=yp_central, y_true=ytest_central))\n",
    "r2 = r2_score(y_pred=yp_central, y_true=ytest_central)\n",
    "print(round(mse,5))\n",
    "print(round(mae,5))\n",
    "print(round(rmse,5))\n",
    "print(round(r2,5))"
   ]
  },
  {
   "cell_type": "code",
   "execution_count": null,
   "id": "3e6a9999-2e72-4fe5-90bc-9d5d6b76e512",
   "metadata": {},
   "outputs": [],
   "source": [
    "#east area 4hr\n",
    "mse = mean_squared_error(y_pred=yp_east, y_true=ytest_east)\n",
    "mae = mean_absolute_error(y_pred=yp_east, y_true=ytest_east)\n",
    "rmse = math.sqrt(mean_squared_error(y_pred=yp_east, y_true=ytest_east))\n",
    "r2 = r2_score(y_pred=yp_east, y_true=ytest_east)\n",
    "print(round(mse,5))\n",
    "print(round(mae,5))\n",
    "print(round(rmse,5))\n",
    "print(round(r2,5))"
   ]
  },
  {
   "cell_type": "code",
   "execution_count": null,
   "id": "a8769849-265a-4af8-98a4-f8acb0c0750e",
   "metadata": {},
   "outputs": [],
   "source": [
    "#west area 4hr\n",
    "mse = mean_squared_error(y_pred=yp_west, y_true=ytest_west)\n",
    "mae = mean_absolute_error(y_pred=yp_west, y_true=ytest_west)\n",
    "rmse = math.sqrt(mean_squared_error(y_pred=yp_west, y_true=ytest_west))\n",
    "r2 = r2_score(y_pred=yp_west, y_true=ytest_west)\n",
    "print(round(mse,5))\n",
    "print(round(mae,5))\n",
    "print(round(rmse,5))\n",
    "print(round(r2,5))"
   ]
  },
  {
   "cell_type": "code",
   "execution_count": null,
   "id": "641dc16e-c041-40ff-ab36-7cbe98178765",
   "metadata": {},
   "outputs": [],
   "source": [
    "#south area 4hr\n",
    "mse = mean_squared_error(y_pred=yp_south, y_true=ytest_south)\n",
    "mae = mean_absolute_error(y_pred=yp_south, y_true=ytest_south)\n",
    "rmse = math.sqrt(mean_squared_error(y_pred=yp_south, y_true=ytest_south))\n",
    "r2 = r2_score(y_pred=yp_south, y_true=ytest_south)\n",
    "print(round(mse,5))\n",
    "print(round(mae,5))\n",
    "print(round(rmse,5))\n",
    "print(round(r2,5))"
   ]
  },
  {
   "cell_type": "code",
   "execution_count": null,
   "id": "17311ec4-1018-4c6f-86ad-52774e075d63",
   "metadata": {},
   "outputs": [],
   "source": [
    "#north area 4hr\n",
    "mse = mean_squared_error(y_pred=yp_north, y_true=ytest_north)\n",
    "mae = mean_absolute_error(y_pred=yp_north, y_true=ytest_north)\n",
    "rmse = math.sqrt(mean_squared_error(y_pred=yp_north, y_true=ytest_north))\n",
    "r2 = r2_score(y_pred=yp_north, y_true=ytest_north)\n",
    "print(round(mse,5))\n",
    "print(round(mae,5))\n",
    "print(round(rmse,5))\n",
    "print(round(r2,5))"
   ]
  },
  {
   "cell_type": "markdown",
   "id": "f02a544a-e9d4-445e-8e57-95475c822411",
   "metadata": {},
   "source": [
    "## performance on different time window in five regions (individual level)"
   ]
  },
  {
   "cell_type": "code",
   "execution_count": null,
   "id": "531bcdf2-660c-4701-a5c4-9fca367287dc",
   "metadata": {},
   "outputs": [],
   "source": [
    "#individual car park\n",
    "#central\n",
    "train_41 =train_central[train_central.carpark_number==0]\n",
    "test_41 =test_central[test_central.carpark_number==0]\n",
    "#north\n",
    "train_547 =train_north[train_north.carpark_number==0]\n",
    "test_547 =test_north[test_north.carpark_number==0]\n",
    "#west\n",
    "train_22 =train_west[train_west.carpark_number==0]\n",
    "test_22 =test_west[test_west.carpark_number==0]\n",
    "#east\n",
    "train_437 =train_east[train_east.carpark_number==0]\n",
    "test_437 =test_east[test_east.carpark_number==0]\n",
    "#south\n",
    "train_514 =train_south[train_south.carpark_number==0]\n",
    "test_514=test_south[test_south.carpark_number==0]"
   ]
  },
  {
   "cell_type": "markdown",
   "id": "b4fe988a-02ec-4c30-b6bd-551cb0555b6f",
   "metadata": {},
   "source": [
    "### 15 minute"
   ]
  },
  {
   "cell_type": "code",
   "execution_count": null,
   "id": "a0db38c7-cbad-408d-8c26-8cad3f68cd44",
   "metadata": {},
   "outputs": [],
   "source": [
    "#central\n",
    "xtest41,ytest41 = window_generator_DL(test_41, window_size=1,label_col_no=0)\n",
    "#north\n",
    "xtest547,ytest547 = window_generator_DL(test_547, window_size=1,label_col_no=0)\n",
    "#west\n",
    "xtest22,ytest22 = window_generator_DL(test_22, window_size=1,label_col_no=0)\n",
    "#east\n",
    "xtest437,ytest437 = window_generator_DL(test_437, window_size=1,label_col_no=0)\n",
    "#south\n",
    "xtest514,ytest514 = window_generator_DL(test_514, window_size=1,label_col_no=0)"
   ]
  },
  {
   "cell_type": "code",
   "execution_count": null,
   "id": "65222efc-2fb8-4a6a-84a9-5ece69d43224",
   "metadata": {},
   "outputs": [],
   "source": [
    "#15min\n",
    "m_central_single=lstm_best_15min\n",
    "m_east_single=lstm_best_15min\n",
    "m_west_single=lstm_best_15min\n",
    "m_south_single=lstm_best_15min\n",
    "m_north_single=lstm_best_15min"
   ]
  },
  {
   "cell_type": "code",
   "execution_count": null,
   "id": "fb348683-7851-4e35-b45e-d967aa9d780e",
   "metadata": {},
   "outputs": [],
   "source": [
    "yp_central = m_central_single.predict(xtest41)\n",
    "yp_east = m_east_single.predict(xtest437)\n",
    "yp_west = m_west_single.predict(xtest22)\n",
    "yp_south = m_south_single.predict(xtest514)\n",
    "yp_north = m_north_single.predict(xtest547)"
   ]
  },
  {
   "cell_type": "code",
   "execution_count": null,
   "id": "7b95eae9-7996-4d15-83ac-1364f5663ad9",
   "metadata": {},
   "outputs": [],
   "source": [
    "#central area 15min\n",
    "mse = mean_squared_error(y_pred=yp_central, y_true=ytest41)\n",
    "mae = mean_absolute_error(y_pred=yp_central, y_true=ytest41)\n",
    "rmse = math.sqrt(mean_squared_error(y_pred=yp_central, y_true=ytest41))\n",
    "r2 = r2_score(y_pred=yp_central, y_true=ytest41)\n",
    "print(round(mse,5))\n",
    "print(round(mae,5))\n",
    "print(round(rmse,5))\n",
    "print(round(r2,5))"
   ]
  },
  {
   "cell_type": "code",
   "execution_count": null,
   "id": "47e20a4d-b19f-4e84-b1c1-9315385592af",
   "metadata": {},
   "outputs": [],
   "source": [
    "#east area 15min\n",
    "mse = mean_squared_error(y_pred=yp_east, y_true=ytest437)\n",
    "mae = mean_absolute_error(y_pred=yp_east, y_true=ytest437)\n",
    "rmse = math.sqrt(mean_squared_error(y_pred=yp_east, y_true=ytest437))\n",
    "r2 = r2_score(y_pred=yp_east, y_true=ytest437)\n",
    "print(round(mse,5))\n",
    "print(round(mae,5))\n",
    "print(round(rmse,5))\n",
    "print(round(r2,5))"
   ]
  },
  {
   "cell_type": "code",
   "execution_count": null,
   "id": "aa7b6655-3839-4384-a905-37cbc454f0d0",
   "metadata": {},
   "outputs": [],
   "source": [
    "#west area 15min\n",
    "mse = mean_squared_error(y_pred=yp_west, y_true=ytest22)\n",
    "mae = mean_absolute_error(y_pred=yp_west, y_true=ytest22)\n",
    "rmse = math.sqrt(mean_squared_error(y_pred=yp_west, y_true=ytest22))\n",
    "r2 = r2_score(y_pred=yp_west, y_true=ytest22)\n",
    "print(round(mse,5))\n",
    "print(round(mae,5))\n",
    "print(round(rmse,5))\n",
    "print(round(r2,5))"
   ]
  },
  {
   "cell_type": "code",
   "execution_count": null,
   "id": "efeb908c-2328-42ce-9226-4830dd170b9f",
   "metadata": {},
   "outputs": [],
   "source": [
    "#south area 15min\n",
    "mse = mean_squared_error(y_pred=yp_south, y_true=ytest514)\n",
    "mae = mean_absolute_error(y_pred=yp_south, y_true=ytest514)\n",
    "rmse = math.sqrt(mean_squared_error(y_pred=yp_south, y_true=ytest514))\n",
    "r2 = r2_score(y_pred=yp_south, y_true=ytest514)\n",
    "print(round(mse,5))\n",
    "print(round(mae,5))\n",
    "print(round(rmse,5))\n",
    "print(round(r2,5))"
   ]
  },
  {
   "cell_type": "code",
   "execution_count": null,
   "id": "727a1c48-7c7e-4832-8017-147d334af423",
   "metadata": {},
   "outputs": [],
   "source": [
    "#north area 15min\n",
    "mse = mean_squared_error(y_pred=yp_north, y_true=ytest547)\n",
    "mae = mean_absolute_error(y_pred=yp_north, y_true=ytest547)\n",
    "rmse = math.sqrt(mean_squared_error(y_pred=yp_north, y_true=ytest547))\n",
    "r2 = r2_score(y_pred=yp_north, y_true=ytest547)\n",
    "print(round(mse,5))\n",
    "print(round(mae,5))\n",
    "print(round(rmse,5))\n",
    "print(round(r2,5))"
   ]
  },
  {
   "cell_type": "markdown",
   "id": "79a08d92-5c7b-407f-86fe-e12af43855a5",
   "metadata": {},
   "source": [
    "### 1 hour"
   ]
  },
  {
   "cell_type": "code",
   "execution_count": null,
   "id": "951339b3-656b-4b77-a7c2-7e2803075d32",
   "metadata": {},
   "outputs": [],
   "source": [
    "#central\n",
    "xtest41,ytest41 = window_generator_DL(test_41, window_size=4,label_col_no=0)\n",
    "#north\n",
    "xtest547,ytest547 = window_generator_DL(test_547, window_size=4,label_col_no=0)\n",
    "#west\n",
    "xtest22,ytest22 = window_generator_DL(test_22, window_size=4,label_col_no=0)\n",
    "#east\n",
    "xtest437,ytest437 = window_generator_DL(test_437, window_size=4,label_col_no=0)\n",
    "#south\n",
    "xtest514,ytest514 = window_generator_DL(test_514, window_size=4,label_col_no=0)"
   ]
  },
  {
   "cell_type": "code",
   "execution_count": null,
   "id": "d9a9e667-1661-4b52-bfa2-f4948b574f6f",
   "metadata": {},
   "outputs": [],
   "source": [
    "#1hr\n",
    "m_central_single=lstm_best_1hr\n",
    "m_east_single=lstm_best_1hr\n",
    "m_west_single=lstm_best_1hr\n",
    "m_south_single=lstm_best_1hr\n",
    "m_north_single=lstm_best_1hr"
   ]
  },
  {
   "cell_type": "code",
   "execution_count": null,
   "id": "59e9d782-e4af-455d-a11f-15664ec0a063",
   "metadata": {},
   "outputs": [],
   "source": [
    "yp_central = m_central_single.predict(xtest41)\n",
    "yp_east = m_east_single.predict(xtest437)\n",
    "yp_west = m_west_single.predict(xtest22)\n",
    "yp_south = m_south_single.predict(xtest514)\n",
    "yp_north = m_north_single.predict(xtest547)"
   ]
  },
  {
   "cell_type": "code",
   "execution_count": null,
   "id": "ec4aae95-5c52-4848-a306-87dde43148c7",
   "metadata": {},
   "outputs": [],
   "source": [
    "#central area 1hr\n",
    "mse = mean_squared_error(y_pred=yp_central, y_true=ytest41)\n",
    "mae = mean_absolute_error(y_pred=yp_central, y_true=ytest41)\n",
    "rmse = math.sqrt(mean_squared_error(y_pred=yp_central, y_true=ytest41))\n",
    "r2 = r2_score(y_pred=yp_central, y_true=ytest41)\n",
    "print(round(mse,5))\n",
    "print(round(mae,5))\n",
    "print(round(rmse,5))\n",
    "print(round(r2,5))"
   ]
  },
  {
   "cell_type": "code",
   "execution_count": null,
   "id": "051c34c1-4113-4f85-9a39-c3df32cafc01",
   "metadata": {},
   "outputs": [],
   "source": [
    "#east area 1hr\n",
    "mse = mean_squared_error(y_pred=yp_east, y_true=ytest437)\n",
    "mae = mean_absolute_error(y_pred=yp_east, y_true=ytest437)\n",
    "rmse = math.sqrt(mean_squared_error(y_pred=yp_east, y_true=ytest437))\n",
    "r2 = r2_score(y_pred=yp_east, y_true=ytest437)\n",
    "print(round(mse,5))\n",
    "print(round(mae,5))\n",
    "print(round(rmse,5))\n",
    "print(round(r2,5))"
   ]
  },
  {
   "cell_type": "code",
   "execution_count": null,
   "id": "93cfa057-791f-4108-9abd-eca61c7d5f7f",
   "metadata": {},
   "outputs": [],
   "source": [
    "#west area 1hr\n",
    "mse = mean_squared_error(y_pred=yp_west, y_true=ytest22)\n",
    "mae = mean_absolute_error(y_pred=yp_west, y_true=ytest22)\n",
    "rmse = math.sqrt(mean_squared_error(y_pred=yp_west, y_true=ytest22))\n",
    "r2 = r2_score(y_pred=yp_west, y_true=ytest22)\n",
    "print(round(mse,5))\n",
    "print(round(mae,5))\n",
    "print(round(rmse,5))\n",
    "print(round(r2,5))"
   ]
  },
  {
   "cell_type": "code",
   "execution_count": null,
   "id": "1977af2f-a653-40e3-9dfb-0e5123928ae3",
   "metadata": {},
   "outputs": [],
   "source": [
    "#south area 1hr\n",
    "mse = mean_squared_error(y_pred=yp_south, y_true=ytest514)\n",
    "mae = mean_absolute_error(y_pred=yp_south, y_true=ytest514)\n",
    "rmse = math.sqrt(mean_squared_error(y_pred=yp_south, y_true=ytest514))\n",
    "r2 = r2_score(y_pred=yp_south, y_true=ytest514)\n",
    "print(round(mse,5))\n",
    "print(round(mae,5))\n",
    "print(round(rmse,5))\n",
    "print(round(r2,5))"
   ]
  },
  {
   "cell_type": "code",
   "execution_count": null,
   "id": "d769b5cf-0308-4f22-980a-6582352bd89d",
   "metadata": {},
   "outputs": [],
   "source": [
    "#north area 1hr\n",
    "mse = mean_squared_error(y_pred=yp_north, y_true=ytest547)\n",
    "mae = mean_absolute_error(y_pred=yp_north, y_true=ytest547)\n",
    "rmse = math.sqrt(mean_squared_error(y_pred=yp_north, y_true=ytest547))\n",
    "r2 = r2_score(y_pred=yp_north, y_true=ytest547)\n",
    "print(round(mse,5))\n",
    "print(round(mae,5))\n",
    "print(round(rmse,5))\n",
    "print(round(r2,5))"
   ]
  },
  {
   "cell_type": "markdown",
   "id": "4ab3a979-f4c3-4d47-bb09-eea89f3044b5",
   "metadata": {},
   "source": [
    "### 4 hour"
   ]
  },
  {
   "cell_type": "code",
   "execution_count": null,
   "id": "f9d98bc2-e82c-40f3-89a3-afdff706c004",
   "metadata": {},
   "outputs": [],
   "source": [
    "#central\n",
    "xtest41,ytest41 = window_generator_DL(test_41, window_size=16,label_col_no=0)\n",
    "#north\n",
    "xtest547,ytest547 = window_generator_DL(test_547, window_size=16,label_col_no=0)\n",
    "#west\n",
    "xtest22,ytest22 = window_generator_DL(test_22, window_size=16,label_col_no=0)\n",
    "#east\n",
    "xtest437,ytest437 = window_generator_DL(test_437, window_size=16,label_col_no=0)\n",
    "#south\n",
    "xtest514,ytest514 = window_generator_DL(test_514, window_size=16,label_col_no=0)"
   ]
  },
  {
   "cell_type": "code",
   "execution_count": null,
   "id": "50be4b23-7b73-4ef3-9921-4f7370d2c7f1",
   "metadata": {},
   "outputs": [],
   "source": [
    "#4hr\n",
    "m_central_single=lstm_best_4hr\n",
    "m_east_single=lstm_best_4hr\n",
    "m_west_single=lstm_best_4hr\n",
    "m_south_single=lstm_best_4hr\n",
    "m_north_single=lstm_best_4hr"
   ]
  },
  {
   "cell_type": "code",
   "execution_count": null,
   "id": "5c9b17f8-5c5e-4d80-b616-993973dce7fb",
   "metadata": {},
   "outputs": [],
   "source": [
    "yp_central = m_central_single.predict(xtest41)\n",
    "yp_east = m_east_single.predict(xtest437)\n",
    "yp_west = m_west_single.predict(xtest22)\n",
    "yp_south = m_south_single.predict(xtest514)\n",
    "yp_north = m_north_single.predict(xtest547)"
   ]
  },
  {
   "cell_type": "code",
   "execution_count": null,
   "id": "3cbeee2d-a158-4c43-8350-690224a23dbe",
   "metadata": {},
   "outputs": [],
   "source": [
    "#central area 4hr\n",
    "mse = mean_squared_error(y_pred=yp_central, y_true=ytest41)\n",
    "mae = mean_absolute_error(y_pred=yp_central, y_true=ytest41)\n",
    "rmse = math.sqrt(mean_squared_error(y_pred=yp_central, y_true=ytest41))\n",
    "r2 = r2_score(y_pred=yp_central, y_true=ytest41)\n",
    "print(round(mse,5))\n",
    "print(round(mae,5))\n",
    "print(round(rmse,5))\n",
    "print(round(r2,5))"
   ]
  },
  {
   "cell_type": "code",
   "execution_count": null,
   "id": "50203657-e3fd-4c6f-b55b-fdff215915ed",
   "metadata": {},
   "outputs": [],
   "source": [
    "#east area 4hr\n",
    "mse = mean_squared_error(y_pred=yp_east, y_true=ytest437)\n",
    "mae = mean_absolute_error(y_pred=yp_east, y_true=ytest437)\n",
    "rmse = math.sqrt(mean_squared_error(y_pred=yp_east, y_true=ytest437))\n",
    "r2 = r2_score(y_pred=yp_east, y_true=ytest437)\n",
    "print(round(mse,5))\n",
    "print(round(mae,5))\n",
    "print(round(rmse,5))\n",
    "print(round(r2,5))"
   ]
  },
  {
   "cell_type": "code",
   "execution_count": null,
   "id": "377cc57b-5c56-4ced-87b9-50e799be6217",
   "metadata": {},
   "outputs": [],
   "source": [
    "#west area 4hr\n",
    "mse = mean_squared_error(y_pred=yp_west, y_true=ytest22)\n",
    "mae = mean_absolute_error(y_pred=yp_west, y_true=ytest22)\n",
    "rmse = math.sqrt(mean_squared_error(y_pred=yp_west, y_true=ytest22))\n",
    "r2 = r2_score(y_pred=yp_west, y_true=ytest22)\n",
    "print(round(mse,5))\n",
    "print(round(mae,5))\n",
    "print(round(rmse,5))\n",
    "print(round(r2,5))"
   ]
  },
  {
   "cell_type": "code",
   "execution_count": null,
   "id": "0fec401c-7423-4ba2-8fa6-52a8e2a90a06",
   "metadata": {},
   "outputs": [],
   "source": [
    "#south area 4hr\n",
    "mse = mean_squared_error(y_pred=yp_south, y_true=ytest514)\n",
    "mae = mean_absolute_error(y_pred=yp_south, y_true=ytest514)\n",
    "rmse = math.sqrt(mean_squared_error(y_pred=yp_south, y_true=ytest514))\n",
    "r2 = r2_score(y_pred=yp_south, y_true=ytest514)\n",
    "print(round(mse,5))\n",
    "print(round(mae,5))\n",
    "print(round(rmse,5))\n",
    "print(round(r2,5))"
   ]
  },
  {
   "cell_type": "code",
   "execution_count": null,
   "id": "57a88e13-015a-4219-b2e6-5886abca02d3",
   "metadata": {},
   "outputs": [],
   "source": [
    "#north area 4hr\n",
    "mse = mean_squared_error(y_pred=yp_north, y_true=ytest547)\n",
    "mae = mean_absolute_error(y_pred=yp_north, y_true=ytest547)\n",
    "rmse = math.sqrt(mean_squared_error(y_pred=yp_north, y_true=ytest547))\n",
    "r2 = r2_score(y_pred=yp_north, y_true=ytest547)\n",
    "print(round(mse,5))\n",
    "print(round(mae,5))\n",
    "print(round(rmse,5))\n",
    "print(round(r2,5))"
   ]
  },
  {
   "cell_type": "markdown",
   "id": "3d4c1a9f-dc00-479d-8016-368825fcb7dd",
   "metadata": {},
   "source": [
    "## performance on different time horizon using model with best time window size (4 hour = 16 timestep)"
   ]
  },
  {
   "cell_type": "markdown",
   "id": "edf4d8fe-4140-4901-8f28-e05d473928ab",
   "metadata": {},
   "source": [
    "### entire dataset"
   ]
  },
  {
   "cell_type": "code",
   "execution_count": null,
   "id": "155096d3-2514-44a7-a191-be4dfea9379b",
   "metadata": {},
   "outputs": [],
   "source": [
    "lstm_4hr_whole = lstm_best_4hr"
   ]
  },
  {
   "cell_type": "code",
   "execution_count": null,
   "id": "a4d20d5b-57fd-45e9-bb2d-c29713b56df7",
   "metadata": {},
   "outputs": [],
   "source": [
    "x,y = last_x_y_generator_DL(val, window_size=16,label_col_no=0)"
   ]
  },
  {
   "cell_type": "code",
   "execution_count": null,
   "id": "1a61d4c5-04b5-4146-b384-85d641c5bbe1",
   "metadata": {},
   "outputs": [],
   "source": [
    "current_batch = x[:,1:,:]"
   ]
  },
  {
   "cell_type": "code",
   "execution_count": null,
   "id": "ef2eb58a-8142-41e4-b434-bbc1b5810245",
   "metadata": {},
   "outputs": [],
   "source": [
    "#entire dataset\n",
    "future_len = 40\n",
    "Test_new = Test[['lots_available', 'carpark_number','day_of_week','hour_of_day']]\n",
    "Test_new = Test_new.sort_values(by=['carpark_number', 'datetime'])\n",
    "l=[]\n",
    "L=pd.DataFrame()\n",
    "for i in sorted(Test_new.carpark_number.value_counts().keys()):\n",
    "  inner = Test_new[Test_new.carpark_number == i]\n",
    "  inner = inner.reset_index()\n",
    "  inner = inner.iloc[0:future_len,:]\n",
    "  l.append(inner)\n",
    "L = L.append(l)\n",
    "L['value'] = L.index.values\n",
    "L = L.sort_index()\n",
    "L = L.sort_values(by=['value','carpark_number'])"
   ]
  },
  {
   "cell_type": "code",
   "execution_count": null,
   "id": "f24a591b-130e-411b-a6c2-b7edf6ff36fc",
   "metadata": {},
   "outputs": [],
   "source": [
    "future=40\n",
    "forecast = []\n",
    "Xin = current_batch\n",
    "\n",
    "for i in range(future):\n",
    "    out = lstm_4hr_whole.predict(Xin, batch_size=855)    \n",
    "    forecast.append(out) \n",
    "    print(forecast)\n",
    "    Xin = insert_end_DL(Xin,out,16)\n",
    "    Xin[:,15,1:2] = L[['day_of_week']][i*855:(i*855)+855]\n",
    "    Xin[:,15,2:3] = L[['hour_of_day']][i*855:(i*855)+855]"
   ]
  },
  {
   "cell_type": "code",
   "execution_count": null,
   "id": "40e15434-4b54-43da-91df-65058127e0c0",
   "metadata": {},
   "outputs": [],
   "source": [
    "Y_t = L['lots_available']\n",
    "\n",
    "l=[]\n",
    "for i in range(40):\n",
    "  l.append(Y_t[i*855:(i*855)+855])"
   ]
  },
  {
   "cell_type": "code",
   "execution_count": null,
   "id": "b5f0269b-e1a7-434f-b96b-130571c1d72e",
   "metadata": {},
   "outputs": [],
   "source": [
    "rmse40step=[]\n",
    "for i in range(40):\n",
    "  rmse40step.append(math.sqrt(mean_squared_error(y_pred=forecast[i], y_true=l[i])))"
   ]
  },
  {
   "cell_type": "code",
   "execution_count": null,
   "id": "fa64b439-a907-4316-82fd-158280fc412e",
   "metadata": {},
   "outputs": [],
   "source": [
    "rmse40step = pd.DataFrame(rmse40step)\n",
    "rmse40step.to_csv('rmse40step855.csv')"
   ]
  },
  {
   "cell_type": "markdown",
   "id": "db5dc81f-22c6-472c-b012-46a5c1965a42",
   "metadata": {},
   "source": [
    "### group level (five regions, 10 to 12 parking lots per region)"
   ]
  },
  {
   "cell_type": "code",
   "execution_count": null,
   "id": "3cc315ae-793d-4809-b014-9a7728a9b087",
   "metadata": {},
   "outputs": [],
   "source": [
    "lstm_4hr_central = lstm_best_4hr\n",
    "lstm_4hr_north = lstm_best_4hr\n",
    "lstm_4hr_east = lstm_best_4hr\n",
    "lstm_4hr_west = lstm_best_4hr\n",
    "lstm_4hr_south = lstm_best_4hr"
   ]
  },
  {
   "cell_type": "code",
   "execution_count": null,
   "id": "22cd9733-e393-419f-bbfa-05c2245b6170",
   "metadata": {},
   "outputs": [],
   "source": [
    "x_central, _ = last_x_y_generator_DL(train_central, window_size=16,label_col_no=0)\n",
    "x_north,   _ = last_x_y_generator_DL(train_north, window_size=16,label_col_no=0)\n",
    "x_west,    _ = last_x_y_generator_DL(train_west, window_size=16,label_col_no=0)\n",
    "x_east,    _ = last_x_y_generator_DL(train_east, window_size=16,label_col_no=0)\n",
    "x_south,   _ = last_x_y_generator_DL(train_south, window_size=16,label_col_no=0)"
   ]
  },
  {
   "cell_type": "code",
   "execution_count": null,
   "id": "e1e07b8b-80a0-4e3b-984b-fc65bb783476",
   "metadata": {},
   "outputs": [],
   "source": [
    "current_batch_central = x_central[:,1:,:]\n",
    "current_batch_north = x_north[:,1:,:]\n",
    "current_batch_west = x_west[:,1:,:]\n",
    "current_batch_east = x_east[:,1:,:]\n",
    "current_batch_south = x_south[:,1:,:]"
   ]
  },
  {
   "cell_type": "code",
   "execution_count": null,
   "id": "a0b98fb7-e0d1-4293-8fcf-e3303a485b42",
   "metadata": {},
   "outputs": [],
   "source": [
    "future_len = 40\n",
    "Test_new = test_south[['lots_available', 'carpark_number','day_of_week','hour_of_day']]\n",
    "Test_new = Test_new.sort_values(by=['carpark_number', 'datetime'])\n",
    "l=[]\n",
    "L=pd.DataFrame()\n",
    "for i in sorted(Test_new.carpark_number.value_counts().keys()):\n",
    "  inner = Test_new[Test_new.carpark_number == i]\n",
    "  inner = inner.reset_index()\n",
    "  inner = inner.iloc[0:future_len,:]\n",
    "  l.append(inner)\n",
    "L = L.append(l)\n",
    "L['value'] = L.index.values\n",
    "L = L.sort_index()\n",
    "L = L.sort_values(by=['value','carpark_number'])"
   ]
  },
  {
   "cell_type": "code",
   "execution_count": null,
   "id": "5f493a5b-f552-45f5-9645-64064734a189",
   "metadata": {},
   "outputs": [],
   "source": [
    "#central\n",
    "future=40\n",
    "forcast = []\n",
    "Xin = current_batch_central\n",
    "\n",
    "for i in range(future):\n",
    "    out = lstm_4hr_central.predict(Xin, batch_size=11)    \n",
    "    forcast.append(out) \n",
    "    print(forcast)\n",
    "    Xin = insert_end_DL(Xin,out,16)\n",
    "    Xin[:,15,1:2] = L[['day_of_week']][i*11:(i*11)+11]\n",
    "    Xin[:,15,2:3] = L[['hour_of_day']][i*11:(i*11)+11]"
   ]
  },
  {
   "cell_type": "code",
   "execution_count": null,
   "id": "66222679-f60a-4eac-9c59-fb97a24de005",
   "metadata": {},
   "outputs": [],
   "source": [
    "#north\n",
    "future=40\n",
    "forcast = []\n",
    "Xin = current_batch_north\n",
    "\n",
    "for i in range(future):\n",
    "    out = lstm_4hr_north.predict(Xin, batch_size=11)    \n",
    "    forcast.append(out) \n",
    "    print(forcast)\n",
    "    Xin = insert_end_DL(Xin,out,16)\n",
    "    Xin[:,15,1:2] = L[['day_of_week']][i*11:(i*11)+11]\n",
    "    Xin[:,15,2:3] = L[['hour_of_day']][i*11:(i*11)+11]"
   ]
  },
  {
   "cell_type": "code",
   "execution_count": null,
   "id": "ff9489eb-1d78-454b-bce5-93819e74958a",
   "metadata": {},
   "outputs": [],
   "source": [
    "#west\n",
    "future=40\n",
    "forcast = []\n",
    "Xin = current_batch_west\n",
    "\n",
    "for i in range(future):\n",
    "    out = lstm_4hr_west.predict(Xin, batch_size=12)    \n",
    "    forcast.append(out) \n",
    "    print(forcast)\n",
    "    Xin = insert_end_DL(Xin,out,16)\n",
    "    Xin[:,15,1:2] = L[['day_of_week']][i*12:(i*12)+12]\n",
    "    Xin[:,15,2:3] = L[['hour_of_day']][i*12:(i*12)+12]"
   ]
  },
  {
   "cell_type": "code",
   "execution_count": null,
   "id": "50c72efa-ccb6-4d12-84a5-e552ce289206",
   "metadata": {},
   "outputs": [],
   "source": [
    "#east\n",
    "future=40\n",
    "forcast = []\n",
    "Xin = current_batch_east\n",
    "\n",
    "for i in range(future):\n",
    "    out = lstm_4hr_east.predict(Xin, batch_size=11)    \n",
    "    forcast.append(out) \n",
    "    print(forcast)\n",
    "    Xin = insert_end_DL(Xin,out,16)\n",
    "    Xin[:,15,1:2] = L[['day_of_week']][i*11:(i*11)+11]\n",
    "    Xin[:,15,2:3] = L[['hour_of_day']][i*11:(i*11)+11]"
   ]
  },
  {
   "cell_type": "code",
   "execution_count": null,
   "id": "0a3413aa-95c7-4a22-be34-cc9ce1855acb",
   "metadata": {},
   "outputs": [],
   "source": [
    "#south\n",
    "future=40\n",
    "forcast = []\n",
    "Xin = current_batch_south\n",
    "\n",
    "for i in range(future):\n",
    "    out = lstm_4hr_south.predict(Xin, batch_size=10)    \n",
    "    forcast.append(out) \n",
    "    print(forcast)\n",
    "    Xin = insert_end_DL(Xin,out,16)\n",
    "    Xin[:,15,1:2] = L[['day_of_week']][i*10:(i*10)+10]\n",
    "    Xin[:,15,2:3] = L[['hour_of_day']][i*10:(i*10)+10]"
   ]
  },
  {
   "cell_type": "code",
   "execution_count": null,
   "id": "1555aa67-b2fd-4e72-ad24-977e67294f8c",
   "metadata": {},
   "outputs": [],
   "source": [
    "Y_t = L['lots_available']\n",
    "\n",
    "l=[]\n",
    "for i in range(40):\n",
    "  l.append(Y_t[i*10:(i*10)+10])"
   ]
  },
  {
   "cell_type": "code",
   "execution_count": null,
   "id": "35f1ad0e-197a-4bc8-be80-a73738ec8174",
   "metadata": {},
   "outputs": [],
   "source": [
    "rmse40step=[]\n",
    "for i in range(40):\n",
    "  rmse40step.append(math.sqrt(mean_squared_error(y_pred=forcast[i], y_true=l[i])))"
   ]
  },
  {
   "cell_type": "code",
   "execution_count": null,
   "id": "994944fb-d6a3-435e-b540-5288fac51a15",
   "metadata": {},
   "outputs": [],
   "source": [
    "rmse40step = pd.DataFrame(rmse40step)\n",
    "rmse40step.to_csv('rmse40step_south_lstm.csv')"
   ]
  },
  {
   "cell_type": "markdown",
   "id": "15647b40-6e50-42f6-886b-30a36cdfc852",
   "metadata": {},
   "source": [
    "### individual level (five regions, 1 parking lot per region)"
   ]
  },
  {
   "cell_type": "code",
   "execution_count": null,
   "id": "efbab16d-bf48-4cd0-92c2-76ce0022878e",
   "metadata": {},
   "outputs": [],
   "source": [
    "lstm_best_4hr_41 = lstm_best_4hr\n",
    "lstm_best_4hr_547 = lstm_best_4hr\n",
    "lstm_best_4hr_22 = lstm_best_4hr\n",
    "lstm_best_4hr_437 = lstm_best_4hr\n",
    "lstm_best_4hr_514 = lstm_best_4hr"
   ]
  },
  {
   "cell_type": "code",
   "execution_count": null,
   "id": "494bbf54-9bb6-43d5-a8bb-f33f19bcd06e",
   "metadata": {},
   "outputs": [],
   "source": [
    "#central\n",
    "xtrain41 = window_generator_DL(train_41, window_size=16,label_col_no=0)\n",
    "#north\n",
    "xtrain547 = window_generator_DL(train_547, window_size=16,label_col_no=0)\n",
    "#west\n",
    "xtrain22 = window_generator_DL(train_22, window_size=16,label_col_no=0)\n",
    "#east\n",
    "xtrain437 = window_generator_DL(train_437, window_size=16,label_col_no=0)\n",
    "#south\n",
    "xtrain514 = window_generator_DL(train_514, window_size=16,label_col_no=0)"
   ]
  },
  {
   "cell_type": "code",
   "execution_count": null,
   "id": "41d1a0a3-a33b-4eb7-8edb-6bad0ce576c3",
   "metadata": {},
   "outputs": [],
   "source": [
    "last_central = xtrain41[-1:,:,:]\n",
    "last_north = xtrain547[-1:,:,:]\n",
    "last_west = xtrain22[-1:,:,:]\n",
    "last_east = xtrain437[-1:,:,:]\n",
    "last_south = xtrain514[-1:,:,:]"
   ]
  },
  {
   "cell_type": "code",
   "execution_count": null,
   "id": "90aed0e9-44f4-4af0-b65c-0c2fbe43ab30",
   "metadata": {},
   "outputs": [],
   "source": [
    "current_batch_41 = last_central[:,1:,:]\n",
    "current_batch_547 = last_north[:,1:,:]\n",
    "current_batch_22 = last_west[:,1:,:]\n",
    "current_batch_437 = last_east[:,1:,:]\n",
    "current_batch_514 = last_south[:,1:,:]"
   ]
  },
  {
   "cell_type": "code",
   "execution_count": null,
   "id": "f4ebb785-8bc8-4121-8a5a-1201e5e008ff",
   "metadata": {},
   "outputs": [],
   "source": [
    "future_len = 40\n",
    "Test_new = test_514[['lots_available', 'carpark_number','day_of_week','hour_of_day']]\n",
    "Test_new = Test_new.sort_values(by=['carpark_number', 'datetime'])\n",
    "l=[]\n",
    "L=pd.DataFrame()\n",
    "for i in sorted(Test_new.carpark_number.value_counts().keys()):\n",
    "  inner = Test_new[Test_new.carpark_number == i]\n",
    "  inner = inner.reset_index()\n",
    "  inner = inner.iloc[0:future_len,:]\n",
    "  l.append(inner)\n",
    "L = L.append(l)\n",
    "L['value'] = L.index.values\n",
    "L = L.sort_index()\n",
    "L = L.sort_values(by=['value','carpark_number'])"
   ]
  },
  {
   "cell_type": "code",
   "execution_count": null,
   "id": "9d05d302-81b0-42c6-943d-2fcb7f79f175",
   "metadata": {},
   "outputs": [],
   "source": [
    "#central\n",
    "future=40\n",
    "forcast = []\n",
    "Xin = current_batch_41\n",
    "time=[]\n",
    "for i in range(future):\n",
    "    out = lstm_best_4hr_41.predict(Xin, batch_size=1)    \n",
    "    forcast.append(out) \n",
    "    print(forcast)\n",
    "    Xin = insert_end_DL(Xin,out,16)\n",
    "    Xin[:,15,1:2] = L[['day_of_week']][i*1:(i*1)+1]\n",
    "    Xin[:,15,2:3] = L[['hour_of_day']][i*1:(i*1)+1]"
   ]
  },
  {
   "cell_type": "code",
   "execution_count": null,
   "id": "55f42bc2-83ff-47e8-87d4-32c2029aa61b",
   "metadata": {},
   "outputs": [],
   "source": [
    "#north\n",
    "future=40\n",
    "forcast = []\n",
    "Xin = current_batch_547\n",
    "time=[]\n",
    "for i in range(future):\n",
    "    out = lstm_best_4hr_547.predict(Xin, batch_size=1)    \n",
    "    forcast.append(out) \n",
    "    print(forcast)\n",
    "    Xin = insert_end_DL(Xin,out,16)\n",
    "    Xin[:,15,1:2] = L[['day_of_week']][i*1:(i*1)+1]\n",
    "    Xin[:,15,2:3] = L[['hour_of_day']][i*1:(i*1)+1]"
   ]
  },
  {
   "cell_type": "code",
   "execution_count": null,
   "id": "9ed07749-e9f3-4e76-a389-cc41e2615ea5",
   "metadata": {},
   "outputs": [],
   "source": [
    "#west\n",
    "future=40\n",
    "forcast = []\n",
    "Xin = current_batch_22\n",
    "time=[]\n",
    "for i in range(future):\n",
    "    out = lstm_best_4hr_22.predict(Xin, batch_size=1)    \n",
    "    forcast.append(out) \n",
    "    print(forcast)\n",
    "    Xin = insert_end_DL(Xin,out,16)\n",
    "    Xin[:,15,1:2] = L[['day_of_week']][i*1:(i*1)+1]\n",
    "    Xin[:,15,2:3] = L[['hour_of_day']][i*1:(i*1)+1]"
   ]
  },
  {
   "cell_type": "code",
   "execution_count": null,
   "id": "e2ee66b4-7975-473a-934d-8e3482231a6f",
   "metadata": {},
   "outputs": [],
   "source": [
    "#east\n",
    "future=40\n",
    "forcast = []\n",
    "Xin = current_batch_437\n",
    "time=[]\n",
    "for i in range(future):\n",
    "    out = lstm_best_4hr_437.predict(Xin, batch_size=1)    \n",
    "    forcast.append(out) \n",
    "    print(forcast)\n",
    "    Xin = insert_end_DL(Xin,out,16)\n",
    "    Xin[:,15,1:2] = L[['day_of_week']][i*1:(i*1)+1]\n",
    "    Xin[:,15,2:3] = L[['hour_of_day']][i*1:(i*1)+1]"
   ]
  },
  {
   "cell_type": "code",
   "execution_count": null,
   "id": "f3f2d8a6-3b1a-4a3d-96b1-096562ce01af",
   "metadata": {},
   "outputs": [],
   "source": [
    "#south\n",
    "future=40\n",
    "forcast = []\n",
    "Xin = current_batch_514\n",
    "time=[]\n",
    "for i in range(future):\n",
    "    out = lstm_best_4hr_514.predict(Xin, batch_size=1)    \n",
    "    forcast.append(out) \n",
    "    print(forcast)\n",
    "    Xin = insert_end_DL(Xin,out,16)\n",
    "    Xin[:,15,1:2] = L[['day_of_week']][i*1:(i*1)+1]\n",
    "    Xin[:,15,2:3] = L[['hour_of_day']][i*1:(i*1)+1]"
   ]
  },
  {
   "cell_type": "code",
   "execution_count": null,
   "id": "2af68809-512c-4e65-95f4-179a2c3dfa66",
   "metadata": {},
   "outputs": [],
   "source": [
    "Y_t = L['lots_available']\n",
    "\n",
    "l=[]\n",
    "for i in range(40):\n",
    "  l.append(Y_t[i*1:(i*1)+1])"
   ]
  },
  {
   "cell_type": "code",
   "execution_count": null,
   "id": "8c464fbe-c389-420e-a410-f3e9e00b64cb",
   "metadata": {},
   "outputs": [],
   "source": [
    "rmse40step=[]\n",
    "for i in range(40):\n",
    "  rmse40step.append(math.sqrt(mean_squared_error(y_pred=forcast[i], y_true=l[i])))"
   ]
  },
  {
   "cell_type": "code",
   "execution_count": null,
   "id": "11786f9a-ef93-4647-ba42-4c663baeb61c",
   "metadata": {},
   "outputs": [],
   "source": [
    "rmse40step = pd.DataFrame(rmse40step)\n",
    "rmse40step.to_csv('rmse40step_single_south_lstm.csv')"
   ]
  },
  {
   "cell_type": "markdown",
   "id": "27ffef00-6470-437c-9d61-15b39e8c96a9",
   "metadata": {},
   "source": [
    "## robustness check (train-test error)"
   ]
  },
  {
   "cell_type": "markdown",
   "id": "b514b24e-310d-46b8-a395-7045fa550c25",
   "metadata": {},
   "source": [
    "- based on performance on different time window and different sample size, study determined best time window size is 16 timesteps (4 hour).\n",
    "- to check the model fit, study tested performance of model on train and test set"
   ]
  },
  {
   "cell_type": "code",
   "execution_count": null,
   "id": "d35f674f-c78b-4396-82e5-672857026f57",
   "metadata": {},
   "outputs": [],
   "source": [
    "# plot diagnostic learning curves\n",
    "# plot training and validation loss\n",
    "plt.figure(1,figsize = (8, 6))\n",
    "plt.subplot(2,1,1)\n",
    "plt.title('MSE Loss')\n",
    "plt.plot(history_4hr.history['loss'], color='blue', label='train')\n",
    "plt.plot(history_4hr.history['val_loss'], color='orange', label='validation')\n",
    "plt.legend(['training', 'validation'])\n",
    "\n",
    "#plot training and test accuracy\t\n",
    "plt.figure(2,figsize = (8, 6))\n",
    "plt.subplot(2,1,2)\n",
    "plt.title(' RMSE')\n",
    "plt.plot(history_4hr.history['root_mean_squared_error'], color='blue', label=\"train\")\n",
    "plt.plot(history_4hr.history['val_root_mean_squared_error'], color='orange', label='validation')\n",
    "plt.legend(['training','validation'])\n",
    "plt.show()"
   ]
  }
 ],
 "metadata": {
  "kernelspec": {
   "display_name": "venv-python3.10.11",
   "language": "python",
   "name": "venv"
  },
  "language_info": {
   "codemirror_mode": {
    "name": "ipython",
    "version": 3
   },
   "file_extension": ".py",
   "mimetype": "text/x-python",
   "name": "python",
   "nbconvert_exporter": "python",
   "pygments_lexer": "ipython3",
   "version": "3.10.11"
  }
 },
 "nbformat": 4,
 "nbformat_minor": 5
}
