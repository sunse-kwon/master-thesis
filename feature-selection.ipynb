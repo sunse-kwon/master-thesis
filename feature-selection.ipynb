{
 "cells": [
  {
   "cell_type": "markdown",
   "id": "c8d9fb35-aa46-472f-b2aa-9a45714e6afe",
   "metadata": {},
   "source": [
    "# Feature engineering"
   ]
  },
  {
   "cell_type": "code",
   "execution_count": 20,
   "id": "f3e7c518-a19d-46d0-9c64-14389259fe52",
   "metadata": {
    "tags": []
   },
   "outputs": [],
   "source": [
    "import pandas as pd\n",
    "from sklearn.tree import DecisionTreeRegressor\n",
    "from sklearn.feature_selection import RFE"
   ]
  },
  {
   "cell_type": "markdown",
   "id": "f66ee430-d530-4844-8705-dc1006bf2003",
   "metadata": {},
   "source": [
    "## Read dataset"
   ]
  },
  {
   "cell_type": "code",
   "execution_count": 14,
   "id": "59baa39d-4306-41d5-b855-467eaf9490cc",
   "metadata": {
    "tags": []
   },
   "outputs": [],
   "source": [
    "data = pd.read_csv('data_droped_nov18_dummy_final.csv')"
   ]
  },
  {
   "cell_type": "code",
   "execution_count": 15,
   "id": "10e565dc-1208-47ce-8690-cc83d45cc6e7",
   "metadata": {
    "tags": []
   },
   "outputs": [],
   "source": [
    "data = data.set_index('datetime')\n",
    "data.index = pd.to_datetime(data.index)\n",
    "data = data.drop(['Unnamed: 0.2','Unnamed: 0.1','Unnamed: 0', 'diff'],axis=1)\n",
    "data = data.reindex(columns=['lots_available', 'total_lot',  'carpark_number','x_coord', 'y_coord',\n",
    "'car_park_decks', 'gantry_height','BASEMENT CAR PARK', 'COVERED CAR PARK','MECHANISED AND SURFACE CAR PARK', 'MULTI-STOREY CAR PARK',\n",
    "'SURFACE CAR PARK', '7AM-10.30PM', '7AM-7PM', 'NO', 'WHOLE DAY', 'NO.1','SUN & PH FR 1PM-10.30PM', 'SUN & PH FR 7AM-10.30PM', 'NO.2', \n",
    "'YES','N', 'Y'])"
   ]
  },
  {
   "cell_type": "markdown",
   "id": "fe13a708-b009-41d0-8354-51c0c33a8bd8",
   "metadata": {},
   "source": [
    "## Create time as a feature, day of week, hour of day"
   ]
  },
  {
   "cell_type": "code",
   "execution_count": 16,
   "id": "7013cbba-d1c0-44cd-8860-4d956b78fee5",
   "metadata": {
    "tags": []
   },
   "outputs": [],
   "source": [
    "data[\"day_of_week\"] = data.index.weekday\n",
    "data[\"hour_of_day\"] = data.index.hour"
   ]
  },
  {
   "cell_type": "code",
   "execution_count": 17,
   "id": "b01b0f27-1e5a-49a0-8b71-f747ed8f56fe",
   "metadata": {
    "tags": []
   },
   "outputs": [],
   "source": [
    "features = ['total_lot', 'carpark_number', 'x_coord', 'y_coord',\n",
    "       'car_park_decks', 'gantry_height', 'BASEMENT CAR PARK',\n",
    "       'COVERED CAR PARK', 'MECHANISED AND SURFACE CAR PARK',\n",
    "       'MULTI-STOREY CAR PARK', 'SURFACE CAR PARK', '7AM-10.30PM', '7AM-7PM',\n",
    "       'NO', 'WHOLE DAY', 'NO.1', 'SUN & PH FR 1PM-10.30PM',\n",
    "       'SUN & PH FR 7AM-10.30PM', 'NO.2', 'YES', 'N', 'Y', 'day_of_week','hour_of_day']"
   ]
  },
  {
   "cell_type": "markdown",
   "id": "4863dc92-b0b5-4381-bcad-3b35abd96ea3",
   "metadata": {},
   "source": [
    "## X,Y split"
   ]
  },
  {
   "cell_type": "code",
   "execution_count": 18,
   "id": "b44c7dff-25e0-4eb4-b3cd-69e0de86c6c7",
   "metadata": {
    "tags": []
   },
   "outputs": [],
   "source": [
    "x = data[features]"
   ]
  },
  {
   "cell_type": "code",
   "execution_count": 19,
   "id": "23b9cb00-b26b-4212-ab31-b0d9ed0c8a32",
   "metadata": {
    "tags": []
   },
   "outputs": [],
   "source": [
    "y = data['lots_available']"
   ]
  },
  {
   "cell_type": "markdown",
   "id": "ce009cb8-a2c4-4a5a-935e-d914208abb24",
   "metadata": {},
   "source": [
    "## Build a model"
   ]
  },
  {
   "cell_type": "code",
   "execution_count": 22,
   "id": "fa7387af-2478-4375-ab10-983e2a7155fd",
   "metadata": {
    "tags": []
   },
   "outputs": [],
   "source": [
    "model = DecisionTreeRegressor()"
   ]
  },
  {
   "cell_type": "markdown",
   "id": "5c3939ba-7a33-41a9-b622-9655f0584ecc",
   "metadata": {},
   "source": [
    "## Define RFE(recursive feature elimination)"
   ]
  },
  {
   "cell_type": "code",
   "execution_count": 23,
   "id": "42b0042d-12e8-462e-ba27-01d256eaf5bb",
   "metadata": {
    "tags": []
   },
   "outputs": [],
   "source": [
    "rfe = RFE(model, n_features_to_select=12)"
   ]
  },
  {
   "cell_type": "markdown",
   "id": "ae88bfe4-ef8f-4411-8800-9bdf1a86e27e",
   "metadata": {},
   "source": [
    "## Select top 12 features by fitting x,y to RFE"
   ]
  },
  {
   "cell_type": "code",
   "execution_count": 24,
   "id": "f5061102-7e6a-497e-bd9e-8db314a15133",
   "metadata": {
    "tags": []
   },
   "outputs": [],
   "source": [
    "fit = rfe.fit(x, y)"
   ]
  },
  {
   "cell_type": "markdown",
   "id": "6a66400d-004a-4a43-a668-aeb0a35458b4",
   "metadata": {},
   "source": [
    "## Result"
   ]
  },
  {
   "cell_type": "code",
   "execution_count": 25,
   "id": "8bcd45f3-632c-4cf0-bc75-fb891fd334de",
   "metadata": {
    "tags": []
   },
   "outputs": [
    {
     "data": {
      "text/html": [
       "<div>\n",
       "<style scoped>\n",
       "    .dataframe tbody tr th:only-of-type {\n",
       "        vertical-align: middle;\n",
       "    }\n",
       "\n",
       "    .dataframe tbody tr th {\n",
       "        vertical-align: top;\n",
       "    }\n",
       "\n",
       "    .dataframe thead th {\n",
       "        text-align: right;\n",
       "    }\n",
       "</style>\n",
       "<table border=\"1\" class=\"dataframe\">\n",
       "  <thead>\n",
       "    <tr style=\"text-align: right;\">\n",
       "      <th></th>\n",
       "      <th>Feature_names</th>\n",
       "      <th>Selected</th>\n",
       "      <th>RFE_ranking</th>\n",
       "    </tr>\n",
       "    <tr>\n",
       "      <th>Columns</th>\n",
       "      <th></th>\n",
       "      <th></th>\n",
       "      <th></th>\n",
       "    </tr>\n",
       "  </thead>\n",
       "  <tbody>\n",
       "    <tr>\n",
       "      <th>0</th>\n",
       "      <td>total_lot</td>\n",
       "      <td>True</td>\n",
       "      <td>1</td>\n",
       "    </tr>\n",
       "    <tr>\n",
       "      <th>1</th>\n",
       "      <td>carpark_number</td>\n",
       "      <td>True</td>\n",
       "      <td>1</td>\n",
       "    </tr>\n",
       "    <tr>\n",
       "      <th>2</th>\n",
       "      <td>x_coord</td>\n",
       "      <td>True</td>\n",
       "      <td>1</td>\n",
       "    </tr>\n",
       "    <tr>\n",
       "      <th>3</th>\n",
       "      <td>y_coord</td>\n",
       "      <td>True</td>\n",
       "      <td>1</td>\n",
       "    </tr>\n",
       "    <tr>\n",
       "      <th>4</th>\n",
       "      <td>car_park_decks</td>\n",
       "      <td>True</td>\n",
       "      <td>1</td>\n",
       "    </tr>\n",
       "    <tr>\n",
       "      <th>5</th>\n",
       "      <td>gantry_height</td>\n",
       "      <td>True</td>\n",
       "      <td>1</td>\n",
       "    </tr>\n",
       "    <tr>\n",
       "      <th>6</th>\n",
       "      <td>BASEMENT CAR PARK</td>\n",
       "      <td>False</td>\n",
       "      <td>8</td>\n",
       "    </tr>\n",
       "    <tr>\n",
       "      <th>7</th>\n",
       "      <td>COVERED CAR PARK</td>\n",
       "      <td>False</td>\n",
       "      <td>11</td>\n",
       "    </tr>\n",
       "    <tr>\n",
       "      <th>8</th>\n",
       "      <td>MECHANISED AND SURFACE CAR PARK</td>\n",
       "      <td>False</td>\n",
       "      <td>13</td>\n",
       "    </tr>\n",
       "    <tr>\n",
       "      <th>9</th>\n",
       "      <td>MULTI-STOREY CAR PARK</td>\n",
       "      <td>True</td>\n",
       "      <td>1</td>\n",
       "    </tr>\n",
       "    <tr>\n",
       "      <th>10</th>\n",
       "      <td>SURFACE CAR PARK</td>\n",
       "      <td>False</td>\n",
       "      <td>5</td>\n",
       "    </tr>\n",
       "    <tr>\n",
       "      <th>11</th>\n",
       "      <td>7AM-10.30PM</td>\n",
       "      <td>True</td>\n",
       "      <td>1</td>\n",
       "    </tr>\n",
       "    <tr>\n",
       "      <th>12</th>\n",
       "      <td>7AM-7PM</td>\n",
       "      <td>False</td>\n",
       "      <td>3</td>\n",
       "    </tr>\n",
       "    <tr>\n",
       "      <th>13</th>\n",
       "      <td>NO</td>\n",
       "      <td>False</td>\n",
       "      <td>9</td>\n",
       "    </tr>\n",
       "    <tr>\n",
       "      <th>14</th>\n",
       "      <td>WHOLE DAY</td>\n",
       "      <td>True</td>\n",
       "      <td>1</td>\n",
       "    </tr>\n",
       "    <tr>\n",
       "      <th>15</th>\n",
       "      <td>NO.1</td>\n",
       "      <td>False</td>\n",
       "      <td>2</td>\n",
       "    </tr>\n",
       "    <tr>\n",
       "      <th>16</th>\n",
       "      <td>SUN &amp; PH FR 1PM-10.30PM</td>\n",
       "      <td>False</td>\n",
       "      <td>7</td>\n",
       "    </tr>\n",
       "    <tr>\n",
       "      <th>17</th>\n",
       "      <td>SUN &amp; PH FR 7AM-10.30PM</td>\n",
       "      <td>True</td>\n",
       "      <td>1</td>\n",
       "    </tr>\n",
       "    <tr>\n",
       "      <th>18</th>\n",
       "      <td>NO.2</td>\n",
       "      <td>False</td>\n",
       "      <td>4</td>\n",
       "    </tr>\n",
       "    <tr>\n",
       "      <th>19</th>\n",
       "      <td>YES</td>\n",
       "      <td>False</td>\n",
       "      <td>6</td>\n",
       "    </tr>\n",
       "    <tr>\n",
       "      <th>20</th>\n",
       "      <td>N</td>\n",
       "      <td>False</td>\n",
       "      <td>12</td>\n",
       "    </tr>\n",
       "    <tr>\n",
       "      <th>21</th>\n",
       "      <td>Y</td>\n",
       "      <td>False</td>\n",
       "      <td>10</td>\n",
       "    </tr>\n",
       "    <tr>\n",
       "      <th>22</th>\n",
       "      <td>day_of_week</td>\n",
       "      <td>True</td>\n",
       "      <td>1</td>\n",
       "    </tr>\n",
       "    <tr>\n",
       "      <th>23</th>\n",
       "      <td>hour_of_day</td>\n",
       "      <td>True</td>\n",
       "      <td>1</td>\n",
       "    </tr>\n",
       "  </tbody>\n",
       "</table>\n",
       "</div>"
      ],
      "text/plain": [
       "                           Feature_names  Selected  RFE_ranking\n",
       "Columns                                                        \n",
       "0                              total_lot      True            1\n",
       "1                         carpark_number      True            1\n",
       "2                                x_coord      True            1\n",
       "3                                y_coord      True            1\n",
       "4                         car_park_decks      True            1\n",
       "5                          gantry_height      True            1\n",
       "6                      BASEMENT CAR PARK     False            8\n",
       "7                       COVERED CAR PARK     False           11\n",
       "8        MECHANISED AND SURFACE CAR PARK     False           13\n",
       "9                  MULTI-STOREY CAR PARK      True            1\n",
       "10                      SURFACE CAR PARK     False            5\n",
       "11                           7AM-10.30PM      True            1\n",
       "12                               7AM-7PM     False            3\n",
       "13                                    NO     False            9\n",
       "14                             WHOLE DAY      True            1\n",
       "15                                  NO.1     False            2\n",
       "16               SUN & PH FR 1PM-10.30PM     False            7\n",
       "17               SUN & PH FR 7AM-10.30PM      True            1\n",
       "18                                  NO.2     False            4\n",
       "19                                   YES     False            6\n",
       "20                                     N     False           12\n",
       "21                                     Y     False           10\n",
       "22                           day_of_week      True            1\n",
       "23                           hour_of_day      True            1"
      ]
     },
     "execution_count": 25,
     "metadata": {},
     "output_type": "execute_result"
    }
   ],
   "source": [
    "#Create a dataframe for the results \n",
    "df_RFE_results = []\n",
    "for i in range(x.shape[1]):\n",
    "    df_RFE_results.append(\n",
    "        {      \n",
    "            'Feature_names': features[i],\n",
    "            'Selected':  rfe.support_[i],\n",
    "            'RFE_ranking':  rfe.ranking_[i],\n",
    "        }\n",
    "    )\n",
    "\n",
    "df_RFE_results = pd.DataFrame(df_RFE_results)\n",
    "df_RFE_results.index.name='Columns'\n",
    "df_RFE_results"
   ]
  },
  {
   "cell_type": "code",
   "execution_count": null,
   "id": "d72fc77f-1278-4f8b-b5d4-f557ce186a7f",
   "metadata": {},
   "outputs": [],
   "source": []
  }
 ],
 "metadata": {
  "kernelspec": {
   "display_name": "venv-python3.10.11",
   "language": "python",
   "name": "venv"
  },
  "language_info": {
   "codemirror_mode": {
    "name": "ipython",
    "version": 3
   },
   "file_extension": ".py",
   "mimetype": "text/x-python",
   "name": "python",
   "nbconvert_exporter": "python",
   "pygments_lexer": "ipython3",
   "version": "3.10.11"
  }
 },
 "nbformat": 4,
 "nbformat_minor": 5
}
