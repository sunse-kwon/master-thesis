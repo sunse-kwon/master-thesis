{
 "cells": [
  {
   "cell_type": "markdown",
   "id": "12fd8631-900c-420f-ba61-a8e04632ec15",
   "metadata": {},
   "source": [
    "# Hyperparameter tuning - deep learning models"
   ]
  },
  {
   "cell_type": "code",
   "execution_count": null,
   "id": "ff4b0400-55f2-4b09-8dc7-68c8c32ffbaa",
   "metadata": {},
   "outputs": [],
   "source": [
    "import time\n",
    "import numpy as np\n",
    "import pandas as pd\n",
    "from sklearn.preprocessing import MinMaxScaler\n",
    "from keras.models import Sequential\n",
    "from keras.layers import *\n",
    "from keras.losses import MeanSquaredError\n",
    "from keras.metrics import RootMeanSquaredError\n",
    "from keras.optimizers import Adam\n",
    "from keras.callbacks import EarlyStopping\n",
    "import keras_tuner\n",
    "from utils import train_test_split, X_Y_split_DL"
   ]
  },
  {
   "cell_type": "code",
   "execution_count": null,
   "id": "56408131-2ccc-4531-821d-db84a8e3ab8e",
   "metadata": {},
   "outputs": [],
   "source": [
    "#pip install keras-tuner --upgrade"
   ]
  },
  {
   "cell_type": "code",
   "execution_count": null,
   "id": "588f6ccb-561b-4e10-9ca8-077aded7c971",
   "metadata": {},
   "outputs": [],
   "source": [
    "data = pd.read_csv('data_droped_nov18_dummy_final.csv')"
   ]
  },
  {
   "cell_type": "code",
   "execution_count": null,
   "id": "dd33e534-0368-43f1-9cd5-8b03c844cf9b",
   "metadata": {},
   "outputs": [],
   "source": [
    "data = data.set_index('datetime')\n",
    "data.index = pd.to_datetime(data.index)\n",
    "data = data.drop(['Unnamed: 0.2','Unnamed: 0.1','Unnamed: 0', 'diff'],axis=1)\n",
    "data=data.reindex(columns=['lots_available', 'total_lot',  'carpark_number','x_coord', 'y_coord',\n",
    "'car_park_decks', 'gantry_height','BASEMENT CAR PARK', 'COVERED CAR PARK','MECHANISED AND SURFACE CAR PARK', 'MULTI-STOREY CAR PARK',\n",
    "'SURFACE CAR PARK', '7AM-10.30PM', '7AM-7PM', 'NO', 'WHOLE DAY', 'NO.1','SUN & PH FR 1PM-10.30PM', 'SUN & PH FR 7AM-10.30PM', 'NO.2', \n",
    "'YES','N', 'Y'])"
   ]
  },
  {
   "cell_type": "code",
   "execution_count": null,
   "id": "0297f331-8138-43d9-b9ad-d0d71d96d2e5",
   "metadata": {},
   "outputs": [],
   "source": [
    "data[\"day_of_week\"] = data.index.weekday\n",
    "data[\"hour_of_day\"] = data.index.hour"
   ]
  },
  {
   "cell_type": "code",
   "execution_count": null,
   "id": "91cdbed1-ac74-4cd2-a719-9e65b492fa7a",
   "metadata": {},
   "outputs": [],
   "source": [
    "# feature selection based on RFE algorithm\n",
    "features = ['lots_available','day_of_week','hour_of_day','total_lot', 'carpark_number', 'x_coord', 'y_coord','car_park_decks', 'gantry_height', 'MULTI-STOREY CAR PARK','WHOLE DAY', \n",
    "       'NO.1','SUN & PH FR 7AM-10.30PM']"
   ]
  },
  {
   "cell_type": "code",
   "execution_count": null,
   "id": "836e667f-b9b0-4931-90e6-f59100790f83",
   "metadata": {},
   "outputs": [],
   "source": [
    "data = data[features]\n",
    "data=data.reindex(columns=features)"
   ]
  },
  {
   "cell_type": "code",
   "execution_count": null,
   "id": "787160be-3ee8-4853-8d07-4a594dc077cb",
   "metadata": {},
   "outputs": [],
   "source": [
    "data.loc['2016-02-19 11:15:00',:] = np.nan\n",
    "data.dropna(inplace=True)"
   ]
  },
  {
   "cell_type": "code",
   "execution_count": null,
   "id": "cfcdf7a7-1d33-4f84-9361-9ab3e2a0d8db",
   "metadata": {},
   "outputs": [],
   "source": [
    "Train, Test = train_test_split(data, test_step_size=673)\n",
    "train, val = train_test_split(Train, test_step_size=480)"
   ]
  },
  {
   "cell_type": "code",
   "execution_count": null,
   "id": "da4f1be2-dfd1-4343-812a-d22875c0cb5a",
   "metadata": {},
   "outputs": [],
   "source": [
    "for i in Train.columns:\n",
    "    scaler = MinMaxScaler()\n",
    "    \n",
    "    s_train = scaler.fit_transform(train[i].values.reshape((-1,1)))\n",
    "    s_val = scaler.transform(val[i].values.reshape((-1,1)))\n",
    "    s_test = scaler.transform(Test[i].values.reshape((-1,1)))\n",
    "\n",
    "    s_train = np.reshape(s_train,(len(s_train)))\n",
    "    s_val = np.reshape(s_val,(len(s_val)))\n",
    "    s_test = np.reshape(s_test,(len(s_test)))\n",
    "\n",
    "    train[i] = s_train\n",
    "    val[i] = s_val\n",
    "    Test[i] = s_test"
   ]
  },
  {
   "cell_type": "code",
   "execution_count": null,
   "id": "a813b0d6-aaf1-4545-a577-f090c3eadf2d",
   "metadata": {},
   "outputs": [],
   "source": [
    "X_train,Y_train= X_Y_split_DL(train, window_size=1, label_col_no=0)\n",
    "X_val, Y_val = X_Y_split_DL(val, window_size=1, label_col_no=0)\n",
    "X_test,Y_test= X_Y_split_DL(Test, window_size=1, label_col_no=0)"
   ]
  },
  {
   "cell_type": "markdown",
   "id": "c50fe0f0-14aa-4c23-b1f5-7f44a21f1807",
   "metadata": {},
   "source": [
    "## LSTM"
   ]
  },
  {
   "cell_type": "code",
   "execution_count": null,
   "id": "760b9e88-6f5a-4ba0-8b8d-6d79a9355fe9",
   "metadata": {},
   "outputs": [],
   "source": [
    "def build_model_lstm(hp):\n",
    "    model = Sequential()\n",
    "    model.add(LSTM(units=hp.Int('first_layer_units', min_value=100,max_value=200,step=50),return_sequences=True, input_shape=(X_train.shape[1],X_train.shape[2])))\n",
    "    model.add(Dropout(hp.Float('first_dropout_rate',min_value=0,max_value=0.5,step=0.1)))\n",
    "    model.add(LSTM(units=hp.Int('second_layer_units', min_value=100,max_value=200,step=50),return_sequences=False))\n",
    "    model.add(Dropout(hp.Float('second_dropout_rate',min_value=0,max_value=0.5,step=0.1)))\n",
    "    model.add(Dense(1,activation='linear'))\n",
    "    model.compile(loss=MeanSquaredError(), optimizer=Adam(), metrics=[RootMeanSquaredError()])\n",
    "    return model"
   ]
  },
  {
   "cell_type": "code",
   "execution_count": null,
   "id": "829cee81-f787-41c4-8882-85d3637ce838",
   "metadata": {},
   "outputs": [],
   "source": [
    "tuner_lstm = keras_tuner.RandomSearch(hypermodel=build_model_lstm,\n",
    "                          objective=keras_tuner.Objective(\"root_mean_squared_error\", direction=\"min\"))"
   ]
  },
  {
   "cell_type": "code",
   "execution_count": null,
   "id": "fa635f5d-f993-49b5-b513-ac0ef2a4afcb",
   "metadata": {},
   "outputs": [],
   "source": [
    "stop_early = EarlyStopping(monitor='val_loss', patience=3)\n",
    "start_time = time.time()\n",
    "tuner_lstm.search(X_train, Y_train, epochs=10, validation_data=(X_val,Y_val),callbacks=[stop_early] )\n",
    "print(\"--- %s seconds ---\" %(time.time()- start_time))"
   ]
  },
  {
   "cell_type": "code",
   "execution_count": null,
   "id": "f1138aeb-3341-40fc-8e63-721ac0127a5a",
   "metadata": {},
   "outputs": [],
   "source": [
    "tuner_lstm.results_summary()"
   ]
  },
  {
   "cell_type": "code",
   "execution_count": null,
   "id": "1a084ff6-47c9-4dc3-8600-cec5c6211e94",
   "metadata": {},
   "outputs": [],
   "source": [
    "best_model = tuner_lstm.get_best_models(num_models=1)[0]"
   ]
  },
  {
   "cell_type": "markdown",
   "id": "99c32418-e1f1-4ae9-a51a-0a9d40df15bb",
   "metadata": {},
   "source": [
    "## GRU"
   ]
  },
  {
   "cell_type": "code",
   "execution_count": null,
   "id": "5712671a-56cd-477c-acac-16d64ab796e4",
   "metadata": {},
   "outputs": [],
   "source": [
    "def build_model_gru(hp):\n",
    "    model = Sequential()\n",
    "    model.add(GRU(units=hp.Int('first_layer_units', min_value=100,max_value=200,step=50),return_sequences=True, input_shape=(X_train.shape[1],X_train.shape[2])))\n",
    "    model.add(Dropout(hp.Float('first_dropout_rate',min_value=0,max_value=0.5,step=0.1)))\n",
    "    model.add(GRU(units=hp.Int('second_layer_units', min_value=100,max_value=200,step=50),return_sequences=False))\n",
    "    model.add(Dropout(hp.Float('second_dropout_rate',min_value=0,max_value=0.5,step=0.1)))\n",
    "    model.add(Dense(1,activation='linear'))\n",
    "    model.compile(loss=MeanSquaredError(), optimizer=Adam(), metrics=[RootMeanSquaredError()])\n",
    "    return model"
   ]
  },
  {
   "cell_type": "code",
   "execution_count": null,
   "id": "529d1225-2c30-49c7-9f81-2c60b8383da6",
   "metadata": {},
   "outputs": [],
   "source": [
    "tuner_gru = keras_tuner.RandomSearch(hypermodel=build_model_gru,\n",
    "                          objective=keras_tuner.Objective(\"root_mean_squared_error\", direction=\"min\"))"
   ]
  },
  {
   "cell_type": "code",
   "execution_count": null,
   "id": "6d0b910d-64f9-4995-9211-85edeb3ef58a",
   "metadata": {},
   "outputs": [],
   "source": [
    "stop_early = EarlyStopping(monitor='val_loss', patience=3)\n",
    "start_time = time.time()\n",
    "tuner_gru.search(X_train, Y_train, epochs=10, validation_data=(X_val,Y_val),callbacks=[stop_early] )\n",
    "print(\"--- %s seconds ---\" %(time.time()- start_time))"
   ]
  },
  {
   "cell_type": "code",
   "execution_count": null,
   "id": "284a352c-3897-41a7-b6d9-d50d7cce1117",
   "metadata": {},
   "outputs": [],
   "source": [
    "tuner_gru.results_summary()"
   ]
  },
  {
   "cell_type": "code",
   "execution_count": null,
   "id": "dad0768f-c975-4465-bee1-7b46bbea97d6",
   "metadata": {},
   "outputs": [],
   "source": [
    "best_model = tuner_gru.get_best_models(num_models=1)[0]"
   ]
  },
  {
   "cell_type": "markdown",
   "id": "c9181fc5-664f-445a-92b2-ffbb52880051",
   "metadata": {},
   "source": [
    "## Seq2seq"
   ]
  },
  {
   "cell_type": "markdown",
   "id": "2e40cd74-ac4c-4f56-a0ba-69092a9db738",
   "metadata": {},
   "source": [
    "- due to the limitation of computational resource, this study naively adopted hp values from the literature.\n",
    "- for those who wants to know more details, please check the original thesis paper in the repository."
   ]
  }
 ],
 "metadata": {
  "kernelspec": {
   "display_name": "venv-python3.10.11",
   "language": "python",
   "name": "venv"
  },
  "language_info": {
   "codemirror_mode": {
    "name": "ipython",
    "version": 3
   },
   "file_extension": ".py",
   "mimetype": "text/x-python",
   "name": "python",
   "nbconvert_exporter": "python",
   "pygments_lexer": "ipython3",
   "version": "3.10.11"
  }
 },
 "nbformat": 4,
 "nbformat_minor": 5
}
