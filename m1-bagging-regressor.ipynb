{
 "cells": [
  {
   "cell_type": "markdown",
   "id": "433c9a4f-18dd-4a39-bea7-4aa85a35435c",
   "metadata": {},
   "source": [
    "# Bagging Regressor"
   ]
  },
  {
   "cell_type": "code",
   "execution_count": null,
   "id": "a8298918-e051-45c3-ac0a-cacbd47640bc",
   "metadata": {},
   "outputs": [],
   "source": [
    "import math\n",
    "import numpy as np\n",
    "import pandas as pd\n",
    "from sklearn.ensemble import BaggingRegressor\n",
    "from sklearn.preprocessing import MinMaxScaler\n",
    "from sklearn.metrics import mean_squared_error, mean_absolute_error, r2_score\n",
    "from utils import train_test_split, X_Y_split, scaler, window_generator, last_x_y_generator, insert_end, insert_end_multi"
   ]
  },
  {
   "cell_type": "code",
   "execution_count": null,
   "id": "58713135-8631-456c-a1bd-8c3dcd9457a7",
   "metadata": {},
   "outputs": [],
   "source": [
    "data = pd.read_csv('data_droped_nov18_dummy_final.csv')"
   ]
  },
  {
   "cell_type": "code",
   "execution_count": null,
   "id": "e30f7c8d-96d9-4a9a-a9cb-5969de12d102",
   "metadata": {},
   "outputs": [],
   "source": [
    "data = data.set_index('datetime')\n",
    "data.index = pd.to_datetime(data.index)\n",
    "data = data.drop(['Unnamed: 0.2','Unnamed: 0.1','Unnamed: 0', 'diff'],axis=1)\n",
    "data=data.reindex(columns=['lots_available', 'total_lot',  'carpark_number','x_coord', 'y_coord',\n",
    "'car_park_decks', 'gantry_height','BASEMENT CAR PARK', 'COVERED CAR PARK','MECHANISED AND SURFACE CAR PARK', 'MULTI-STOREY CAR PARK',\n",
    "'SURFACE CAR PARK', '7AM-10.30PM', '7AM-7PM', 'NO', 'WHOLE DAY', 'NO.1','SUN & PH FR 1PM-10.30PM', 'SUN & PH FR 7AM-10.30PM', 'NO.2', \n",
    "'YES','N', 'Y'])"
   ]
  },
  {
   "cell_type": "code",
   "execution_count": null,
   "id": "31286589-d717-4ffe-a6bd-9ae229624a6f",
   "metadata": {},
   "outputs": [],
   "source": [
    "# create time features, day of week, hour of day\n",
    "data[\"day_of_week\"] = data.index.weekday\n",
    "data[\"hour_of_day\"] = data.index.hour"
   ]
  },
  {
   "cell_type": "code",
   "execution_count": null,
   "id": "d3873349-f885-4aee-826d-10a9cd63f2d5",
   "metadata": {},
   "outputs": [],
   "source": [
    "features = ['lots_available','day_of_week','hour_of_day','total_lot', 'carpark_number', 'x_coord', 'y_coord','car_park_decks', 'gantry_height', 'MULTI-STOREY CAR PARK','WHOLE DAY', \n",
    "       'NO.1','SUN & PH FR 7AM-10.30PM']"
   ]
  },
  {
   "cell_type": "code",
   "execution_count": null,
   "id": "355ba2a6-93f9-4ad7-af3a-dce7e2419518",
   "metadata": {},
   "outputs": [],
   "source": [
    "data = data[features]\n",
    "data=data.reindex(columns=features)"
   ]
  },
  {
   "cell_type": "code",
   "execution_count": null,
   "id": "2a07b436-2195-4ca4-83de-9e4ee1a52aa1",
   "metadata": {},
   "outputs": [],
   "source": [
    "data.loc['2016-02-19 11:15:00',:] = np.nan\n",
    "data.dropna(inplace=True)"
   ]
  },
  {
   "cell_type": "code",
   "execution_count": null,
   "id": "5f42a83e-24b3-4de9-838b-91e09aaadbca",
   "metadata": {},
   "outputs": [],
   "source": [
    "Train, Test = train_test_split(data, test_step_size=673)"
   ]
  },
  {
   "cell_type": "markdown",
   "id": "b00f2ed0-a27a-4978-a34e-121df75eb5eb",
   "metadata": {},
   "source": [
    "## data normalization using MinMaxScaler, values range from 0 to 1 interval."
   ]
  },
  {
   "cell_type": "code",
   "execution_count": null,
   "id": "5f58409a-914a-40f7-873f-f017a9e1d0b6",
   "metadata": {},
   "outputs": [],
   "source": [
    "for i in Train.columns:\n",
    "    scaler = MinMaxScaler()\n",
    "    s_train = scaler.fit_transform(Train[i].values.reshape((-1,1)))\n",
    "    s_train = np.reshape(s_train,(len(s_train)))\n",
    "    Train[i] = s_train   \n",
    "    s_test = scaler.transform(Test[i].values.reshape((-1,1)))\n",
    "    s_test = np.reshape(s_test,(len(s_test)))\n",
    "    Test[i] = s_test"
   ]
  },
  {
   "cell_type": "markdown",
   "id": "0a5da607-71ea-4a17-ae0a-6988c894ba7f",
   "metadata": {},
   "source": [
    "## best model with selected hyperparameters from RandomizedSearchCV"
   ]
  },
  {
   "cell_type": "code",
   "execution_count": null,
   "id": "8ed94d8a-3ee0-4aa2-900a-66cb7f0c84c9",
   "metadata": {},
   "outputs": [],
   "source": [
    "bagg_best = BaggingRegressor(max_samples=0.7, n_estimators=500)"
   ]
  },
  {
   "cell_type": "markdown",
   "id": "d7525d7b-0fa5-4c69-b5a3-48ffe9797ff8",
   "metadata": {},
   "source": [
    "## performance on different time window using entire dataset"
   ]
  },
  {
   "cell_type": "markdown",
   "id": "1a159de5-1135-420d-aa31-ba71e10b9bd2",
   "metadata": {},
   "source": [
    "### 15 minutes (used previous timestep to predict next timestep, 1 timestep = 15 minute)"
   ]
  },
  {
   "cell_type": "code",
   "execution_count": null,
   "id": "7718f36d-a92c-4f2a-a488-328adcf767a8",
   "metadata": {},
   "outputs": [],
   "source": [
    "X_train_15min, Y_train_15min = X_Y_split(Train, window_size=1,label_col_no=0)\n",
    "X_test_15min, Y_test_15min = X_Y_split(Test, window_size=1,label_col_no=0)"
   ]
  },
  {
   "cell_type": "code",
   "execution_count": null,
   "id": "c7fa4750-6dac-4176-b1b5-010140ba27e4",
   "metadata": {},
   "outputs": [],
   "source": [
    "bagg_best_15min =bagg_best\n",
    "bagg_best_15min.fit(X_test_15min,Y_test_15min)\n",
    "yp_15min_bagg = bagg_best_15min.predict(X_test_15min)"
   ]
  },
  {
   "cell_type": "code",
   "execution_count": null,
   "id": "e6fe2fa4-efdd-46e9-9191-bc74f747c584",
   "metadata": {},
   "outputs": [],
   "source": [
    "mse = mean_squared_error(y_pred=yp_15min_bagg, y_true=Y_test_15min)\n",
    "mae = mean_absolute_error(y_pred=yp_15min_bagg, y_true=Y_test_15min)\n",
    "rmse = math.sqrt(mean_squared_error(y_pred=yp_15min_bagg, y_true=Y_test_15min))\n",
    "r2 = r2_score(y_pred=yp_15min_bagg, y_true=Y_test_15min)\n",
    "print(round(mse,5))\n",
    "print(round(mae,5))\n",
    "print(round(rmse,5))\n",
    "print(round(r2,5))"
   ]
  },
  {
   "cell_type": "markdown",
   "id": "ccb44944-9900-4e4b-92f1-f5881f654d32",
   "metadata": {},
   "source": [
    "### 1 hour (used 4 timesteps to predict next timestep, 1 timestep = 15 minute, 4 timestep = 1hour)"
   ]
  },
  {
   "cell_type": "code",
   "execution_count": null,
   "id": "5c09630a-e030-4b39-8d77-44f3f1861acb",
   "metadata": {},
   "outputs": [],
   "source": [
    "#1hour(4 steps)\n",
    "X_train_1hour, Y_train_1hour = X_Y_split(Train, window_size=4,label_col_no=0)\n",
    "X_test_1hour, Y_test_1hour = X_Y_split(Test, window_size=4,label_col_no=0)"
   ]
  },
  {
   "cell_type": "code",
   "execution_count": null,
   "id": "93b9ff8d-4d60-4dd6-99d5-71cf55ca9d79",
   "metadata": {},
   "outputs": [],
   "source": [
    "bagg_best_1hour =bagg_best\n",
    "bagg_best_1hour.fit(X_train_1hour,Y_train_1hour)\n",
    "yp_1hour_bagg = bagg_best_1hour.predict(X_test_1hour)"
   ]
  },
  {
   "cell_type": "code",
   "execution_count": null,
   "id": "69f7ba4b-5c57-4afe-85ad-8e7a4132433a",
   "metadata": {},
   "outputs": [],
   "source": [
    "mse = mean_squared_error(y_pred=yp_1hour_bagg, y_true=Y_test_1hour)\n",
    "mae = mean_absolute_error(y_pred=yp_1hour_bagg, y_true=Y_test_1hour)\n",
    "rmse = math.sqrt(mean_squared_error(y_pred=yp_1hour_bagg, y_true=Y_test_1hour))\n",
    "r2 = r2_score(y_pred=yp_1hour_bagg, y_true=Y_test_1hour)\n",
    "print(round(mse,5))\n",
    "print(round(mae,5))\n",
    "print(round(rmse,5))\n",
    "print(round(r2,5))"
   ]
  },
  {
   "cell_type": "markdown",
   "id": "2e0642fb-63f5-4c79-a2de-a3e4ec9d4417",
   "metadata": {},
   "source": [
    "### 4 hour (used 16 timesteps to predict next timestep, 1 timestep = 15 minute, 16 timestep = 4 hour)"
   ]
  },
  {
   "cell_type": "code",
   "execution_count": null,
   "id": "d64b5f14-de86-4500-99a5-14b750f251a8",
   "metadata": {},
   "outputs": [],
   "source": [
    "#4hour(16 steps)\n",
    "X_train_4hour, Y_train_4hour = X_Y_split(Train, window_size=16,label_col_no=0)\n",
    "X_test_4hour, Y_test_4hour = X_Y_split(Test, window_size=16,label_col_no=0)"
   ]
  },
  {
   "cell_type": "code",
   "execution_count": null,
   "id": "3cbe278b-0ace-4ca2-b4b3-c699a5f0a9d3",
   "metadata": {},
   "outputs": [],
   "source": [
    "bagg_best_4hour =bagg_best\n",
    "bagg_best_4hour.fit(X_train_4hour,Y_train_4hour)\n",
    "yp_4hour_bagg = bagg_best_4hour_test.predict(X_test_4hour)"
   ]
  },
  {
   "cell_type": "code",
   "execution_count": null,
   "id": "4d0b517b-83ab-47a1-b96c-27d552b6a24f",
   "metadata": {},
   "outputs": [],
   "source": [
    "mse_test = mean_squared_error(y_pred=yp_4hour_bagg, y_true=Y_test_4hour)\n",
    "mae_test = mean_absolute_error(y_pred=yp_4hour_bagg, y_true=Y_test_4hour)\n",
    "rmse_test = math.sqrt(mean_squared_error(y_pred=yp_4hour_bagg, y_true=Y_test_4hour))\n",
    "r2_test = r2_score(y_pred=yp_4hour_bagg, y_true=Y_test_4hour)\n",
    "print(round(mse_test,5))\n",
    "print(round(mae_test,5))\n",
    "print(round(rmse_test,5))\n",
    "print(round(r2_test,5))"
   ]
  },
  {
   "cell_type": "markdown",
   "id": "45f5248f-2a4d-442c-9d45-35d5e6abc522",
   "metadata": {},
   "source": [
    "## performance on different time window in five regions (group level)"
   ]
  },
  {
   "cell_type": "markdown",
   "id": "72b127db-3abb-4bdc-86b4-695773dda973",
   "metadata": {},
   "source": [
    "- dataset was divided by five subsets based on 5 fold k-mean clustering analysis. each subset consists of 10 to 12 parking lots."
   ]
  },
  {
   "cell_type": "markdown",
   "id": "132ee6ab-0452-41d6-8584-102a9dae91e4",
   "metadata": {},
   "source": [
    "### select 5 subsets based on 5 centroids from 5-fold k-mean clustering analysis"
   ]
  },
  {
   "cell_type": "code",
   "execution_count": null,
   "id": "7edc0522-c0c8-4bd0-9f89-383f63f93dea",
   "metadata": {},
   "outputs": [],
   "source": [
    "#performance by regions\n",
    "central =data[(data['x_coord'] >30500) & (data['x_coord'] < 32500)& (data['y_coord'] >35000) & (data['y_coord'] < 36000)]\n",
    "north_area = data[(data['x_coord'] >25000) & (data['x_coord'] < 26500)& (data['y_coord'] >44000) ]\n",
    "west_area = data[ (data['x_coord'] < 20000)& (data['y_coord'] >37500) & (data['y_coord'] < 38500)]\n",
    "east_area = data[ (data['x_coord'] > 35000)& (data['y_coord'] >38000) & (data['y_coord'] < 39000)]\n",
    "south_area = data[(data['x_coord'] >25000) & (data['x_coord'] < 26000)& (data['y_coord'] >30000) & (data['y_coord'] < 31000)]"
   ]
  },
  {
   "cell_type": "markdown",
   "id": "c6e4f2aa-39b2-41a2-83c0-5d14bbc26829",
   "metadata": {},
   "source": [
    "### train-test split"
   ]
  },
  {
   "cell_type": "code",
   "execution_count": null,
   "id": "891c46cb-f983-41d4-805f-980dce2ff64e",
   "metadata": {},
   "outputs": [],
   "source": [
    "TRAIN_central, TEST_central = train_test_split(central, test_step_size=673)\n",
    "TRAIN_north, TEST_north = train_test_split(north_area, test_step_size=673)\n",
    "TRAIN_west, TEST_west = train_test_split(west_area, test_step_size=673)\n",
    "TRAIN_east, TEST_east = train_test_split(east_area, test_step_size=673)\n",
    "TRAIN_south, TEST_south = train_test_split(south_area, test_step_size=673)"
   ]
  },
  {
   "cell_type": "markdown",
   "id": "69f5a20f-c793-4aa3-bb95-95c098dac98b",
   "metadata": {},
   "source": [
    "### data normalization"
   ]
  },
  {
   "cell_type": "code",
   "execution_count": null,
   "id": "663c6f51-cf0f-4ac6-b0a1-52577d5c1585",
   "metadata": {},
   "outputs": [],
   "source": [
    "train_central,test_central= scaler(TRAIN_central,TEST_central)\n",
    "train_north, test_north  = scaler(TRAIN_north,TEST_north)\n",
    "train_west, test_west  = scaler(TRAIN_west,TEST_west)\n",
    "train_east, test_east  = scaler(TRAIN_east,TEST_east)\n",
    "train_south, test_south  = scaler(TRAIN_south,TEST_south)"
   ]
  },
  {
   "cell_type": "markdown",
   "id": "698a8639-433a-46ec-a55f-bad2299abd9f",
   "metadata": {},
   "source": [
    "### 15 minute "
   ]
  },
  {
   "cell_type": "code",
   "execution_count": null,
   "id": "244e8993-d4cc-4cba-8cc2-2522402f03be",
   "metadata": {},
   "outputs": [],
   "source": [
    "xtest_central,ytest_central = X_Y_split(test_central, window_size=1,label_col_no=0)\n",
    "xtest_east,ytest_east = X_Y_split(test_east, window_size=1,label_col_no=0)\n",
    "xtest_west,ytest_west = X_Y_split(test_west, window_size=1,label_col_no=0)\n",
    "xtest_south,ytest_south = X_Y_split(test_south, window_size=1,label_col_no=0)\n",
    "xtest_north,ytest_north = X_Y_split(test_north, window_size=1,label_col_no=0)"
   ]
  },
  {
   "cell_type": "code",
   "execution_count": null,
   "id": "d8a5da09-2890-4fe8-8007-5e5ea700c803",
   "metadata": {},
   "outputs": [],
   "source": [
    "#15min\n",
    "m_central=bagg_best_15min\n",
    "m_east=bagg_best_15min\n",
    "m_west=bagg_best_15min\n",
    "m_south=bagg_best_15min\n",
    "m_north=bagg_best_15min"
   ]
  },
  {
   "cell_type": "code",
   "execution_count": null,
   "id": "792a9e04-8889-4a16-9fc0-baf97235f980",
   "metadata": {},
   "outputs": [],
   "source": [
    "yp_central = m_central.predict(xtest_central)\n",
    "yp_east = m_east.predict(xtest_east)\n",
    "yp_west = m_west.predict(xtest_west)\n",
    "yp_south = m_south.predict(xtest_south)\n",
    "yp_north = m_north.predict(xtest_north)"
   ]
  },
  {
   "cell_type": "code",
   "execution_count": null,
   "id": "b9914def-e20d-4ee4-a4b5-9932c4b7d722",
   "metadata": {},
   "outputs": [],
   "source": [
    "#central area 15min\n",
    "mse = mean_squared_error(y_pred=yp_central, y_true=ytest_central)\n",
    "mae = mean_absolute_error(y_pred=yp_central, y_true=ytest_central)\n",
    "rmse = math.sqrt(mean_squared_error(y_pred=yp_central, y_true=ytest_central))\n",
    "r2 = r2_score(y_pred=yp_central, y_true=ytest_central)\n",
    "print(round(mse,5))\n",
    "print(round(mae,5))\n",
    "print(round(rmse,5))\n",
    "print(round(r2,5))"
   ]
  },
  {
   "cell_type": "code",
   "execution_count": null,
   "id": "be9c468a-b7de-4120-a6f5-98c9fce4dc7b",
   "metadata": {},
   "outputs": [],
   "source": [
    "#east area 15min\n",
    "mse = mean_squared_error(y_pred=yp_east, y_true=ytest_east)\n",
    "mae = mean_absolute_error(y_pred=yp_east, y_true=ytest_east)\n",
    "rmse = math.sqrt(mean_squared_error(y_pred=yp_east, y_true=ytest_east))\n",
    "r2 = r2_score(y_pred=yp_east, y_true=ytest_east)\n",
    "print(round(mse,5))\n",
    "print(round(mae,5))\n",
    "print(round(rmse,5))\n",
    "print(round(r2,5))"
   ]
  },
  {
   "cell_type": "code",
   "execution_count": null,
   "id": "ad5d5c7a-5d3b-4c5b-8c55-8fc95c24539e",
   "metadata": {},
   "outputs": [],
   "source": [
    "#west area 15min\n",
    "mse = mean_squared_error(y_pred=yp_west, y_true=ytest_west)\n",
    "mae = mean_absolute_error(y_pred=yp_west, y_true=ytest_west)\n",
    "rmse = math.sqrt(mean_squared_error(y_pred=yp_west, y_true=ytest_west))\n",
    "r2 = r2_score(y_pred=yp_west, y_true=ytest_west)\n",
    "print(round(mse,5))\n",
    "print(round(mae,5))\n",
    "print(round(rmse,5))\n",
    "print(round(r2,5))"
   ]
  },
  {
   "cell_type": "code",
   "execution_count": null,
   "id": "e3bb2ed5-0e85-44e7-b580-e59a7049dc84",
   "metadata": {},
   "outputs": [],
   "source": [
    "#south area 15min\n",
    "mse = mean_squared_error(y_pred=yp_south, y_true=ytest_south)\n",
    "mae = mean_absolute_error(y_pred=yp_south, y_true=ytest_south)\n",
    "rmse = math.sqrt(mean_squared_error(y_pred=yp_south, y_true=ytest_south))\n",
    "r2 = r2_score(y_pred=yp_south, y_true=ytest_south)\n",
    "print(round(mse,5))\n",
    "print(round(mae,5))\n",
    "print(round(rmse,5))\n",
    "print(round(r2,5))"
   ]
  },
  {
   "cell_type": "code",
   "execution_count": null,
   "id": "55526662-4e18-489c-96b4-0f2151f722f9",
   "metadata": {},
   "outputs": [],
   "source": [
    "#north area 15min\n",
    "mse = mean_squared_error(y_pred=yp_north, y_true=ytest_north)\n",
    "mae = mean_absolute_error(y_pred=yp_north, y_true=ytest_north)\n",
    "rmse = math.sqrt(mean_squared_error(y_pred=yp_north, y_true=ytest_north))\n",
    "r2 = r2_score(y_pred=yp_north, y_true=ytest_north)\n",
    "print(round(mse,5))\n",
    "print(round(mae,5))\n",
    "print(round(rmse,5))\n",
    "print(round(r2,5))"
   ]
  },
  {
   "cell_type": "markdown",
   "id": "35eba569-57fd-4096-938b-d7fab1408ef8",
   "metadata": {},
   "source": [
    "### 1 hour"
   ]
  },
  {
   "cell_type": "code",
   "execution_count": null,
   "id": "ae63af55-8122-486a-ace7-dc715b0f7506",
   "metadata": {},
   "outputs": [],
   "source": [
    "xtest_central,ytest_central = X_Y_split(test_central, window_size=4,label_col_no=0)\n",
    "xtest_east,ytest_east = X_Y_split(test_east, window_size=4,label_col_no=0)\n",
    "xtest_west,ytest_west = X_Y_split(test_west, window_size=4,label_col_no=0)\n",
    "xtest_south,ytest_south = X_Y_split(test_south, window_size=4,label_col_no=0)\n",
    "xtest_north,ytest_north = X_Y_split(test_north, window_size=4,label_col_no=0)"
   ]
  },
  {
   "cell_type": "code",
   "execution_count": null,
   "id": "a1126d18-46ba-49c7-9577-755ad58ed1ba",
   "metadata": {},
   "outputs": [],
   "source": [
    "#1hr\n",
    "m_central=bagg_best_1hour\n",
    "m_east=bagg_best_1hour\n",
    "m_west=bagg_best_1hour\n",
    "m_south=bagg_best_1hour\n",
    "m_north=bagg_best_1hour"
   ]
  },
  {
   "cell_type": "code",
   "execution_count": null,
   "id": "ab34cfec-a34a-429b-aefd-c984e3a410a4",
   "metadata": {},
   "outputs": [],
   "source": [
    "yp_central = m_central.predict(xtest_central)\n",
    "yp_east = m_east.predict(xtest_east)\n",
    "yp_west = m_west.predict(xtest_west)\n",
    "yp_south = m_south.predict(xtest_south)\n",
    "yp_north = m_north.predict(xtest_north)"
   ]
  },
  {
   "cell_type": "code",
   "execution_count": null,
   "id": "bd2482c6-fb49-4e31-b383-eaab2b5a8cd8",
   "metadata": {},
   "outputs": [],
   "source": [
    "#central area 1hr\n",
    "mse = mean_squared_error(y_pred=yp_central, y_true=ytest_central)\n",
    "mae = mean_absolute_error(y_pred=yp_central, y_true=ytest_central)\n",
    "rmse = math.sqrt(mean_squared_error(y_pred=yp_central, y_true=ytest_central))\n",
    "r2 = r2_score(y_pred=yp_central, y_true=ytest_central)\n",
    "print(round(mse,5))\n",
    "print(round(mae,5))\n",
    "print(round(rmse,5))\n",
    "print(round(r2,5))"
   ]
  },
  {
   "cell_type": "code",
   "execution_count": null,
   "id": "2df56f1f-8e74-45ad-b83d-b77760dd26c9",
   "metadata": {},
   "outputs": [],
   "source": [
    "#east area 1hr\n",
    "mse = mean_squared_error(y_pred=yp_east, y_true=ytest_east)\n",
    "mae = mean_absolute_error(y_pred=yp_east, y_true=ytest_east)\n",
    "rmse = math.sqrt(mean_squared_error(y_pred=yp_east, y_true=ytest_east))\n",
    "r2 = r2_score(y_pred=yp_east, y_true=ytest_east)\n",
    "print(round(mse,5))\n",
    "print(round(mae,5))\n",
    "print(round(rmse,5))\n",
    "print(round(r2,5))"
   ]
  },
  {
   "cell_type": "code",
   "execution_count": null,
   "id": "89796f89-d24c-46ef-bbfb-9426dc1dddbb",
   "metadata": {},
   "outputs": [],
   "source": [
    "#west area 1hr\n",
    "mse = mean_squared_error(y_pred=yp_west, y_true=ytest_west)\n",
    "mae = mean_absolute_error(y_pred=yp_west, y_true=ytest_west)\n",
    "rmse = math.sqrt(mean_squared_error(y_pred=yp_west, y_true=ytest_west))\n",
    "r2 = r2_score(y_pred=yp_west, y_true=ytest_west)\n",
    "print(round(mse,5))\n",
    "print(round(mae,5))\n",
    "print(round(rmse,5))\n",
    "print(round(r2,5))"
   ]
  },
  {
   "cell_type": "code",
   "execution_count": null,
   "id": "033eb539-b326-4dcd-b788-a7b3df57b4c5",
   "metadata": {},
   "outputs": [],
   "source": [
    "#south area 1hr\n",
    "mse = mean_squared_error(y_pred=yp_south, y_true=ytest_south)\n",
    "mae = mean_absolute_error(y_pred=yp_south, y_true=ytest_south)\n",
    "rmse = math.sqrt(mean_squared_error(y_pred=yp_south, y_true=ytest_south))\n",
    "r2 = r2_score(y_pred=yp_south, y_true=ytest_south)\n",
    "print(round(mse,5))\n",
    "print(round(mae,5))\n",
    "print(round(rmse,5))\n",
    "print(round(r2,5))"
   ]
  },
  {
   "cell_type": "code",
   "execution_count": null,
   "id": "839a346c-d600-41e4-b1ab-430908f0a68e",
   "metadata": {},
   "outputs": [],
   "source": [
    "#north area 1hr\n",
    "mse = mean_squared_error(y_pred=yp_north, y_true=ytest_north)\n",
    "mae = mean_absolute_error(y_pred=yp_north, y_true=ytest_north)\n",
    "rmse = math.sqrt(mean_squared_error(y_pred=yp_north, y_true=ytest_north))\n",
    "r2 = r2_score(y_pred=yp_north, y_true=ytest_north)\n",
    "print(round(mse,5))\n",
    "print(round(mae,5))\n",
    "print(round(rmse,5))\n",
    "print(round(r2,5))"
   ]
  },
  {
   "cell_type": "markdown",
   "id": "92d5d7d9-216a-4d24-8082-121871162160",
   "metadata": {},
   "source": [
    "### 4 hour"
   ]
  },
  {
   "cell_type": "code",
   "execution_count": null,
   "id": "37b57930-4e73-4292-9dce-cc0597d41959",
   "metadata": {},
   "outputs": [],
   "source": [
    "xtest_central,ytest_central = X_Y_split(test_central, window_size=16,label_col_no=0)\n",
    "xtest_east,ytest_east = X_Y_split(test_east, window_size=16,label_col_no=0)\n",
    "xtest_west,ytest_west = X_Y_split(test_west, window_size=16,label_col_no=0)\n",
    "xtest_south,ytest_south = X_Y_split(test_south, window_size=16,label_col_no=0)\n",
    "xtest_north,ytest_north = X_Y_split(test_north, window_size=16,label_col_no=0)"
   ]
  },
  {
   "cell_type": "code",
   "execution_count": null,
   "id": "4e55d6d8-c1bc-450d-a9ad-d2af10183a66",
   "metadata": {},
   "outputs": [],
   "source": [
    "#4hr\n",
    "m_central=bagg_best_4hour\n",
    "m_east=bagg_best_4hour\n",
    "m_west=bagg_best_4hour\n",
    "m_south=bagg_best_4hour\n",
    "m_north=bagg_best_4hour"
   ]
  },
  {
   "cell_type": "code",
   "execution_count": null,
   "id": "61a3fbd2-af94-45c6-838d-181ef64ed405",
   "metadata": {},
   "outputs": [],
   "source": [
    "yp_central = m_central.predict(xtest_central)\n",
    "yp_east = m_east.predict(xtest_east)\n",
    "yp_west = m_west.predict(xtest_west)\n",
    "yp_south = m_south.predict(xtest_south)\n",
    "yp_north = m_north.predict(xtest_north)"
   ]
  },
  {
   "cell_type": "code",
   "execution_count": null,
   "id": "d8077b7e-8248-4d52-9e81-e17170b728bc",
   "metadata": {},
   "outputs": [],
   "source": [
    "#central area 4hr\n",
    "mse = mean_squared_error(y_pred=yp_central, y_true=ytest_central)\n",
    "mae = mean_absolute_error(y_pred=yp_central, y_true=ytest_central)\n",
    "rmse = math.sqrt(mean_squared_error(y_pred=yp_central, y_true=ytest_central))\n",
    "r2 = r2_score(y_pred=yp_central, y_true=ytest_central)\n",
    "print(round(mse,5))\n",
    "print(round(mae,5))\n",
    "print(round(rmse,5))\n",
    "print(round(r2,5))"
   ]
  },
  {
   "cell_type": "code",
   "execution_count": null,
   "id": "e8e43679-8327-416d-95d1-0b66aba365ab",
   "metadata": {},
   "outputs": [],
   "source": [
    "#east area 4hr\n",
    "mse = mean_squared_error(y_pred=yp_east, y_true=ytest_east)\n",
    "mae = mean_absolute_error(y_pred=yp_east, y_true=ytest_east)\n",
    "rmse = math.sqrt(mean_squared_error(y_pred=yp_east, y_true=ytest_east))\n",
    "r2 = r2_score(y_pred=yp_east, y_true=ytest_east)\n",
    "print(round(mse,5))\n",
    "print(round(mae,5))\n",
    "print(round(rmse,5))\n",
    "print(round(r2,5))"
   ]
  },
  {
   "cell_type": "code",
   "execution_count": null,
   "id": "e15db1a9-074c-4d7d-8d75-a5ad1049652c",
   "metadata": {},
   "outputs": [],
   "source": [
    "#west area 4hr\n",
    "mse = mean_squared_error(y_pred=yp_west, y_true=ytest_west)\n",
    "mae = mean_absolute_error(y_pred=yp_west, y_true=ytest_west)\n",
    "rmse = math.sqrt(mean_squared_error(y_pred=yp_west, y_true=ytest_west))\n",
    "r2 = r2_score(y_pred=yp_west, y_true=ytest_west)\n",
    "print(round(mse,5))\n",
    "print(round(mae,5))\n",
    "print(round(rmse,5))\n",
    "print(round(r2,5))"
   ]
  },
  {
   "cell_type": "code",
   "execution_count": null,
   "id": "84cd9867-3709-4a70-bee8-9b354f8e7fe1",
   "metadata": {},
   "outputs": [],
   "source": [
    "#south area 4hr\n",
    "mse = mean_squared_error(y_pred=yp_south, y_true=ytest_south)\n",
    "mae = mean_absolute_error(y_pred=yp_south, y_true=ytest_south)\n",
    "rmse = math.sqrt(mean_squared_error(y_pred=yp_south, y_true=ytest_south))\n",
    "r2 = r2_score(y_pred=yp_south, y_true=ytest_south)\n",
    "print(round(mse,5))\n",
    "print(round(mae,5))\n",
    "print(round(rmse,5))\n",
    "print(round(r2,5))"
   ]
  },
  {
   "cell_type": "code",
   "execution_count": null,
   "id": "3b900107-3b77-4db6-abdd-f440a1601574",
   "metadata": {},
   "outputs": [],
   "source": [
    "#north area 4hr\n",
    "mse = mean_squared_error(y_pred=yp_north, y_true=ytest_north)\n",
    "mae = mean_absolute_error(y_pred=yp_north, y_true=ytest_north)\n",
    "rmse = math.sqrt(mean_squared_error(y_pred=yp_north, y_true=ytest_north))\n",
    "r2 = r2_score(y_pred=yp_north, y_true=ytest_north)\n",
    "print(round(mse,5))\n",
    "print(round(mae,5))\n",
    "print(round(rmse,5))\n",
    "print(round(r2,5))"
   ]
  },
  {
   "cell_type": "markdown",
   "id": "e5cc909f-bb99-4e4c-baec-5d02ee1c3e94",
   "metadata": {},
   "source": [
    "## performance on different time window in five regions (individual level)"
   ]
  },
  {
   "cell_type": "code",
   "execution_count": null,
   "id": "d2e495dc-29b9-4959-bbd5-4289fd29ca93",
   "metadata": {},
   "outputs": [],
   "source": [
    "#individual car park\n",
    "#central\n",
    "train_41 =train_central[train_central.carpark_number==0]\n",
    "test_41 =test_central[test_central.carpark_number==0]\n",
    "#north\n",
    "train_547 =train_north[train_north.carpark_number==0]\n",
    "test_547 =test_north[test_north.carpark_number==0]\n",
    "#west\n",
    "train_22 =train_west[train_west.carpark_number==0]\n",
    "test_22 =test_west[test_west.carpark_number==0]\n",
    "#east\n",
    "train_437 =train_east[train_east.carpark_number==0]\n",
    "test_437 =test_east[test_east.carpark_number==0]\n",
    "#south\n",
    "train_514 =train_south[train_south.carpark_number==0]\n",
    "test_514=test_south[test_south.carpark_number==0]"
   ]
  },
  {
   "cell_type": "markdown",
   "id": "cdcf0507-b11a-4b1f-a1cf-7ffd36d23615",
   "metadata": {},
   "source": [
    "### 15 minute"
   ]
  },
  {
   "cell_type": "code",
   "execution_count": null,
   "id": "e9346a08-27e3-4712-a899-5d827db21175",
   "metadata": {},
   "outputs": [],
   "source": [
    "xtest41,ytest41 = window_generator(test_41, window_size=1,label_col_no=0)\n",
    "xtest547,ytest547 = window_generator(test_547, window_size=1,label_col_no=0)\n",
    "xtest22,ytest22 = window_generator(test_22, window_size=1,label_col_no=0)\n",
    "xtest437,ytest437 = window_generator(test_437, window_size=1,label_col_no=0)\n",
    "xtest514,ytest514 = window_generator(test_514, window_size=1,label_col_no=0)"
   ]
  },
  {
   "cell_type": "code",
   "execution_count": null,
   "id": "6307279b-807c-41ba-9d4b-3e5343646bdc",
   "metadata": {},
   "outputs": [],
   "source": [
    "#15min\n",
    "m_central_single=bagg_best_15min\n",
    "m_east_single=bagg_best_15min\n",
    "m_west_single=bagg_best_15min\n",
    "m_south_single=bagg_best_15min\n",
    "m_north_single=bagg_best_15min"
   ]
  },
  {
   "cell_type": "code",
   "execution_count": null,
   "id": "5594141b-d46f-4de0-ac82-f6e86719ad71",
   "metadata": {},
   "outputs": [],
   "source": [
    "yp_central = m_central_single.predict(xtest41)\n",
    "yp_east = m_east_single.predict(xtest437)\n",
    "yp_west = m_west_single.predict(xtest22)\n",
    "yp_south = m_south_single.predict(xtest514)\n",
    "yp_north = m_north_single.predict(xtest547)"
   ]
  },
  {
   "cell_type": "code",
   "execution_count": null,
   "id": "10e81ea9-f462-4601-99b7-64e93d2e4def",
   "metadata": {},
   "outputs": [],
   "source": [
    "#central area 15min\n",
    "mse = mean_squared_error(y_pred=yp_central, y_true=ytest41)\n",
    "mae = mean_absolute_error(y_pred=yp_central, y_true=ytest41)\n",
    "rmse = math.sqrt(mean_squared_error(y_pred=yp_central, y_true=ytest41))\n",
    "r2 = r2_score(y_pred=yp_central, y_true=ytest41)\n",
    "print(round(mse,5))\n",
    "print(round(mae,5))\n",
    "print(round(rmse,5))\n",
    "print(round(r2,5))"
   ]
  },
  {
   "cell_type": "code",
   "execution_count": null,
   "id": "4385c2b1-4063-41fb-a641-15f28ce4a45d",
   "metadata": {},
   "outputs": [],
   "source": [
    "#east area 15min\n",
    "mse = mean_squared_error(y_pred=yp_east, y_true=ytest437)\n",
    "mae = mean_absolute_error(y_pred=yp_east, y_true=ytest437)\n",
    "rmse = math.sqrt(mean_squared_error(y_pred=yp_east, y_true=ytest437))\n",
    "r2 = r2_score(y_pred=yp_east, y_true=ytest437)\n",
    "print(round(mse,5))\n",
    "print(round(mae,5))\n",
    "print(round(rmse,5))\n",
    "print(round(r2,5))"
   ]
  },
  {
   "cell_type": "code",
   "execution_count": null,
   "id": "b376e2fa-805a-4527-8e1b-515573cc2c8d",
   "metadata": {},
   "outputs": [],
   "source": [
    "#west area 15min\n",
    "mse = mean_squared_error(y_pred=yp_west, y_true=ytest22)\n",
    "mae = mean_absolute_error(y_pred=yp_west, y_true=ytest22)\n",
    "rmse = math.sqrt(mean_squared_error(y_pred=yp_west, y_true=ytest22))\n",
    "r2 = r2_score(y_pred=yp_west, y_true=ytest22)\n",
    "print(round(mse,5))\n",
    "print(round(mae,5))\n",
    "print(round(rmse,5))\n",
    "print(round(r2,5))"
   ]
  },
  {
   "cell_type": "code",
   "execution_count": null,
   "id": "0edcc42e-2180-4306-9d9d-37ea11b86ba8",
   "metadata": {},
   "outputs": [],
   "source": [
    "#south area 15min\n",
    "mse = mean_squared_error(y_pred=yp_south, y_true=ytest514)\n",
    "mae = mean_absolute_error(y_pred=yp_south, y_true=ytest514)\n",
    "rmse = math.sqrt(mean_squared_error(y_pred=yp_south, y_true=ytest514))\n",
    "r2 = r2_score(y_pred=yp_south, y_true=ytest514)\n",
    "print(round(mse,5))\n",
    "print(round(mae,5))\n",
    "print(round(rmse,5))\n",
    "print(round(r2,5))"
   ]
  },
  {
   "cell_type": "code",
   "execution_count": null,
   "id": "223d09d2-1822-4c2b-9f1a-fb52d85c61c9",
   "metadata": {},
   "outputs": [],
   "source": [
    "#north area 15min\n",
    "mse = mean_squared_error(y_pred=yp_north, y_true=ytest547)\n",
    "mae = mean_absolute_error(y_pred=yp_north, y_true=ytest547)\n",
    "rmse = math.sqrt(mean_squared_error(y_pred=yp_north, y_true=ytest547))\n",
    "r2 = r2_score(y_pred=yp_north, y_true=ytest547)\n",
    "print(round(mse,5))\n",
    "print(round(mae,5))\n",
    "print(round(rmse,5))\n",
    "print(round(r2,5))"
   ]
  },
  {
   "cell_type": "markdown",
   "id": "090f2d16-18c2-4e95-9ce9-c66a05bf8cb5",
   "metadata": {},
   "source": [
    "### 1 hour"
   ]
  },
  {
   "cell_type": "code",
   "execution_count": null,
   "id": "e2aacc74-2648-4aad-b661-dec57f66d2be",
   "metadata": {},
   "outputs": [],
   "source": [
    "xtest41,ytest41 = window_generator(test_41, window_size=4,label_col_no=0)\n",
    "xtest547,ytest547 = window_generator(test_547, window_size=4,label_col_no=0)\n",
    "xtest22,ytest22 = window_generator(test_22, window_size=4,label_col_no=0)\n",
    "xtest437,ytest437 = window_generator(test_437, window_size=4,label_col_no=0)\n",
    "xtest514,ytest514 = window_generator(test_514, window_size=4,label_col_no=0)"
   ]
  },
  {
   "cell_type": "code",
   "execution_count": null,
   "id": "301de243-a92a-415e-8953-9cc5fa55c168",
   "metadata": {},
   "outputs": [],
   "source": [
    "#1hr\n",
    "m_central_single=bagg_best_1hour\n",
    "m_east_single=bagg_best_1hour\n",
    "m_west_single=bagg_best_1hour\n",
    "m_south_single=bagg_best_1hour\n",
    "m_north_single=bagg_best_1hour"
   ]
  },
  {
   "cell_type": "code",
   "execution_count": null,
   "id": "cdb632d9-8c4b-4934-bbc7-312acbbd3230",
   "metadata": {},
   "outputs": [],
   "source": [
    "yp_central = m_central_single.predict(xtest41)\n",
    "yp_east = m_east_single.predict(xtest437)\n",
    "yp_west = m_west_single.predict(xtest22)\n",
    "yp_south = m_south_single.predict(xtest514)\n",
    "yp_north = m_north_single.predict(xtest547)"
   ]
  },
  {
   "cell_type": "code",
   "execution_count": null,
   "id": "7c0f8945-a3fa-4978-883b-9e400d2ded3b",
   "metadata": {},
   "outputs": [],
   "source": [
    "#central area 1hr\n",
    "mse = mean_squared_error(y_pred=yp_central, y_true=ytest41)\n",
    "mae = mean_absolute_error(y_pred=yp_central, y_true=ytest41)\n",
    "rmse = math.sqrt(mean_squared_error(y_pred=yp_central, y_true=ytest41))\n",
    "r2 = r2_score(y_pred=yp_central, y_true=ytest41)\n",
    "print(round(mse,5))\n",
    "print(round(mae,5))\n",
    "print(round(rmse,5))\n",
    "print(round(r2,5))"
   ]
  },
  {
   "cell_type": "code",
   "execution_count": null,
   "id": "cddf48a1-e7c3-47a5-b5fe-ed857166ee1c",
   "metadata": {},
   "outputs": [],
   "source": [
    "#east area 1hr\n",
    "mse = mean_squared_error(y_pred=yp_east, y_true=ytest437)\n",
    "mae = mean_absolute_error(y_pred=yp_east, y_true=ytest437)\n",
    "rmse = math.sqrt(mean_squared_error(y_pred=yp_east, y_true=ytest437))\n",
    "r2 = r2_score(y_pred=yp_east, y_true=ytest437)\n",
    "print(round(mse,5))\n",
    "print(round(mae,5))\n",
    "print(round(rmse,5))\n",
    "print(round(r2,5))"
   ]
  },
  {
   "cell_type": "code",
   "execution_count": null,
   "id": "f982b180-2aaa-41f5-bb32-31c3e62bd885",
   "metadata": {},
   "outputs": [],
   "source": [
    "#west area 1hr\n",
    "mse = mean_squared_error(y_pred=yp_west, y_true=ytest22)\n",
    "mae = mean_absolute_error(y_pred=yp_west, y_true=ytest22)\n",
    "rmse = math.sqrt(mean_squared_error(y_pred=yp_west, y_true=ytest22))\n",
    "r2 = r2_score(y_pred=yp_west, y_true=ytest22)\n",
    "print(round(mse,5))\n",
    "print(round(mae,5))\n",
    "print(round(rmse,5))\n",
    "print(round(r2,5))"
   ]
  },
  {
   "cell_type": "code",
   "execution_count": null,
   "id": "28271708-dcbb-4883-8634-fb625b777f5c",
   "metadata": {},
   "outputs": [],
   "source": [
    "#south area 1hr\n",
    "mse = mean_squared_error(y_pred=yp_south, y_true=ytest514)\n",
    "mae = mean_absolute_error(y_pred=yp_south, y_true=ytest514)\n",
    "rmse = math.sqrt(mean_squared_error(y_pred=yp_south, y_true=ytest514))\n",
    "r2 = r2_score(y_pred=yp_south, y_true=ytest514)\n",
    "print(round(mse,5))\n",
    "print(round(mae,5))\n",
    "print(round(rmse,5))\n",
    "print(round(r2,5))"
   ]
  },
  {
   "cell_type": "code",
   "execution_count": null,
   "id": "b2fd582d-2e75-4726-b412-fd88f5b2e04a",
   "metadata": {},
   "outputs": [],
   "source": [
    "#north area 1hr\n",
    "mse = mean_squared_error(y_pred=yp_north, y_true=ytest547)\n",
    "mae = mean_absolute_error(y_pred=yp_north, y_true=ytest547)\n",
    "rmse = math.sqrt(mean_squared_error(y_pred=yp_north, y_true=ytest547))\n",
    "r2 = r2_score(y_pred=yp_north, y_true=ytest547)\n",
    "print(round(mse,5))\n",
    "print(round(mae,5))\n",
    "print(round(rmse,5))\n",
    "print(round(r2,5))"
   ]
  },
  {
   "cell_type": "markdown",
   "id": "295cb081-a810-47f2-ab62-c72c2f875e88",
   "metadata": {},
   "source": [
    "### 4 hour"
   ]
  },
  {
   "cell_type": "code",
   "execution_count": null,
   "id": "5486d8f4-7d3b-4796-95bd-46ba9840dfa2",
   "metadata": {},
   "outputs": [],
   "source": [
    "xtest41,ytest41 = window_generator(test_41, window_size=16,label_col_no=0)\n",
    "xtest547,ytest547 = window_generator(test_547, window_size=16,label_col_no=0)\n",
    "xtest22,ytest22 = window_generator(test_22, window_size=16,label_col_no=0)\n",
    "xtest437,ytest437 = window_generator(test_437, window_size=16,label_col_no=0)\n",
    "xtest514,ytest514 = window_generator(test_514, window_size=16,label_col_no=0)"
   ]
  },
  {
   "cell_type": "code",
   "execution_count": null,
   "id": "a0ca4200-7015-47ef-983f-11c1ed7cdcb1",
   "metadata": {},
   "outputs": [],
   "source": [
    "#4hr\n",
    "m_central_single=bagg_best_4hour\n",
    "m_east_single=bagg_best_4hour\n",
    "m_west_single=bagg_best_4hour\n",
    "m_south_single=bagg_best_4hour\n",
    "m_north_single=bagg_best_4hour"
   ]
  },
  {
   "cell_type": "code",
   "execution_count": null,
   "id": "185b50ec-65ac-4b21-8f44-c41d5605cae0",
   "metadata": {},
   "outputs": [],
   "source": [
    "yp_central = m_central_single.predict(xtest41)\n",
    "yp_east = m_east_single.predict(xtest437)\n",
    "yp_west = m_west_single.predict(xtest22)\n",
    "yp_south = m_south_single.predict(xtest514)\n",
    "yp_north = m_north_single.predict(xtest547)"
   ]
  },
  {
   "cell_type": "code",
   "execution_count": null,
   "id": "359aa354-c209-4ea9-acbe-eea44271b381",
   "metadata": {},
   "outputs": [],
   "source": [
    "#central area 4hr\n",
    "mse = mean_squared_error(y_pred=yp_central, y_true=ytest41)\n",
    "mae = mean_absolute_error(y_pred=yp_central, y_true=ytest41)\n",
    "rmse = math.sqrt(mean_squared_error(y_pred=yp_central, y_true=ytest41))\n",
    "r2 = r2_score(y_pred=yp_central, y_true=ytest41)\n",
    "print(round(mse,5))\n",
    "print(round(mae,5))\n",
    "print(round(rmse,5))\n",
    "print(round(r2,5))"
   ]
  },
  {
   "cell_type": "code",
   "execution_count": null,
   "id": "f28c409b-99ac-4a21-bf0d-71308b5eff8f",
   "metadata": {},
   "outputs": [],
   "source": [
    "#east area 4hr\n",
    "mse = mean_squared_error(y_pred=yp_east, y_true=ytest437)\n",
    "mae = mean_absolute_error(y_pred=yp_east, y_true=ytest437)\n",
    "rmse = math.sqrt(mean_squared_error(y_pred=yp_east, y_true=ytest437))\n",
    "r2 = r2_score(y_pred=yp_east, y_true=ytest437)\n",
    "print(round(mse,5))\n",
    "print(round(mae,5))\n",
    "print(round(rmse,5))\n",
    "print(round(r2,5))"
   ]
  },
  {
   "cell_type": "code",
   "execution_count": null,
   "id": "a15a7ea9-8607-4b40-bfa1-5e2a8935a082",
   "metadata": {},
   "outputs": [],
   "source": [
    "#west area 4hr\n",
    "mse = mean_squared_error(y_pred=yp_west, y_true=ytest22)\n",
    "mae = mean_absolute_error(y_pred=yp_west, y_true=ytest22)\n",
    "rmse = math.sqrt(mean_squared_error(y_pred=yp_west, y_true=ytest22))\n",
    "r2 = r2_score(y_pred=yp_west, y_true=ytest22)\n",
    "print(round(mse,5))\n",
    "print(round(mae,5))\n",
    "print(round(rmse,5))\n",
    "print(round(r2,5))"
   ]
  },
  {
   "cell_type": "code",
   "execution_count": null,
   "id": "6558b1b3-a86b-4b57-b1bc-8cbf77186c27",
   "metadata": {},
   "outputs": [],
   "source": [
    "#south area 4hr\n",
    "mse = mean_squared_error(y_pred=yp_south, y_true=ytest514)\n",
    "mae = mean_absolute_error(y_pred=yp_south, y_true=ytest514)\n",
    "rmse = math.sqrt(mean_squared_error(y_pred=yp_south, y_true=ytest514))\n",
    "r2 = r2_score(y_pred=yp_south, y_true=ytest514)\n",
    "print(round(mse,5))\n",
    "print(round(mae,5))\n",
    "print(round(rmse,5))\n",
    "print(round(r2,5))"
   ]
  },
  {
   "cell_type": "code",
   "execution_count": null,
   "id": "dc379154-9296-4839-8336-c351043cdeb5",
   "metadata": {},
   "outputs": [],
   "source": [
    "#north area 4hr\n",
    "mse = mean_squared_error(y_pred=yp_north, y_true=ytest547)\n",
    "mae = mean_absolute_error(y_pred=yp_north, y_true=ytest547)\n",
    "rmse = math.sqrt(mean_squared_error(y_pred=yp_north, y_true=ytest547))\n",
    "r2 = r2_score(y_pred=yp_north, y_true=ytest547)\n",
    "print(round(mse,5))\n",
    "print(round(mae,5))\n",
    "print(round(rmse,5))\n",
    "print(round(r2,5))"
   ]
  },
  {
   "cell_type": "markdown",
   "id": "20df5876-a164-4c71-8f32-55e58b62e97c",
   "metadata": {},
   "source": [
    "## performance on different time horizon using model with best time window size (4 hour = 16 timestep)"
   ]
  },
  {
   "cell_type": "markdown",
   "id": "dc60812c-b763-4d52-9421-ebe6a80e3c88",
   "metadata": {},
   "source": [
    "### entire dataset"
   ]
  },
  {
   "cell_type": "code",
   "execution_count": null,
   "id": "f5ae914c-d116-4806-bf25-59bbd560561c",
   "metadata": {},
   "outputs": [],
   "source": [
    "bagg_best_4hr_whole = bagg_best_4hour"
   ]
  },
  {
   "cell_type": "code",
   "execution_count": null,
   "id": "a4821eab-f023-44b2-a3df-d0a9fd6dd476",
   "metadata": {},
   "outputs": [],
   "source": [
    "x,y = last_x_y_generator(Train, window_size=16,label_col_no=0)"
   ]
  },
  {
   "cell_type": "code",
   "execution_count": null,
   "id": "8e891a63-f212-42ff-b718-3212777d89ab",
   "metadata": {},
   "outputs": [],
   "source": [
    "current_batch = insert_end(x,y,16)"
   ]
  },
  {
   "cell_type": "code",
   "execution_count": null,
   "id": "4ecc33f4-c347-4ae8-ab44-b40f6ceb7519",
   "metadata": {},
   "outputs": [],
   "source": [
    "#entire dataset\n",
    "future_len = 40\n",
    "Test_new = Test[['lots_available', 'carpark_number','day_of_week','hour_of_day']]\n",
    "Test_new = Test_new.sort_values(by=['carpark_number', 'datetime'])\n",
    "l=[]\n",
    "L=pd.DataFrame()\n",
    "for i in sorted(Test_new.carpark_number.value_counts().keys()):\n",
    "  inner = Test_new[Test_new.carpark_number == i]\n",
    "  inner = inner.reset_index()\n",
    "  inner = inner.iloc[0:future_len,:]\n",
    "  l.append(inner)\n",
    "L = L.append(l)\n",
    "L['value'] = L.index.values\n",
    "L = L.sort_index()\n",
    "L = L.sort_values(by=['value','carpark_number'])"
   ]
  },
  {
   "cell_type": "code",
   "execution_count": null,
   "id": "769e2059-7d8e-4310-b370-4eff9bd6332b",
   "metadata": {},
   "outputs": [],
   "source": [
    "future = 40\n",
    "Xin = current_batch\n",
    "forcast = []\n",
    "for i in range(0,future):\n",
    "  out = bagg_best_4hr_whole.predict(Xin)    \n",
    "  forcast.append(out)\n",
    "  Xin = insert_end_multi(Xin,out, timestep=16)\n",
    "  Xin[:,41:42] =  L[['day_of_week']][i*855:(i*855)+855]\n",
    "  Xin[:,57:] = L[['hour_of_day']][i*855:(i*855)+855]"
   ]
  },
  {
   "cell_type": "code",
   "execution_count": null,
   "id": "d56d5b59-b4d7-4d9d-a85d-8a2712834557",
   "metadata": {},
   "outputs": [],
   "source": [
    "Y_t = L['lots_available']\n",
    "\n",
    "l=[]\n",
    "for i in range(40):\n",
    "  l.append(Y_t[i*855:(i*855)+855])"
   ]
  },
  {
   "cell_type": "code",
   "execution_count": null,
   "id": "fc160c9a-f0de-4471-b5db-b2135fec3ac6",
   "metadata": {},
   "outputs": [],
   "source": [
    "rmse40step=[]\n",
    "for i in range(40):\n",
    "  rmse40step.append(math.sqrt(mean_squared_error(y_pred=forcast[i], y_true=l[i])))"
   ]
  },
  {
   "cell_type": "code",
   "execution_count": null,
   "id": "034a31e4-6ea7-41e4-ad14-d365f025163f",
   "metadata": {},
   "outputs": [],
   "source": [
    "rmse40step = pd.DataFrame(rmse40step)\n",
    "rmse40step.to_csv('rmse40step855_bagging.csv')"
   ]
  },
  {
   "cell_type": "markdown",
   "id": "08afe3d7-a157-4b62-ac3f-5ef902155fb6",
   "metadata": {},
   "source": [
    "### group level (five regions, 10 to 12 parking lots per region)"
   ]
  },
  {
   "cell_type": "code",
   "execution_count": null,
   "id": "db3e93a4-13ed-4e1a-ae1a-765f529d623e",
   "metadata": {},
   "outputs": [],
   "source": [
    "bagg_4hr_central = bagg_best_4hour\n",
    "bagg_4hr_north = bagg_best_4hour\n",
    "bagg_4hr_west = bagg_best_4hour\n",
    "bagg_4hr_east = bagg_best_4hour\n",
    "bagg_4hr_south = bagg_best_4hour"
   ]
  },
  {
   "cell_type": "code",
   "execution_count": null,
   "id": "906ba9e1-6502-4fb3-9987-88656df5d97d",
   "metadata": {},
   "outputs": [],
   "source": [
    "x_central,y_central = last_x_y_generator(train_central, window_size=16,label_col_no=0)\n",
    "x_north,y_north = last_x_y_generator(train_north, window_size=16,label_col_no=0)\n",
    "x_west,y_west = last_x_y_generator(train_west, window_size=16,label_col_no=0)\n",
    "x_east,y_east = last_x_y_generator(train_east, window_size=16,label_col_no=0)\n",
    "x_south,y_south = last_x_y_generator(train_south, window_size=16,label_col_no=0)"
   ]
  },
  {
   "cell_type": "code",
   "execution_count": null,
   "id": "86dc27d0-1154-4525-bec9-5dca9533083d",
   "metadata": {},
   "outputs": [],
   "source": [
    "current_batch_central = insert_end(x_central,y_central,16)\n",
    "current_batch_north = insert_end(x_north,y_north,16)\n",
    "current_batch_west = insert_end(x_west,y_west,16)\n",
    "current_batch_east = insert_end(x_east,y_east,16)\n",
    "current_batch_south = insert_end(x_south,y_south,16)"
   ]
  },
  {
   "cell_type": "code",
   "execution_count": null,
   "id": "27b2c8ab-bd56-4831-8444-81449ae09b14",
   "metadata": {},
   "outputs": [],
   "source": [
    "future_len = 40\n",
    "Test_new = test_south[['lots_available', 'carpark_number','day_of_week','hour_of_day']]\n",
    "Test_new = Test_new.sort_values(by=['carpark_number', 'datetime'])\n",
    "l=[]\n",
    "L=pd.DataFrame()\n",
    "for i in sorted(Test_new.carpark_number.value_counts().keys()):\n",
    "  inner = Test_new[Test_new.carpark_number == i]\n",
    "  inner = inner.reset_index()\n",
    "  inner = inner.iloc[0:future_len,:]\n",
    "  l.append(inner)\n",
    "L = L.append(l)\n",
    "L['value'] = L.index.values\n",
    "L = L.sort_index()\n",
    "L = L.sort_values(by=['value','carpark_number'])"
   ]
  },
  {
   "cell_type": "code",
   "execution_count": null,
   "id": "656a28e8-5e2f-42fe-b16f-f3f23225b28e",
   "metadata": {},
   "outputs": [],
   "source": [
    "#central\n",
    "future = 40\n",
    "Xin = current_batch_central\n",
    "forcast = []\n",
    "for i in range(0,future):\n",
    "  out = bagg_4hr_central.predict(Xin)    \n",
    "  forcast.append(out)\n",
    "  Xin = insert_end_multi(Xin,out, timestep=16)\n",
    "  Xin[:,41:42] =  L[['day_of_week']][i*11:(i*11)+11]\n",
    "  Xin[:,57:] = L[['hour_of_day']][i*11:(i*11)+11]"
   ]
  },
  {
   "cell_type": "code",
   "execution_count": null,
   "id": "a66f2e58-406f-47aa-b087-8c84aa869601",
   "metadata": {},
   "outputs": [],
   "source": [
    "#north\n",
    "future = 40\n",
    "Xin = current_batch_north\n",
    "forcast = []\n",
    "for i in range(0,future):\n",
    "  out = bagg_4hr_north.predict(Xin)    \n",
    "  forcast.append(out)\n",
    "  Xin = insert_end_multi(Xin,out, timestep=16)\n",
    "  Xin[:,41:42] =  L[['day_of_week']][i*11:(i*11)+11]\n",
    "  Xin[:,57:] = L[['hour_of_day']][i*11:(i*11)+11]"
   ]
  },
  {
   "cell_type": "code",
   "execution_count": null,
   "id": "bdb634dc-4ad0-4c26-81d0-e27cb3ad80cc",
   "metadata": {},
   "outputs": [],
   "source": [
    "#west\n",
    "future = 40\n",
    "Xin = current_batch_west\n",
    "forcast = []\n",
    "for i in range(0,future):\n",
    "  out = bagg_4hr_west.predict(Xin)    \n",
    "  forcast.append(out)\n",
    "  Xin = insert_end_multi(Xin,out, timestep=16)\n",
    "  Xin[:,41:42] =  L[['day_of_week']][i*12:(i*12)+12]\n",
    "  Xin[:,57:] = L[['hour_of_day']][i*12:(i*12)+12]"
   ]
  },
  {
   "cell_type": "code",
   "execution_count": null,
   "id": "4657f537-b3cd-4666-9b21-45762664879b",
   "metadata": {},
   "outputs": [],
   "source": [
    "#east\n",
    "future = 40\n",
    "Xin = current_batch_east\n",
    "forcast = []\n",
    "for i in range(0,future):\n",
    "  out = bagg_4hr_east.predict(Xin)    \n",
    "  forcast.append(out)\n",
    "  Xin = insert_end_multi(Xin,out, timestep=16)\n",
    "  Xin[:,41:42] =  L[['day_of_week']][i*11:(i*11)+11]\n",
    "  Xin[:,57:] = L[['hour_of_day']][i*11:(i*11)+11]"
   ]
  },
  {
   "cell_type": "code",
   "execution_count": null,
   "id": "e67125b1-e315-45f6-bfbb-21cbd4d9207a",
   "metadata": {},
   "outputs": [],
   "source": [
    "#south\n",
    "future = 40\n",
    "Xin = current_batch_south\n",
    "forcast = []\n",
    "for i in range(0,future):\n",
    "  out = bagg_4hr_south.predict(Xin)    \n",
    "  forcast.append(out)\n",
    "  Xin = insert_end_multi(Xin,out, timestep=16)\n",
    "  Xin[:,41:42] =  L[['day_of_week']][i*10:(i*10)+10]\n",
    "  Xin[:,57:] = L[['hour_of_day']][i*10:(i*10)+10]"
   ]
  },
  {
   "cell_type": "code",
   "execution_count": null,
   "id": "9a33d2d7-5935-46bb-87b3-7d51ce2c486f",
   "metadata": {},
   "outputs": [],
   "source": [
    "Y_t = L['lots_available']\n",
    "\n",
    "l=[]\n",
    "for i in range(40):\n",
    "  l.append(Y_t[i*10:(i*10)+10])"
   ]
  },
  {
   "cell_type": "code",
   "execution_count": null,
   "id": "cd4e797f-3ee4-4891-a0e0-f02bd4d0f521",
   "metadata": {},
   "outputs": [],
   "source": [
    "rmse40step=[]\n",
    "for i in range(40):\n",
    "  rmse40step.append(math.sqrt(mean_squared_error(y_pred=forcast[i], y_true=l[i])))"
   ]
  },
  {
   "cell_type": "code",
   "execution_count": null,
   "id": "671ad385-b10e-486c-8f4b-1047899becfd",
   "metadata": {},
   "outputs": [],
   "source": [
    "rmse40step = pd.DataFrame(rmse40step)\n",
    "rmse40step.to_csv('rmse40step_south_bagging.csv')"
   ]
  },
  {
   "cell_type": "markdown",
   "id": "18b23716-14bd-4f35-a8e8-1f4a46de2bf2",
   "metadata": {},
   "source": [
    "### individual level (five regions, 1 parking lot per region)"
   ]
  },
  {
   "cell_type": "code",
   "execution_count": null,
   "id": "b7dc945a-dc7c-4aa0-b671-7d4cf6551b6e",
   "metadata": {},
   "outputs": [],
   "source": [
    "bagg_4hr_41 = bagg_best_4hour\n",
    "bagg_4hr_547 = bagg_best_4hour\n",
    "bagg_4hr_22 = bagg_best_4hour\n",
    "bagg_4hr_437 = bagg_best_4hour\n",
    "bagg_4hr_514 = bagg_best_4hour"
   ]
  },
  {
   "cell_type": "code",
   "execution_count": null,
   "id": "9908619d-cdfd-4aed-b59b-59aa3f228d88",
   "metadata": {},
   "outputs": [],
   "source": [
    "xtrain41,ytrain41 = window_generator(train_41, window_size=16,label_col_no=0)\n",
    "xtrain547,ytrain547 = window_generator(train_547, window_size=16,label_col_no=0)\n",
    "xtrain22,ytrain22 = window_generator(train_22, window_size=16,label_col_no=0)\n",
    "xtrain437,ytrain437 = window_generator(train_437, window_size=16,label_col_no=0)\n",
    "xtrain514,ytrain514 = window_generator(train_514, window_size=16,label_col_no=0)"
   ]
  },
  {
   "cell_type": "code",
   "execution_count": null,
   "id": "3941a0d6-890a-42c0-9e20-50e6dd5db65d",
   "metadata": {},
   "outputs": [],
   "source": [
    "last_x41 = xtrain41[-1:,:]\n",
    "last_y41 = ytrain41[-1:]\n",
    "\n",
    "last_x547 = xtrain547[-1:,:]\n",
    "last_y547 = ytrain547[-1:]\n",
    "\n",
    "last_x22 = xtrain22[-1:,:]\n",
    "last_y22 = ytrain22[-1:]\n",
    "\n",
    "last_x437 = xtrain437[-1:,:]\n",
    "last_y437 = ytrain437[-1:]\n",
    "\n",
    "last_x514 = xtrain514[-1:,:]\n",
    "last_y514 = ytrain514[-1:]"
   ]
  },
  {
   "cell_type": "code",
   "execution_count": null,
   "id": "ac2ccef1-a486-42ea-bfbf-a63e6c66183d",
   "metadata": {},
   "outputs": [],
   "source": [
    "current_batch_41 = insert_end(last_x41,last_y41,16)\n",
    "current_batch_547 = insert_end(last_x547,last_y547,16)\n",
    "current_batch_22 = insert_end(last_x22,last_y22,16)\n",
    "current_batch_437 = insert_end(last_x437,last_y437,16)\n",
    "current_batch_514 = insert_end(last_x514,last_y514,16)"
   ]
  },
  {
   "cell_type": "code",
   "execution_count": null,
   "id": "b40a0213-6446-4abb-b590-8382cc8746ec",
   "metadata": {},
   "outputs": [],
   "source": [
    "future_len = 40\n",
    "Test_new = test_514[['lots_available', 'carpark_number','day_of_week','hour_of_day']]\n",
    "Test_new = Test_new.sort_values(by=['carpark_number', 'datetime'])\n",
    "l=[]\n",
    "L=pd.DataFrame()\n",
    "for i in sorted(Test_new.carpark_number.value_counts().keys()):\n",
    "  inner = Test_new[Test_new.carpark_number == i]\n",
    "  inner = inner.reset_index()\n",
    "  inner = inner.iloc[0:future_len,:]\n",
    "  l.append(inner)\n",
    "L = L.append(l)\n",
    "L['value'] = L.index.values\n",
    "L = L.sort_index()\n",
    "L = L.sort_values(by=['value','carpark_number'])"
   ]
  },
  {
   "cell_type": "code",
   "execution_count": null,
   "id": "8c36ed2f-9b23-434d-98e9-f40572a2d622",
   "metadata": {},
   "outputs": [],
   "source": [
    "#central\n",
    "future = 40\n",
    "Xin = current_batch_41\n",
    "forcast = []\n",
    "for i in range(0,future):\n",
    "  out = bagg_4hr_41.predict(Xin)    \n",
    "  forcast.append(out)\n",
    "  Xin = insert_end_multi(Xin,out, timestep=16)\n",
    "  Xin[:,41:42] =  L[['day_of_week']][i*1:(i*1)+1]\n",
    "  Xin[:,57:] = L[['hour_of_day']][i*1:(i*1)+1]"
   ]
  },
  {
   "cell_type": "code",
   "execution_count": null,
   "id": "5be6c318-e5a0-4dec-8d26-c5ebf0b9917b",
   "metadata": {},
   "outputs": [],
   "source": [
    "#north\n",
    "future = 40\n",
    "Xin = current_batch_547\n",
    "forcast = []\n",
    "for i in range(0,future):\n",
    "  out = bagg_4hr_547.predict(Xin)    \n",
    "  forcast.append(out)\n",
    "  Xin = insert_end_multi(Xin,out, timestep=16)\n",
    "  Xin[:,41:42] =  L[['day_of_week']][i*1:(i*1)+1]\n",
    "  Xin[:,57:] = L[['hour_of_day']][i*1:(i*1)+1]"
   ]
  },
  {
   "cell_type": "code",
   "execution_count": null,
   "id": "0ac2d5b9-b8de-4615-b97f-97b30a74687a",
   "metadata": {},
   "outputs": [],
   "source": [
    "#west\n",
    "future = 40\n",
    "Xin = current_batch_22\n",
    "forcast = []\n",
    "for i in range(0,future):\n",
    "  out = bagg_4hr_22.predict(Xin)    \n",
    "  forcast.append(out)\n",
    "  Xin = insert_end_multi(Xin,out, timestep=16)\n",
    "  Xin[:,41:42] =  L[['day_of_week']][i*1:(i*1)+1]\n",
    "  Xin[:,57:] = L[['hour_of_day']][i*1:(i*1)+1]"
   ]
  },
  {
   "cell_type": "code",
   "execution_count": null,
   "id": "d84efb17-3959-4f86-b536-836ff66d6887",
   "metadata": {},
   "outputs": [],
   "source": [
    "#east\n",
    "future = 40\n",
    "Xin = current_batch_437\n",
    "forcast = []\n",
    "for i in range(0,future):\n",
    "  out = bagg_4hr_437.predict(Xin)    \n",
    "  forcast.append(out)\n",
    "  Xin = insert_end_multi(Xin,out, timestep=16)\n",
    "  Xin[:,41:42] =  L[['day_of_week']][i*1:(i*1)+1]\n",
    "  Xin[:,57:] = L[['hour_of_day']][i*1:(i*1)+1]"
   ]
  },
  {
   "cell_type": "code",
   "execution_count": null,
   "id": "1e4d41d5-4eb5-44a8-808f-4b881f56bf4f",
   "metadata": {},
   "outputs": [],
   "source": [
    "#south\n",
    "future = 40\n",
    "Xin = current_batch_514\n",
    "forcast = []\n",
    "for i in range(0,future):\n",
    "  out = bagg_4hr_514.predict(Xin)    \n",
    "  forcast.append(out)\n",
    "  Xin = insert_end_multi(Xin,out, timestep=16)\n",
    "  Xin[:,41:42] =  L[['day_of_week']][i*1:(i*1)+1]\n",
    "  Xin[:,57:] = L[['hour_of_day']][i*1:(i*1)+1]"
   ]
  },
  {
   "cell_type": "code",
   "execution_count": null,
   "id": "121f6916-e78a-4df8-82b8-be02c0070ca0",
   "metadata": {},
   "outputs": [],
   "source": [
    "Y_t = L['lots_available']\n",
    "\n",
    "l=[]\n",
    "for i in range(40):\n",
    "  l.append(Y_t[i*1:(i*1)+1])"
   ]
  },
  {
   "cell_type": "code",
   "execution_count": null,
   "id": "e60ab4b5-f517-48d8-8584-5d887198d2fc",
   "metadata": {},
   "outputs": [],
   "source": [
    "rmse40step=[]\n",
    "for i in range(40):\n",
    "  rmse40step.append(math.sqrt(mean_squared_error(y_pred=forcast[i], y_true=l[i])))"
   ]
  },
  {
   "cell_type": "code",
   "execution_count": null,
   "id": "15550315-da59-4bf4-9c5a-c9232d8d1498",
   "metadata": {},
   "outputs": [],
   "source": [
    "rmse40step = pd.DataFrame(rmse40step)\n",
    "rmse40step.to_csv('rmse40step_single_south_bagging.csv')"
   ]
  },
  {
   "cell_type": "markdown",
   "id": "bbe6df89-b73c-4f5e-ae91-96fa87cea2a0",
   "metadata": {},
   "source": [
    "## robustness check (train-test error)"
   ]
  },
  {
   "cell_type": "markdown",
   "id": "1e77a7f5-566c-4ca4-8e1e-9826ba9f28b4",
   "metadata": {},
   "source": [
    "- based on performance on different time window and different sample size, study determined best time window size is 16 timesteps (4 hour).\n",
    "- to check the model fit, study tested performance of model on train and test set"
   ]
  },
  {
   "cell_type": "code",
   "execution_count": null,
   "id": "17679ee7-a63c-4566-9e46-652aa2af955d",
   "metadata": {},
   "outputs": [],
   "source": [
    "bagg_best_4hour_train = bagg_best_4hour\n",
    "bagg_best_4hour_test = bagg_best_4hour"
   ]
  },
  {
   "cell_type": "code",
   "execution_count": null,
   "id": "fb98ceca-0bb5-4236-ba65-8801d000fa7f",
   "metadata": {},
   "outputs": [],
   "source": [
    "yp_4hour_bagg_train= bagg_best_4hour_train.predict(X_train_4hour)\n",
    "yp_4hour_bagg_test = bagg_best_4hour_test.predict(X_test_4hour)"
   ]
  },
  {
   "cell_type": "code",
   "execution_count": null,
   "id": "9f26e8fb-7d2d-4cc1-b943-f9f946b11a7f",
   "metadata": {},
   "outputs": [],
   "source": [
    "#train error\n",
    "mse_train = mean_squared_error(y_pred=yp_4hour_bagg_train, y_true=Y_train_4hour)\n",
    "mae_train = mean_absolute_error(y_pred=yp_4hour_bagg_train, y_true=Y_train_4hour)\n",
    "rmse_train = math.sqrt(mean_squared_error(y_pred=yp_4hour_bagg_train, y_true=Y_train_4hour))\n",
    "r2_train = r2_score(y_pred=yp_4hour_bagg_train, y_true=Y_train_4hour)\n",
    "print(round(mse_train,5))\n",
    "print(round(mae_train,5))\n",
    "print(round(rmse_train,5))\n",
    "print(round(r2_train,5))"
   ]
  },
  {
   "cell_type": "code",
   "execution_count": null,
   "id": "2a40f66f-d11b-414d-9fcf-ae16a516e014",
   "metadata": {},
   "outputs": [],
   "source": [
    "#test error\n",
    "mse_test = mean_squared_error(y_pred=yp_4hour_bagg_test, y_true=Y_test_4hour)\n",
    "mae_test = mean_absolute_error(y_pred=yp_4hour_bagg_test, y_true=Y_test_4hour)\n",
    "rmse_test = math.sqrt(mean_squared_error(y_pred=yp_4hour_bagg_test, y_true=Y_test_4hour))\n",
    "r2_test = r2_score(y_pred=yp_4hour_bagg_test, y_true=Y_test_4hour)\n",
    "print(round(mse_test,5))\n",
    "print(round(mae_test,5))\n",
    "print(round(rmse_test,5))\n",
    "print(round(r2_test,5))"
   ]
  }
 ],
 "metadata": {
  "kernelspec": {
   "display_name": "venv-python3.10.11",
   "language": "python",
   "name": "venv"
  },
  "language_info": {
   "codemirror_mode": {
    "name": "ipython",
    "version": 3
   },
   "file_extension": ".py",
   "mimetype": "text/x-python",
   "name": "python",
   "nbconvert_exporter": "python",
   "pygments_lexer": "ipython3",
   "version": "3.10.11"
  }
 },
 "nbformat": 4,
 "nbformat_minor": 5
}
