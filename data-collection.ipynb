{
 "cells": [
  {
   "cell_type": "markdown",
   "id": "e84cefc0-bf94-4004-a745-eebd57a36711",
   "metadata": {},
   "source": [
    "# Data collection"
   ]
  },
  {
   "cell_type": "code",
   "execution_count": null,
   "id": "949f2813-a93c-4500-8e78-c2f4ea5135b1",
   "metadata": {},
   "outputs": [],
   "source": [
    "import requests\n",
    "import pandas as pd\n",
    "from apscheduler.schedulers.background import BackgroundScheduler"
   ]
  },
  {
   "cell_type": "markdown",
   "id": "164a397c-673e-4eb3-9f87-107b2f57ac81",
   "metadata": {},
   "source": [
    "## define carpark_data scheduler function."
   ]
  },
  {
   "cell_type": "markdown",
   "id": "1fe814bf-ccf9-43a0-934a-f64a89ed3a63",
   "metadata": {},
   "source": [
    "- call API to retrieve data at the timepoint that runs the code."
   ]
  },
  {
   "cell_type": "code",
   "execution_count": 2,
   "id": "ba09015c-fa7d-44ea-b1b8-cacddb98deb4",
   "metadata": {},
   "outputs": [],
   "source": [
    "def carpark_data():\n",
    "\n",
    "  # Step 1: get data from API \n",
    "  response = requests.get('https://api.data.gov.sg/v1/transport/carpark-availability').json()\n",
    "\n",
    "  # Step 2: create dataframe \n",
    "  df= pd.DataFrame(columns=['total_lot','lot_type','lots_available','carpark_number','update_date','update_time'])\n",
    "\n",
    "  # Step 3: extract data from response of API. for each elements, store it into specific variable.\n",
    "  for i in range(len(response['items'][0]['carpark_data'])):\n",
    "    total_lot = response['items'][0]['carpark_data'][i]['carpark_info'][0]['total_lots']\n",
    "    lot_type = response['items'][0]['carpark_data'][i]['carpark_info'][0]['lot_type']\n",
    "    lots_available = response['items'][0]['carpark_data'][i]['carpark_info'][0]['lots_available']\n",
    "    carpark_number = response['items'][0]['carpark_data'][i]['carpark_number']\n",
    "    update_datetime = response['items'][0]['carpark_data'][i]['update_datetime']\n",
    "    update_date = str(update_datetime).split('T')[0]\n",
    "    update_time = str(update_datetime).split('T')[1]\n",
    "\n",
    "    # Step 4: for each elements, append variables to the dataframe.\n",
    "    df = df.append(\n",
    "        {'total_lot':total_lot,'lot_type':lot_type,\n",
    "        'lots_available':lots_available,'carpark_number':carpark_number,\n",
    "        'update_date':update_date,'update_time':update_time\n",
    "        },ignore_index=True)\n",
    "    # Step 5: save dataframe into csv file.\n",
    "  return df.to_csv('SG_carpark_availability.csv',mode='a',index=True, header=False)"
   ]
  },
  {
   "cell_type": "code",
   "execution_count": null,
   "id": "898b31ca-c9f7-4229-88d9-22ab18f484d8",
   "metadata": {},
   "outputs": [],
   "source": [
    "# initialize background scheduler which runs the code in background.\n",
    "sched = BackgroundScheduler(daemon=True)\n",
    "\n",
    "# load function defined earlier to collect data. and set to run the code hourly.\n",
    "sched.add_job(carpark_data, 'interval', hours= 1)\n",
    "\n",
    "# start schedular\n",
    "sched.start()"
   ]
  },
  {
   "cell_type": "code",
   "execution_count": null,
   "id": "3f7e1906-db45-49aa-aead-ff2e4e6b8f08",
   "metadata": {},
   "outputs": [],
   "source": [
    "#sched.shutdown(wait=False)"
   ]
  }
 ],
 "metadata": {
  "kernelspec": {
   "display_name": "venv-python3.10.11",
   "language": "python",
   "name": "venv"
  },
  "language_info": {
   "codemirror_mode": {
    "name": "ipython",
    "version": 3
   },
   "file_extension": ".py",
   "mimetype": "text/x-python",
   "name": "python",
   "nbconvert_exporter": "python",
   "pygments_lexer": "ipython3",
   "version": "3.10.11"
  }
 },
 "nbformat": 4,
 "nbformat_minor": 5
}
