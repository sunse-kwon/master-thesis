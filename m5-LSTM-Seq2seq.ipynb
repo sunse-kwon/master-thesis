{
 "cells": [
  {
   "cell_type": "markdown",
   "id": "4c92f9d5-8b26-4e2c-8726-f77e053bb3c4",
   "metadata": {},
   "source": [
    "# LSTM-Seq2seq (Sequence to sequence)"
   ]
  },
  {
   "cell_type": "code",
   "execution_count": null,
   "id": "c8777e1f-2c39-4bb0-abd1-15e0620de705",
   "metadata": {},
   "outputs": [],
   "source": [
    "import math\n",
    "import numpy as np\n",
    "import pandas as pd\n",
    "import matplotlib.pyplot as plt\n",
    "from sklearn.preprocessing import MinMaxScaler\n",
    "from sklearn.metrics import mean_squared_error, mean_absolute_error, r2_score\n",
    "from keras.models import Sequential\n",
    "from keras.layers import *\n",
    "from keras.losses import MeanSquaredError\n",
    "from keras.metrics import RootMeanSquaredError\n",
    "from keras.optimizers import Adam\n",
    "from keras.callbacks import EarlyStopping\n",
    "from utils import train_test_split, X_Y_split_Seq2seq"
   ]
  },
  {
   "cell_type": "code",
   "execution_count": null,
   "id": "445e3842-0f60-4328-800d-c03c0ee2a285",
   "metadata": {},
   "outputs": [],
   "source": [
    "data = pd.read_csv('data_droped_nov18_dummy_final.csv')"
   ]
  },
  {
   "cell_type": "code",
   "execution_count": null,
   "id": "0dac9d79-3b50-43dd-bcfc-69118c81b267",
   "metadata": {},
   "outputs": [],
   "source": [
    "data = data.set_index('datetime')\n",
    "data.index = pd.to_datetime(data.index)\n",
    "data = data.drop(['Unnamed: 0.2','Unnamed: 0.1','Unnamed: 0', 'diff'],axis=1)\n",
    "data=data.reindex(columns=['lots_available', 'total_lot',  'carpark_number','x_coord', 'y_coord',\n",
    "'car_park_decks', 'gantry_height','BASEMENT CAR PARK', 'COVERED CAR PARK','MECHANISED AND SURFACE CAR PARK', 'MULTI-STOREY CAR PARK',\n",
    "'SURFACE CAR PARK', '7AM-10.30PM', '7AM-7PM', 'NO', 'WHOLE DAY', 'NO.1','SUN & PH FR 1PM-10.30PM', 'SUN & PH FR 7AM-10.30PM', 'NO.2', \n",
    "'YES','N', 'Y'])"
   ]
  },
  {
   "cell_type": "code",
   "execution_count": null,
   "id": "61904603-c36d-4e54-9ec7-e98e65107323",
   "metadata": {},
   "outputs": [],
   "source": [
    "data[\"day_of_week\"] = data.index.weekday\n",
    "data[\"hour_of_day\"] = data.index.hour"
   ]
  },
  {
   "cell_type": "code",
   "execution_count": null,
   "id": "fb68d532-9f68-493f-9648-c46208bf245c",
   "metadata": {},
   "outputs": [],
   "source": [
    "features = ['lots_available','day_of_week','hour_of_day','total_lot', 'carpark_number', 'x_coord', 'y_coord','car_park_decks', 'gantry_height', 'MULTI-STOREY CAR PARK','WHOLE DAY', \n",
    "       'NO.1','SUN & PH FR 7AM-10.30PM']"
   ]
  },
  {
   "cell_type": "code",
   "execution_count": null,
   "id": "4c01cda0-5eff-4367-9141-6b53099b0169",
   "metadata": {},
   "outputs": [],
   "source": [
    "data = data[features]\n",
    "data=data.reindex(columns=features)"
   ]
  },
  {
   "cell_type": "code",
   "execution_count": null,
   "id": "4760a15f-981d-44a3-8e28-1238127e772c",
   "metadata": {},
   "outputs": [],
   "source": [
    "data.loc['2016-02-19 11:15:00',:] = np.nan\n",
    "data.dropna(inplace=True)"
   ]
  },
  {
   "cell_type": "code",
   "execution_count": null,
   "id": "afea6da6-801e-402e-8ca5-b14f24a093f1",
   "metadata": {},
   "outputs": [],
   "source": [
    "Train, Test = train_test_split(data, test_step_size=673)\n",
    "train, val = train_test_split(Train, test_step_size=480)"
   ]
  },
  {
   "cell_type": "markdown",
   "id": "e48de4eb-53b8-4136-8e7d-0568bba32cab",
   "metadata": {},
   "source": [
    "## data normalization using MinMaxScaler, values range from 0 to 1 interval."
   ]
  },
  {
   "cell_type": "code",
   "execution_count": null,
   "id": "92ca76e0-40dd-4fca-8903-4e91ce49d54f",
   "metadata": {},
   "outputs": [],
   "source": [
    "for i in Train.columns:\n",
    "    scaler = MinMaxScaler()\n",
    "    \n",
    "    s_train = scaler.fit_transform(train[i].values.reshape((-1,1)))\n",
    "    s_val = scaler.transform(val[i].values.reshape((-1,1)))\n",
    "    s_test = scaler.transform(Test[i].values.reshape((-1,1)))\n",
    "\n",
    "    s_train = np.reshape(s_train,(len(s_train)))\n",
    "    s_val = np.reshape(s_val,(len(s_val)))\n",
    "    s_test = np.reshape(s_test,(len(s_test)))\n",
    "\n",
    "    train[i] = s_train\n",
    "    val[i] = s_val\n",
    "    Test[i] = s_test"
   ]
  },
  {
   "cell_type": "code",
   "execution_count": null,
   "id": "eac5df1a-ce95-45ac-bbb0-4eaffa3dd9c6",
   "metadata": {},
   "outputs": [],
   "source": [
    "X_train,Y_train= X_Y_split_Seq2seq(train, x_width=16, y_width=4, label_col_no=0)\n",
    "X_val,Y_val = X_Y_split_Seq2seq(val, x_width=16, y_width=4, label_col_no=0)\n",
    "X_test,Y_test= X_Y_split_Seq2seq(Test, x_width=16, y_width=4, label_col_no=0)"
   ]
  },
  {
   "cell_type": "markdown",
   "id": "420386c3-6bd2-435b-8dfa-bdc6e4791ce2",
   "metadata": {},
   "source": [
    "## model that hyperparameter configuration from literature & keras tuner random search"
   ]
  },
  {
   "cell_type": "code",
   "execution_count": null,
   "id": "73eec612-51a4-4671-9976-cd29bbc6ef23",
   "metadata": {},
   "outputs": [],
   "source": [
    "def LSTM_seq2seq():\n",
    "  model = Sequential()\n",
    "  #encoder\n",
    "  model.add(InputLayer((X_train.shape[1],X_train.shape[2])))\n",
    "  model.add(LSTM(100, activation='relu',return_sequences=True))\n",
    "  model.add(LSTM(100, activation='relu',return_sequences=True))\n",
    "  model.add(LSTM(100, activation='relu',return_sequences=True))\n",
    "  model.add(LSTM(100, activation='relu'))\n",
    "    \n",
    "  # context vector  \n",
    "  model.add(RepeatVector(Y_train.shape[1]))\n",
    "\n",
    "  #decoder\n",
    "  model.add(LSTM(100, activation='relu',return_sequences=True))\n",
    "  model.add(LSTM(100, activation='relu',return_sequences=True))\n",
    "  model.add(LSTM(100, activation='relu',return_sequences=True))\n",
    "  model.add(LSTM(100, activation='relu',return_sequences=True))\n",
    "\n",
    "\n",
    "  model.add(TimeDistributed(Dense(1, activation='linear')))\n",
    "  model.compile(loss=MeanSquaredError(), optimizer=Adam(learning_rate=0.001), metrics=[RootMeanSquaredError()])\n",
    "  return model"
   ]
  },
  {
   "cell_type": "code",
   "execution_count": null,
   "id": "34ab60cd-705a-4944-a4a4-49e4445fc8c9",
   "metadata": {},
   "outputs": [],
   "source": [
    "LSTM_seq2seq_4hr = LSTM_seq2seq()\n",
    "stop_early = EarlyStopping(monitor='val_loss', patience=3)\n",
    "history_lstm_seq = LSTM_seq2seq_4hr.fit(X_train,Y_train, validation_data=(X_val,Y_val), epochs=10, callbacks=[stop_early])"
   ]
  },
  {
   "cell_type": "code",
   "execution_count": null,
   "id": "29c88625-1e77-485f-ad42-ec37cff3fa53",
   "metadata": {},
   "outputs": [],
   "source": [
    "y_pred = LSTM_seq2seq_4hr.predict(X_test)"
   ]
  },
  {
   "cell_type": "code",
   "execution_count": null,
   "id": "f65b1ec5-01ad-4814-b6c3-6ffa1057fee5",
   "metadata": {},
   "outputs": [],
   "source": [
    "y_pred = y_pred.reshape((-1,4))"
   ]
  },
  {
   "cell_type": "code",
   "execution_count": null,
   "id": "6a67a8c1-80a3-4ac0-a0e1-fbc41421b4f2",
   "metadata": {},
   "outputs": [],
   "source": [
    "mse = mean_squared_error(y_pred=y_pred, y_true=Y_test)\n",
    "mae = mean_absolute_error(y_pred=y_pred, y_true=Y_test)\n",
    "rmse = math.sqrt(mean_squared_error(y_pred=y_pred, y_true=Y_test))\n",
    "r2 = r2_score(y_pred=y_pred, y_true=Y_test)\n",
    "print(round(mse,5))\n",
    "print(round(mae,5))\n",
    "print(round(rmse,5))\n",
    "print(round(r2,5))"
   ]
  },
  {
   "cell_type": "markdown",
   "id": "edb04b2a-94f3-4471-8146-be7f6ebe01fa",
   "metadata": {},
   "source": [
    "## performance on different time horizon using model with best time window size (4 hour = 16 timestep)"
   ]
  },
  {
   "cell_type": "markdown",
   "id": "323e490a-e7fb-4b1e-ae59-d933894db600",
   "metadata": {},
   "source": [
    "### entire dataset"
   ]
  },
  {
   "cell_type": "code",
   "execution_count": null,
   "id": "a89061a6-c344-48a5-81df-85f402c933e8",
   "metadata": {},
   "outputs": [],
   "source": [
    "LSTM_seq2seq_4hr_whole = LSTM_seq2seq_4hr"
   ]
  },
  {
   "cell_type": "code",
   "execution_count": null,
   "id": "90d6cca5-d2a7-4312-a45d-a087373046c3",
   "metadata": {},
   "outputs": [],
   "source": [
    "x,y = last_x_y_generator_Seq2seq(val, x_width = 16, y_width = 4, label_col_no=0)"
   ]
  },
  {
   "cell_type": "code",
   "execution_count": null,
   "id": "4411807a-4c9b-4f2d-a52b-84bcb6a94578",
   "metadata": {},
   "outputs": [],
   "source": [
    "current_batch = x[:,4:,:]"
   ]
  },
  {
   "cell_type": "code",
   "execution_count": null,
   "id": "66204de3-d8b1-4c0f-929e-9917e8032287",
   "metadata": {},
   "outputs": [],
   "source": [
    "#entire dataset\n",
    "future_len = 40\n",
    "Test_new = Test[['lots_available', 'carpark_number','day_of_week','hour_of_day']]\n",
    "Test_new = Test_new.sort_values(by=['carpark_number', 'datetime'])\n",
    "l=[]\n",
    "L=pd.DataFrame()\n",
    "for i in sorted(Test_new.carpark_number.value_counts().keys()):\n",
    "  inner = Test_new[Test_new.carpark_number == i]\n",
    "  inner = inner.reset_index()\n",
    "  inner = inner.iloc[0:future_len,:]\n",
    "  l.append(inner)\n",
    "L = L.append(l)\n",
    "L['value'] = L.index.values\n",
    "L['seq'] = np.tile(np.repeat(np.array([0,1,2,3,4,5,6,7,8,9]),4),855)\n",
    "L = L.sort_index()\n",
    "L = L.sort_values(by=['seq','carpark_number' ])"
   ]
  },
  {
   "cell_type": "code",
   "execution_count": null,
   "id": "4bd81de1-329a-4af6-b4b3-1e4c2bd6cfd9",
   "metadata": {},
   "outputs": [],
   "source": [
    "future=10\n",
    "forcast = []\n",
    "Xin = current_batch\n",
    "time=[]\n",
    "for i in range(future):\n",
    "    out = LSTM_seq2seq_4hr_whole.predict(Xin, batch_size=855)   \n",
    "    forcast.append(out) \n",
    "    print(forcast)\n",
    "    Xin = insert_end_Seq2seq(Xin,out,16)\n",
    "    Xin[:,16-4:,1:2] = L[['day_of_week']][i*3420:(i*3420)+3420].values.reshape((-1,4,1))\n",
    "    Xin[:,16-4:,2:3] = L[['hour_of_day']][i*3420:(i*3420)+3420].values.reshape((-1,4,1))"
   ]
  },
  {
   "cell_type": "code",
   "execution_count": null,
   "id": "360f59dd-e3ae-4acc-b6d2-2ebe2a2667f8",
   "metadata": {},
   "outputs": [],
   "source": [
    "Y_t = L['lots_available']\n",
    "\n",
    "l=[]\n",
    "for i in range(10):\n",
    "  l.append(Y_t[i*3420:(i*3420)+3420].values.reshape((-1,4)))"
   ]
  },
  {
   "cell_type": "code",
   "execution_count": null,
   "id": "c70a4d22-b27b-445c-a810-43706df63257",
   "metadata": {},
   "outputs": [],
   "source": [
    "rmse40step=[]\n",
    "for i in range(10):\n",
    "  f = forcast[i].reshape(-1,4)\n",
    "  new_l = np.hsplit(l[i],4)\n",
    "  new_f = np.hsplit(f,4)#length 4 \n",
    "  for j in range(4):\n",
    "    rmse40step.append(math.sqrt(mean_squared_error(y_pred=new_f[j], y_true=new_l[j] )))"
   ]
  },
  {
   "cell_type": "code",
   "execution_count": null,
   "id": "70ec763a-2be2-4b0a-887c-280a4b1f69a9",
   "metadata": {},
   "outputs": [],
   "source": [
    "rmse40step = pd.DataFrame(rmse40step)\n",
    "rmse40step.to_csv('rmse40step855_lstm_seq2seq.csv')"
   ]
  },
  {
   "cell_type": "markdown",
   "id": "1c924a1e-9c69-4cff-a0d7-d5289e331610",
   "metadata": {},
   "source": [
    "### group level (five regions, 10 to 12 parking lots per region)"
   ]
  },
  {
   "cell_type": "code",
   "execution_count": null,
   "id": "795e514b-d113-40c8-9243-6f70ead9c938",
   "metadata": {},
   "outputs": [],
   "source": [
    "#performance by regions\n",
    "central = data[(data['x_coord'] >30500) & (data['x_coord'] < 32500)& (data['y_coord'] >35000) & (data['y_coord'] < 36000)]\n",
    "north_area = data[(data['x_coord'] >25000) & (data['x_coord'] < 26500)& (data['y_coord'] >44000) ]\n",
    "west_area = data[ (data['x_coord'] < 20000)& (data['y_coord'] >37500) & (data['y_coord'] < 38500)]\n",
    "east_area = data[ (data['x_coord'] > 35000)& (data['y_coord'] >38000) & (data['y_coord'] < 39000)]\n",
    "south_area = data[(data['x_coord'] >25000) & (data['x_coord'] < 26000)& (data['y_coord'] >30000) & (data['y_coord'] < 31000)]"
   ]
  },
  {
   "cell_type": "code",
   "execution_count": null,
   "id": "6a191f78-ae8f-4913-9eac-39290985299b",
   "metadata": {},
   "outputs": [],
   "source": [
    "TRAIN_central, TEST_central = train_test_split(central, test_step_size=673)\n",
    "TRAIN_north, TEST_north = train_test_split(north_area, test_step_size=673)\n",
    "TRAIN_west, TEST_west = train_test_split(west_area, test_step_size=673)\n",
    "TRAIN_east, TEST_east = train_test_split(east_area, test_step_size=673)\n",
    "TRAIN_south, TEST_south = train_test_split(south_area, test_step_size=673)"
   ]
  },
  {
   "cell_type": "code",
   "execution_count": null,
   "id": "e39128db-8bb3-443e-a214-2b51bb8ecd30",
   "metadata": {},
   "outputs": [],
   "source": [
    "train_central,test_central = scaler(TRAIN_central,TEST_central)\n",
    "train_north, test_north  = scaler(TRAIN_north,TEST_north)\n",
    "train_west, test_west  = scaler(TRAIN_west,TEST_west)\n",
    "train_east, test_east  = scaler(TRAIN_east,TEST_east)\n",
    "train_south, test_south  = scaler(TRAIN_south,TEST_south)"
   ]
  },
  {
   "cell_type": "code",
   "execution_count": null,
   "id": "2e252dcd-f8ae-4c9a-b662-2c76602f1cd6",
   "metadata": {},
   "outputs": [],
   "source": [
    "LSTM_seq2seq_4hr_central = LSTM_seq2seq_4hr\n",
    "LSTM_seq2seq_4hr_north = LSTM_seq2seq_4hr\n",
    "LSTM_seq2seq_4hr_west = LSTM_seq2seq_4hr\n",
    "LSTM_seq2seq_4hr_east = LSTM_seq2seq_4hr\n",
    "LSTM_seq2seq_4hr_south = LSTM_seq2seq_4hr"
   ]
  },
  {
   "cell_type": "code",
   "execution_count": null,
   "id": "90c2017e-72e5-42a7-9088-5bfc7eff6f90",
   "metadata": {},
   "outputs": [],
   "source": [
    "x_central, _ = last_x_y_generator_Seq2seq(train_central, x_width = 16, y_width = 4, label_col_no=0)\n",
    "x_north, _ = last_x_y_generator_Seq2seq(train_north, x_width = 16, y_width = 4, label_col_no=0)\n",
    "x_west, _ = last_x_y_generator_Seq2seq(train_west, x_width = 16, y_width = 4, label_col_no=0)\n",
    "x_east, _ = last_x_y_generator_Seq2seq(train_east, x_width = 16, y_width = 4, label_col_no=0)\n",
    "x_south, _ = last_x_y_generator_Seq2seq(train_south, x_width = 16, y_width = 4, label_col_no=0)"
   ]
  },
  {
   "cell_type": "code",
   "execution_count": null,
   "id": "7c41d1a8-caa3-4e87-bd7a-36c59244d2a0",
   "metadata": {},
   "outputs": [],
   "source": [
    "current_batch_central = x_central[:,4:,:]\n",
    "current_batch_north = x_north[:,4:,:]\n",
    "current_batch_west = x_west[:,4:,:]\n",
    "current_batch_east = x_east[:,4:,:]\n",
    "current_batch_south = x_south[:,4:,:]"
   ]
  },
  {
   "cell_type": "code",
   "execution_count": null,
   "id": "6a398345-66c7-4c3b-b64d-c6dc6eec2ef5",
   "metadata": {},
   "outputs": [],
   "source": [
    "future_len = 40\n",
    "Test_new = test_south[['lots_available', 'carpark_number','day_of_week','hour_of_day']]\n",
    "Test_new = Test_new.sort_values(by=['carpark_number', 'datetime'])\n",
    "l=[]\n",
    "L=pd.DataFrame()\n",
    "for i in sorted(Test_new.carpark_number.value_counts().keys()):\n",
    "  inner = Test_new[Test_new.carpark_number == i]\n",
    "  inner = inner.reset_index()\n",
    "  inner = inner.iloc[0:future_len,:]\n",
    "  l.append(inner)\n",
    "L = L.append(l)\n",
    "L['value'] = L.index.values\n",
    "L['seq'] = np.tile(np.repeat(np.array([0,1,2,3,4,5,6,7,8,9]),4),10)#need to change based on batch size\n",
    "L = L.sort_index()\n",
    "L = L.sort_values(by=['seq','carpark_number' ])"
   ]
  },
  {
   "cell_type": "code",
   "execution_count": null,
   "id": "6338f683-84b5-4921-907b-41098dd3bb4e",
   "metadata": {},
   "outputs": [],
   "source": [
    "#central\n",
    "future=10\n",
    "forcast = []\n",
    "Xin = current_batch_central\n",
    "time=[]\n",
    "for i in range(future):\n",
    "    out = LSTM_seq2seq_4hr_central.predict(Xin, batch_size=11)   \n",
    "    forcast.append(out) \n",
    "    print(forcast)\n",
    "    Xin = insert_end_Seq2seq(Xin,out,16)\n",
    "    Xin[:,16-4:,1:2] = L[['day_of_week']][i*44:(i*44)+44].values.reshape((-1,4,1))\n",
    "    Xin[:,16-4:,2:3] = L[['hour_of_day']][i*44:(i*44)+44].values.reshape((-1,4,1))"
   ]
  },
  {
   "cell_type": "code",
   "execution_count": null,
   "id": "b49a6f39-b834-4fe4-a4bc-1baf6e3f8c3c",
   "metadata": {},
   "outputs": [],
   "source": [
    "#north\n",
    "future=10\n",
    "forcast = []\n",
    "Xin = current_batch_north\n",
    "time=[]\n",
    "for i in range(future):\n",
    "    out = LSTM_seq2seq_4hr_north.predict(Xin, batch_size=11)   \n",
    "    forcast.append(out) \n",
    "    print(forcast)\n",
    "    Xin = insert_end_Seq2seq(Xin,out,16)\n",
    "    Xin[:,16-4:,1:2] = L[['day_of_week']][i*44:(i*44)+44].values.reshape((-1,4,1))\n",
    "    Xin[:,16-4:,2:3] = L[['hour_of_day']][i*44:(i*44)+44].values.reshape((-1,4,1))"
   ]
  },
  {
   "cell_type": "code",
   "execution_count": null,
   "id": "d39323df-0c19-499c-832e-48556eb4eb95",
   "metadata": {},
   "outputs": [],
   "source": [
    "#west\n",
    "future=10\n",
    "forcast = []\n",
    "Xin = current_batch_west\n",
    "time=[]\n",
    "for i in range(future):\n",
    "    out = LSTM_seq2seq_4hr_west.predict(Xin, batch_size=12)   \n",
    "    forcast.append(out) \n",
    "    print(forcast)\n",
    "    Xin = insert_end_Seq2seq(Xin,out,16)\n",
    "    Xin[:,16-4:,1:2] = L[['day_of_week']][i*48:(i*48)+48].values.reshape((-1,4,1))\n",
    "    Xin[:,16-4:,2:3] = L[['hour_of_day']][i*48:(i*48)+48].values.reshape((-1,4,1))"
   ]
  },
  {
   "cell_type": "code",
   "execution_count": null,
   "id": "533513e3-b107-4fac-8467-d58c07560b8a",
   "metadata": {},
   "outputs": [],
   "source": [
    "#east\n",
    "future=10\n",
    "forcast = []\n",
    "Xin = current_batch_east\n",
    "time=[]\n",
    "for i in range(future):\n",
    "    out = LSTM_seq2seq_4hr_east.predict(Xin, batch_size=11)   \n",
    "    forcast.append(out) \n",
    "    print(forcast)\n",
    "    Xin = insert_end_Seq2seq(Xin,out,16)\n",
    "    Xin[:,16-4:,1:2] = L[['day_of_week']][i*44:(i*44)+44].values.reshape((-1,4,1))\n",
    "    Xin[:,16-4:,2:3] = L[['hour_of_day']][i*44:(i*44)+44].values.reshape((-1,4,1))"
   ]
  },
  {
   "cell_type": "code",
   "execution_count": null,
   "id": "e579e987-cc38-444e-be79-9e39e5a4675e",
   "metadata": {},
   "outputs": [],
   "source": [
    "#south\n",
    "future=10\n",
    "forcast = []\n",
    "Xin = current_batch_south\n",
    "time=[]\n",
    "for i in range(future):\n",
    "    out = LSTM_seq2seq_4hr_south.predict(Xin, batch_size=10)   \n",
    "    forcast.append(out) \n",
    "    print(forcast)\n",
    "    Xin = insert_end_Seq2seq(Xin,out,16)\n",
    "    Xin[:,16-4:,1:2] = L[['day_of_week']][i*40:(i*40)+40].values.reshape((-1,4,1))\n",
    "    Xin[:,16-4:,2:3] = L[['hour_of_day']][i*40:(i*40)+40].values.reshape((-1,4,1))"
   ]
  },
  {
   "cell_type": "code",
   "execution_count": null,
   "id": "c7ac858d-46d3-44b7-bb2f-2a3c1f6fbef3",
   "metadata": {},
   "outputs": [],
   "source": [
    "Y_t = L['lots_available']\n",
    "\n",
    "l=[]\n",
    "for i in range(10):\n",
    "  l.append(Y_t[i*40:(i*40)+40].values.reshape((-1,4)))"
   ]
  },
  {
   "cell_type": "code",
   "execution_count": null,
   "id": "5e6544b2-f718-4a67-b9e3-152f102edb55",
   "metadata": {},
   "outputs": [],
   "source": [
    "rmse40step=[]\n",
    "for i in range(10):\n",
    "  f = forcast[i].reshape(-1,4)\n",
    "  new_l = np.hsplit(l[i],4)\n",
    "  new_f = np.hsplit(f,4)#length 4 \n",
    "  for j in range(4):\n",
    "    rmse40step.append(math.sqrt(mean_squared_error(y_pred=new_f[j], y_true=new_l[j] )))"
   ]
  },
  {
   "cell_type": "code",
   "execution_count": null,
   "id": "03a01c52-0f3f-449e-9798-18aca6645522",
   "metadata": {},
   "outputs": [],
   "source": [
    "rmse40step = pd.DataFrame(rmse40step)\n",
    "rmse40step.to_csv('rmse40step_south_lstm_seq2seq.csv')"
   ]
  },
  {
   "cell_type": "markdown",
   "id": "fc3baa83-5a7e-4444-8ae7-4ab7895b586b",
   "metadata": {},
   "source": [
    "### individual level (five regions, 1 parking lot per region)"
   ]
  },
  {
   "cell_type": "code",
   "execution_count": null,
   "id": "63a90fed-1f59-4777-811f-2ab3b5e09d83",
   "metadata": {},
   "outputs": [],
   "source": [
    "#individual car park\n",
    "#central\n",
    "train_41 =train_central[train_central.carpark_number==0]\n",
    "test_41 =test_central[test_central.carpark_number==0]\n",
    "#north\n",
    "train_547 =train_north[train_north.carpark_number==0]\n",
    "test_547 =test_north[test_north.carpark_number==0]\n",
    "#west\n",
    "train_22 =train_west[train_west.carpark_number==0]\n",
    "test_22 =test_west[test_west.carpark_number==0]\n",
    "#east\n",
    "train_437 =train_east[train_east.carpark_number==0]\n",
    "test_437 =test_east[test_east.carpark_number==0]\n",
    "#south\n",
    "train_514 =train_south[train_south.carpark_number==0]\n",
    "test_514=test_south[test_south.carpark_number==0]"
   ]
  },
  {
   "cell_type": "code",
   "execution_count": null,
   "id": "be625e8f-16ab-4d7b-bc43-587e300c948e",
   "metadata": {},
   "outputs": [],
   "source": [
    "LSTM_seq2seq_4hr_41 = LSTM_seq2seq_4hr\n",
    "LSTM_seq2seq_4hr_547 = LSTM_seq2seq_4hr\n",
    "LSTM_seq2seq_4hr_22 = LSTM_seq2seq_4hr\n",
    "LSTM_seq2seq_4hr_437 = LSTM_seq2seq_4hr\n",
    "LSTM_seq2seq_4hr_514 = LSTM_seq2seq_4hr"
   ]
  },
  {
   "cell_type": "code",
   "execution_count": null,
   "id": "ae1cff3b-a483-4466-a87e-22ccbe33d334",
   "metadata": {},
   "outputs": [],
   "source": [
    "xtrain41 = window_generator_Seq2seq(train_41, x_width=16,y_width=4,label_col_no=0)\n",
    "xtrain547 = window_generator_Seq2seq(train_547, x_width=16,y_width=4,label_col_no=0)\n",
    "xtrain22 = window_generator_Seq2seq(train_22, x_width=16,y_width=4,label_col_no=0)\n",
    "xtrain437 = window_generator_Seq2seq(train_437, x_width=16,y_width=4,label_col_no=0)\n",
    "xtrain514 = window_generator_Seq2seq(train_514, x_width=16,y_width=4,label_col_no=0)"
   ]
  },
  {
   "cell_type": "code",
   "execution_count": null,
   "id": "957f35b2-033b-4623-87fb-d31b1174f35d",
   "metadata": {},
   "outputs": [],
   "source": [
    "last_central = xtrain41[-1:,:,:]\n",
    "last_north = xtrain547[-1:,:,:]\n",
    "last_west = xtrain22[-1:,:,:]\n",
    "last_east = xtrain437[-1:,:,:]\n",
    "last_south = xtrain514[-1:,:,:]"
   ]
  },
  {
   "cell_type": "code",
   "execution_count": null,
   "id": "f5af39e1-cd71-432b-bf88-96e2b1fd604e",
   "metadata": {},
   "outputs": [],
   "source": [
    "current_batch_41 = last_central[:,4:,:]\n",
    "current_batch_547 = last_north[:,4:,:]\n",
    "current_batch_22 = last_west[:,4:,:]\n",
    "current_batch_437 = last_east[:,4:,:]\n",
    "current_batch_514 = last_south[:,4:,:]"
   ]
  },
  {
   "cell_type": "code",
   "execution_count": null,
   "id": "d2ba39ff-65a7-4195-a633-d87922871e69",
   "metadata": {},
   "outputs": [],
   "source": [
    "future_len = 40\n",
    "Test_new = test_514[['lots_available', 'carpark_number','day_of_week','hour_of_day']]\n",
    "Test_new = Test_new.sort_values(by=['carpark_number', 'datetime'])\n",
    "l=[]\n",
    "L=pd.DataFrame()\n",
    "for i in sorted(Test_new.carpark_number.value_counts().keys()):\n",
    "  inner = Test_new[Test_new.carpark_number == i]\n",
    "  inner = inner.reset_index()\n",
    "  inner = inner.iloc[0:future_len,:]\n",
    "  l.append(inner)\n",
    "L = L.append(l)\n",
    "L['value'] = L.index.values\n",
    "L['seq'] = np.tile(np.repeat(np.array([0,1,2,3,4,5,6,7,8,9]),4),1)\n",
    "L = L.sort_index()\n",
    "L = L.sort_values(by=['seq','carpark_number' ])"
   ]
  },
  {
   "cell_type": "code",
   "execution_count": null,
   "id": "27feea4b-d0cc-4fc3-b1e9-a430d968c843",
   "metadata": {},
   "outputs": [],
   "source": [
    "#central\n",
    "future=10\n",
    "forcast = []\n",
    "Xin = current_batch_41\n",
    "time=[]\n",
    "for i in range(future):\n",
    "    out = LSTM_seq2seq_4hr_41.predict(Xin, batch_size=1)   \n",
    "    forcast.append(out) \n",
    "    print(forcast)\n",
    "    Xin = insert_end_Seq2seq(Xin,out,16)\n",
    "    Xin[:,16-4:,1:2] = L[['day_of_week']][i*4:(i*4)+4].values.reshape((-1,4,1))\n",
    "    Xin[:,16-4:,2:3] = L[['hour_of_day']][i*4:(i*4)+4].values.reshape((-1,4,1))"
   ]
  },
  {
   "cell_type": "code",
   "execution_count": null,
   "id": "61b16a0f-0bde-4b6d-9175-8daeca46dd65",
   "metadata": {},
   "outputs": [],
   "source": [
    "#north\n",
    "future=10\n",
    "forcast = []\n",
    "Xin = current_batch_547\n",
    "time=[]\n",
    "for i in range(future):\n",
    "    out = LSTM_seq2seq_4hr_547.predict(Xin, batch_size=1)   \n",
    "    forcast.append(out) \n",
    "    print(forcast)\n",
    "    Xin = insert_end_Seq2seq(Xin,out,16)\n",
    "    Xin[:,16-4:,1:2] = L[['day_of_week']][i*4:(i*4)+4].values.reshape((-1,4,1))\n",
    "    Xin[:,16-4:,2:3] = L[['hour_of_day']][i*4:(i*4)+4].values.reshape((-1,4,1))"
   ]
  },
  {
   "cell_type": "code",
   "execution_count": null,
   "id": "6712a77d-a7ec-4369-8284-b1bb79288001",
   "metadata": {},
   "outputs": [],
   "source": [
    "#west\n",
    "future=10\n",
    "forcast = []\n",
    "Xin = current_batch_22\n",
    "time=[]\n",
    "for i in range(future):\n",
    "    out = LSTM_seq2seq_4hr_22.predict(Xin, batch_size=1)   \n",
    "    forcast.append(out) \n",
    "    print(forcast)\n",
    "    Xin = insert_end_Seq2seq(Xin,out,16)\n",
    "    Xin[:,16-4:,1:2] = L[['day_of_week']][i*4:(i*4)+4].values.reshape((-1,4,1))\n",
    "    Xin[:,16-4:,2:3] = L[['hour_of_day']][i*4:(i*4)+4].values.reshape((-1,4,1))"
   ]
  },
  {
   "cell_type": "code",
   "execution_count": null,
   "id": "d8236d57-5d03-4c20-888c-bd5c1b55828b",
   "metadata": {},
   "outputs": [],
   "source": [
    "#east\n",
    "future=10\n",
    "forcast = []\n",
    "Xin = current_batch_437\n",
    "time=[]\n",
    "for i in range(future):\n",
    "    out = LSTM_seq2seq_4hr_437.predict(Xin, batch_size=1)   \n",
    "    forcast.append(out) \n",
    "    print(forcast)\n",
    "    Xin = insert_end_Seq2seq(Xin,out,16)\n",
    "    Xin[:,16-4:,1:2] = L[['day_of_week']][i*4:(i*4)+4].values.reshape((-1,4,1))\n",
    "    Xin[:,16-4:,2:3] = L[['hour_of_day']][i*4:(i*4)+4].values.reshape((-1,4,1))"
   ]
  },
  {
   "cell_type": "code",
   "execution_count": null,
   "id": "900371a9-1f47-497c-9533-47504467fb5d",
   "metadata": {},
   "outputs": [],
   "source": [
    "#south\n",
    "future=10\n",
    "forcast = []\n",
    "Xin = current_batch_514\n",
    "time=[]\n",
    "for i in range(future):\n",
    "    out = LSTM_seq2seq_4hr_514.predict(Xin, batch_size=1)   \n",
    "    forcast.append(out) \n",
    "    print(forcast)\n",
    "    Xin = insert_end_Seq2seq(Xin,out,16)\n",
    "    Xin[:,16-4:,1:2] = L[['day_of_week']][i*4:(i*4)+4].values.reshape((-1,4,1))\n",
    "    Xin[:,16-4:,2:3] = L[['hour_of_day']][i*4:(i*4)+4].values.reshape((-1,4,1))"
   ]
  },
  {
   "cell_type": "code",
   "execution_count": null,
   "id": "cf511c1c-2e3c-4824-9319-7738204dc6be",
   "metadata": {},
   "outputs": [],
   "source": [
    "Y_t = L['lots_available']\n",
    "\n",
    "l=[]\n",
    "for i in range(10):\n",
    "  l.append(Y_t[i*4:(i*4)+4].values.reshape((-1,4)))"
   ]
  },
  {
   "cell_type": "code",
   "execution_count": null,
   "id": "f0eb53dd-1b07-4f5c-bbef-db7de6d019f9",
   "metadata": {},
   "outputs": [],
   "source": [
    "rmse40step=[]\n",
    "for i in range(10):\n",
    "  f = forcast[i].reshape(-1,4)\n",
    "  new_l = np.hsplit(l[i],4)\n",
    "  new_f = np.hsplit(f,4)#length 4 \n",
    "  for j in range(4):\n",
    "    rmse40step.append(math.sqrt(mean_squared_error(y_pred=new_f[j], y_true=new_l[j] )))"
   ]
  },
  {
   "cell_type": "code",
   "execution_count": null,
   "id": "399798e4-8e60-465f-bb78-eb2463be4b82",
   "metadata": {},
   "outputs": [],
   "source": [
    "rmse40step = pd.DataFrame(rmse40step)\n",
    "rmse40step.to_csv('rmse40step_single_south_lstm_seq2seq.csv')"
   ]
  },
  {
   "cell_type": "markdown",
   "id": "eaae5ace-4659-4c35-9c90-fa4085e381f4",
   "metadata": {},
   "source": [
    "## robustness check"
   ]
  },
  {
   "cell_type": "markdown",
   "id": "f723ac13-84be-4e84-8b1d-03d5e6ff9bcb",
   "metadata": {},
   "source": [
    "- based on performance on different time window and different sample size, study determined best time window size is 16 timesteps (4 hour).\n",
    "- to check the model fit, study tested performance of model on train and test set"
   ]
  },
  {
   "cell_type": "code",
   "execution_count": null,
   "id": "5567f342-e0b9-4fee-ad0c-d97b09fdd72c",
   "metadata": {},
   "outputs": [],
   "source": [
    "# plot diagnostic learning curves\n",
    "# plot training and validation loss\n",
    "plt.figure(figsize= (6,4))\n",
    "plt.plot()\n",
    "plt.title('MSE Loss')\n",
    "plt.plot(history_lstm_seq.history['loss'], color='blue', label='train')\n",
    "plt.plot(history_lstm_seq.history['val_loss'], color='orange', label='validation')\n",
    "plt.xlabel('epochs')\n",
    "plt.ylabel('Score')\n",
    "plt.legend(['Train', 'Val'])\n",
    "\n",
    "#plot training and test accuracy\t\n",
    "plt.figure(figsize= (6,4))\n",
    "plt.plot()\n",
    "plt.title('RMSE Loss')\n",
    "plt.plot(history_lstm_seq.history['root_mean_squared_error'], color='blue', label=\"train\")\n",
    "plt.plot(history_lstm_seq.history['val_root_mean_squared_error'], color='orange', label='validation')\n",
    "plt.xlabel('epochs')\n",
    "plt.ylabel('Score')\n",
    "plt.legend(['Train','Val'])\n",
    "plt.show()"
   ]
  }
 ],
 "metadata": {
  "kernelspec": {
   "display_name": "venv-python3.10.11",
   "language": "python",
   "name": "venv"
  },
  "language_info": {
   "codemirror_mode": {
    "name": "ipython",
    "version": 3
   },
   "file_extension": ".py",
   "mimetype": "text/x-python",
   "name": "python",
   "nbconvert_exporter": "python",
   "pygments_lexer": "ipython3",
   "version": "3.10.11"
  }
 },
 "nbformat": 4,
 "nbformat_minor": 5
}
