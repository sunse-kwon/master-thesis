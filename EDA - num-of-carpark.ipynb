{
 "cells": [
  {
   "cell_type": "code",
   "execution_count": 6,
   "metadata": {},
   "outputs": [],
   "source": [
    "import pandas as pd\n",
    "import seaborn as sns"
   ]
  },
  {
   "cell_type": "code",
   "execution_count": 37,
   "metadata": {},
   "outputs": [],
   "source": [
    "column_name = ['total_lot','lot_type','lots_available','carpark_number','update_date','update_time']\n",
    "D1 = pd.read_csv('carpark_availability_final.csv',names=column_name)"
   ]
  },
  {
   "cell_type": "code",
   "execution_count": 51,
   "metadata": {},
   "outputs": [
    {
     "data": {
      "text/plain": [
       "SE12    9009\n",
       "SK24    6825\n",
       "TBM4    5218\n",
       "FR4M    5212\n",
       "BM30    5211\n",
       "        ... \n",
       "PM37    5113\n",
       "PM40    5113\n",
       "S115    4673\n",
       "BA6     3322\n",
       "A55     3167\n",
       "Name: carpark_number, Length: 1968, dtype: int64"
      ]
     },
     "execution_count": 51,
     "metadata": {},
     "output_type": "execute_result"
    }
   ],
   "source": [
    "D1['carpark_number'].value_counts()"
   ]
  },
  {
   "cell_type": "code",
   "execution_count": 45,
   "metadata": {},
   "outputs": [],
   "source": [
    "new = D1[D1.loc[:,'carpark_number'] == 'HLM']"
   ]
  },
  {
   "cell_type": "code",
   "execution_count": 52,
   "metadata": {},
   "outputs": [],
   "source": [
    "D1['datetime'] = D1['update_date'] + \" \" + D1['update_time']\n",
    "D1['datetime']= pd.to_datetime(D1['datetime'])\n",
    "D1['datetime'] = D1.datetime.round('15min')"
   ]
  },
  {
   "cell_type": "code",
   "execution_count": 53,
   "metadata": {},
   "outputs": [],
   "source": [
    "D1.drop_duplicates(inplace=True)"
   ]
  },
  {
   "cell_type": "code",
   "execution_count": 57,
   "metadata": {},
   "outputs": [
    {
     "data": {
      "text/plain": [
       "DWSV     3924\n",
       "SK27     3891\n",
       "SK65     3890\n",
       "SK85     3890\n",
       "MP1M     3887\n",
       "         ... \n",
       "JM8         1\n",
       "JM8M        1\n",
       "JSR1        1\n",
       "TJ28M       1\n",
       "TJ33S       1\n",
       "Name: carpark_number, Length: 1968, dtype: int64"
      ]
     },
     "execution_count": 57,
     "metadata": {},
     "output_type": "execute_result"
    }
   ],
   "source": [
    "D1.carpark_number.value_counts()"
   ]
  },
  {
   "cell_type": "code",
   "execution_count": 56,
   "metadata": {},
   "outputs": [
    {
     "data": {
      "text/plain": [
       "<AxesSubplot:xlabel='carpark_number', ylabel='Count'>"
      ]
     },
     "execution_count": 56,
     "metadata": {},
     "output_type": "execute_result"
    },
    {
     "data": {
      "image/png": "[encoded data removed]",
      "text/plain": [
       "<Figure size 432x288 with 1 Axes>"
      ]
     },
     "metadata": {
      "needs_background": "light"
     },
     "output_type": "display_data"
    }
   ],
   "source": [
    "sns.histplot(D1.carpark_number.value_counts())"
   ]
  },
  {
   "cell_type": "code",
   "execution_count": 59,
   "metadata": {},
   "outputs": [
    {
     "data": {
      "text/plain": [
       "DWSV     3924\n",
       "SK27     3891\n",
       "SK65     3890\n",
       "SK85     3890\n",
       "MP1M     3887\n",
       "         ... \n",
       "JM8         1\n",
       "JM8M        1\n",
       "JSR1        1\n",
       "TJ28M       1\n",
       "TJ33S       1\n",
       "Name: carpark_number, Length: 1968, dtype: int64"
      ]
     },
     "execution_count": 59,
     "metadata": {},
     "output_type": "execute_result"
    }
   ],
   "source": [
    "D1.carpark_number.value_counts()"
   ]
  },
  {
   "cell_type": "code",
   "execution_count": 63,
   "metadata": {},
   "outputs": [
    {
     "data": {
      "text/plain": [
       "1491"
      ]
     },
     "execution_count": 63,
     "metadata": {},
     "output_type": "execute_result"
    }
   ],
   "source": [
    "D1[(D1.carpark_number == 'DWSV')].lots_available.value_counts().max()"
   ]
  },
  {
   "cell_type": "code",
   "execution_count": 65,
   "metadata": {},
   "outputs": [
    {
     "data": {
      "text/plain": [
       "3924"
      ]
     },
     "execution_count": 65,
     "metadata": {},
     "output_type": "execute_result"
    }
   ],
   "source": [
    "D1[(D1.carpark_number == 'DWSV')].shape[0]"
   ]
  }
 ],
 "metadata": {
  "kernelspec": {
   "display_name": "Python 3 (ipykernel)",
   "language": "python",
   "name": "python3"
  },
  "language_info": {
   "codemirror_mode": {
    "name": "ipython",
    "version": 3
   },
   "file_extension": ".py",
   "mimetype": "text/x-python",
   "name": "python",
   "nbconvert_exporter": "python",
   "pygments_lexer": "ipython3",
   "version": "3.10.11"
  },
  "vscode": {
   "interpreter": {
    "hash": "0c704862fc95dc18530f9d8dc650963d04add620cef88f56b79fdb28b41d3bd0"
   }
  }
 },
 "nbformat": 4,
 "nbformat_minor": 4
}
